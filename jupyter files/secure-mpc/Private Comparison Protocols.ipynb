{
 "cells": [
  {
   "cell_type": "markdown",
   "metadata": {},
   "source": [
    "# Private Comparison Protocols\n",
    "\n",
    "Author: \n",
    "- Théo Ryffel - [Twitter](http://twitter.com/theoryffel) - [GitHub](https://github.com/LaRiffle)\n",
    "\n",
    "Credits:\n",
    "- David Pointcheval - [Link to lectures](https://www.di.ens.fr/david.pointcheval/index.php#cslides)"
   ]
  },
  {
   "cell_type": "markdown",
   "metadata": {},
   "source": [
    "Comparison is today the key building block to design neural networks: every ReLU activation function can be written as such: $x \\to x \\cdot (x > 0)$. But comparisons are notoriously hard over encrypted data! We will explore in the context of the Yao's Millionaires' problem some mechanisms to perform private equality and private comparison, that will provide insights on how ReLU activations can be implemented.\n",
    "\n",
    "Let's start with equality, that will give us the basic tools to perform private comparison."
   ]
  },
  {
   "cell_type": "markdown",
   "metadata": {},
   "source": [
    "### Equality\n",
    "\n",
    "Let's assume we only have two parties. Alice owns a value $x$ and Bob owns a value $y$, that we assume to live in $\\mathbb{Z}_{2^{n}}$. Those are either integers or float already converted to fixed precision. Alice and Bob want to learn whether $x = y$ or not.\n",
    "\n",
    "$\\newcommand{\\shared}[1]{[\\![ #1 ]\\!]}$\n",
    "To do so, they can follow these steps:\n",
    "- Alice and Bob secret share their values to build $\\shared{x}$ and $\\shared{y}$\n",
    "- Each party also sample separately a non-zero random value $r_i$ and secret share it to obtain $\\shared{r_i}$, with $i=1,2$\n",
    "- Then, they jointly compute $\\shared{z} = (\\shared{x} - \\shared{y}) \\cdot \\shared{r_1} \\cdot \\shared{r_2}$\n",
    "- Last, they reconstruct $z$: it is 0 if and only if $x = y$, else it is a random value "
   ]
  },
  {
   "cell_type": "markdown",
   "metadata": {},
   "source": [
    "As you see, the idea is quite simple! They compute the difference, and each party mask it with a non-zero random value, so that in case $x \\neq y$, the value reconstructed is completely random.\n",
    "\n",
    "Let's implement it, we have everything we need!"
   ]
  },
  {
   "cell_type": "markdown",
   "metadata": {},
   "source": [
    " We will assume that we can use the following functions:\n",
    "- `random_mask() -> int`, that computes a non-zero random value that we can use as a mask\n",
    "- `secret_share(x: int) -> List[int]`, that builds shares $\\shared{x}$ for some $x$\n",
    "- `decrypt(shares: List[int]) -> int`, that reconstructs $x$ from its shares $\\shared{x}$\n",
    "- `sub(x_shares: List[int], y_shares: List[int]) -> List[int]`, that given $\\shared{x}$ and $\\shared{y}$ returns $\\shared{x - y}$\n",
    "- `mul(x_shares: List[int], y_shares: List[int]) -> List[int]`, that given $\\shared{x}$ and $\\shared{y}$ returns $\\shared{x * y}$\n",
    "\n",
    "We will also assume that the shares live in $\\mathbb{Z}_{2^{32}}$."
   ]
  },
  {
   "cell_type": "code",
   "execution_count": 1,
   "metadata": {},
   "outputs": [],
   "source": [
    "from quiz import random_mask, secret_share, decrypt, sub, mul"
   ]
  },
  {
   "cell_type": "code",
   "execution_count": 2,
   "metadata": {},
   "outputs": [],
   "source": [
    "def equality(x: int, y: int) -> int:\n",
    "    # Add here the code for the the 4 steps describing how to perform private equality\n",
    "    x_sh = secret_share(x)\n",
    "    y_sh = secret_share(y)\n",
    "    \n",
    "    r1 = random_mask()\n",
    "    r1_sh = secret_share(r1)\n",
    "    r2 = random_mask()\n",
    "    r2_sh = secret_share(r2)\n",
    "    \n",
    "    aux1_sh = sub(x_sh, y_sh)\n",
    "    aux2_sh = mul(aux1_sh, r1_sh)\n",
    "    z_sh = mul(aux2_sh, r2_sh)\n",
    "    \n",
    "    z = decrypt(z_sh)\n",
    "    return z "
   ]
  },
  {
   "cell_type": "code",
   "execution_count": 3,
   "metadata": {},
   "outputs": [
    {
     "name": "stdout",
     "output_type": "stream",
     "text": [
      "\u001b[1;32mSuccess: \u001b[0mExcellent! 🙌\n"
     ]
    }
   ],
   "source": [
    "# we import the answer checker\n",
    "from quiz import test_equality\n",
    "\n",
    "test_equality.check(equality)"
   ]
  },
  {
   "cell_type": "markdown",
   "metadata": {},
   "source": [
    "Let's see how it performs:"
   ]
  },
  {
   "cell_type": "code",
   "execution_count": 4,
   "metadata": {},
   "outputs": [
    {
     "name": "stdout",
     "output_type": "stream",
     "text": [
      "0\n",
      "-1008624490\n",
      "155279872\n"
     ]
    }
   ],
   "source": [
    "print(equality(3, 3))\n",
    "print(equality(2, 4))\n",
    "print(equality(22, -14))"
   ]
  },
  {
   "cell_type": "markdown",
   "metadata": {},
   "source": [
    "Assuming that the inputs $x$ and $y$ are already shared, alonside with the $r_i$, how many communication rounds are needed to compute $\\shared{z}$?"
   ]
  },
  {
   "cell_type": "code",
   "execution_count": 5,
   "metadata": {},
   "outputs": [
    {
     "name": "stdout",
     "output_type": "stream",
     "text": [
      "\u001b[1;32mSuccess: \u001b[0mCorrect!\n"
     ]
    },
    {
     "data": {
      "text/plain": [
       "True"
      ]
     },
     "execution_count": 5,
     "metadata": {},
     "output_type": "execute_result"
    }
   ],
   "source": [
    "from quiz import test_rounds\n",
    "\n",
    "# Fill the gap!\n",
    "test_rounds.check(2)"
   ]
  },
  {
   "cell_type": "markdown",
   "metadata": {},
   "source": [
    "### Comparison\n",
    "\n",
    "Ok, now that we have discovered the key ideas in the equality computation, we will dive more in depth in comparison!\n",
    "\n",
    "Remember that Alice and Bob respectively own $x$ and $y$. They now want to learn whether $x \\leq y$.\n",
    "\n",
    "_We denote $x_{n-1}...x_0$ the binary decomposition of x in  $\\mathbb{Z}_{2^{n}}$_\n",
    "\n",
    "To do so, we will first use the following theorem:\n",
    "\n",
    "> **Theorem**\n",
    ">\n",
    "> Given $x = x_{n-1}...x_0$ and $y = y_{n-1}...y_0$, <br>\n",
    "> if we define the following ensembles: <br>\n",
    "> $$ T_x^1 = \\{x_{n-1}...x_i|x_i=1\\} \\qquad T_y^0 = \\{y_{n-1}...y_{i+1}1|y_i=0\\} $$\n",
    "> \n",
    "> namely the ensembles composed respectively of\n",
    "> - chains of the first bits of the decomposition of $x$, such that the last bit of the chain is 1\n",
    "> - chains of the first bits of the decomposition of $y$, such that the last bit of the chain is 0, but is replaced with 1\n",
    ">\n",
    "> Then:\n",
    "> $$ x > y \\Leftrightarrow T_x^1 \\cap T_y^0 \\neq \\emptyset $$\n",
    ">\n",
    "> namely $x > y$ if and only if $x$ and $y$ share a common sub-decomposition in $T_x^1$ and $T_y^0$\n",
    "\n",
    "Informally, the idea here is that you have two numbers decomposed as $x = a_{n-1}...a_{l+1}1x_{l-1}...x_0$ and $y = a_{n-1}...a_{l+1}0y_{l-1}...y_0$ (for some $l$), then we will have $x > y$, and $a_{n-1}...a_{l+1}1$ will both be in $T_x^1$ and $T_y^0$.\n",
    "\n",
    "Proof:\n",
    "$$ x > y \\Leftrightarrow \\exists i < n,  (x_i > y_i) \\wedge (\\forall j > i, x_j = y_j)$$\n",
    "$$ \\Leftrightarrow \\exists i < n,  (x_i = 1) \\wedge (y_i = 0) \\wedge (\\forall j > i, x_j = y_j)$$\n",
    "$$ \\Leftrightarrow \\exists i < n,  (y_i = 0) \\wedge (x_{n-1}...x_i = y_{n-1}...y_{i+1}1)$$\n",
    "$$ \\Leftrightarrow \\left | T_x^1 \\cap T_y^0 \\right | = 1$$"
   ]
  },
  {
   "cell_type": "markdown",
   "metadata": {},
   "source": [
    "We need a last transformation: we fill and order the sets $T_x^1 = \\{ X_i \\}$ and $T_y^0 = \\{ Y_i \\}$, where:\n",
    "- if $x_i = 0$, $X_i = 2^n$, otherwise $X_i = x_{n-1}...x_i \\in [0, 2^{n-i}]$\n",
    "- if $y_i = 1$, $Y_i = 2^n + 1$, otherwise $Y_i = y_{n-1}...y_{i+1}1 \\in [0, 2^{n-i}]$\n",
    "\n",
    "Hence, we have \n",
    "$$ x > y \\Leftrightarrow \\exists i < n, X_i = Y_i $$"
   ]
  },
  {
   "cell_type": "markdown",
   "metadata": {},
   "source": [
    "It is now very easy to reuse what we have done for equality to check whether $X_i = Y_i$ for all $i$."
   ]
  },
  {
   "cell_type": "markdown",
   "metadata": {},
   "source": [
    "We will therefore perform all these $n$ checks **in parallel**, and if one decrypts to 0 we will know that $x > y$. If all decrypt to random, then we know that $x \\leq y$."
   ]
  },
  {
   "cell_type": "markdown",
   "metadata": {},
   "source": [
    "Assuming that the inputs $X_i$ and $Y_i$ are already shared, alonside with all the $r$ needed, how many communication rounds are needed to compute $x > y$?"
   ]
  },
  {
   "cell_type": "code",
   "execution_count": 6,
   "metadata": {},
   "outputs": [
    {
     "name": "stdout",
     "output_type": "stream",
     "text": [
      "\u001b[1;32mSuccess: \u001b[0mCorrect!\n"
     ]
    },
    {
     "data": {
      "text/plain": [
       "True"
      ]
     },
     "execution_count": 6,
     "metadata": {},
     "output_type": "execute_result"
    }
   ],
   "source": [
    "from quiz import test_comp_rounds\n",
    "\n",
    "# Fill the gap!\n",
    "test_comp_rounds.check(2)"
   ]
  },
  {
   "cell_type": "markdown",
   "metadata": {},
   "source": [
    "This was quite dense! But congrats, you went through all this and know have understood how we can implement private comparison to solve the Yao's Millionaire' problem!"
   ]
  },
  {
   "cell_type": "markdown",
   "metadata": {},
   "source": [
    "### Extension to private machine learning\n",
    "\n",
    "But how does this relates to machine learning? Unfortunately, you can't use this protocol directly to implement the ReLU activation. Indeed, in the Yao Millionaire problem, all users know their input **in cleartext**, while in a neural network, one should be able to apply the comparison from the ReLU on **the result secret shared of the previous layer**.\n",
    "\n",
    "In addition, the result is also given in cleartext: if we take the case of the equality test, you need to reconstruct the output and check whether it is equal to 0 or random to derive the result (true when it is 0, false otherwise). **It means that you can’t take the secret share value « as is » and use it as an input of another computation.**\n",
    "\n",
    "Fortunately, there are many works that have been developed that **implement secure comparison on secret shared inputs that output secret shared results** and can be plugged in neural networks. Describing them in detail is beyond the scope of this lesson, but we can give a non-exhaustive list of techniques that we have studied here at OpenMined:\n",
    "\n",
    "- **ABY**, a 2-party semi-honest protocol that mixes Arithmetic sharing, Binary sharing and Yao’s garbled circuits (2015) [See full paper](https://encrypto.de/papers/DSZ15.pdf)\n",
    "- **SecureNN**, a 3-party semi-honest protocol that proposes advanced implementations of neural network blocks (2018) [See full paper](https://eprint.iacr.org/2018/442.pdf)\n",
    "- **FALCON**, a 3-party honest-majority maliciously secure protocol which provide benchmarks on neural nets like VGG16 (2020) [See full paper](https://arxiv.org/pdf/2004.02229.pdf)\n",
    "- **AriaNN**, a 2-party semi-honest that implements comparison with arithmetic sharing with a single communication round (2020) [See full paper](https://arxiv.org/pdf/2006.04593.pdf)\n",
    "\n",
    "We have implemented a couple of this algorithms in [SyMPC](https://github.com/OpenMined/SyMPC), our library for efficient MPC that works together with [PySyft](https://github.com/OpenMined/PySyft), and we will see in the next section how to use it to perform encrypted machine learning seamlessly!\n"
   ]
  },
  {
   "cell_type": "code",
   "execution_count": null,
   "metadata": {},
   "outputs": [],
   "source": []
  }
 ],
 "metadata": {
  "kernelspec": {
   "display_name": "Python 3 (ipykernel)",
   "language": "python",
   "name": "python3"
  },
  "language_info": {
   "codemirror_mode": {
    "name": "ipython",
    "version": 3
   },
   "file_extension": ".py",
   "mimetype": "text/x-python",
   "name": "python",
   "nbconvert_exporter": "python",
   "pygments_lexer": "ipython3",
   "version": "3.7.0"
  }
 },
 "nbformat": 4,
 "nbformat_minor": 4
}
