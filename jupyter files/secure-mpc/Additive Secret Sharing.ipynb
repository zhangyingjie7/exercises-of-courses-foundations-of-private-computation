{
 "cells": [
  {
   "cell_type": "markdown",
   "metadata": {},
   "source": [
    "# Additive Secret Sharing\n",
    "\n",
    "Author: \n",
    "- Carlos Salgado - [email](mailto:csalgado@uwo.ca) - [linkedin](https://www.linkedin.com/in/eng-socd/) - [github](https://github.com/socd06)\n",
    "\n",
    "## Additive Secret Sharing\n",
    "Additive Secret Sharing is a mechanism to share data among parties and to perform computation on it. \n",
    "\n",
    "![Secret Sharing](img/secret-sharing.jpg)\n",
    "\n",
    "## Sharing\n",
    "A secret `s` is uniformly split into `n` shares, one per shareholder (also known as worker, node, user or party) using some randomness `r`, also known as some **very high random prime** number `Q`. \n",
    "\n",
    "$ F_s (s, r, n) = ( s_1, s_2, ..., s_n ) $"
   ]
  },
  {
   "cell_type": "markdown",
   "metadata": {},
   "source": [
    "## Reconstruction\n",
    "`s` can be reconstructed (decrypted) by adding up **all the shares** and taking the [*modulo*](https://en.wikipedia.org/wiki/Modulo_operation) of the random prime number `Q`, used to encrypt the shares originally. "
   ]
  },
  {
   "cell_type": "markdown",
   "metadata": {},
   "source": [
    "$ s = ( \\: \\sum \\limits _{i=1} ^n s_i \\: ) \\; mod \\; Q $"
   ]
  },
  {
   "cell_type": "markdown",
   "metadata": {},
   "source": [
    "## 32-bit Integer Secrets\n",
    "A secret is the data or message that a party wants to secure. In additive secret sharing, secrets (and therefore, shares) must be members of a fixed [finite field](https://en.wikipedia.org/wiki/Finite_field). Particularly, the literature mentions shares should be members of the $ {\\mathbb{Z}_{2^{32}}} $ [ring](https://en.wikipedia.org/wiki/Ring_(mathematics)), which is the [ring of integers](https://en.wikipedia.org/wiki/Ring_of_integers) that fit within [32-bits](https://en.wikipedia.org/wiki/32-bit_computing).  "
   ]
  },
  {
   "cell_type": "markdown",
   "metadata": {},
   "source": [
    "![Number Types](img/num-types-solid.jpg)\n",
    "\n",
    "Rings are [sets](https://en.wikipedia.org/wiki/Set_(mathematics)) with two operations, addition and multiplication, which allow the rationale of secret sharing and reconstruction to work. \n",
    "\n",
    "Plainly, secrets and secret shares **must** be integers within -2,147,483,647 to +2,147,483,647"
   ]
  },
  {
   "cell_type": "markdown",
   "metadata": {},
   "source": [
    "## Governance\n",
    "Additive secret sharing provides shared governance. The threshold `t` to reconstruct `s` is equal to `n`, which means **no party can recover the data** alone because all the shares are required to decrypt the secret *(t = n)*. This scheme allows us to do computation on the shares while each shareholder is only aware of their **own** share."
   ]
  },
  {
   "cell_type": "markdown",
   "metadata": {},
   "source": [
    "### [Quiz] Find the secret `s`\n",
    "\n",
    "In practice, we use a **very high prime number** Q to add a **big deal of uniform randomness** to our shares. Here we will use a very small Q, so you can try to solve the quiz without programming yet. \n",
    "\n",
    "Let $ s_1 = 10 \\; and \\; s_2 = 74 \\; and \\; Q = 59 $\n",
    "\n",
    "What is the original secret `s`? Fill the ____ space below with your answer.\n",
    "Try **not** to use a calculator or programming."
   ]
  },
  {
   "cell_type": "code",
   "execution_count": 2,
   "metadata": {},
   "outputs": [],
   "source": [
    "# Run this cell to import the quizzes\n",
    "from quiz import q0, q1, q2"
   ]
  },
  {
   "cell_type": "code",
   "execution_count": 3,
   "metadata": {},
   "outputs": [
    {
     "name": "stdout",
     "output_type": "stream",
     "text": [
      "\u001b[1;32mSuccess: \u001b[0mCorrect!\n"
     ]
    },
    {
     "data": {
      "text/plain": [
       "True"
      ]
     },
     "execution_count": 3,
     "metadata": {},
     "output_type": "execute_result"
    }
   ],
   "source": [
    "# run to check your answer\n",
    "s = (10 + 74)%59\n",
    "q0.check(s)"
   ]
  },
  {
   "cell_type": "code",
   "execution_count": 4,
   "metadata": {},
   "outputs": [
    {
     "name": "stdout",
     "output_type": "stream",
     "text": [
      "\u001b[1;33mHint: \u001b[0mModulo (%) is the remainder of a division \n",
      "\n",
      " s = ( s₁ + s₂ ) % Q\n"
     ]
    }
   ],
   "source": [
    "# Uncomment the line below to see a hint\n",
    "q0.hint"
   ]
  },
  {
   "cell_type": "code",
   "execution_count": 5,
   "metadata": {},
   "outputs": [
    {
     "name": "stdout",
     "output_type": "stream",
     "text": [
      "\u001b[1;34mSolution: \u001b[0m(10 + 74 ) % 59 = 25\n"
     ]
    }
   ],
   "source": [
    "# Uncomment the line below to see the solution\n",
    "q0.solution"
   ]
  },
  {
   "cell_type": "markdown",
   "metadata": {},
   "source": [
    "### [Quiz] Find the final share s<sub>2</sub>\n",
    "\n",
    "Using a small `Q` to facilitate calculation (it needs to be a **very high prime number** in production), let \n",
    "\n",
    "$ s = 7, n = 2 $ with $ Q = 59 $ and $ s_1 = 9 $\n",
    "plugged in on the secret reconstruction equation, find the final share s<sub>2</sub>.\n",
    "\n",
    "Fill the ____ space below with your answer. Feel free to implement the equation in a new cell or use whatever tool you'd like (e.g. a calculator), it's your call.  "
   ]
  },
  {
   "cell_type": "code",
   "execution_count": 6,
   "metadata": {},
   "outputs": [
    {
     "name": "stdout",
     "output_type": "stream",
     "text": [
      "\u001b[1;32mSuccess: \u001b[0mNicely done!\n"
     ]
    },
    {
     "data": {
      "text/plain": [
       "True"
      ]
     },
     "execution_count": 6,
     "metadata": {},
     "output_type": "execute_result"
    }
   ],
   "source": [
    "# Fill the ____ space below with your answer\n",
    "final_share = (7 - 9) % 59\n",
    "\n",
    "# run to check your answer\n",
    "q1.check(final_share)"
   ]
  },
  {
   "cell_type": "code",
   "execution_count": 7,
   "metadata": {},
   "outputs": [
    {
     "name": "stdout",
     "output_type": "stream",
     "text": [
      "\u001b[1;33mHint: \u001b[0mPlug the variables mentioned above into s₂ = Q - (s₁ % Q)\n"
     ]
    }
   ],
   "source": [
    "# Uncomment the line below to see a hint\n",
    "q1.hint"
   ]
  },
  {
   "cell_type": "code",
   "execution_count": 8,
   "metadata": {},
   "outputs": [
    {
     "name": "stdout",
     "output_type": "stream",
     "text": [
      "\u001b[1;34mSolution: \u001b[0ms₂ = 57\n"
     ]
    }
   ],
   "source": [
    "# Uncomment the line below to see the solution\n",
    "q1.solution"
   ]
  },
  {
   "cell_type": "markdown",
   "metadata": {},
   "source": [
    "## In Practice\n",
    "Just as an educational example, we can generate a list of prime numbers using [sympy](https://www.sympy.org/en/index.html)"
   ]
  },
  {
   "cell_type": "code",
   "execution_count": 12,
   "metadata": {},
   "outputs": [
    {
     "name": "stdout",
     "output_type": "stream",
     "text": [
      "Requirement already satisfied: numpy in d:\\program files\\python\\python37\\tutorial-env\\lib\\site-packages (from -r requirements.txt (line 1)) (1.15.4)\n",
      "Requirement already satisfied: aiortc in d:\\program files\\python\\python37\\tutorial-env\\lib\\site-packages (from -r requirements.txt (line 2)) (1.2.1)\n",
      "Requirement already satisfied: cryptography in d:\\program files\\python\\python37\\tutorial-env\\lib\\site-packages (from -r requirements.txt (line 3)) (3.4.1)\n",
      "Requirement already satisfied: dataclasses in d:\\program files\\python\\python37\\tutorial-env\\lib\\site-packages (from -r requirements.txt (line 4)) (0.6)\n",
      "Requirement already satisfied: dpcontracts in d:\\program files\\python\\python37\\tutorial-env\\lib\\site-packages (from -r requirements.txt (line 5)) (0.6.0)\n",
      "Requirement already satisfied: flask in d:\\program files\\python\\python37\\tutorial-env\\lib\\site-packages (from -r requirements.txt (line 6)) (1.1.4)\n",
      "Requirement already satisfied: forbiddenfruit>=0.1.3 in d:\\program files\\python\\python37\\tutorial-env\\lib\\site-packages (from -r requirements.txt (line 7)) (0.1.4)\n",
      "Requirement already satisfied: loguru in d:\\program files\\python\\python37\\tutorial-env\\lib\\site-packages (from -r requirements.txt (line 8)) (0.5.3)\n",
      "Requirement already satisfied: matplotlib in d:\\program files\\python\\python37\\tutorial-env\\lib\\site-packages (from -r requirements.txt (line 9)) (3.0.2)\n",
      "Requirement already satisfied: nest_asyncio in d:\\program files\\python\\python37\\tutorial-env\\lib\\site-packages (from -r requirements.txt (line 10)) (1.5.4)\n",
      "Requirement already satisfied: packaging in d:\\program files\\python\\python37\\tutorial-env\\lib\\site-packages (from -r requirements.txt (line 11)) (21.3)\n",
      "Requirement already satisfied: pandas in d:\\program files\\python\\python37\\tutorial-env\\lib\\site-packages (from -r requirements.txt (line 12)) (1.1.5)\n",
      "Requirement already satisfied: protobuf in d:\\program files\\python\\python37\\tutorial-env\\lib\\site-packages (from -r requirements.txt (line 13)) (3.19.1)\n",
      "Requirement already satisfied: pydagogy in d:\\program files\\python\\python37\\tutorial-env\\lib\\site-packages (from -r requirements.txt (line 14)) (0.1)\n",
      "Requirement already satisfied: PyNaCl in d:\\program files\\python\\python37\\tutorial-env\\lib\\site-packages (from -r requirements.txt (line 15)) (1.4.0)\n",
      "Requirement already satisfied: requests in d:\\program files\\python\\python37\\tutorial-env\\lib\\site-packages (from -r requirements.txt (line 16)) (2.26.0)\n",
      "Requirement already satisfied: scikit-learn in d:\\program files\\python\\python37\\tutorial-env\\lib\\site-packages (from -r requirements.txt (line 17)) (1.0.1)\n",
      "Requirement already satisfied: seaborn in d:\\program files\\python\\python37\\tutorial-env\\lib\\site-packages (from -r requirements.txt (line 18)) (0.9.0)\n",
      "Requirement already satisfied: sqlitedict in d:\\program files\\python\\python37\\tutorial-env\\lib\\site-packages (from -r requirements.txt (line 19)) (1.7.0)\n",
      "Requirement already satisfied: statsmodels in d:\\program files\\python\\python37\\tutorial-env\\lib\\site-packages (from -r requirements.txt (line 20)) (0.11.0)\n",
      "Requirement already satisfied: typeguard in d:\\program files\\python\\python37\\tutorial-env\\lib\\site-packages (from -r requirements.txt (line 21)) (2.13.2)\n",
      "Requirement already satisfied: typing-extensions in d:\\program files\\python\\python37\\tutorial-env\\lib\\site-packages (from -r requirements.txt (line 22)) (4.0.1)\n",
      "Requirement already satisfied: websockets in d:\\program files\\python\\python37\\tutorial-env\\lib\\site-packages (from -r requirements.txt (line 23)) (10.1)\n",
      "Requirement already satisfied: jupyter in d:\\program files\\python\\python37\\tutorial-env\\lib\\site-packages (from -r requirements.txt (line 24)) (1.0.0)\n",
      "Requirement already satisfied: cffi>=1.0.0 in d:\\program files\\python\\python37\\tutorial-env\\lib\\site-packages (from aiortc->-r requirements.txt (line 2)) (1.15.0)\n",
      "Requirement already satisfied: google-crc32c>=1.1 in d:\\program files\\python\\python37\\tutorial-env\\lib\\site-packages (from aiortc->-r requirements.txt (line 2)) (1.3.0)\n",
      "Requirement already satisfied: pyee>=6.0.0 in d:\\program files\\python\\python37\\tutorial-env\\lib\\site-packages (from aiortc->-r requirements.txt (line 2)) (8.2.2)\n",
      "Requirement already satisfied: av<9.0.0,>=8.0.0 in d:\\program files\\python\\python37\\tutorial-env\\lib\\site-packages (from aiortc->-r requirements.txt (line 2)) (8.0.3)\n",
      "Requirement already satisfied: pylibsrtp>=0.5.6 in d:\\program files\\python\\python37\\tutorial-env\\lib\\site-packages (from aiortc->-r requirements.txt (line 2)) (0.6.8)\n",
      "Requirement already satisfied: aioice<0.8.0,>=0.7.5 in d:\\program files\\python\\python37\\tutorial-env\\lib\\site-packages (from aiortc->-r requirements.txt (line 2)) (0.7.5)\n",
      "Requirement already satisfied: setuptools-rust>=0.11.4 in d:\\program files\\python\\python37\\tutorial-env\\lib\\site-packages (from cryptography->-r requirements.txt (line 3)) (1.1.2)\n",
      "Requirement already satisfied: click<8.0,>=5.1 in d:\\program files\\python\\python37\\tutorial-env\\lib\\site-packages (from flask->-r requirements.txt (line 6)) (7.1.2)\n",
      "Requirement already satisfied: itsdangerous<2.0,>=0.24 in d:\\program files\\python\\python37\\tutorial-env\\lib\\site-packages (from flask->-r requirements.txt (line 6)) (1.1.0)\n",
      "Requirement already satisfied: Jinja2<3.0,>=2.10.1 in d:\\program files\\python\\python37\\tutorial-env\\lib\\site-packages (from flask->-r requirements.txt (line 6)) (2.11.3)\n",
      "Requirement already satisfied: Werkzeug<2.0,>=0.15 in d:\\program files\\python\\python37\\tutorial-env\\lib\\site-packages (from flask->-r requirements.txt (line 6)) (1.0.1)\n",
      "Requirement already satisfied: win32-setctime>=1.0.0 in d:\\program files\\python\\python37\\tutorial-env\\lib\\site-packages (from loguru->-r requirements.txt (line 8)) (1.0.4)\n",
      "Requirement already satisfied: colorama>=0.3.4 in d:\\program files\\python\\python37\\tutorial-env\\lib\\site-packages (from loguru->-r requirements.txt (line 8)) (0.4.4)\n",
      "Requirement already satisfied: python-dateutil>=2.1 in d:\\program files\\python\\python37\\tutorial-env\\lib\\site-packages (from matplotlib->-r requirements.txt (line 9)) (2.8.2)\n",
      "Requirement already satisfied: pyparsing!=2.0.4,!=2.1.2,!=2.1.6,>=2.0.1 in d:\\program files\\python\\python37\\tutorial-env\\lib\\site-packages (from matplotlib->-r requirements.txt (line 9)) (3.0.6)\n",
      "Requirement already satisfied: kiwisolver>=1.0.1 in d:\\program files\\python\\python37\\tutorial-env\\lib\\site-packages (from matplotlib->-r requirements.txt (line 9)) (1.3.2)\n",
      "Requirement already satisfied: cycler>=0.10 in d:\\program files\\python\\python37\\tutorial-env\\lib\\site-packages (from matplotlib->-r requirements.txt (line 9)) (0.11.0)\n",
      "Requirement already satisfied: pytz>=2017.2 in d:\\program files\\python\\python37\\tutorial-env\\lib\\site-packages (from pandas->-r requirements.txt (line 12)) (2021.3)\n",
      "Requirement already satisfied: six in d:\\program files\\python\\python37\\tutorial-env\\lib\\site-packages (from PyNaCl->-r requirements.txt (line 15)) (1.16.0)\n",
      "Requirement already satisfied: certifi>=2017.4.17 in d:\\program files\\python\\python37\\tutorial-env\\lib\\site-packages (from requests->-r requirements.txt (line 16)) (2021.10.8)\n",
      "Requirement already satisfied: urllib3<1.27,>=1.21.1 in d:\\program files\\python\\python37\\tutorial-env\\lib\\site-packages (from requests->-r requirements.txt (line 16)) (1.26.7)\n",
      "Requirement already satisfied: idna<4,>=2.5 in d:\\program files\\python\\python37\\tutorial-env\\lib\\site-packages (from requests->-r requirements.txt (line 16)) (3.3)\n",
      "Requirement already satisfied: charset-normalizer~=2.0.0 in d:\\program files\\python\\python37\\tutorial-env\\lib\\site-packages (from requests->-r requirements.txt (line 16)) (2.0.9)\n",
      "Requirement already satisfied: joblib>=0.11 in d:\\program files\\python\\python37\\tutorial-env\\lib\\site-packages (from scikit-learn->-r requirements.txt (line 17)) (1.1.0)\n",
      "Requirement already satisfied: scipy>=1.1.0 in d:\\program files\\python\\python37\\tutorial-env\\lib\\site-packages (from scikit-learn->-r requirements.txt (line 17)) (1.2.1)\n",
      "Requirement already satisfied: threadpoolctl>=2.0.0 in d:\\program files\\python\\python37\\tutorial-env\\lib\\site-packages (from scikit-learn->-r requirements.txt (line 17)) (3.0.0)\n",
      "Requirement already satisfied: patsy>=0.5 in d:\\program files\\python\\python37\\tutorial-env\\lib\\site-packages (from statsmodels->-r requirements.txt (line 20)) (0.5.2)\n",
      "Requirement already satisfied: notebook in d:\\program files\\python\\python37\\tutorial-env\\lib\\site-packages (from jupyter->-r requirements.txt (line 24)) (6.4.6)\n",
      "Requirement already satisfied: ipykernel in d:\\program files\\python\\python37\\tutorial-env\\lib\\site-packages (from jupyter->-r requirements.txt (line 24)) (6.6.0)\n",
      "Requirement already satisfied: jupyter-console in d:\\program files\\python\\python37\\tutorial-env\\lib\\site-packages (from jupyter->-r requirements.txt (line 24)) (6.4.0)\n",
      "Requirement already satisfied: qtconsole in d:\\program files\\python\\python37\\tutorial-env\\lib\\site-packages (from jupyter->-r requirements.txt (line 24)) (5.2.1)\n",
      "Requirement already satisfied: nbconvert in d:\\program files\\python\\python37\\tutorial-env\\lib\\site-packages (from jupyter->-r requirements.txt (line 24)) (6.3.0)\n",
      "Requirement already satisfied: ipywidgets in d:\\program files\\python\\python37\\tutorial-env\\lib\\site-packages (from jupyter->-r requirements.txt (line 24)) (7.6.5)\n",
      "Requirement already satisfied: dnspython in d:\\program files\\python\\python37\\tutorial-env\\lib\\site-packages (from aioice<0.8.0,>=0.7.5->aiortc->-r requirements.txt (line 2)) (2.1.0)\n",
      "Requirement already satisfied: netifaces in d:\\program files\\python\\python37\\tutorial-env\\lib\\site-packages (from aioice<0.8.0,>=0.7.5->aiortc->-r requirements.txt (line 2)) (0.11.0)\n",
      "Requirement already satisfied: pycparser in d:\\program files\\python\\python37\\tutorial-env\\lib\\site-packages (from cffi>=1.0.0->aiortc->-r requirements.txt (line 2)) (2.21)\n",
      "Requirement already satisfied: MarkupSafe>=0.23 in d:\\program files\\python\\python37\\tutorial-env\\lib\\site-packages (from Jinja2<3.0,>=2.10.1->flask->-r requirements.txt (line 6)) (2.0.1)\n",
      "Requirement already satisfied: setuptools>=46.1 in d:\\program files\\python\\python37\\tutorial-env\\lib\\site-packages (from setuptools-rust>=0.11.4->cryptography->-r requirements.txt (line 3)) (59.7.0)\n",
      "Requirement already satisfied: semantic-version<3,>=2.8.2 in d:\\program files\\python\\python37\\tutorial-env\\lib\\site-packages (from setuptools-rust>=0.11.4->cryptography->-r requirements.txt (line 3)) (2.8.5)\n",
      "Requirement already satisfied: jupyter-client<8.0 in d:\\program files\\python\\python37\\tutorial-env\\lib\\site-packages (from ipykernel->jupyter->-r requirements.txt (line 24)) (7.1.0)\n",
      "Requirement already satisfied: ipython>=7.23.1 in d:\\program files\\python\\python37\\tutorial-env\\lib\\site-packages (from ipykernel->jupyter->-r requirements.txt (line 24)) (7.30.1)\n",
      "Requirement already satisfied: debugpy<2.0,>=1.0.0 in d:\\program files\\python\\python37\\tutorial-env\\lib\\site-packages (from ipykernel->jupyter->-r requirements.txt (line 24)) (1.5.1)\n",
      "Requirement already satisfied: traitlets<6.0,>=5.1.0 in d:\\program files\\python\\python37\\tutorial-env\\lib\\site-packages (from ipykernel->jupyter->-r requirements.txt (line 24)) (5.1.1)\n",
      "Requirement already satisfied: importlib-metadata<5 in d:\\program files\\python\\python37\\tutorial-env\\lib\\site-packages (from ipykernel->jupyter->-r requirements.txt (line 24)) (4.8.2)\n",
      "Requirement already satisfied: matplotlib-inline<0.2.0,>=0.1.0 in d:\\program files\\python\\python37\\tutorial-env\\lib\\site-packages (from ipykernel->jupyter->-r requirements.txt (line 24)) (0.1.3)\n",
      "Requirement already satisfied: argcomplete>=1.12.3 in d:\\program files\\python\\python37\\tutorial-env\\lib\\site-packages (from ipykernel->jupyter->-r requirements.txt (line 24)) (1.12.3)\n",
      "Requirement already satisfied: tornado<7.0,>=4.2 in d:\\program files\\python\\python37\\tutorial-env\\lib\\site-packages (from ipykernel->jupyter->-r requirements.txt (line 24)) (6.1)\n",
      "Requirement already satisfied: jupyterlab-widgets>=1.0.0 in d:\\program files\\python\\python37\\tutorial-env\\lib\\site-packages (from ipywidgets->jupyter->-r requirements.txt (line 24)) (1.0.2)\n",
      "Requirement already satisfied: widgetsnbextension~=3.5.0 in d:\\program files\\python\\python37\\tutorial-env\\lib\\site-packages (from ipywidgets->jupyter->-r requirements.txt (line 24)) (3.5.2)\n",
      "Requirement already satisfied: ipython-genutils~=0.2.0 in d:\\program files\\python\\python37\\tutorial-env\\lib\\site-packages (from ipywidgets->jupyter->-r requirements.txt (line 24)) (0.2.0)\n",
      "Requirement already satisfied: nbformat>=4.2.0 in d:\\program files\\python\\python37\\tutorial-env\\lib\\site-packages (from ipywidgets->jupyter->-r requirements.txt (line 24)) (5.1.3)\n",
      "Requirement already satisfied: prompt-toolkit!=3.0.0,!=3.0.1,<3.1.0,>=2.0.0 in d:\\program files\\python\\python37\\tutorial-env\\lib\\site-packages (from jupyter-console->jupyter->-r requirements.txt (line 24)) (3.0.23)\n",
      "Requirement already satisfied: pygments in d:\\program files\\python\\python37\\tutorial-env\\lib\\site-packages (from jupyter-console->jupyter->-r requirements.txt (line 24)) (2.10.0)\n",
      "Requirement already satisfied: mistune<2,>=0.8.1 in d:\\program files\\python\\python37\\tutorial-env\\lib\\site-packages (from nbconvert->jupyter->-r requirements.txt (line 24)) (0.8.4)\n",
      "Requirement already satisfied: nbclient<0.6.0,>=0.5.0 in d:\\program files\\python\\python37\\tutorial-env\\lib\\site-packages (from nbconvert->jupyter->-r requirements.txt (line 24)) (0.5.9)\n",
      "Requirement already satisfied: testpath in d:\\program files\\python\\python37\\tutorial-env\\lib\\site-packages (from nbconvert->jupyter->-r requirements.txt (line 24)) (0.5.0)\n",
      "Requirement already satisfied: bleach in d:\\program files\\python\\python37\\tutorial-env\\lib\\site-packages (from nbconvert->jupyter->-r requirements.txt (line 24)) (4.1.0)\n",
      "Requirement already satisfied: jupyterlab-pygments in d:\\program files\\python\\python37\\tutorial-env\\lib\\site-packages (from nbconvert->jupyter->-r requirements.txt (line 24)) (0.1.2)\n",
      "Requirement already satisfied: entrypoints>=0.2.2 in d:\\program files\\python\\python37\\tutorial-env\\lib\\site-packages (from nbconvert->jupyter->-r requirements.txt (line 24)) (0.3)\n",
      "Requirement already satisfied: jupyter-core in d:\\program files\\python\\python37\\tutorial-env\\lib\\site-packages (from nbconvert->jupyter->-r requirements.txt (line 24)) (4.9.1)\n",
      "Requirement already satisfied: defusedxml in d:\\program files\\python\\python37\\tutorial-env\\lib\\site-packages (from nbconvert->jupyter->-r requirements.txt (line 24)) (0.7.1)\n",
      "Requirement already satisfied: pandocfilters>=1.4.1 in d:\\program files\\python\\python37\\tutorial-env\\lib\\site-packages (from nbconvert->jupyter->-r requirements.txt (line 24)) (1.5.0)\n",
      "Requirement already satisfied: Send2Trash>=1.8.0 in d:\\program files\\python\\python37\\tutorial-env\\lib\\site-packages (from notebook->jupyter->-r requirements.txt (line 24)) (1.8.0)\n",
      "Requirement already satisfied: terminado>=0.8.3 in d:\\program files\\python\\python37\\tutorial-env\\lib\\site-packages (from notebook->jupyter->-r requirements.txt (line 24)) (0.12.1)\n",
      "Requirement already satisfied: pyzmq>=17 in d:\\program files\\python\\python37\\tutorial-env\\lib\\site-packages (from notebook->jupyter->-r requirements.txt (line 24)) (22.3.0)\n",
      "Requirement already satisfied: argon2-cffi in d:\\program files\\python\\python37\\tutorial-env\\lib\\site-packages (from notebook->jupyter->-r requirements.txt (line 24)) (21.2.0)\n",
      "Requirement already satisfied: prometheus-client in d:\\program files\\python\\python37\\tutorial-env\\lib\\site-packages (from notebook->jupyter->-r requirements.txt (line 24)) (0.12.0)\n",
      "Requirement already satisfied: qtpy in d:\\program files\\python\\python37\\tutorial-env\\lib\\site-packages (from qtconsole->jupyter->-r requirements.txt (line 24)) (1.11.3)\n",
      "Requirement already satisfied: zipp>=0.5 in d:\\program files\\python\\python37\\tutorial-env\\lib\\site-packages (from importlib-metadata<5->ipykernel->jupyter->-r requirements.txt (line 24)) (3.6.0)\n",
      "Requirement already satisfied: pickleshare in d:\\program files\\python\\python37\\tutorial-env\\lib\\site-packages (from ipython>=7.23.1->ipykernel->jupyter->-r requirements.txt (line 24)) (0.7.5)\n",
      "Requirement already satisfied: jedi>=0.16 in d:\\program files\\python\\python37\\tutorial-env\\lib\\site-packages (from ipython>=7.23.1->ipykernel->jupyter->-r requirements.txt (line 24)) (0.18.1)\n",
      "Requirement already satisfied: decorator in d:\\program files\\python\\python37\\tutorial-env\\lib\\site-packages (from ipython>=7.23.1->ipykernel->jupyter->-r requirements.txt (line 24)) (5.1.0)\n",
      "Requirement already satisfied: backcall in d:\\program files\\python\\python37\\tutorial-env\\lib\\site-packages (from ipython>=7.23.1->ipykernel->jupyter->-r requirements.txt (line 24)) (0.2.0)\n",
      "Requirement already satisfied: pywin32>=1.0 in d:\\program files\\python\\python37\\tutorial-env\\lib\\site-packages (from jupyter-core->nbconvert->jupyter->-r requirements.txt (line 24)) (302)\n",
      "Requirement already satisfied: jsonschema!=2.5.0,>=2.4 in d:\\program files\\python\\python37\\tutorial-env\\lib\\site-packages (from nbformat>=4.2.0->ipywidgets->jupyter->-r requirements.txt (line 24)) (4.2.1)\n",
      "Requirement already satisfied: wcwidth in d:\\program files\\python\\python37\\tutorial-env\\lib\\site-packages (from prompt-toolkit!=3.0.0,!=3.0.1,<3.1.0,>=2.0.0->jupyter-console->jupyter->-r requirements.txt (line 24)) (0.2.5)\n",
      "Requirement already satisfied: pywinpty>=1.1.0 in d:\\program files\\python\\python37\\tutorial-env\\lib\\site-packages (from terminado>=0.8.3->notebook->jupyter->-r requirements.txt (line 24)) (1.1.6)\n",
      "Requirement already satisfied: argon2-cffi-bindings in d:\\program files\\python\\python37\\tutorial-env\\lib\\site-packages (from argon2-cffi->notebook->jupyter->-r requirements.txt (line 24)) (21.2.0)\n",
      "Requirement already satisfied: webencodings in d:\\program files\\python\\python37\\tutorial-env\\lib\\site-packages (from bleach->nbconvert->jupyter->-r requirements.txt (line 24)) (0.5.1)\n",
      "Requirement already satisfied: parso<0.9.0,>=0.8.0 in d:\\program files\\python\\python37\\tutorial-env\\lib\\site-packages (from jedi>=0.16->ipython>=7.23.1->ipykernel->jupyter->-r requirements.txt (line 24)) (0.8.3)\n",
      "Requirement already satisfied: attrs>=17.4.0 in d:\\program files\\python\\python37\\tutorial-env\\lib\\site-packages (from jsonschema!=2.5.0,>=2.4->nbformat>=4.2.0->ipywidgets->jupyter->-r requirements.txt (line 24)) (21.2.0)\n",
      "Requirement already satisfied: importlib-resources>=1.4.0 in d:\\program files\\python\\python37\\tutorial-env\\lib\\site-packages (from jsonschema!=2.5.0,>=2.4->nbformat>=4.2.0->ipywidgets->jupyter->-r requirements.txt (line 24)) (5.4.0)\n",
      "Requirement already satisfied: pyrsistent!=0.17.0,!=0.17.1,!=0.17.2,>=0.14.0 in d:\\program files\\python\\python37\\tutorial-env\\lib\\site-packages (from jsonschema!=2.5.0,>=2.4->nbformat>=4.2.0->ipywidgets->jupyter->-r requirements.txt (line 24)) (0.18.0)\n"
     ]
    },
    {
     "name": "stdout",
     "output_type": "stream",
     "text": [
      "Collecting sympy\n",
      "  Downloading sympy-1.9-py3-none-any.whl (6.2 MB)\n",
      "Collecting mpmath>=0.19\n",
      "  Downloading mpmath-1.2.1-py3-none-any.whl (532 kB)\n",
      "Installing collected packages: mpmath, sympy\n",
      "Successfully installed mpmath-1.2.1 sympy-1.9\n"
     ]
    }
   ],
   "source": [
    "# Verify we have all the tools we need to run the notebook\n",
    "!pip install -r requirements.txt\n",
    "!pip install sympy"
   ]
  },
  {
   "cell_type": "code",
   "execution_count": 13,
   "metadata": {},
   "outputs": [
    {
     "name": "stdout",
     "output_type": "stream",
     "text": [
      "Prime numbers in range:  [2147482661, 2147482663, 2147482681, 2147482693, 2147482697, 2147482739, 2147482763, 2147482801, 2147482811, 2147482817, 2147482819, 2147482859, 2147482867, 2147482873, 2147482877, 2147482921, 2147482937, 2147482943, 2147482949, 2147482951, 2147483029, 2147483033, 2147483053, 2147483059, 2147483069, 2147483077, 2147483123, 2147483137, 2147483171, 2147483179, 2147483237, 2147483249, 2147483269, 2147483323, 2147483353, 2147483399, 2147483423, 2147483477, 2147483489, 2147483497, 2147483543, 2147483549, 2147483563, 2147483579, 2147483587, 2147483629, 2147483647]\n"
     ]
    }
   ],
   "source": [
    "import sympy\n",
    "\n",
    "# An arbitrary constant, feel free to play with it\n",
    "CONST = 999\n",
    "\n",
    "BIT_DEPTH = 31\n",
    "\n",
    "# Range start\n",
    "start = 2**BIT_DEPTH-CONST\n",
    "\n",
    "# Maximum in Z2**32 ring\n",
    "end = 2**BIT_DEPTH \n",
    "\n",
    "prime_lst = list(sympy.primerange(start,end+1))\n",
    "\n",
    "print(\"Prime numbers in range: \" , prime_lst)"
   ]
  },
  {
   "cell_type": "markdown",
   "metadata": {},
   "source": [
    "And **randomly** choose one every time using [NumPy](https://numpy.org/devdocs/contents.html)'s [randint](https://numpy.org/doc/stable/reference/random/generated/numpy.random.randint.html)"
   ]
  },
  {
   "cell_type": "code",
   "execution_count": 14,
   "metadata": {},
   "outputs": [
    {
     "data": {
      "text/plain": [
       "2147482921"
      ]
     },
     "execution_count": 14,
     "metadata": {},
     "output_type": "execute_result"
    }
   ],
   "source": [
    "from numpy.random import randint\n",
    "\n",
    "Q = prime_lst[randint(len(prime_lst))]\n",
    "Q"
   ]
  },
  {
   "cell_type": "markdown",
   "metadata": {},
   "source": [
    "As an additional note, the [Secrets module](https://docs.python.org/3/library/secrets.html), introduced in Python 3.6, provides randomness as secure as your operating system."
   ]
  },
  {
   "cell_type": "code",
   "execution_count": 15,
   "metadata": {},
   "outputs": [
    {
     "data": {
      "text/plain": [
       "2147483249"
      ]
     },
     "execution_count": 15,
     "metadata": {},
     "output_type": "execute_result"
    }
   ],
   "source": [
    "import secrets \n",
    "  \n",
    "Q = secrets.choice(prime_lst)\n",
    "Q"
   ]
  },
  {
   "cell_type": "markdown",
   "metadata": {},
   "source": [
    "## The Final Share and 2-party Additive Secret Sharing\n",
    "\n",
    "Knowing that $ s_n = Q - (\\;  \\sum \\limits _{i=1} ^{n-1} s_i \\; mod \\; Q \\; ) + s $\n",
    "\n",
    "How do we implement 2-party ($ n=2 $) additive secret sharing using Python? \n",
    "\n",
    "Keep reading and fing out!"
   ]
  },
  {
   "cell_type": "code",
   "execution_count": 16,
   "metadata": {},
   "outputs": [],
   "source": [
    "def dual_share(s, r):\n",
    "    '''\n",
    "    s = secret\n",
    "    r = randomness\n",
    "    '''\n",
    "    share_lst = list()\n",
    "    share_lst.append(randint(0,r))\n",
    "        \n",
    "    final_share = r - (share_lst[0] % r) + s\n",
    "    \n",
    "    share_lst.append(final_share)\n",
    "        \n",
    "    return share_lst"
   ]
  },
  {
   "cell_type": "code",
   "execution_count": 17,
   "metadata": {},
   "outputs": [
    {
     "data": {
      "text/plain": [
       "[292650972, 1854832282]"
      ]
     },
     "execution_count": 17,
     "metadata": {},
     "output_type": "execute_result"
    }
   ],
   "source": [
    "# Let's generate a couple of shares\n",
    "secret = 5 \n",
    "\n",
    "dual_shares = dual_share(secret, Q)\n",
    "dual_shares"
   ]
  },
  {
   "cell_type": "markdown",
   "metadata": {},
   "source": [
    "Now go back to the previous cell and **run it again**. Notice anything?\n",
    "\n",
    "...\n",
    "\n",
    "...\n",
    "\n",
    "... \n",
    "\n",
    "See it yet? The shares are never the same because they are **randomly generated**.\n",
    "\n",
    "Now let's implement the reconstruction (or decryption) function."
   ]
  },
  {
   "cell_type": "code",
   "execution_count": 18,
   "metadata": {},
   "outputs": [],
   "source": [
    "def decrypt(shares, r):\n",
    "    '''\n",
    "    shares = iterable made of additive secret shares\n",
    "    r = randomness\n",
    "    '''\n",
    "    return sum(shares) % r"
   ]
  },
  {
   "cell_type": "code",
   "execution_count": 19,
   "metadata": {},
   "outputs": [
    {
     "data": {
      "text/plain": [
       "5"
      ]
     },
     "execution_count": 19,
     "metadata": {},
     "output_type": "execute_result"
    }
   ],
   "source": [
    "# And let's decrypt our secret for the first time\n",
    "decrypt(dual_shares, Q)"
   ]
  },
  {
   "cell_type": "markdown",
   "metadata": {},
   "source": [
    "## Exercise: Implement n-party additive secret sharing \n",
    "Fill the function below with your code."
   ]
  },
  {
   "cell_type": "code",
   "execution_count": 20,
   "metadata": {},
   "outputs": [],
   "source": [
    "def n_share(s, r, n):\n",
    "    '''\n",
    "    s = secret\n",
    "    r = randomness\n",
    "    n = number of nodes, workers or participants    \n",
    "    \n",
    "    returns a tuple of n-shares\n",
    "    '''\n",
    "    # replace with your code\n",
    "    share_lst = list()\n",
    "    for i in range(n-1):\n",
    "        share_lst.append(randint(0,r))\n",
    "        \n",
    "    final_share = r - (sum(share_lst) % r) + s\n",
    "    \n",
    "    share_lst.append(final_share)\n",
    "        \n",
    "    return share_lst"
   ]
  },
  {
   "cell_type": "code",
   "execution_count": 21,
   "metadata": {},
   "outputs": [
    {
     "name": "stdout",
     "output_type": "stream",
     "text": [
      "\u001b[1;32mSuccess: \u001b[0mNicely done!\n"
     ]
    },
    {
     "data": {
      "text/plain": [
       "True"
      ]
     },
     "execution_count": 21,
     "metadata": {},
     "output_type": "execute_result"
    }
   ],
   "source": [
    "five_shares = n_share(s=686,r=Q,n=5)\n",
    "five_shares\n",
    "\n",
    "# run this cell to check your solution\n",
    "q2.check(decrypt(five_shares, Q))"
   ]
  },
  {
   "cell_type": "code",
   "execution_count": 22,
   "metadata": {},
   "outputs": [
    {
     "name": "stdout",
     "output_type": "stream",
     "text": [
      "\u001b[1;33mHint: \u001b[0mIterate from i to n-1 and append shares.\n",
      "            \n",
      " Also, sum all the shares before the modulo operation\n",
      "            \n",
      " Plus, don't forget tuples are more secure\n"
     ]
    }
   ],
   "source": [
    "# Uncomment the line below to see a hint\n",
    "q2.hint"
   ]
  },
  {
   "cell_type": "code",
   "execution_count": 23,
   "metadata": {},
   "outputs": [
    {
     "name": "stdout",
     "output_type": "stream",
     "text": [
      "\u001b[1;34mSolution: \u001b[0m\n",
      "\n",
      "                # make an iterable\n",
      "                share_lst = list()\n",
      "\n",
      "\n",
      "                # generate shares randomly except for the final share\n",
      "                for i in range(n - 1):\n",
      "\n",
      "\n",
      "                    share_lst.append(randint(0,r))\n",
      "\n",
      "\n",
      "\n",
      "                final_share = r - (sum(share_lst) % r) + s\n",
      "\n",
      "\n",
      "                share_lst.append(final_share)\n",
      "\n",
      "\n",
      "                # return a tuple of shares\n",
      "                return tuple(share_lst)\n"
     ]
    }
   ],
   "source": [
    "# Uncomment the line below to see the solution\n",
    "q2.solution"
   ]
  },
  {
   "cell_type": "markdown",
   "metadata": {},
   "source": [
    "## Addition\n",
    "Given two shared values $a$ and $b$, a party $P_i$ can compute the added shares as:\n",
    "$ c_i = ( a_i + b_i ) \\; mod \\; Q$\n",
    "\n",
    "In Python, we can implement this type of addition like this:"
   ]
  },
  {
   "cell_type": "code",
   "execution_count": 24,
   "metadata": {},
   "outputs": [],
   "source": [
    "def addition(a, b, r):\n",
    "    '''\n",
    "    a = iterable of the same length of b\n",
    "    b = iterable of the same length of a\n",
    "    r = randomness AKA randomly generated very high prime number \n",
    "    '''\n",
    "    c = list()\n",
    "    \n",
    "    for i in range(len(a)):\n",
    "        c.append((a[i] + b[i]) % r)\n",
    "        \n",
    "    return tuple(c)"
   ]
  },
  {
   "cell_type": "markdown",
   "metadata": {},
   "source": [
    "Considering Alice and Bob are our parties, with secrets $s_a$ and $s_b$ to be shared (2-way) and wanting to compute addition.\n",
    "\n",
    "Let $s_a = 5 $ and $s_b = 11 $\n",
    "\n",
    "Alice's shares would be something like:"
   ]
  },
  {
   "cell_type": "code",
   "execution_count": 25,
   "metadata": {},
   "outputs": [
    {
     "data": {
      "text/plain": [
       "[264044399, 1883438855]"
      ]
     },
     "execution_count": 25,
     "metadata": {},
     "output_type": "execute_result"
    }
   ],
   "source": [
    "# Alice's secret\n",
    "sa = 5 \n",
    "\n",
    "alice_shares = dual_share(sa, Q)\n",
    "alice_shares"
   ]
  },
  {
   "cell_type": "markdown",
   "metadata": {},
   "source": [
    "While Bob's shares would be"
   ]
  },
  {
   "cell_type": "code",
   "execution_count": 26,
   "metadata": {},
   "outputs": [
    {
     "data": {
      "text/plain": [
       "[780942505, 1366540755]"
      ]
     },
     "execution_count": 26,
     "metadata": {},
     "output_type": "execute_result"
    }
   ],
   "source": [
    "# Bob's secret\n",
    "sb = 11\n",
    "\n",
    "bob_shares = dual_share(sb, Q)\n",
    "bob_shares"
   ]
  },
  {
   "cell_type": "code",
   "execution_count": 27,
   "metadata": {},
   "outputs": [
    {
     "data": {
      "text/plain": [
       "(1044986904, 1102496361)"
      ]
     },
     "execution_count": 27,
     "metadata": {},
     "output_type": "execute_result"
    }
   ],
   "source": [
    "secret_sum = addition(alice_shares, bob_shares, Q)\n",
    "secret_sum"
   ]
  },
  {
   "cell_type": "markdown",
   "metadata": {},
   "source": [
    "Doesn't make a lot of sense, does it?\n",
    "\n",
    "Secret shares must only reveal information about their secrets when they are all combined. Otherwise all data must be hidden, which defines the **privacy** property. \n",
    "\n",
    "These are still secret shares so there is one more step to get the sum of the original secrets. "
   ]
  },
  {
   "cell_type": "code",
   "execution_count": 28,
   "metadata": {},
   "outputs": [
    {
     "data": {
      "text/plain": [
       "16"
      ]
     },
     "execution_count": 28,
     "metadata": {},
     "output_type": "execute_result"
    }
   ],
   "source": [
    "decrypt(secret_sum, Q)"
   ]
  },
  {
   "cell_type": "markdown",
   "metadata": {},
   "source": [
    "Et Voilà!"
   ]
  },
  {
   "cell_type": "markdown",
   "metadata": {},
   "source": [
    "## Public (scalar) Multiplication\n",
    "Given a list of shared values $a$ and a **scalar** $b$, a party $P_i$ can compute the multiplied shares as:\n",
    "$ c_i = a_i \\times b \\; mod \\; Q$\n",
    "\n",
    "In Python, we can implement this type of multiplication like this:"
   ]
  },
  {
   "cell_type": "code",
   "execution_count": 29,
   "metadata": {},
   "outputs": [],
   "source": [
    "def public_mul(a, b, r):\n",
    "    '''\n",
    "    a = iterable of the same length of b\n",
    "    b = scalar to multiply a by\n",
    "    r = randomness AKA randomly generated very high prime number \n",
    "    '''\n",
    "    c = list()\n",
    "    \n",
    "    for i in range(len(a)):\n",
    "        c.append((a[i] * b) % r)\n",
    "        \n",
    "    return tuple(c)"
   ]
  },
  {
   "cell_type": "markdown",
   "metadata": {},
   "source": [
    "Let's say another party wants to multiply Alice's shares by the **scalar** value of 3. "
   ]
  },
  {
   "cell_type": "code",
   "execution_count": 30,
   "metadata": {},
   "outputs": [],
   "source": [
    "alice_times3 = public_mul(alice_shares, 3, Q)"
   ]
  },
  {
   "cell_type": "markdown",
   "metadata": {},
   "source": [
    "Then we can decrypt (with Alice's permission) to double check we did multiply what we intended."
   ]
  },
  {
   "cell_type": "code",
   "execution_count": 31,
   "metadata": {},
   "outputs": [
    {
     "data": {
      "text/plain": [
       "15"
      ]
     },
     "execution_count": 31,
     "metadata": {},
     "output_type": "execute_result"
    }
   ],
   "source": [
    "decrypt(alice_times3,Q)"
   ]
  },
  {
   "cell_type": "markdown",
   "metadata": {},
   "source": [
    "And this is `True` because Alice's secret $sa = 5$, remember?"
   ]
  },
  {
   "cell_type": "code",
   "execution_count": 32,
   "metadata": {},
   "outputs": [
    {
     "data": {
      "text/plain": [
       "True"
      ]
     },
     "execution_count": 32,
     "metadata": {},
     "output_type": "execute_result"
    }
   ],
   "source": [
    "decrypt(alice_times3,Q) == sa * 3"
   ]
  },
  {
   "cell_type": "markdown",
   "metadata": {},
   "source": [
    "## PyTorch + PySyft implementation\n",
    "Now that you know how additive secret sharing works under the hood, let's see how we can leverage PyTorch and PySyft to do it for us."
   ]
  },
  {
   "cell_type": "markdown",
   "metadata": {},
   "source": [
    "```\n",
    "pip install torch==1.4.0 -f https://download.pytorch.org/whl/torch_stable.html\n",
    "pip install syft==0.2.9\n",
    "```"
   ]
  },
  {
   "cell_type": "code",
   "execution_count": 1,
   "metadata": {
    "scrolled": false
   },
   "outputs": [],
   "source": [
    "import torch\n",
    "import syft as sy\n",
    "hook = sy.TorchHook(torch) # pip install torch==1.4.0 -f https://download.pytorch.org/whl/torch_stable.html and pip install syft==0.2.9"
   ]
  },
  {
   "cell_type": "markdown",
   "metadata": {},
   "source": [
    "Let's say Alice, Bob and Charlie are all enrolled on the **Foundations of Privacy** course and we, as instructors, want to know on average, how far in the course they are. We don't want to breach their privacy so each percentage of completion will be their own secret (a, b and c). \n",
    "\n",
    "For educational purposes, we will define our parties (nodes, workers, etc) using `VirtualWorker` PySyft objects."
   ]
  },
  {
   "cell_type": "code",
   "execution_count": 2,
   "metadata": {},
   "outputs": [],
   "source": [
    "alice = sy.VirtualWorker(hook, id=\"alice\")\n",
    "bob = sy.VirtualWorker(hook, id=\"bob\")\n",
    "charlie = sy.VirtualWorker(hook, id=\"charlie\")"
   ]
  },
  {
   "cell_type": "markdown",
   "metadata": {},
   "source": [
    "We also need a \"secure worker\", also known as the `Crypto Provider` to provide us with random prime numbers."
   ]
  },
  {
   "cell_type": "code",
   "execution_count": 3,
   "metadata": {},
   "outputs": [],
   "source": [
    "secure_worker = sy.VirtualWorker(hook, \"secure_worker\")"
   ]
  },
  {
   "cell_type": "markdown",
   "metadata": {},
   "source": [
    "We define our secrets using `torch.tensor` PyTorch tensor objects and we `Additive Share` them with our fellow workers."
   ]
  },
  {
   "cell_type": "code",
   "execution_count": 4,
   "metadata": {},
   "outputs": [],
   "source": [
    "# Let a, b and c be our students' completion percentage\n",
    "a = torch.tensor([35])\n",
    "b = torch.tensor([77])\n",
    "c = torch.tensor([10])"
   ]
  },
  {
   "cell_type": "code",
   "execution_count": 5,
   "metadata": {},
   "outputs": [],
   "source": [
    "# And we additive share with our parties\n",
    "a = a.share(alice, bob, charlie, crypto_provider=secure_worker)\n",
    "b = b.share(alice, bob, charlie, crypto_provider=secure_worker)\n",
    "c = c.share(alice, bob, charlie, crypto_provider=secure_worker)"
   ]
  },
  {
   "cell_type": "code",
   "execution_count": 6,
   "metadata": {},
   "outputs": [
    {
     "data": {
      "text/plain": [
       "(Wrapper)>[AdditiveSharingTensor]\n",
       "\t-> [PointerTensor | me:86034491782 -> alice:16724097366]\n",
       "\t-> [PointerTensor | me:5635845094 -> bob:88353903700]\n",
       "\t-> [PointerTensor | me:66858620258 -> charlie:390367811]\n",
       "\t*crypto provider: secure_worker*"
      ]
     },
     "execution_count": 6,
     "metadata": {},
     "output_type": "execute_result"
    }
   ],
   "source": [
    "# And we compute the mean of our tensor\n",
    "mean = torch.mean(torch.stack(list([a,b,c])))\n",
    "mean"
   ]
  },
  {
   "cell_type": "markdown",
   "metadata": {},
   "source": [
    "Also, see that the object type is **[AdditiveSharingTensor]**.\n",
    "For this example, we can decrypt our computation result using the get() method"
   ]
  },
  {
   "cell_type": "code",
   "execution_count": 7,
   "metadata": {},
   "outputs": [
    {
     "data": {
      "text/plain": [
       "tensor(40)"
      ]
     },
     "execution_count": 7,
     "metadata": {},
     "output_type": "execute_result"
    }
   ],
   "source": [
    "decrypted_mean = mean.get()\n",
    "decrypted_mean"
   ]
  },
  {
   "cell_type": "markdown",
   "metadata": {},
   "source": [
    "And get the scalar using the item() method (Only works for 1-dimensional tensors)."
   ]
  },
  {
   "cell_type": "code",
   "execution_count": 8,
   "metadata": {},
   "outputs": [
    {
     "data": {
      "text/plain": [
       "40"
      ]
     },
     "execution_count": 8,
     "metadata": {},
     "output_type": "execute_result"
    }
   ],
   "source": [
    "scalar_mean = decrypted_mean.item()\n",
    "scalar_mean"
   ]
  },
  {
   "cell_type": "markdown",
   "metadata": {},
   "source": [
    "Now, the average completion should actually be 40 and $ \\frac{1}{3} $ (or 40.6666666666... ) but this is something we will learn about in the next lessons."
   ]
  },
  {
   "cell_type": "markdown",
   "metadata": {},
   "source": [
    "Let’s now tackle private multiplication!"
   ]
  }
 ],
 "metadata": {
  "kernelspec": {
   "display_name": "Python 3 (ipykernel)",
   "language": "python",
   "name": "python3"
  },
  "language_info": {
   "codemirror_mode": {
    "name": "ipython",
    "version": 3
   },
   "file_extension": ".py",
   "mimetype": "text/x-python",
   "name": "python",
   "nbconvert_exporter": "python",
   "pygments_lexer": "ipython3",
   "version": "3.7.0"
  }
 },
 "nbformat": 4,
 "nbformat_minor": 4
}
