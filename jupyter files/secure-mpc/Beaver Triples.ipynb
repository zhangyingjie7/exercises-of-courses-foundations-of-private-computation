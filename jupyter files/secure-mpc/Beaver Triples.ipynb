{
 "cells": [
  {
   "cell_type": "markdown",
   "metadata": {},
   "source": [
    "# Beaver Triples\n",
    "\n",
    "Author: \n",
    "- Carlos Salgado - [email](mailto:csalgado@uwo.ca) - [linkedin](https://www.linkedin.com/in/eng-socd/) - [github](https://github.com/socd06)  $\\newcommand{\\shared}[1]{[\\![ #1 ]\\!]}$  \n",
    "\n",
    "## Definition\n",
    "\n",
    "Beaver triples are [tuples](https://en.wikipedia.org/wiki/Tuple) of three values such that `a` and `b` are random uniform values and\n",
    "\n",
    "$ c = ab $\n",
    "\n",
    "Beaver triples are named after Donald Beaver, the author of the [paper](https://link.springer.com/chapter/10.1007/3-540-46766-1_34) where the technique was introduced."
   ]
  },
  {
   "cell_type": "markdown",
   "metadata": {},
   "source": [
    "## Geometric explanation\n",
    "\n",
    "Beaver triples are applied in **private multiplication** where we want to compute $ \\shared{z} = \\shared{xy} $ and both $\\shared{x}$ and $\\shared{y}$ are shared values. This is also known as preprocessed material and is used to compute the multiplication as shown in the geometric explanation below.\n",
    "\n"
   ]
  },
  {
   "cell_type": "markdown",
   "metadata": {},
   "source": [
    "![Beaver Triples Trick](img/beaver-triples-trick.jpg)"
   ]
  },
  {
   "cell_type": "markdown",
   "metadata": {},
   "source": [
    "### Private multiplication\n",
    "This has been implemented in different ways depending on the author and purpose of the protocol, we present a simplified overview of the process in favour of learning:\n",
    "#### Precomputation\n",
    "First-off, in the precomputation phase:\n",
    "- a crypto provider (or trusted third party) computes a Beaver multiplication triple $ (a, b, c) $, such that `a` and `b` are random and $ c = ab $ and then\n",
    "- It secret shares the triple with the party\n",
    "\n",
    "#### Online Phase\n",
    "Assumming all parties have a secret share of a multiplicatiion Beaver triple $\\shared{a}, \\shared{b}, \\shared{c}$. The process is as follows:\n",
    "\n",
    "- Each party computes $ \\shared{x-a} $ and publishes their share of $ x - a $, revealing (reconstructing) $ \\delta = x - a $ \n",
    "\n",
    "\n",
    "- Each party computes $ \\shared{y-b} $ and publishes their share of $ y - b $, revealing (reconstructing) $ \\epsilon = y - b $ \n",
    "\n",
    "\n",
    "- All parties compute $ z_i = c_i + a_i(y - b) + b_i(x - a) $, adding their shares\n",
    "\n",
    "or, simplified\n",
    "- $ z_i =  c_i + a_i \\epsilon + \\delta b_i  + \\delta \\epsilon  $\n",
    "\n",
    "\n",
    "- Finally, an arbitrary party adds $ (x - a)(y - b) $ or $ \\delta \\epsilon $ for short, to the computation, revealing $ z = xy $\n",
    "\n",
    "\n",
    "**Note:** Values inside this type of square brackets $\\shared{}$ are secret shares."
   ]
  },
  {
   "cell_type": "markdown",
   "metadata": {},
   "source": [
    "### [Quiz] Compute the expected z<sub>alice</sub> and z<sub>bob</sub> shares of a private multiplication"
   ]
  },
  {
   "cell_type": "markdown",
   "metadata": {},
   "source": [
    "Let our inputs be \n",
    "\n",
    "$ x = 6 $ and $ y = 4 $\n",
    "\n",
    "and we consume the following triples:\n",
    "\n",
    "$( a, \\;b,\\; c ) = ( 12, \\; 26, \\; 312 )$\n",
    "\n",
    "Then let our inputs and triples be secret shared between `Alice` and `Bob`. Therefore, \n",
    "\n",
    "- `Alice` holds:\n",
    "\n",
    "$ x_{alice} = 2, \\; y_{alice}= -5 $\n",
    "\n",
    "$ a_{alice} = 15, \\; b_{alice} = -20, \\; c_{alice} = 117  $\n",
    "\n",
    "- and `Bob` holds:\n",
    "\n",
    "$ x_{bob} = 4, \\; y_{bob}= 9 $\n",
    "\n",
    "$ a_{bob} = -3, \\; b_{bob} = 46, \\; c_{bob} = 195 $\n",
    "\n",
    "\n",
    "|                       |Alice                   | | | | | |                     |Bob                  | |\n",
    "|:----------------------|:----------------------:|-|-|-|-|-|:--------------------|:-------------------:|-|\n",
    "|x<sub>alice</sub> = 2  |a<sub>alice</sub> = 15  | | | | | |x<sub>bob</sub> = 4  |a<sub>bob</sub> = -3 | |\n",
    "|y<sub>alice</sub> = -5 |b<sub>alice</sub> = -20 | | | | | |y<sub>bob</sub> = 9 |b<sub>bob</sub> = 46 | |\n",
    "|                       |c<sub>alice</sub> = 117 | | | | | |                     |c<sub>bob</sub> = 195| |\n",
    "\n",
    "\n",
    "Compute the expected $z_{alice} $ and $ z_{bob} $ shares assuming Bob adds $ \\delta \\epsilon $. \n",
    "\n",
    "Fill the ____ spaces below with your answers. Feel free to implement the equation in a new cell or use whatever tool you'd like (e.g. a calculator), it's your call. "
   ]
  },
  {
   "cell_type": "code",
   "execution_count": 2,
   "metadata": {},
   "outputs": [],
   "source": [
    "# Run this cell to import the quizzes\n",
    "from quiz import q3, q4"
   ]
  },
  {
   "cell_type": "code",
   "execution_count": 7,
   "metadata": {},
   "outputs": [
    {
     "name": "stdout",
     "output_type": "stream",
     "text": [
      "\u001b[1;32mSuccess: \u001b[0mExcellent!\n"
     ]
    },
    {
     "data": {
      "text/plain": [
       "True"
      ]
     },
     "execution_count": 7,
     "metadata": {},
     "output_type": "execute_result"
    }
   ],
   "source": [
    "# Fill the ____ space below with your answer\n",
    "x_A = 2\n",
    "y_A = -5\n",
    "a_A = 15\n",
    "b_A = -20\n",
    "c_A = 117\n",
    "x_B = 4\n",
    "y_B = 9\n",
    "a_B = -3\n",
    "b_B = 46\n",
    "c_B = 195\n",
    "\n",
    "delta = (x_A-a_A)+(x_B-a_B)\n",
    "eps = (y_A - b_A)+(y_B-b_B)\n",
    "z_alice = c_A + a_A * eps + delta * b_A \n",
    "# run to check your answer\n",
    "q3.check(z_alice)"
   ]
  },
  {
   "cell_type": "code",
   "execution_count": 4,
   "metadata": {},
   "outputs": [
    {
     "name": "stdout",
     "output_type": "stream",
     "text": [
      "\u001b[1;33mHint: \u001b[0mReconstruct x - a and y - b by adding the Alice and Bob's [x-a] and [y-b]\n"
     ]
    }
   ],
   "source": [
    "# Uncomment the line below to see a hint\n",
    "q3.hint"
   ]
  },
  {
   "cell_type": "code",
   "execution_count": 8,
   "metadata": {},
   "outputs": [
    {
     "name": "stdout",
     "output_type": "stream",
     "text": [
      "\u001b[1;34mSolution: \u001b[0mz_alice = -93\n"
     ]
    }
   ],
   "source": [
    "# Uncomment the line below to see the solution\n",
    "q3.solution"
   ]
  },
  {
   "cell_type": "code",
   "execution_count": 9,
   "metadata": {},
   "outputs": [
    {
     "name": "stdout",
     "output_type": "stream",
     "text": [
      "\u001b[1;32mSuccess: \u001b[0mCorrect! Bob's share is -15 + (6)(22) = 117\n"
     ]
    },
    {
     "data": {
      "text/plain": [
       "True"
      ]
     },
     "execution_count": 9,
     "metadata": {},
     "output_type": "execute_result"
    }
   ],
   "source": [
    "# Fill the ____ space below with your answer\n",
    "z_bob = c_B + a_B * eps + b_B * delta + eps * delta\n",
    "\n",
    "# run to check your answer\n",
    "q4.check(z_bob)"
   ]
  },
  {
   "cell_type": "code",
   "execution_count": null,
   "metadata": {},
   "outputs": [],
   "source": [
    "# Uncomment the line below to see a hint\n",
    "q4.hint"
   ]
  },
  {
   "cell_type": "code",
   "execution_count": 10,
   "metadata": {},
   "outputs": [
    {
     "name": "stdout",
     "output_type": "stream",
     "text": [
      "\u001b[1;34mSolution: \u001b[0mz_bob = 117\n"
     ]
    }
   ],
   "source": [
    "# Uncomment the line below to see the solution\n",
    "q4.solution"
   ]
  },
  {
   "cell_type": "markdown",
   "metadata": {},
   "source": [
    "## Implement Private multiplication with Beaver Triples\n",
    "Now that you are aware of the theory, why don't you try implementing private multiplication from scratch? "
   ]
  },
  {
   "cell_type": "code",
   "execution_count": null,
   "metadata": {},
   "outputs": [],
   "source": []
  },
  {
   "cell_type": "markdown",
   "metadata": {},
   "source": [
    "How did it go? There are many different ways to implement this so there is no right solution. We hope you were able to see how the math allows us to hide our inputs."
   ]
  },
  {
   "cell_type": "markdown",
   "metadata": {},
   "source": [
    "# (Solution:)\n",
    "## Implementation\n",
    "There are many ways to implement this, particularly on a production-grade application. In this lesson, we want you to understand how these principles work and not worry too much about the best possible implementation. Therefore, we implement private multiplication in a simplified (and not very secure) way. "
   ]
  },
  {
   "cell_type": "code",
   "execution_count": 11,
   "metadata": {},
   "outputs": [],
   "source": [
    "def beaver_triple(r):\n",
    "    '''\n",
    "    r = randomness\n",
    "    '''\n",
    "    a = randint(r)\n",
    "    b = randint(r)\n",
    "    c = a * b\n",
    "    \n",
    "    return (a, b, c)"
   ]
  },
  {
   "cell_type": "code",
   "execution_count": 12,
   "metadata": {},
   "outputs": [],
   "source": [
    "# Define secret sharing from previous lesson\n",
    "\n",
    "def n_share(s, r, n):\n",
    "    '''\n",
    "    s = secret\n",
    "    r = randomness\n",
    "    n = number of nodes, workers or participants\n",
    "    '''\n",
    "    share_lst = list()\n",
    "\n",
    "    for i in range(n - 1):\n",
    "        share_lst.append(randint(0,r))\n",
    "\n",
    "    final_share = r - (sum(share_lst) % r) + s\n",
    "\n",
    "    share_lst.append(final_share)\n",
    "\n",
    "    return tuple(share_lst)"
   ]
  },
  {
   "cell_type": "code",
   "execution_count": 13,
   "metadata": {},
   "outputs": [],
   "source": [
    "# also reusing the decryption function\n",
    "def decrypt(shares, r):\n",
    "    '''\n",
    "    shares = iterable made of additive secret shares\n",
    "    r = randomness\n",
    "    '''\n",
    "    return sum(shares) % r"
   ]
  },
  {
   "cell_type": "code",
   "execution_count": 14,
   "metadata": {},
   "outputs": [],
   "source": [
    "# Import numpy randomness function\n",
    "from numpy.random import randint\n",
    "\n",
    "# Small Q in favour of computation speed\n",
    "Q = 64601"
   ]
  },
  {
   "cell_type": "markdown",
   "metadata": {},
   "source": [
    "We will use lists and dictionaries for simplicity."
   ]
  },
  {
   "cell_type": "code",
   "execution_count": 15,
   "metadata": {},
   "outputs": [
    {
     "data": {
      "text/plain": [
       "[{'name': 'alice'}, {'name': 'bob'}]"
      ]
     },
     "execution_count": 15,
     "metadata": {},
     "output_type": "execute_result"
    }
   ],
   "source": [
    "# 0 - Create a dictionary per party\n",
    "\n",
    "alice = dict(name=\"alice\")\n",
    "bob = dict(name=\"bob\")\n",
    "\n",
    "# and put them in a list\n",
    "parties = [alice, bob]\n",
    "parties"
   ]
  },
  {
   "cell_type": "markdown",
   "metadata": {},
   "source": [
    "Enter integers to multiply together"
   ]
  },
  {
   "cell_type": "code",
   "execution_count": 16,
   "metadata": {},
   "outputs": [
    {
     "name": "stdout",
     "output_type": "stream",
     "text": [
      "Alice's input is: 15\n",
      "Bob's input is: 98\n"
     ]
    }
   ],
   "source": [
    "x = int(input(\"Alice's input is: \"))\n",
    "y = int(input(\"Bob's input is: \"))"
   ]
  },
  {
   "cell_type": "code",
   "execution_count": 17,
   "metadata": {},
   "outputs": [
    {
     "name": "stdout",
     "output_type": "stream",
     "text": [
      "{'name': 'alice', 'x': 40206, 'y': 43555}\n",
      "{'name': 'bob', 'x': 24410, 'y': 21144}\n"
     ]
    }
   ],
   "source": [
    "# 1 - Secret share the inputs\n",
    "\n",
    "x1, x2 = n_share(x,Q,len(parties))         \n",
    "\n",
    "xsecrets = [ x1, x2 ] \n",
    "\n",
    "y1, y2 = n_share(y,Q,len(parties))         \n",
    "\n",
    "ysecrets = [ y1, y2 ] \n",
    "\n",
    "for i, party in enumerate(parties):   \n",
    "    party[\"x\"] = xsecrets[i]\n",
    "    party[\"y\"] = ysecrets[i]\n",
    "    \n",
    "    print(party)"
   ]
  },
  {
   "cell_type": "code",
   "execution_count": 18,
   "metadata": {},
   "outputs": [
    {
     "name": "stdout",
     "output_type": "stream",
     "text": [
      "Triple (a,b,c) =  (53759, 28838, 1550302042)\n"
     ]
    }
   ],
   "source": [
    "# 2 - Generate Beaver Triple\n",
    "\n",
    "# Compute triples using Q\n",
    "a,b,c = beaver_triple(Q)\n",
    "\n",
    "triple = (a,b,c)\n",
    "print(\"Triple (a,b,c) = \",triple)"
   ]
  },
  {
   "cell_type": "code",
   "execution_count": 19,
   "metadata": {},
   "outputs": [
    {
     "name": "stdout",
     "output_type": "stream",
     "text": [
      "a = 53759 split into (60578, 57782) \n",
      "\n",
      "b = 28838 split into (43231, 50208) \n",
      "\n",
      "c = 1550302042 split into (30211, 1550336432) \n",
      "\n"
     ]
    }
   ],
   "source": [
    "# 3 - Secret Share triple\n",
    "for count, elem in enumerate(triple):\n",
    "    \n",
    "    # Additive secret share \n",
    "    shares = n_share(elem,Q,len(parties))         \n",
    "    \n",
    "    # a\n",
    "    if count == 0:\n",
    "        lit = \"a\"        \n",
    "        \n",
    "    # b\n",
    "    elif count == 1:       \n",
    "        lit = \"b\"\n",
    "        \n",
    "    # c\n",
    "    else:\n",
    "        lit = \"c\"\n",
    "        \n",
    "    print(lit,\"=\",elem,\"split into\", shares,\"\\n\")        \n",
    "        \n",
    "    for party, share in enumerate(shares):\n",
    "        \n",
    "        parties[party][lit] = share"
   ]
  },
  {
   "cell_type": "markdown",
   "metadata": {},
   "source": [
    "In this example, we can check that the triples have been split into shares among the parties correctly"
   ]
  },
  {
   "cell_type": "code",
   "execution_count": 20,
   "metadata": {},
   "outputs": [
    {
     "data": {
      "text/plain": [
       "{'name': 'alice', 'x': 40206, 'y': 43555, 'a': 60578, 'b': 43231, 'c': 30211}"
      ]
     },
     "execution_count": 20,
     "metadata": {},
     "output_type": "execute_result"
    }
   ],
   "source": [
    "alice"
   ]
  },
  {
   "cell_type": "code",
   "execution_count": 21,
   "metadata": {},
   "outputs": [
    {
     "data": {
      "text/plain": [
       "{'name': 'bob',\n",
       " 'x': 24410,\n",
       " 'y': 21144,\n",
       " 'a': 57782,\n",
       " 'b': 50208,\n",
       " 'c': 1550336432}"
      ]
     },
     "execution_count": 21,
     "metadata": {},
     "output_type": "execute_result"
    }
   ],
   "source": [
    "bob"
   ]
  },
  {
   "cell_type": "code",
   "execution_count": 22,
   "metadata": {},
   "outputs": [
    {
     "name": "stdout",
     "output_type": "stream",
     "text": [
      "alice computes \n",
      "[x-a] = 40206 - 60578 = -20372\n",
      "alice computes \n",
      "[y-b] = 43555 - 43231 = 324\n",
      "bob computes \n",
      "[x-a] = 24410 - 57782 = -33372\n",
      "bob computes \n",
      "[y-b] = 21144 - 50208 = -29064\n"
     ]
    }
   ],
   "source": [
    "# Each party \n",
    "for party in parties:    \n",
    "    \n",
    "    # computes x - a    \n",
    "    party[\"x-a\"] = party[\"x\"] - party[\"a\"]\n",
    "    print(f'{party[\"name\"]} computes \\n[x-a] = {party[\"x\"]} - {party[\"a\"]} = {party[\"x-a\"]}')\n",
    "    \n",
    "    # and y - b    \n",
    "    party[\"y-b\"] = party[\"y\"] - party[\"b\"]\n",
    "    print(f'{party[\"name\"]} computes \\n[y-b] = {party[\"y\"]} - {party[\"b\"]} = {party[\"y-b\"]}')"
   ]
  },
  {
   "cell_type": "code",
   "execution_count": 23,
   "metadata": {},
   "outputs": [
    {
     "name": "stdout",
     "output_type": "stream",
     "text": [
      "delta = -53744\n",
      "epsilon = -28740\n"
     ]
    }
   ],
   "source": [
    "# revealing delta\n",
    "delta = alice[\"x-a\"] + bob[\"x-a\"]\n",
    "print(\"delta =\",delta)\n",
    "    \n",
    "# and epsilon\n",
    "epsilon = alice[\"y-b\"] + bob[\"y-b\"]\n",
    "\n",
    "print(\"epsilon =\",epsilon)"
   ]
  },
  {
   "cell_type": "code",
   "execution_count": 24,
   "metadata": {},
   "outputs": [
    {
     "name": "stdout",
     "output_type": "stream",
     "text": [
      "z_alice = -4064388373\n",
      "z_bob = -2808697000\n",
      "The last party (bob) adds (delta)(epsilon) \n",
      "[z] = -1264094440\n"
     ]
    }
   ],
   "source": [
    "# and all parties compute using the reconstructed triples and the newly generated delta and epsilon variables\n",
    "\n",
    "for i, party in enumerate(parties):\n",
    "    party[\"z\"] = party[\"c\"] + delta * party[\"b\"] + party[\"a\"] * epsilon\n",
    "    print(f'z_{party[\"name\"]} = {party[\"z\"]}')\n",
    "    \n",
    "    if i == len(parties)-1:\n",
    "        party[\"z\"] += delta * epsilon\n",
    "        print(f'The last party ({party[\"name\"]}) adds (delta)(epsilon) \\n[z] = { party[\"z\"] }')"
   ]
  },
  {
   "cell_type": "markdown",
   "metadata": {},
   "source": [
    "Since we introduced randomness to our parties' inputs using Q, we use the additive secret sharing decrypt function to remove that randomness. "
   ]
  },
  {
   "cell_type": "code",
   "execution_count": 25,
   "metadata": {},
   "outputs": [
    {
     "data": {
      "text/plain": [
       "1470"
      ]
     },
     "execution_count": 25,
     "metadata": {},
     "output_type": "execute_result"
    }
   ],
   "source": [
    "decrypt( [ alice[\"z\"], bob[\"z\"] ], Q )"
   ]
  },
  {
   "cell_type": "markdown",
   "metadata": {},
   "source": [
    "## Working with Matrices\n",
    "\n",
    "Now that we know how to secret share, add and multiply integers privately, which is basic for deep learning networks we should learn how to do the same work with matrices. More importantly, neural networks programmed with [PyTorch](https://pytorch.org/) represent images as tensors. \n",
    "\n",
    "### Additive Secret Sharing\n",
    "\n",
    "Borrowing from the previous lesson, we can use the same logic to secret share matrices by adding a `random_tensor` helper function."
   ]
  },
  {
   "cell_type": "code",
   "execution_count": 26,
   "metadata": {},
   "outputs": [],
   "source": [
    "# We use the secrets module to generate strong random numbers\n",
    "from secrets import randbelow\n",
    "\n",
    "# We use NumPy for math operations\n",
    "import numpy as np\n",
    "\n",
    "# and PyTorch to represent our data using tensors\n",
    "import torch\n",
    "\n",
    "def random_tensor(shape,r):\n",
    "    '''\n",
    "    shape = desired tensor shape\n",
    "    r = randomness\n",
    "    '''    \n",
    "    values = [ randbelow(r) for _ in range(np.prod(shape)) ]\n",
    "    return torch.tensor(values, dtype=torch.long).reshape(shape)"
   ]
  },
  {
   "cell_type": "code",
   "execution_count": 27,
   "metadata": {},
   "outputs": [],
   "source": [
    "# Modifying secret sharing from previous lesson to generate random matrices\n",
    "\n",
    "def matrix_share(m, r, n):\n",
    "    '''\n",
    "    m = matrix secret\n",
    "    r = randomness\n",
    "    n = number of nodes, workers or participants\n",
    "    '''\n",
    "    share_lst = list()\n",
    "\n",
    "    for i in range(n - 1):\n",
    "        \n",
    "        # add the random_tensor helper function\n",
    "        share_lst.append(random_tensor(m.shape,r))\n",
    "\n",
    "    final_share = r - (sum(share_lst) % r) + m\n",
    "\n",
    "    share_lst.append(final_share)\n",
    "    \n",
    "    # and return a tuple of random tensors    \n",
    "    return tuple(share_lst)"
   ]
  },
  {
   "cell_type": "markdown",
   "metadata": {},
   "source": [
    "Next, we do a quick test to verify our secret sharing function works"
   ]
  },
  {
   "cell_type": "code",
   "execution_count": 28,
   "metadata": {},
   "outputs": [
    {
     "data": {
      "text/plain": [
       "(tensor([[36823,  2932, 28802],\n",
       "         [12043,   428, 36083]]),\n",
       " tensor([[27779, 61671, 35802],\n",
       "         [52561, 64175, 28519]]))"
      ]
     },
     "execution_count": 28,
     "metadata": {},
     "output_type": "execute_result"
    }
   ],
   "source": [
    "# We make an arbitrary tensor of 2x3 shape\n",
    "test_tensor = torch.tensor([[1, 2, 3],\n",
    "                            [3, 2, 1]])\n",
    "\n",
    "# Make secret shares from our test tensor\n",
    "n = 2\n",
    "matrix_shares = matrix_share( test_tensor , Q, n)\n",
    "matrix_shares"
   ]
  },
  {
   "cell_type": "code",
   "execution_count": 29,
   "metadata": {},
   "outputs": [
    {
     "data": {
      "text/plain": [
       "tensor([[1, 2, 3],\n",
       "        [3, 2, 1]])"
      ]
     },
     "execution_count": 29,
     "metadata": {},
     "output_type": "execute_result"
    }
   ],
   "source": [
    "# Can we decrypt the shares using our original function?\n",
    "decrypt(matrix_shares, Q)"
   ]
  },
  {
   "cell_type": "markdown",
   "metadata": {},
   "source": [
    "Success!\n",
    "\n",
    "### Matrix Multiplication Refresher\n",
    "\n",
    "For matrix multiplication, we need the columns of our first matrix to be the same as the rows in our second matrix."
   ]
  },
  {
   "cell_type": "code",
   "execution_count": 30,
   "metadata": {},
   "outputs": [
    {
     "name": "stdout",
     "output_type": "stream",
     "text": [
      "torch.Size([4, 3]) torch.Size([3, 2])\n"
     ]
    }
   ],
   "source": [
    "x = torch.tensor([   # 4 x 3\n",
    "        [1, 1, 1], \n",
    "        [2, 2, 2],\n",
    "        [3, 3, 3],\n",
    "        [4, 4, 4]\n",
    "    ], dtype=torch.long)\n",
    "\n",
    "y = torch.tensor([   # 3 x 2\n",
    "        [0, 1], \n",
    "        [2, 3],\n",
    "        [0, 2]  \n",
    "    ], dtype=torch.long)\n",
    "\n",
    "print(x.shape, y.shape)"
   ]
  },
  {
   "cell_type": "markdown",
   "metadata": {},
   "source": [
    "In regular PyTorch, we can use the `torch.matmul` operation to do n-dimensional matrix multiplication, `x @ y` in short."
   ]
  },
  {
   "cell_type": "code",
   "execution_count": 31,
   "metadata": {},
   "outputs": [
    {
     "data": {
      "text/plain": [
       "tensor([[ 2,  6],\n",
       "        [ 4, 12],\n",
       "        [ 6, 18],\n",
       "        [ 8, 24]])"
      ]
     },
     "execution_count": 31,
     "metadata": {},
     "output_type": "execute_result"
    }
   ],
   "source": [
    "torch.matmul(x, y)"
   ]
  },
  {
   "cell_type": "markdown",
   "metadata": {},
   "source": [
    "## Adapt your code to MatMul\n",
    "Now that you know how to multiply and secret share matrices with PyTorch, try implementing private multiplication on your own."
   ]
  },
  {
   "cell_type": "code",
   "execution_count": null,
   "metadata": {},
   "outputs": [],
   "source": []
  },
  {
   "cell_type": "markdown",
   "metadata": {},
   "source": [
    "# (Solution)\n",
    "\n",
    "## Private Matrix Multiplication\n",
    "### Matrix Beaver Triples\n",
    "Adapting Beaver's principles to matrices, we can implement private matrix multiplication this way.\n",
    "\n",
    "Following the same logic as before, we can make `a` and `b` random tensors and `matmul` them together to make `c = ab`"
   ]
  },
  {
   "cell_type": "code",
   "execution_count": 32,
   "metadata": {},
   "outputs": [],
   "source": [
    "def matrix_triple(x: torch.LongTensor, y: torch.LongTensor, r: int):\n",
    "    '''\n",
    "    x = x tensor\n",
    "    y = y tensor\n",
    "    r = randomness\n",
    "    '''\n",
    "    # Generate random tensors with the same shape as our inputs\n",
    "    a = random_tensor(x.shape,r)\n",
    "    b = random_tensor(y.shape,r)\n",
    "    \n",
    "    # And we matrix multiply them to make c = ab\n",
    "    c = torch.matmul(a,b)\n",
    "    \n",
    "    return a, b, c"
   ]
  },
  {
   "cell_type": "code",
   "execution_count": 33,
   "metadata": {},
   "outputs": [
    {
     "data": {
      "text/plain": [
       "(tensor([[54261, 22842, 36712],\n",
       "         [33821, 23434,  4077],\n",
       "         [29253, 22758, 13275],\n",
       "         [54746, 45999,  4314]]),\n",
       " tensor([[45662,  3875],\n",
       "         [51785, 49437],\n",
       "         [55187, 19193]]),\n",
       " tensor([[5686563896, 2044114745],\n",
       "         [2982861591, 1367812894],\n",
       "         [3246880941, 1493229696],\n",
       "         [5119946785, 2568991915]]))"
      ]
     },
     "execution_count": 33,
     "metadata": {},
     "output_type": "execute_result"
    }
   ],
   "source": [
    "matrix_triple(x, y, Q)"
   ]
  },
  {
   "cell_type": "code",
   "execution_count": 34,
   "metadata": {},
   "outputs": [],
   "source": [
    "# Define 2 parties that will virtually hold the shares\n",
    "parties = [\"alice\", \"bob\"]"
   ]
  },
  {
   "cell_type": "code",
   "execution_count": 35,
   "metadata": {},
   "outputs": [
    {
     "name": "stdout",
     "output_type": "stream",
     "text": [
      "Matrix 1 Shape: torch.Size([4, 3]) \n",
      "Matrix 2 Shape: torch.Size([3, 2])\n"
     ]
    }
   ],
   "source": [
    "# and we view their shapes\n",
    "print(f'Matrix 1 Shape: {x.shape} \\nMatrix 2 Shape: {y.shape}')"
   ]
  },
  {
   "cell_type": "markdown",
   "metadata": {},
   "source": [
    "Then we secret share `x` and `y` between our two parties of Alice and Bob"
   ]
  },
  {
   "cell_type": "code",
   "execution_count": 36,
   "metadata": {},
   "outputs": [],
   "source": [
    "# 1 - Secret share inputs\n",
    "\n",
    "# secret share matrix x\n",
    "x_sh = matrix_share(x, Q, len(parties))\n",
    "\n",
    "# secret share matrix y\n",
    "y_sh = matrix_share(y, Q, len(parties))"
   ]
  },
  {
   "cell_type": "code",
   "execution_count": 37,
   "metadata": {},
   "outputs": [
    {
     "name": "stdout",
     "output_type": "stream",
     "text": [
      "Triple (a,b,c) = \n",
      " (tensor([[60025, 22642, 55171],\n",
      "        [36797, 44979, 56696],\n",
      "        [22652, 41714, 48197],\n",
      "        [10156,  1576, 31212]]), tensor([[20371, 63827],\n",
      "        [42351, 18430],\n",
      "        [24374, 17802]]), tensor([[3526418571, 5230661877],\n",
      "        [4036405620, 4186907281],\n",
      "        [3402827184, 3072601218],\n",
      "        [1034394340, 1232908716]]))\n"
     ]
    }
   ],
   "source": [
    "# 2 - Generate Matrix Beaver Triple\n",
    "a, b, c = matrix_triple(x, y, Q)\n",
    "\n",
    "matrix_triple = (a, b, c)\n",
    "print(\"Triple (a,b,c) = \\n\", matrix_triple)"
   ]
  },
  {
   "cell_type": "code",
   "execution_count": 38,
   "metadata": {},
   "outputs": [],
   "source": [
    "# 3 - Secret Share triples\n",
    "a_sh = matrix_share(a, Q, len(parties))\n",
    "b_sh = matrix_share(b, Q, len(parties))\n",
    "c_sh = matrix_share(c, Q, len(parties))"
   ]
  },
  {
   "cell_type": "code",
   "execution_count": 39,
   "metadata": {},
   "outputs": [],
   "source": [
    "def sub(x, y):\n",
    "    \"\"\"Emulates x - y for shared values\"\"\"\n",
    "    \n",
    "    n_party = len(x)\n",
    "    z = [\n",
    "        x[party] - y[party]\n",
    "        for party in range(n_party)\n",
    "    ]\n",
    "        \n",
    "    return z"
   ]
  },
  {
   "cell_type": "code",
   "execution_count": 40,
   "metadata": {},
   "outputs": [
    {
     "name": "stdout",
     "output_type": "stream",
     "text": [
      "epsilon = tensor([[ 4577, 41960,  9431],\n",
      "        [27806, 19624,  7907],\n",
      "        [41952, 22890, 16407],\n",
      "        [54449, 63029, 33393]])\n",
      "delta = tensor([[44230,   775],\n",
      "        [22252, 46174],\n",
      "        [40227, 46801]])\n"
     ]
    }
   ],
   "source": [
    "epsilon = decrypt(sub(x_sh, a_sh), Q)\n",
    "delta = decrypt(sub(y_sh, b_sh), Q)\n",
    "\n",
    "print(\"epsilon =\",epsilon)\n",
    "print(\"delta =\",delta)"
   ]
  },
  {
   "cell_type": "code",
   "execution_count": 41,
   "metadata": {},
   "outputs": [],
   "source": [
    "z_sh = [0] * len(parties) # initialize the shares\n",
    "for party in range(len(parties)):\n",
    "    \n",
    "    z_sh[party] = c_sh[party] + epsilon @ b_sh[party] + a_sh[party] @ delta \n",
    "    \n",
    "    if party == 0: # only add the public value once\n",
    "        z_sh[party] += epsilon @ delta"
   ]
  },
  {
   "cell_type": "code",
   "execution_count": 42,
   "metadata": {},
   "outputs": [
    {
     "data": {
      "text/plain": [
       "tensor([[ 2,  6],\n",
       "        [ 4, 12],\n",
       "        [ 6, 18],\n",
       "        [ 8, 24]])"
      ]
     },
     "execution_count": 42,
     "metadata": {},
     "output_type": "execute_result"
    }
   ],
   "source": [
    "decrypt(z_sh, Q)"
   ]
  },
  {
   "cell_type": "code",
   "execution_count": 43,
   "metadata": {},
   "outputs": [
    {
     "data": {
      "text/plain": [
       "tensor([[ 2,  6],\n",
       "        [ 4, 12],\n",
       "        [ 6, 18],\n",
       "        [ 8, 24]])"
      ]
     },
     "execution_count": 43,
     "metadata": {},
     "output_type": "execute_result"
    }
   ],
   "source": [
    "# Expected:\n",
    "x @ y"
   ]
  },
  {
   "cell_type": "markdown",
   "metadata": {},
   "source": [
    "## Private Multiplication with PySyft\n",
    "As we mentioned in the intro video, Beaver Triples is the backbone of the [SPDZ protocol](https://link.springer.com/chapter/10.1007%2F978-3-642-32009-5_38) which is mostly implemented in [PySyft](https://github.com/OpenMined/PySyft) already. So, we can do private multiplication without having to implement the math from scratch."
   ]
  },
  {
   "cell_type": "code",
   "execution_count": 44,
   "metadata": {},
   "outputs": [],
   "source": [
    "import torch\n",
    "import syft as sy\n",
    "hook = sy.TorchHook(torch)"
   ]
  },
  {
   "cell_type": "code",
   "execution_count": 45,
   "metadata": {},
   "outputs": [],
   "source": [
    "alice = sy.VirtualWorker(hook, id=\"alice\")\n",
    "bob = sy.VirtualWorker(hook, id=\"bob\")\n",
    "# charlie = sy.VirtualWorker(hook, id=\"charlie\")\n",
    "secure_worker = sy.VirtualWorker(hook, \"secure_worker\")"
   ]
  },
  {
   "cell_type": "markdown",
   "metadata": {},
   "source": [
    "### Private Integer Multiplication with PySyft"
   ]
  },
  {
   "cell_type": "code",
   "execution_count": 58,
   "metadata": {},
   "outputs": [],
   "source": [
    "x = torch.tensor([6])\n",
    "y = torch.tensor([8])\n",
    "\n",
    "# And we additive share with our parties\n",
    "x = x.share(alice, bob,  crypto_provider=secure_worker)\n",
    "y = y.share(alice, bob,  crypto_provider=secure_worker) # charlie, only 2 people in pysyft 0.2.x"
   ]
  },
  {
   "cell_type": "code",
   "execution_count": 59,
   "metadata": {},
   "outputs": [
    {
     "name": "stderr",
     "output_type": "stream",
     "text": [
      "d:\\program files\\python\\python37\\tutorial-env\\lib\\site-packages\\syft\\frameworks\\torch\\tensors\\interpreters\\additive_shared.py:122: UserWarning: Use dtype instead of field\n",
      "  warnings.warn(\"Use dtype instead of field\")\n"
     ]
    },
    {
     "data": {
      "text/plain": [
       "(Wrapper)>[AdditiveSharingTensor]\n",
       "\t-> [PointerTensor | me:91924633965 -> alice:70728262199]\n",
       "\t-> [PointerTensor | me:49333075572 -> bob:48338158278]\n",
       "\t*crypto provider: secure_worker*"
      ]
     },
     "execution_count": 59,
     "metadata": {},
     "output_type": "execute_result"
    }
   ],
   "source": [
    "# Compute z = x * y\n",
    "scalar_mul = x * y\n",
    "scalar_mul"
   ]
  },
  {
   "cell_type": "markdown",
   "metadata": {},
   "source": [
    "If we try to look at the result, we can see that our inputs have been scrambled and replaced with pointers and random numbers, just like above."
   ]
  },
  {
   "cell_type": "code",
   "execution_count": 60,
   "metadata": {},
   "outputs": [
    {
     "data": {
      "text/plain": [
       "48"
      ]
     },
     "execution_count": 60,
     "metadata": {},
     "output_type": "execute_result"
    }
   ],
   "source": [
    "decrypted_scalar_mul = scalar_mul.get()\n",
    "decrypted_scalar_mul.item()"
   ]
  },
  {
   "cell_type": "markdown",
   "metadata": {},
   "source": [
    "It works! It may seem like we still need to write a lot of lines but consider that we are simulating four-workers environment where all inputs are hidden. \n",
    "\n",
    "### Private Matrix Multiplication with PySyft\n",
    "\n",
    "Now, lets try something more complicated, like tensor(matrix) multiplication."
   ]
  },
  {
   "cell_type": "code",
   "execution_count": 65,
   "metadata": {},
   "outputs": [],
   "source": [
    "# feel free to play with these values\n",
    "matrix1 = torch.tensor(\n",
    "    [\n",
    "        # 3 x 3\n",
    "        [ 1,   1,  1],\n",
    "        [ 1,   1,  1],\n",
    "        [ 1,   1,  1]\n",
    "    ], dtype=torch.long)\n",
    "\n",
    "matrix2 = torch.tensor(\n",
    "    [\n",
    "        # 3 x 3\n",
    "        [ 0,  -1,  0],\n",
    "        [-1,   5, -1],\n",
    "        [ 0,  -1,  0]\n",
    "    ], dtype=torch.long)\n"
   ]
  },
  {
   "cell_type": "code",
   "execution_count": 66,
   "metadata": {},
   "outputs": [],
   "source": [
    "matrix1 = matrix1.share(alice, bob, crypto_provider=secure_worker)\n",
    "matrix2 = matrix2.share(alice, bob, crypto_provider=secure_worker)"
   ]
  },
  {
   "cell_type": "code",
   "execution_count": 67,
   "metadata": {},
   "outputs": [
    {
     "data": {
      "text/plain": [
       "(Wrapper)>[AdditiveSharingTensor]\n",
       "\t-> [PointerTensor | me:98399545474 -> alice:65720889961]\n",
       "\t-> [PointerTensor | me:46059124347 -> bob:79206153246]\n",
       "\t*crypto provider: secure_worker*"
      ]
     },
     "execution_count": 67,
     "metadata": {},
     "output_type": "execute_result"
    }
   ],
   "source": [
    "tensor_mul = matrix1 * matrix2\n",
    "tensor_mul"
   ]
  },
  {
   "cell_type": "markdown",
   "metadata": {},
   "source": [
    "So far so good..."
   ]
  },
  {
   "cell_type": "code",
   "execution_count": 68,
   "metadata": {},
   "outputs": [
    {
     "data": {
      "text/plain": [
       "tensor([[ 0, -1,  0],\n",
       "        [-1,  5, -1],\n",
       "        [ 0, -1,  0]])"
      ]
     },
     "execution_count": 68,
     "metadata": {},
     "output_type": "execute_result"
    }
   ],
   "source": [
    "decrypted_tensor_mul = tensor_mul.get()\n",
    "decrypted_tensor_mul"
   ]
  },
  {
   "cell_type": "markdown",
   "metadata": {},
   "source": [
    "It also works! Since it works for tensor multiplication it will also work for convolution operations."
   ]
  },
  {
   "cell_type": "markdown",
   "metadata": {},
   "source": [
    "All these operations, like we established on the previous lesson, work over a finite field of integers, but in neural networks and in real life, we use floats! FixedPrecision encoding is how we **fix** that problem, and our next lesson."
   ]
  }
 ],
 "metadata": {
  "kernelspec": {
   "display_name": "Python 3 (ipykernel)",
   "language": "python",
   "name": "python3"
  },
  "language_info": {
   "codemirror_mode": {
    "name": "ipython",
    "version": 3
   },
   "file_extension": ".py",
   "mimetype": "text/x-python",
   "name": "python",
   "nbconvert_exporter": "python",
   "pygments_lexer": "ipython3",
   "version": "3.7.0"
  }
 },
 "nbformat": 4,
 "nbformat_minor": 4
}
