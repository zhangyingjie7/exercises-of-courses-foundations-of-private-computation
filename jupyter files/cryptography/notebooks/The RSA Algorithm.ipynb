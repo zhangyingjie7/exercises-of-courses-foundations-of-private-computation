{
 "cells": [
  {
   "cell_type": "markdown",
   "metadata": {},
   "source": [
    "# The RSA algorithm\n",
    "\n"
   ]
  },
  {
   "cell_type": "markdown",
   "metadata": {},
   "source": [
    "Steps:\n",
    "\n",
    "* generate random primes $p$, $q$.\n",
    "* compute $N$ by multiplying $p$ and $q$.\n",
    "* calculate Euler totient of $N$, $\\phi(N)$. (Check chapter 3, proposition 3.5 of Hoffstein et. al.)\n",
    "* find a random $e$ smaller than $\\phi(N)$ such that they have no common factors (gcd($e$,$\\phi(N)$)=1)\n",
    "* once $e$ is found calculate $d$ as the inverse of $e$ modulo $\\phi(N)$.\n",
    "* The pair ($N$,$e$) is the public key and the pair ($N$,$d$) is the private one.\n"
   ]
  },
  {
   "cell_type": "markdown",
   "metadata": {},
   "source": [
    "## Step 1: Generate two distinct random prime numbers"
   ]
  },
  {
   "cell_type": "code",
   "execution_count": 1,
   "metadata": {},
   "outputs": [
    {
     "name": "stdout",
     "output_type": "stream",
     "text": [
      "p = 63793\n",
      "q = 52747\n"
     ]
    }
   ],
   "source": [
    "from crypto import RandomPrime\n",
    "\n",
    "size_bits = 16\n",
    "\n",
    "p = RandomPrime(size_bits, m=40)\n",
    "q = RandomPrime(size_bits, m=40)\n",
    "\n",
    "while p==q:\n",
    "    p = RandomPrime(size_bits, m=40)\n",
    "\n",
    "print(f\"p = {p}\")\n",
    "print(f\"q = {q}\")"
   ]
  },
  {
   "cell_type": "markdown",
   "metadata": {},
   "source": [
    "## Step 2: Calulate Euler totient\n",
    "\n",
    "**Coprime numbers**: two integer numbers are coprime if their greatest common divisor is 1. I.e. two numbers are coprime if they don't have any common factors.\n",
    "\n",
    "**Euler totient of an integer $N$**: Is the number of positive integers up to $N$ that are coprime to $N$. The Euler totient is commonly represented by the greek symbol $\\phi$.\n",
    "\n",
    "Observation: The Euler totient of a prime number $p$ is $p-1$ as all numbers below $p$ are coprime to it, by definition.\n",
    "\n",
    "Let's calculate the Euler totient of $p*q$\n",
    "\n",
    "* $\\phi(N)=\\phi(p*q)=\\phi(p)*\\phi(q)$ since $p$ and $q$ are coprimes\n",
    "* $\\phi(N)=(p-1)*(q-1)$ (by the observation above)"
   ]
  },
  {
   "cell_type": "code",
   "execution_count": 2,
   "metadata": {},
   "outputs": [
    {
     "name": "stdout",
     "output_type": "stream",
     "text": [
      "N = 3364889371\n",
      "phi = 3364772832\n"
     ]
    }
   ],
   "source": [
    "N = p*q\n",
    "phi = (p - 1)*(q - 1)\n",
    "\n",
    "print(f\"N = {N}\")\n",
    "print(f\"phi = {phi}\")"
   ]
  },
  {
   "cell_type": "markdown",
   "metadata": {},
   "source": [
    "## Step 3: Find e\n",
    "\n",
    "$e$ is a random number that is coprime with $\\phi(N)$"
   ]
  },
  {
   "cell_type": "code",
   "execution_count": 3,
   "metadata": {},
   "outputs": [
    {
     "name": "stdout",
     "output_type": "stream",
     "text": [
      "e = 2715087725\n"
     ]
    }
   ],
   "source": [
    "from crypto import xgcd\n",
    "from random import randrange\n",
    "\n",
    "while True:\n",
    "    e = randrange(2, phi-1)\n",
    "    g, _, _ = xgcd(e, phi)\n",
    "    \n",
    "    if g==1:\n",
    "        break\n",
    "print(f\"e = {e}\")"
   ]
  },
  {
   "cell_type": "code",
   "execution_count": 4,
   "metadata": {},
   "outputs": [
    {
     "name": "stdout",
     "output_type": "stream",
     "text": [
      "d (e inverse mod phi) is 1131233669\n"
     ]
    }
   ],
   "source": [
    "from crypto import InverseMod\n",
    "\n",
    "d = InverseMod(e, phi)\n",
    "print(f\"d (e inverse mod phi) is {d}\")"
   ]
  },
  {
   "cell_type": "code",
   "execution_count": 5,
   "metadata": {},
   "outputs": [
    {
     "name": "stdout",
     "output_type": "stream",
     "text": [
      "p = 63793\n",
      "q = 52747\n",
      "N = 3364889371\n",
      "phi = 3364772832\n",
      "e = 2715087725\n",
      "d = 1131233669\n"
     ]
    }
   ],
   "source": [
    "print(f\"p = {p}\")\n",
    "print(f\"q = {q}\")\n",
    "print(f\"N = {N}\")\n",
    "print(f\"phi = {phi}\")\n",
    "print(f\"e = {e}\")\n",
    "print(f\"d = {d}\")"
   ]
  },
  {
   "cell_type": "markdown",
   "metadata": {},
   "source": [
    "The public key is the tuple ($N$, $e$) and the private key ($N$, $d$). \n",
    "\n",
    "\n",
    "## Encryption\n",
    "\n",
    "A message $m$ is an integer in the range of 0 to $N-1$. Anyone can encrypt a message using the public key ($N$, $e$). The encryption function is:\n",
    "\n",
    "$$c = m^e \\textit{(mod N)}$$\n",
    "\n",
    "where $c$ is the ciphertext computed."
   ]
  },
  {
   "cell_type": "code",
   "execution_count": 6,
   "metadata": {},
   "outputs": [
    {
     "name": "stdout",
     "output_type": "stream",
     "text": [
      "message: 1776531860\n",
      "ciphertext: 2785170554\n"
     ]
    }
   ],
   "source": [
    "m = randrange(0, N-1)\n",
    "c = pow(m, e, N)\n",
    "\n",
    "print(f\"message: {m}\")\n",
    "print(f\"ciphertext: {c}\")"
   ]
  },
  {
   "cell_type": "markdown",
   "metadata": {},
   "source": [
    "## Decryption\n",
    "\n",
    "The decryption of the ciphertext can be done using only the private key ($N$, $d$):\n",
    "\n",
    "$$m=c^{d} \\textit{mod N}$$\n",
    "\n",
    "We can check that the equation gives back the original message:\n",
    "\n",
    "$$c^{d} \\textit{mod N}=m^{d*e}\\textit{mod N}=m \\textit{mod N}$$\n",
    "\n",
    "q.e.d."
   ]
  },
  {
   "cell_type": "code",
   "execution_count": 7,
   "metadata": {},
   "outputs": [
    {
     "name": "stdout",
     "output_type": "stream",
     "text": [
      "recovered message: 1776531860\n"
     ]
    }
   ],
   "source": [
    "m2 = pow(c, d, N)\n",
    "print(f\"recovered message: {m2}\")"
   ]
  },
  {
   "cell_type": "markdown",
   "metadata": {},
   "source": [
    "# A nice implementation\n",
    "\n",
    "For convenience we set up three functions for key generation, encryption and decryption"
   ]
  },
  {
   "cell_type": "code",
   "execution_count": 8,
   "metadata": {},
   "outputs": [],
   "source": [
    "from typing import Tuple\n",
    "\n",
    "def RSAKeyGenerator(size_bits: int=16) -> (Tuple[int, int], Tuple[int, int]):\n",
    "    '''\n",
    "    RSA key generation. Generates public and\n",
    "    private keys in RSA protocol\n",
    "    Input:\n",
    "        size_bits: size in bits of the field\n",
    "    Output:\n",
    "        PublicKey: (N, e)\n",
    "        PrivateKey: (N, d)\n",
    "    '''\n",
    "\n",
    "    # Generate two random primes of n bits\n",
    "    p = RandomPrime(size_bits, m=40)\n",
    "    q = RandomPrime(size_bits, m=40)\n",
    "\n",
    "    # p and q must be different primes\n",
    "    while p==q:\n",
    "        q = RandomPrime(size_bits, m=40)  \n",
    "\n",
    "    N = p*q\n",
    "    phi = (p - 1)*(q - 1)\n",
    "    \n",
    "    while True:\n",
    "        e = randrange(2, phi - 1)\n",
    "        g, _, _ = xgcd(e, phi)\n",
    "        if g==1:\n",
    "            d = InverseMod(e, phi)\n",
    "            # return public and private keys\n",
    "            return (N, e), (N, d)\n",
    "\n",
    "def RSAEncrypt(m: int, PublicKey: Tuple[int]) -> int:\n",
    "    '''\n",
    "    Encrypts a message m using the RSA public key\n",
    "    Input:\n",
    "        m: message (An integer message)\n",
    "        PublicKey: A tuple (N, e)\n",
    "    Returns:\n",
    "        c: Encrypted message\n",
    "    '''\n",
    "    N, e = PublicKey[0], PublicKey[1]\n",
    "    return pow(m, e, N)\n",
    "\n",
    "def RSADecrypt(c: int, PrivateKey: Tuple[int]) -> int:\n",
    "    '''\n",
    "    Decrcypts the ciphertext c using the private key\n",
    "    Input:\n",
    "        c: Encrypted message\n",
    "        PrivateKey: A tuple (N, d)\n",
    "    Returns:\n",
    "        m: Decrypted message\n",
    "    '''\n",
    "    N, d = PrivateKey[0], PrivateKey[1]\n",
    "    return pow(c, d, N)\n"
   ]
  },
  {
   "cell_type": "markdown",
   "metadata": {},
   "source": [
    "## A more practical usage\n",
    "\n",
    "Bob wants to receive encrypted messages from anyone who wants to comunicate with him. So he has to generate a private key and a public key and keep the first one secret whilst publish the second so that anyone can use it. Bob generates public/private key pairs of 128 bits (16 bytes)"
   ]
  },
  {
   "cell_type": "code",
   "execution_count": 9,
   "metadata": {},
   "outputs": [
    {
     "name": "stdout",
     "output_type": "stream",
     "text": [
      "Public Key: (79479434046995826878295762812027356249305668084788998603418378322714937953093, 34875468403472647227928554548526836728458073640221712751184485531673623882757)\n",
      "\n",
      "Private Key: (79479434046995826878295762812027356249305668084788998603418378322714937953093, 447958657454322256441397362843521075977314212047722093789978847830939750093)\n",
      "\n"
     ]
    }
   ],
   "source": [
    "size_bits = 128\n",
    "\n",
    "PublicKey, PrivateKey = RSAKeyGenerator(size_bits)\n",
    "\n",
    "print(f\"Public Key: {PublicKey}\\n\")\n",
    "print(f\"Private Key: {PrivateKey}\\n\")"
   ]
  },
  {
   "cell_type": "markdown",
   "metadata": {},
   "source": [
    "Alice receives the public key and decides to send an encrypted message to Bob."
   ]
  },
  {
   "cell_type": "code",
   "execution_count": 10,
   "metadata": {},
   "outputs": [
    {
     "name": "stdout",
     "output_type": "stream",
     "text": [
      "message: b'A short message'\n",
      "Message length in bytes 15\n"
     ]
    }
   ],
   "source": [
    "m = b\"A short message\"\n",
    "print(f\"message: {m}\")\n",
    "\n",
    "assert 8*len(m)<size_bits, f\"Message too large to encrypt in one block\"\n",
    "\n",
    "print(f\"Message length in bytes {len(m)}\")"
   ]
  },
  {
   "cell_type": "code",
   "execution_count": 11,
   "metadata": {},
   "outputs": [
    {
     "name": "stdout",
     "output_type": "stream",
     "text": [
      "message in integer form 338157476471942069041977834833274725\n",
      "ciphertext in integer form 42829252311466888064127409078282080238915986973287158381529123368035003537238\n"
     ]
    }
   ],
   "source": [
    "m_int = int.from_bytes(m, \"big\")\n",
    "print(f\"message in integer form {m_int}\")\n",
    "\n",
    "c_int = RSAEncrypt(m_int, PublicKey)\n",
    "print(f\"ciphertext in integer form {c_int}\")"
   ]
  },
  {
   "cell_type": "markdown",
   "metadata": {},
   "source": [
    "Bob receives the encrypted ciphertext (can be in integer, binary, whatever...) and decrypts to the original message"
   ]
  },
  {
   "cell_type": "code",
   "execution_count": 12,
   "metadata": {},
   "outputs": [
    {
     "name": "stdout",
     "output_type": "stream",
     "text": [
      "message decrypted in integer form 338157476471942069041977834833274725\n"
     ]
    }
   ],
   "source": [
    "m_int_recovered = RSADecrypt(c_int, PrivateKey)\n",
    "print(f\"message decrypted in integer form {m_int_recovered}\")\n",
    "assert m_int==m_int_recovered"
   ]
  },
  {
   "cell_type": "code",
   "execution_count": 13,
   "metadata": {},
   "outputs": [
    {
     "name": "stdout",
     "output_type": "stream",
     "text": [
      "message decrypted:\n",
      "\tb'A short message'\n"
     ]
    }
   ],
   "source": [
    "m_recovered = m_int_recovered.to_bytes(len(m), 'big')\n",
    "print(f\"message decrypted:\\n\\t{m_recovered}\")"
   ]
  },
  {
   "cell_type": "markdown",
   "metadata": {},
   "source": [
    "This works well for short messages but if we have a long message we would need to chunk the message into bytes the size of the public key $N$ and pad as we were doing in block ciphers. Note however that the RSA is much more computationally expensive than AES so one might prefer to encrypt a long message using AES and sending the key through RSA."
   ]
  },
  {
   "cell_type": "markdown",
   "metadata": {},
   "source": [
    "# Trying to break the RSA\n",
    "\n",
    "How can we break the cipher?. An attacker only knows the public key ($N$, $e$) and at most he can compute a message and its encryption $m$, $c$. His objective is to find either $d$ or the prime numbers $p$ and $q$."
   ]
  },
  {
   "cell_type": "code",
   "execution_count": 14,
   "metadata": {},
   "outputs": [
    {
     "name": "stdout",
     "output_type": "stream",
     "text": [
      "Public Key: (2533390241, 1107900617)\n",
      "\n",
      "Private Key: (2533390241, 2412188033)\n",
      "\n"
     ]
    }
   ],
   "source": [
    "size_bits = 16\n",
    "\n",
    "PublicKey, PrivateKey = RSAKeyGenerator(size_bits)\n",
    "\n",
    "print(f\"Public Key: {PublicKey}\\n\")\n",
    "print(f\"Private Key: {PrivateKey}\\n\")"
   ]
  },
  {
   "cell_type": "markdown",
   "metadata": {},
   "source": [
    "## Factor N: find p and q\n",
    "\n",
    "If we find $p$ and $q$ we can immediately calculate $\\phi(N)$ and therefore $d$ by computing the inverse of $e$ modulo $\\phi(N)$. How can we calculate efficiently a factor of $N$? There are better algorithms than random guessing, for instance the Pollard's Rho algorithm."
   ]
  },
  {
   "cell_type": "code",
   "execution_count": 15,
   "metadata": {},
   "outputs": [],
   "source": [
    "def PollardRho(N):\n",
    " \n",
    "    # no prime divisor for 1 \n",
    "    if (N == 1):\n",
    "        return n\n",
    " \n",
    "    # even number means one of the divisors is 2 \n",
    "    if (N % 2 == 0):\n",
    "        return 2\n",
    " \n",
    "    # we will pick from the range [2, N) \n",
    "    x = randrange(2, N)#(random.randint(0, 2) % (n - 2))\n",
    "    y = x\n",
    " \n",
    "    # the constant in f(x).\n",
    "    # Algorithm can be re-run with a different c\n",
    "    # if it throws failure for a composite. \n",
    "    c = randrange(0, 2)#(random.randint(0, 1) % (n - 1))\n",
    " \n",
    "    # Initialize candidate divisor (or result) \n",
    "    d = 1\n",
    "    while (d == 1): \n",
    "        x = (pow(x, 2, N) + c + N)%N\n",
    "        y = (pow(y, 2, N) + c + N)%N\n",
    "        y = (pow(y, 2, N) + c + N)%N\n",
    "        d, _, _ = xgcd(abs(x - y), N)\n",
    "        if (d == N):\n",
    "            return PollardRho(N)\n",
    "     \n",
    "    return d"
   ]
  },
  {
   "cell_type": "code",
   "execution_count": 16,
   "metadata": {},
   "outputs": [
    {
     "name": "stdout",
     "output_type": "stream",
     "text": [
      "2533390241 2533390241\n"
     ]
    }
   ],
   "source": [
    "N = PublicKey[0]\n",
    "\n",
    "p2 = PollardRho(N)\n",
    "q2 = N//p2\n",
    "print(N, p2*q2)"
   ]
  },
  {
   "cell_type": "code",
   "execution_count": 17,
   "metadata": {},
   "outputs": [
    {
     "name": "stdout",
     "output_type": "stream",
     "text": [
      "39383 64327\n"
     ]
    }
   ],
   "source": [
    "print(p2, q2)"
   ]
  },
  {
   "cell_type": "markdown",
   "metadata": {},
   "source": [
    "To date the most efficient classical algorithm to find a factor runs in sub-exponential time:\n",
    "\n",
    "$$\\mathcal{O}(e^{1.9*\\log(N)^{1/3}\\log \\log (N) ^{2/3}})$$\n",
    "\n",
    "The Shorr algorithm is much faster but relies on quantum computing. But don't worry, before quantum computers become a widely used reserchers have already invented post-quantum cryptography. This cryptography relies on different problems to solve on more complex algebras like lattices."
   ]
  },
  {
   "cell_type": "code",
   "execution_count": null,
   "metadata": {},
   "outputs": [],
   "source": []
  }
 ],
 "metadata": {
  "kernelspec": {
   "display_name": "Python 3",
   "language": "python",
   "name": "python3"
  },
  "language_info": {
   "codemirror_mode": {
    "name": "ipython",
    "version": 3
   },
   "file_extension": ".py",
   "mimetype": "text/x-python",
   "name": "python",
   "nbconvert_exporter": "python",
   "pygments_lexer": "ipython3",
   "version": "3.6.7"
  }
 },
 "nbformat": 4,
 "nbformat_minor": 4
}
