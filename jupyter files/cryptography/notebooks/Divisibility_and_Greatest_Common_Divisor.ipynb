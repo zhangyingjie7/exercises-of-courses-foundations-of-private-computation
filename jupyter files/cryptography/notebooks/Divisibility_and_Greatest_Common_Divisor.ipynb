{
 "cells": [
  {
   "cell_type": "markdown",
   "metadata": {},
   "source": [
    "# Divisibility and the Greatest Common Divisor\n",
    "\n",
    "In this notebook we will learn what means dividibility in number theory and we will define the greatest common divisor in between to positive integers.\n",
    "\n",
    "# Table of contents:\n",
    "\n",
    "* [Divisibility: Definition](#divisibility)\n",
    "* [Common divisor of two integers](#common-divisor)\n",
    "* [The greatest common divisor: GCD](#g-common-divisor)\n",
    "    * [The Euclidean algorithm to find the GCD](#euclidean-algo)\n",
    "    * [The extended Euclidean algorithm XGCD](#x-euclidean-algo)\n",
    "* [Using XGCD to find inverses modulo product](#x-euclidean-algo-inv)\n",
    "\n",
    "    \n",
    "Author: [Sebastià Agramunt Puig](https://github.com/sebastiaagramunt) for [OpenMined](https://www.openmined.org/) Privacy ML Series course.\n"
   ]
  },
  {
   "cell_type": "markdown",
   "metadata": {},
   "source": [
    "## Divisibility: Definition <a class=\"anchor\" id=\"divisibility\"></a>\n",
    "\n",
    "Let $a$ and $b$ be integers with $b!=0$. We say that $b$ **divides** $a$, if there is an integer $c$ such that $a=bc$.\n",
    "\n",
    "E.g. 2 divides 8 because $c$=4 as 4*2 is 8\n",
    "\n",
    "\n",
    "\n",
    "Let **a** and **b** be positive integers. Then we say that *a divided by b has quotient q and remainder r* if $a=bq+r$ with $0\\leq r < b$.\n",
    "\n",
    "## Common divisor of two integers <a class=\"anchor\" id=\"common-divisor\"></a>\n",
    "\n",
    "A **common divisor** of two integers $a$ and $b$ is a positive integer $d$ that divides both of them. Let's code a naïve algorithm to find the greatest common divisor!"
   ]
  },
  {
   "cell_type": "code",
   "execution_count": 1,
   "metadata": {},
   "outputs": [
    {
     "name": "stdout",
     "output_type": "stream",
     "text": [
      "[1, 2, 4, 8, 11, 22, 23, 44, 46, 88, 92, 184, 253, 506, 1012]\n",
      "[1, 2, 4, 11, 17, 22, 34, 44, 68, 187, 374]\n"
     ]
    }
   ],
   "source": [
    "from typing import List\n",
    "\n",
    "def divisors(a: int)-> List[int]:\n",
    "    div = []\n",
    "    for i in range(1, a):\n",
    "        if a%i==0:\n",
    "            div.append(i)\n",
    "    return div\n",
    "    \n",
    "print(divisors(2024))\n",
    "print(divisors(748))"
   ]
  },
  {
   "cell_type": "markdown",
   "metadata": {},
   "source": [
    "The common numbers in the two lists are common divisors of both $a$ and $b$."
   ]
  },
  {
   "cell_type": "markdown",
   "metadata": {},
   "source": [
    "## The greatest common divisor <a class=\"anchor\" id=\"g-common-divisor\"></a>\n",
    "\n",
    "For all the common divisors of to integer numbers $a$ and $b$, the greatest number that divides both at the same time. I.e. write all the common divisors for $a$ and $b$ (the two lists) and pick the greatest common number."
   ]
  },
  {
   "cell_type": "code",
   "execution_count": 2,
   "metadata": {},
   "outputs": [
    {
     "data": {
      "text/plain": [
       "44"
      ]
     },
     "execution_count": 2,
     "metadata": {},
     "output_type": "execute_result"
    }
   ],
   "source": [
    "def gcd(a: int, b: int ) -> int:\n",
    "    div_a = divisors(a)\n",
    "    div_b = divisors(b)\n",
    "    \n",
    "    i = len(div_a)-1\n",
    "    j = len(div_b)-1\n",
    "    \n",
    "    while i>=0 and j>=0:\n",
    "        if div_a[i]==div_b[j]:\n",
    "            return div_a[i]\n",
    "        if div_a[i]<div_b[j]:\n",
    "            j-=1\n",
    "        else:\n",
    "            i-=1\n",
    "    \n",
    "    \n",
    "gcd(2024, 748)"
   ]
  },
  {
   "cell_type": "markdown",
   "metadata": {},
   "source": [
    "### Finding the greatest common divisor using the Euclidean altorithm <a class=\"anchor\" id=\"euclidean-algo\"></a>\n",
    "\n",
    "Let $a$ and $b$ be positive integers with $a>b$. The following is the **euclidean algorithm** to calculate the greatest common divisor of $a$ and $b$ (i.e. the largest number that divides both). \n",
    "\n",
    "1. Let $r_0=a$ and $r_1=b$.\n",
    "3. Divide $r_0$ by $r_1$ to get the new reminder $r_{-}$.\n",
    "4. If $r_{-}=0$ then $r_1$ is the greatest common divisor.\n",
    "5. Otherwise set $r_0$ to $r_1$ and $r_1$ to $r_{-}$ and go to step 2\n",
    "\n",
    "Let's do an example:\n",
    "\n",
    "Find the greatest common divisor of 2024 and 748. We use the Euclidean algorithm with the following steps\n",
    "\n",
    "| # step | r0   | r1  | r0//r1 | r_=r0%r1 |\n",
    "|--------|------|-----|--------|----------|\n",
    "| 0      | 2024 | 748 | 2      | 528      |\n",
    "| 1      | 748  | 528 | 1      | 220      |\n",
    "| 2      | 528  | 220 | 2      | 88       |\n",
    "| 3      | 220  | 88  | 2      | 44       |\n",
    "| 4      | 88   | 44  | 2      | 0        |\n",
    "\n",
    "\n",
    "\n",
    "Here's the code for this"
   ]
  },
  {
   "cell_type": "code",
   "execution_count": 3,
   "metadata": {},
   "outputs": [
    {
     "data": {
      "text/plain": [
       "44"
      ]
     },
     "execution_count": 3,
     "metadata": {},
     "output_type": "execute_result"
    }
   ],
   "source": [
    "def gcd(a:int, b:int)-> int:\n",
    "    r0, r1 = (a, b) if a>b else (b, a)\n",
    "    \n",
    "    while r1!=0:\n",
    "        r_ = r0%r1\n",
    "        if r_==0:\n",
    "            return r1\n",
    "        else:\n",
    "            r0, r1 = r1, r_\n",
    "\n",
    "gcd(2024, 748)"
   ]
  },
  {
   "cell_type": "markdown",
   "metadata": {},
   "source": [
    "More info on the GCD and the Euclidean algorithm can be found [here](https://en.wikipedia.org/wiki/Euclidean_algorithm). Also in the book [An introduction to mathematical cryptography](https://www.springer.com/gp/book/9781441926746) in page 13. \n",
    "\n",
    "### The Extended Euclidean Algorithm <a class=\"anchor\" id=\"x-euclidean-algo\">\n",
    "\n",
    "A better way to calculate the the greatest common divisor is using the extended Euclidean algorithm (xgcd). This algorithm will help us calculate inverses in the modulo product.\n",
    "\n",
    "Let $a$ and $b$ be positive integers, then the equation\n",
    "\n",
    "$$au+bv=gcd(a,b)$$\n",
    "\n",
    "has a solution in $u$ and $v$. You can find a nice implementation of the xgcd [here](https://en.wikipedia.org/wiki/Extended_Euclidean_algorithm)."
   ]
  },
  {
   "cell_type": "code",
   "execution_count": 4,
   "metadata": {},
   "outputs": [],
   "source": [
    "def xgcd(a, b):\n",
    "    # Solving equation au+bv=gcd(a,b)\n",
    "    # result is: (g,u,v) where g is greatest common divisor and u,v the solution of the eq above\n",
    "    u0, u1, v0, v1 = 0, 1, 1, 0\n",
    "    while a != 0:\n",
    "        q, b, a = b // a, a, b % a\n",
    "        v0, v1 = v1, v0 - q * v1\n",
    "        u0, u1 = u1, u0 - q * u1\n",
    "    return b, u0, v0"
   ]
  },
  {
   "cell_type": "code",
   "execution_count": 5,
   "metadata": {},
   "outputs": [
    {
     "name": "stdout",
     "output_type": "stream",
     "text": [
      "au+bv=gcd(a,b)\n",
      "\n",
      "(a,b) = (16261,85652)\n",
      "(g, u, v) = (161, -79, 15)\n",
      "\n",
      "therefore the equation holds:\n",
      "16261u+85652v=161\n",
      "\n",
      "Left hand side a*u+b*v=161\n",
      "Right hand side gcd(a,b)=161\n"
     ]
    }
   ],
   "source": [
    "a = 16261\n",
    "b = 85652\n",
    "g, u, v = xgcd(a,b)\n",
    "\n",
    "print(f\"au+bv=gcd(a,b)\\n\")\n",
    "print(f\"(a,b) = ({a},{b})\")\n",
    "print(f\"(g, u, v) = ({g}, {u}, {v})\\n\")\n",
    "print(\"therefore the equation holds:\")\n",
    "print(f\"{a}u+{b}v={g}\\n\")\n",
    "print(f\"Left hand side a*u+b*v={a*u+b*v}\")\n",
    "print(f\"Right hand side gcd(a,b)={g}\")\n",
    "\n",
    "\n",
    "assert int(a*u+b*v)==g, \"Warning, something is wrong!. g, u, v does not match the equation!\""
   ]
  },
  {
   "cell_type": "code",
   "execution_count": 6,
   "metadata": {},
   "outputs": [
    {
     "data": {
      "text/plain": [
       "161"
      ]
     },
     "execution_count": 6,
     "metadata": {},
     "output_type": "execute_result"
    }
   ],
   "source": [
    "16261*-79+15*85652"
   ]
  },
  {
   "cell_type": "code",
   "execution_count": 7,
   "metadata": {},
   "outputs": [
    {
     "data": {
      "text/plain": [
       "(44, -7, 19)"
      ]
     },
     "execution_count": 7,
     "metadata": {},
     "output_type": "execute_result"
    }
   ],
   "source": [
    "xgcd(2024, 748)"
   ]
  },
  {
   "cell_type": "markdown",
   "metadata": {},
   "source": [
    "## Using the XGCD algorithm to find inverses on product <a class=\"anchor\" id=\"x-euclidean-algo-inv\">\n",
    "\n",
    "We want to find the inverse $u$ of an arbitrary number $a<m$ in the product modulo $m$, therefore\n",
    "\n",
    "$$a u=1 \\textrm{ (mod m)}$$\n",
    "\n",
    "Let's take the $gcd(a, m)=d$\n",
    "\n",
    "$$a u=1+m y$$\n",
    "\n",
    "for some $y$ to be found. Rearranging the previous equation.\n",
    "\n",
    "$$a u-m y=1$$\n",
    "\n",
    "We divide now $d$ to both sides of the previous equation. Since $d$ is a common factor for $a$ and $m$ we know that the left hand side is an integer, but the right hand side would be a real number, therefore $d$ has to be 1.\n",
    "\n",
    "Therefore, **$a$ moudulo $m$ has an inverse in multiplication if and only if gcd($a$,$m$)=1.**\n",
    "\n",
    "We can use the extended euclidean algorithm to find the inverse modulo $m$ for an integer $a$. Since we know that gcd($a$, $m$)=1, we can write\n",
    "\n",
    "$$au+mv=gcd(a,m)=1$$\n",
    "\n",
    "This means that\n",
    "\n",
    "$$au-1=-mv$$\n",
    "\n",
    "And if we apply the modulo $m$ to both sides we get\n",
    "\n",
    "$$au-1=0 \\textrm{ (mod m)}$$\n",
    "\n",
    "or\n",
    "\n",
    "$$au=1 \\textrm{ (mod m)}$$\n",
    "\n",
    "and therefore $u$ is the inverse of $a$ in modulo $m$."
   ]
  },
  {
   "cell_type": "code",
   "execution_count": 8,
   "metadata": {},
   "outputs": [
    {
     "name": "stdout",
     "output_type": "stream",
     "text": [
      "m=7, a=4, a_=2\n",
      "4*2 (mod 7) = 1\n"
     ]
    }
   ],
   "source": [
    "def InverseMod(a: int, m: int) -> int:\n",
    "    g, u, _ = xgcd(a, m)\n",
    "    if g!=1:\n",
    "        print(f\"{a} has no inverse modulo {m} in multiplication\")\n",
    "        return None\n",
    "    return u%m\n",
    "\n",
    "m = 7\n",
    "a = 4\n",
    "\n",
    "a_ = InverseMod(a, m)\n",
    "print(f\"m={m}, a={a}, a_={a_}\")\n",
    "print(f\"{a}*{a_} (mod {m}) = {(a*a_)%m}\")\n"
   ]
  },
  {
   "cell_type": "markdown",
   "metadata": {},
   "source": [
    "* $a$ has an inverse modulo $m$ if $a$ and $m$ don't have a common divisor (gcd(a,m)=1)\n",
    "* if $m$ is prime ($p$), gcd($a$,$p$)=1 if $a$<$p$. \n",
    "\n",
    "If $m$=$p$, a prime number, then ($G$, $\\times$) is an abelian (commutative) a group."
   ]
  },
  {
   "cell_type": "code",
   "execution_count": null,
   "metadata": {},
   "outputs": [],
   "source": []
  }
 ],
 "metadata": {
  "kernelspec": {
   "display_name": "Python 3",
   "language": "python",
   "name": "python3"
  },
  "language_info": {
   "codemirror_mode": {
    "name": "ipython",
    "version": 3
   },
   "file_extension": ".py",
   "mimetype": "text/x-python",
   "name": "python",
   "nbconvert_exporter": "python",
   "pygments_lexer": "ipython3",
   "version": "3.6.7"
  }
 },
 "nbformat": 4,
 "nbformat_minor": 4
}
