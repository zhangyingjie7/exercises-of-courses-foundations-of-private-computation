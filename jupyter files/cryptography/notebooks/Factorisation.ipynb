{
 "cells": [
  {
   "cell_type": "markdown",
   "metadata": {},
   "source": [
    "Author: [Sebastià Agramunt Puig](https://github.com/sebastiaagramunt) for [OpenMined](https://www.openmined.org/) Privacy ML Series course.\n",
    "\n",
    "# Factorisation of composite numbers\n",
    "\n",
    "Composite numbers are numbers that are not prime and thus can be factored as a unique product of primes. Here we'll see how. First, import the Miller-Rabin primality testing, the extended euclidean algorithm and the sieve of Eratosthenes."
   ]
  },
  {
   "cell_type": "code",
   "execution_count": 1,
   "metadata": {},
   "outputs": [],
   "source": [
    "from random import randrange\n",
    "\n",
    "def xgcd(a, b):\n",
    "    # Solving equation au+bv=gcd(a,b)\n",
    "    # result is: (g,u,v) where g is greatest common divisor and u,v the solution of the eq above\n",
    "    u0, u1, v0, v1 = 0, 1, 1, 0\n",
    "    while a != 0:\n",
    "        q, b, a = b // a, a, b % a\n",
    "        v0, v1 = v1, v0 - q * v1\n",
    "        u0, u1 = u1, u0 - q * u1\n",
    "    return b, u0, v0\n",
    "\n",
    "def PrimesSieveEratosthenes(limit: int):\n",
    "    a = [True]*limit\n",
    "    a[0] = a[1] = False\n",
    "    for i, isprime in enumerate(a):\n",
    "        if isprime:\n",
    "            yield i\n",
    "            for n in range(i*i, limit, i):\n",
    "                a[n] = False\n",
    "\n",
    "def isWitness(a: int, n: int, q: int, k: int) -> bool:\n",
    "    x = pow(a, q, n)\n",
    "    if x==1:\n",
    "        return False\n",
    "    for _ in range(k):\n",
    "        if (x+1)%n == 0:\n",
    "            return False\n",
    "        x = pow(x, 2, n)\n",
    "    return True\n",
    "\n",
    "def isPrime(n: int, r: int) -> bool:\n",
    "    # Miller-Rabin primality testing.\n",
    "    # n: number to test primality\n",
    "    # r: times to run the test\n",
    "    if n<2:\n",
    "        return False\n",
    "    if n==2:\n",
    "        return True\n",
    "    if n%2==0:\n",
    "        return False\n",
    "    \n",
    "    q = n-1\n",
    "    k = 0\n",
    "    while q%2 == 0:\n",
    "        q = q//2\n",
    "        k += 1\n",
    "        \n",
    "    assert n-1==pow(2, k)*q\n",
    "    \n",
    "    for _ in range(r):\n",
    "        a = randrange(2, n)\n",
    "        if isWitness(a, n, q, k):\n",
    "            return False\n",
    "    return True\n",
    "    "
   ]
  },
  {
   "cell_type": "code",
   "execution_count": null,
   "metadata": {},
   "outputs": [],
   "source": []
  },
  {
   "cell_type": "markdown",
   "metadata": {},
   "source": [
    "## Brute force factorisation\n",
    "\n",
    "A simple approach... brute force!"
   ]
  },
  {
   "cell_type": "code",
   "execution_count": 2,
   "metadata": {},
   "outputs": [],
   "source": [
    "from typing import List\n",
    "SMALL_PRIMES = list(PrimesSieveEratosthenes(500000))\n",
    "\n",
    "def BruteForceFactorisation(n: int, primes: List[int]=SMALL_PRIMES):\n",
    "    if isPrime(n, 40):\n",
    "        return [n], [1]\n",
    "    \n",
    "    factors = []\n",
    "    reps = []\n",
    "    \n",
    "    for prime in primes:\n",
    "        if n%prime==0:\n",
    "            factors.append(prime)\n",
    "            reps.append(0)\n",
    "            while n%prime==0:\n",
    "                n //= prime\n",
    "                reps[-1]+=1\n",
    "    assert n==1, \"Cannot factor, primes list is too short\"\n",
    "    return factors, reps"
   ]
  },
  {
   "cell_type": "code",
   "execution_count": 7,
   "metadata": {},
   "outputs": [
    {
     "name": "stdout",
     "output_type": "stream",
     "text": [
      "[5, 257] [1, 1]\n"
     ]
    }
   ],
   "source": [
    "facts, reps = BruteForceFactorisation(1285)\n",
    "\n",
    "print(facts, reps)"
   ]
  },
  {
   "cell_type": "code",
   "execution_count": 6,
   "metadata": {},
   "outputs": [
    {
     "name": "stdout",
     "output_type": "stream",
     "text": [
      "285\n"
     ]
    }
   ],
   "source": [
    "n = 1\n",
    "for p, r in zip(facts, reps):\n",
    "    n*=p**r\n",
    "    \n",
    "print(n)"
   ]
  },
  {
   "cell_type": "code",
   "execution_count": null,
   "metadata": {},
   "outputs": [],
   "source": []
  }
 ],
 "metadata": {
  "kernelspec": {
   "display_name": "Python 3",
   "language": "python",
   "name": "python3"
  },
  "language_info": {
   "codemirror_mode": {
    "name": "ipython",
    "version": 3
   },
   "file_extension": ".py",
   "mimetype": "text/x-python",
   "name": "python",
   "nbconvert_exporter": "python",
   "pygments_lexer": "ipython3",
   "version": "3.6.7"
  }
 },
 "nbformat": 4,
 "nbformat_minor": 4
}
