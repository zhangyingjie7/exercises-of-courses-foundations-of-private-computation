{
 "cells": [
  {
   "cell_type": "markdown",
   "id": "distinct-richards",
   "metadata": {},
   "source": [
    "# Table of contents:\n",
    "\n",
    "* [Elgamal cryptosystem](#elgamal)\n",
    "    * [Key Generation](#keygeneration)\n",
    "    * [Encryption function](#encryption)\n",
    "    * [Decryption function](#decryption)\n",
    "* [What's the difficulty to break Elgamal?](#break)\n",
    "    * [Cracking Elgamal by brute force](#bruteforce)\n",
    "    * [Known ciphertext attack](#kca)\n",
    "    \n",
    "Author: [Sebastià Agramunt Puig](https://github.com/sebastiaagramunt) for [OpenMined](https://www.openmined.org/) Privacy ML Series course.\n",
    "\n",
    "\n",
    "# ElGamal Cryptosystem <a class=\"anchor\" id=\"elgamal\"></a>\n",
    "\n",
    "It is one of the most comprehensible public key cryptosystems out there. It was initially described by [Taher Elgamal](https://en.wikipedia.org/wiki/Taher_Elgamal) in 1985 and is based of the hardness of the discrete logarithm problem. In this notebook we will define here the key generation, the encrytpion function and the decryption function. Then we will try to crack the ElGamal using a brute force approach and a known ciphertext attack."
   ]
  },
  {
   "cell_type": "markdown",
   "id": "quiet-bangladesh",
   "metadata": {},
   "source": [
    "## Key Generation <a class=\"anchor\" id=\"keygeneration\"></a>\n",
    "\n",
    "Steps:\n",
    "\n",
    "* A trusted party chooses a prime number $p$ and an element of the field $g$ (of large order, ideally a generator).\n",
    "* The party that generates the keys draws a private key $a$<$p$ and computes $A=g^a (\\text{mod }p)$. Publishes $A$ as the public key\n",
    "\n",
    "The public key is $A$ and the private key $a$."
   ]
  },
  {
   "cell_type": "code",
   "execution_count": 1,
   "id": "civil-america",
   "metadata": {},
   "outputs": [
    {
     "name": "stdout",
     "output_type": "stream",
     "text": [
      "p = 64007\n",
      "g = 33705\n"
     ]
    }
   ],
   "source": [
    "from crypto import GeneratePrimeGeneratorPair\n",
    "\n",
    "size_bits = 16\n",
    "\n",
    "p, g = GeneratePrimeGeneratorPair(size_bits)\n",
    "\n",
    "print(f\"p = {p}\")\n",
    "print(f\"g = {g}\")"
   ]
  },
  {
   "cell_type": "code",
   "execution_count": 2,
   "id": "chief-research",
   "metadata": {},
   "outputs": [
    {
     "name": "stdout",
     "output_type": "stream",
     "text": [
      "PublicKey: 20683\n",
      "PrivateKey: 32748\n"
     ]
    }
   ],
   "source": [
    "from random import randrange\n",
    "\n",
    "a = randrange(p)\n",
    "A = pow(g, a, p)\n",
    "\n",
    "print(f\"PublicKey: {A}\")\n",
    "print(f\"PrivateKey: {a}\")"
   ]
  },
  {
   "cell_type": "markdown",
   "id": "american-grave",
   "metadata": {},
   "source": [
    "## Encryption function <a class=\"anchor\" id=\"encryption\"></a>\n",
    "\n",
    "The party that wants to send a message $m$ and knows the public parameters knows $p$, $g$ and $A$ (the latter one is the public key). To encrypt we need a random ephemeral key $k$ to compute the two parts of the ciphertext\n",
    "\n",
    "$$c_1=g^k (\\text{mod }p)$$\n",
    "$$c_2=mA^k (\\text{mod }p)$$\n",
    "\n",
    "The ciphertext is the tuple ($c_1$, $c_2$)."
   ]
  },
  {
   "cell_type": "code",
   "execution_count": 3,
   "id": "timely-slovenia",
   "metadata": {},
   "outputs": [
    {
     "name": "stdout",
     "output_type": "stream",
     "text": [
      "m: 62219\n",
      "k: 7682\n",
      "c: (5153, 34481)\n"
     ]
    }
   ],
   "source": [
    "m = randrange(p)\n",
    "k = randrange(p)\n",
    "\n",
    "c1 = pow(g, k, p)\n",
    "c2 = m*pow(A, k, p)%p\n",
    "\n",
    "c = (c1, c2)\n",
    "\n",
    "print(f\"m: {m}\")\n",
    "print(f\"k: {k}\")\n",
    "print(f\"c: {c}\")"
   ]
  },
  {
   "cell_type": "markdown",
   "id": "gorgeous-barrel",
   "metadata": {},
   "source": [
    "## Decryption function <a class=\"anchor\" id=\"decryption\"></a>\n",
    "\n",
    "The decryption function computes the ciphertext $c$=($c_1$, $c_2$) to the original message $m$. \n",
    "\n",
    "$$m = (c_1^a)^{-1}*c_2 (\\text{mod }p)$$\n"
   ]
  },
  {
   "cell_type": "code",
   "execution_count": 4,
   "id": "special-nature",
   "metadata": {},
   "outputs": [
    {
     "name": "stdout",
     "output_type": "stream",
     "text": [
      "message decrypted: 62219\n"
     ]
    }
   ],
   "source": [
    "from crypto import InverseFermat\n",
    "\n",
    "m2 = c2*InverseFermat(pow(c1, a, p), p)%p\n",
    "\n",
    "print(f\"message decrypted: {m2}\")"
   ]
  },
  {
   "cell_type": "markdown",
   "id": "peaceful-pastor",
   "metadata": {},
   "source": [
    "Let's check analitically that the previous equation holds. On the one hand we have $(c_1^a)^{-1}$:\n",
    "\n",
    "$$(c_1^a)^{-1}(\\text{mod }p)=(g^{ka})^{-1}(\\text{mod }p)=(A^{k})^{-1}(\\text{mod }p)$$\n",
    "\n",
    "Also\n",
    "\n",
    "$$c_2(\\text{mod }p)=m*A^k(\\text{mod }p)$$\n",
    "\n",
    "if we multiply both we get\n",
    "\n",
    "$$(c_1^a)^{-1}*c_2 (\\text{mod }p)=(A^{k})^{-1}*m*A^k(\\text{mod }p)=m(\\text{mod }p)$$\n",
    "\n",
    "proving that the previous decryption is correct."
   ]
  },
  {
   "cell_type": "code",
   "execution_count": 5,
   "id": "greenhouse-appeal",
   "metadata": {},
   "outputs": [],
   "source": [
    "from typing import Tuple\n",
    "\n",
    "def ElGamalKeyGenerator(size: int = 64):\n",
    "    '''\n",
    "    Implementation of El Gamal Cryptosystem\n",
    "    This function generates plublic and private keys\n",
    "    Input:\n",
    "        size: size in bits of the field\n",
    "    Output:\n",
    "        PublicKey: (A, g, p)\n",
    "        PrivateKey: (sk, p)\n",
    "    '''\n",
    "    p, g = GeneratePrimeGeneratorPair(size)\n",
    "    sk = randrange(2, p-1)\n",
    "    A = pow(g, sk, p)\n",
    "\n",
    "    # Return public key and private key\n",
    "    return (A, g, p), (sk, p)\n",
    "\n",
    "def ElGamalEncrypt(m: int, PublicKey: Tuple[int]):\n",
    "    '''\n",
    "    Encrypts a message m using the ElGamal public key\n",
    "    Input:\n",
    "        m: message (An integer message) (mod p)\n",
    "        PublicKey: A tuple (A, g, p)\n",
    "    Output:\n",
    "        c: tuple (c1, c2) encrypted message \n",
    "    '''\n",
    "    A, g, p = PublicKey[0], PublicKey[1], PublicKey[2]\n",
    "    k = randrange(2, p-1)\n",
    "\n",
    "    return (pow(g, k, p), pow(A, k, p)*m%p)\n",
    "\n",
    "\n",
    "def ElGamalDecrypt(c: Tuple[int, int], PrivateKey: Tuple[int]):\n",
    "    '''\n",
    "    Decrypts a ciphertext m using the El Gamnal private key\n",
    "    Input:\n",
    "        c: tuple (c1, c2) the ciphertext of the message\n",
    "        PublicKey: A tuple (sk, p)\n",
    "    Output:\n",
    "        m: Decrypted message\n",
    "    '''\n",
    "    c1, c2 = c[0], c[1]\n",
    "    sk, p = PrivateKey[0], PrivateKey[1]\n",
    "    x = InverseFermat(pow(c1, sk, p), p)\n",
    "    return (x * c2)%p"
   ]
  },
  {
   "cell_type": "markdown",
   "id": "proof-ensemble",
   "metadata": {},
   "source": [
    "# What is the difficulty of breaking this code? <a class=\"anchor\" id=\"break\"></a>\n",
    "\n",
    "Recall that the attacker just knows the public key $A=g^a (\\text{mod }p)$ along with the prime number $p$ and generator $g$. In order to crack the cipher, he has to crack the discrete logarithm problem. We can say that ElGamal cryptosystem is as difficult to crack as to solve the discrete logarithm problem:\n",
    "\n",
    "find $a$ given $A$, $g$ and $p$.\n",
    "\n",
    "$$A=g^a \\textit{(mod p)}$$"
   ]
  },
  {
   "cell_type": "markdown",
   "id": "automatic-possible",
   "metadata": {},
   "source": [
    "## Cracking Elgamal by brute force <a class=\"anchor\" id=\"bruteforce\"></a>"
   ]
  },
  {
   "cell_type": "code",
   "execution_count": 6,
   "id": "arranged-conspiracy",
   "metadata": {},
   "outputs": [
    {
     "name": "stdout",
     "output_type": "stream",
     "text": [
      "p:44563\n",
      "g:5650\n",
      "a (secret_key):37933\n",
      "A (public_key):18745\n"
     ]
    }
   ],
   "source": [
    "# generating private-public pair\n",
    "size_bits = 16\n",
    "p, g = GeneratePrimeGeneratorPair(size_bits)\n",
    "\n",
    "# generate secrets\n",
    "a = randrange(p)\n",
    "A = pow(g, a, p)\n",
    "\n",
    "print(f\"p:{p}\")\n",
    "print(f\"g:{g}\")\n",
    "print(f\"a (secret_key):{a}\")\n",
    "print(f\"A (public_key):{A}\")"
   ]
  },
  {
   "cell_type": "code",
   "execution_count": 7,
   "id": "discrete-scientist",
   "metadata": {},
   "outputs": [
    {
     "name": "stdout",
     "output_type": "stream",
     "text": [
      "The secret key a: 37933\n",
      "The cracked secret key: 37933\n"
     ]
    }
   ],
   "source": [
    "a_ = randrange(p)\n",
    "\n",
    "while A!=pow(g, a_, p):\n",
    "    a_ = randrange(p)\n",
    "    \n",
    "print(f\"The secret key a: {a}\")\n",
    "print(f\"The cracked secret key: {a_}\")"
   ]
  },
  {
   "cell_type": "markdown",
   "id": "signal-canon",
   "metadata": {},
   "source": [
    "## Known ciphertext attack <a class=\"anchor\" id=\"kca\"></a>\n",
    "\n",
    "Let's imagine this scenario: Alice wants Bob and Charlie to send her messages so she creates a key pair using ElGamal ($A$, $a$) for public-private keys. Imagine that Alice also acts as an oracle for the users, this is, if Charlie sends her a ciphertext, she can provide the decrypted message to him. This is no harm in principle as Charlie knew his message beforehand. Alice is forbidden to decrypt the same message twice, i.e. if she is asked to decrypt the same ciphertext twice, she won't answer as maybe that party intercepted the original ciphertext."
   ]
  },
  {
   "cell_type": "markdown",
   "id": "suspended-report",
   "metadata": {},
   "source": [
    "<img src=\"img/known_ciphertext_attack.png\" style=\"width:800px\"/>"
   ]
  },
  {
   "cell_type": "markdown",
   "id": "covered-saver",
   "metadata": {},
   "source": [
    "Let's say Bob intercepted a ciphertext $c=(c_1, c_2)=(g^k, mA^k)$ that Charlie sent to Alice and he wants to know what Charlie has to say to Alice (get $m$). He can't send that ciphertext to Alice for decryption as Alice will know that Bob is trying to cheat. But he can do the following...\n",
    "\n",
    "\n",
    "Bob only knows the ciphertext $c_1$ and $c_1$ and creates a random message and a ephemeral key $m^{\\prime}$, $k^{\\prime}$ and computes the following ciphertext to send to Alice for decryption:\n",
    "\n",
    "$$c^{\\prime}=(c_1g^{k^{\\prime}}, c_2A^{k^{\\prime}}m^{\\prime})$$\n",
    "\n",
    "Alice will decrypt this, since this ciphertext $c^{\\prime}$ is different from the original ciphertext $c$. Call the decrypted ciphertext $m^{\\prime\\prime}$. This is what Bob gets as the decryption of $c^{\\prime}$ from Alice.\n",
    "\n",
    "At this point Bob knows $c^{\\prime}=(c_1g^{k^{\\prime}}, c_2A^{k^{\\prime}}m)$, the plaintext for $c^{\\prime}$, i.e $m^{\\prime\\prime}$ and obviously the public key $A$. \n",
    "\n",
    "$$c^{\\prime}=(c_1g^{k^{\\prime}}, c_2A^{k^{\\prime}}m^{\\prime})=(g^{k+k^{\\prime}},mm^{\\prime}A^{k+k^{\\prime}})$$\n",
    "\n",
    "Therefore he determines that\n",
    "\n",
    "$$m^{\\prime\\prime}=m*m^{\\prime} (\\text{mod }p)$$\n",
    "\n",
    "or equivalently:\n",
    "\n",
    "$$m=m^{\\prime\\prime}*(m^{\\prime})^{-1} (\\text{mod }p)$$"
   ]
  },
  {
   "cell_type": "code",
   "execution_count": 8,
   "id": "protecting-phoenix",
   "metadata": {},
   "outputs": [
    {
     "name": "stdout",
     "output_type": "stream",
     "text": [
      "p:\n",
      "\t93118902053664197344759197859158333624671160471685725666865328711607832644653\n",
      "g:\n",
      "\t63268074188018798773954427524190176579273280152285419421144390694799417448589\n",
      "a (secret_key):\n",
      "\t22916480229719444922204979157554258472901015284859024741392526621358553151107\n",
      "A (public_key):52742379218817311314131547361716998715162461980764468277503053133481861407094\n",
      "\t\n"
     ]
    }
   ],
   "source": [
    "# generating private-public pair\n",
    "size_bits = 256\n",
    "p, g = GeneratePrimeGeneratorPair(size_bits)\n",
    "\n",
    "# generate secrets\n",
    "a = randrange(p)\n",
    "A = pow(g, a, p)\n",
    "\n",
    "print(f\"p:\\n\\t{p}\")\n",
    "print(f\"g:\\n\\t{g}\")\n",
    "print(f\"a (secret_key):\\n\\t{a}\")\n",
    "print(f\"A (public_key):{A}\\n\\t\")"
   ]
  },
  {
   "cell_type": "code",
   "execution_count": 9,
   "id": "living-acrylic",
   "metadata": {},
   "outputs": [
    {
     "name": "stdout",
     "output_type": "stream",
     "text": [
      "message: b'Private msg: Charlie->Alice'\n",
      "message in integer form 33093944081837745256705073718405113179401926955399334845200556901\n"
     ]
    }
   ],
   "source": [
    "# message and random k\n",
    "m = b\"Private msg: Charlie->Alice\"\n",
    "print(f\"message: {m}\")\n",
    "assert 8*len(m)<=size_bits, f\"Message too large to encrypt in one block\"\n",
    "\n",
    "m_int = int.from_bytes(m, \"big\")\n",
    "print(f\"message in integer form {m_int}\")"
   ]
  },
  {
   "cell_type": "code",
   "execution_count": 10,
   "id": "efficient-glucose",
   "metadata": {},
   "outputs": [
    {
     "name": "stdout",
     "output_type": "stream",
     "text": [
      "m:\n",
      "\tb'Private msg: Charlie->Alice'\n",
      "m_int:\n",
      "\t33093944081837745256705073718405113179401926955399334845200556901\n",
      "k:\n",
      "\t22410153024074930184445816864579481970451713347658499953823908745232069287833\n",
      "c:\n",
      "\t(83686898919233303486896443083712606151588033893027144361859122132236553659278, 45966185457186714001012595300146020780649720035811895621159927695355522152354)\n"
     ]
    }
   ],
   "source": [
    "# Charlie encrypts message\n",
    "k = randrange(p)\n",
    "\n",
    "c1 = pow(g, k, p)\n",
    "c2 = pow(A, k, p)*m_int%p\n",
    "\n",
    "c = (c1, c2)\n",
    "print(f\"m:\\n\\t{m}\")\n",
    "print(f\"m_int:\\n\\t{m_int}\")\n",
    "print(f\"k:\\n\\t{k}\")\n",
    "print(f\"c:\\n\\t{c}\")"
   ]
  },
  {
   "cell_type": "markdown",
   "id": "eastern-retailer",
   "metadata": {},
   "source": [
    "Bob intercepts message from Charlie to Alice so he knows c1 and c2 but cannot ask Alice to decrypt this. However he can compute $c^{\\prime}$:\n",
    "\n",
    "$$c^{\\prime}=(c_1g^{k^{\\prime}}, c_2A^{k^{\\prime}}m)=(g^{k+k^{\\prime}},mm^{\\prime}A^{k+k^{\\prime}})=(c_1^{\\prime},c_2^{\\prime} )$$."
   ]
  },
  {
   "cell_type": "code",
   "execution_count": 11,
   "id": "phantom-alliance",
   "metadata": {},
   "outputs": [],
   "source": [
    "# choose a random m_p and k_p on the field\n",
    "m_p = randrange(p)\n",
    "k_p = randrange(p)\n",
    "\n",
    "# compute the ciphertext\n",
    "c1_p = c1*pow(g, k_p, p)%p\n",
    "c2_p = c2*m_p*pow(A, k_p, p)%p"
   ]
  },
  {
   "cell_type": "markdown",
   "id": "identical-attendance",
   "metadata": {},
   "source": [
    "Bob sends $c^{\\prime}$ to Alice to decrypt and get $m^{\\prime \\prime}$"
   ]
  },
  {
   "cell_type": "code",
   "execution_count": 12,
   "id": "prostate-evans",
   "metadata": {},
   "outputs": [
    {
     "name": "stdout",
     "output_type": "stream",
     "text": [
      "m_pp:\n",
      "\t86586101669460706231890849698535340724518796738333409322098930246905314106607\n"
     ]
    }
   ],
   "source": [
    "m_pp = c2_p*InverseFermat(pow(c1_p, a, p), p)%p\n",
    "print(f\"m_pp:\\n\\t{m_pp}\")"
   ]
  },
  {
   "cell_type": "markdown",
   "id": "anticipated-instrumentation",
   "metadata": {},
   "source": [
    "Bob knows now $m^{\\prime}$ and $m^{\\prime \\prime}$ so he can calculate the oringial message that Bob sent to Alice:\n",
    "\n",
    "$$m=m^{\\prime\\prime}*(m^{\\prime})^{-1} (\\text{mod }p)$$"
   ]
  },
  {
   "cell_type": "code",
   "execution_count": 13,
   "id": "greenhouse-andrews",
   "metadata": {},
   "outputs": [
    {
     "name": "stdout",
     "output_type": "stream",
     "text": [
      "message:\n",
      "\tb'Private msg: Charlie->Alice'\n",
      "message recovered:\n",
      "\tb'Private msg: Charlie->Alice'\n"
     ]
    }
   ],
   "source": [
    "m_int_recovered = m_pp*InverseFermat(m_p, p)%p\n",
    "m_recovered = m_int_recovered.to_bytes(len(m), 'big')\n",
    "\n",
    "print(f\"message:\\n\\t{m}\")\n",
    "print(f\"message recovered:\\n\\t{m_recovered}\")"
   ]
  },
  {
   "cell_type": "code",
   "execution_count": null,
   "id": "abroad-dakota",
   "metadata": {},
   "outputs": [],
   "source": []
  },
  {
   "cell_type": "code",
   "execution_count": null,
   "id": "forward-criterion",
   "metadata": {},
   "outputs": [],
   "source": []
  },
  {
   "cell_type": "code",
   "execution_count": null,
   "id": "sought-payment",
   "metadata": {},
   "outputs": [],
   "source": []
  }
 ],
 "metadata": {
  "kernelspec": {
   "display_name": "Python 3",
   "language": "python",
   "name": "python3"
  },
  "language_info": {
   "codemirror_mode": {
    "name": "ipython",
    "version": 3
   },
   "file_extension": ".py",
   "mimetype": "text/x-python",
   "name": "python",
   "nbconvert_exporter": "python",
   "pygments_lexer": "ipython3",
   "version": "3.6.7"
  }
 },
 "nbformat": 4,
 "nbformat_minor": 5
}
