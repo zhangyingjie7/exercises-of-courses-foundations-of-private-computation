{
 "cells": [
  {
   "cell_type": "markdown",
   "metadata": {},
   "source": [
    "Author: [Sebastià Agramunt Puig](https://github.com/sebastiaagramunt) for [OpenMined](https://www.openmined.org/) Privacy ML Series course.\n",
    "\n",
    "# Mersenne primes\n",
    "\n",
    "Some primes can be expressed as $p=2^n$-1. Those primes are called Mersenne primes. Use the Miller-Rabin primality testing algorithm to find the maximum $n$ smaller than 1000 such tat $2^n$-1 is a prime number."
   ]
  },
  {
   "cell_type": "code",
   "execution_count": 1,
   "metadata": {},
   "outputs": [],
   "source": [
    "from random import randrange\n",
    "\n",
    "def isWitness(a: int, n: int, q: int, k: int) -> bool:\n",
    "    x = pow(a, q, n)\n",
    "    if x==1:\n",
    "        return False\n",
    "    for _ in range(k):\n",
    "        if (x+1)%n == 0:\n",
    "            return False\n",
    "        x = pow(x, 2, n)\n",
    "    return True\n",
    "\n",
    "def isPrime(n: int, r: int) -> bool:\n",
    "    # Miller-Rabin primality testing.\n",
    "    # n: number to test primality\n",
    "    # r: times to run the test\n",
    "    if n<2:\n",
    "        return False\n",
    "    if n==2:\n",
    "        return True\n",
    "    if n%2==0:\n",
    "        return False\n",
    "    \n",
    "    \n",
    "    q = n-1\n",
    "    k = 0\n",
    "    while q%2 == 0:\n",
    "        q = q//2\n",
    "        k += 1\n",
    "        \n",
    "    assert n-1==pow(2, k)*q\n",
    "    \n",
    "    for _ in range(r):\n",
    "        a = randrange(2, n)\n",
    "        if isWitness(a, n, q, k):\n",
    "            return False\n",
    "    return True"
   ]
  },
  {
   "cell_type": "code",
   "execution_count": 2,
   "metadata": {},
   "outputs": [
    {
     "name": "stdout",
     "output_type": "stream",
     "text": [
      "n=2, p=3\n",
      "n=3, p=7\n",
      "n=5, p=31\n",
      "n=7, p=127\n",
      "n=13, p=8191\n",
      "n=17, p=131071\n",
      "n=19, p=524287\n",
      "n=31, p=2147483647\n",
      "n=61, p=2305843009213693951\n",
      "n=89, p=618970019642690137449562111\n",
      "n=107, p=162259276829213363391578010288127\n",
      "n=127, p=170141183460469231731687303715884105727\n",
      "n=521, p=6864797660130609714981900799081393217269435300143305409394463459185543183397656052122559640661454554977296311391480858037121987999716643812574028291115057151\n",
      "n=607, p=531137992816767098689588206552468627329593117727031923199444138200403559860852242739162502265229285668889329486246501015346579337652707239409519978766587351943831270835393219031728127\n"
     ]
    }
   ],
   "source": [
    "n_max = 1001\n",
    "\n",
    "for n in range(1, n_max):\n",
    "    p = 2**n-1\n",
    "    if isPrime(p, 50):\n",
    "        print(f\"n={n}, p={p}\")    "
   ]
  },
  {
   "cell_type": "markdown",
   "metadata": {},
   "source": [
    "How many digits has this prime number?"
   ]
  },
  {
   "cell_type": "code",
   "execution_count": 3,
   "metadata": {},
   "outputs": [
    {
     "data": {
      "text/plain": [
       "183"
      ]
     },
     "execution_count": 3,
     "metadata": {},
     "output_type": "execute_result"
    }
   ],
   "source": [
    "p = 2**607 - 1\n",
    "\n",
    "len(str(p))"
   ]
  },
  {
   "cell_type": "markdown",
   "metadata": {},
   "source": [
    "Express the prime number you obtained in binary form. How many 1's do you get?"
   ]
  },
  {
   "cell_type": "code",
   "execution_count": 4,
   "metadata": {},
   "outputs": [
    {
     "data": {
      "text/plain": [
       "'0b1111111111111111111111111111111111111111111111111111111111111111111111111111111111111111111111111111111111111111111111111111111111111111111111111111111111111111111111111111111111111111111111111111111111111111111111111111111111111111111111111111111111111111111111111111111111111111111111111111111111111111111111111111111111111111111111111111111111111111111111111111111111111111111111111111111111111111111111111111111111111111111111111111111111111111111111111111111111111111111111111111111111111111111111111111111111111111111111111111111111111111111111111111111111111111111111111111111111111111111111111111111'"
      ]
     },
     "execution_count": 4,
     "metadata": {},
     "output_type": "execute_result"
    }
   ],
   "source": [
    "bin(p)"
   ]
  },
  {
   "cell_type": "code",
   "execution_count": 5,
   "metadata": {},
   "outputs": [
    {
     "data": {
      "text/plain": [
       "607"
      ]
     },
     "execution_count": 5,
     "metadata": {},
     "output_type": "execute_result"
    }
   ],
   "source": [
    "len(bin(p))-2"
   ]
  },
  {
   "cell_type": "code",
   "execution_count": null,
   "metadata": {},
   "outputs": [],
   "source": []
  }
 ],
 "metadata": {
  "kernelspec": {
   "display_name": "Python 3",
   "language": "python",
   "name": "python3"
  },
  "language_info": {
   "codemirror_mode": {
    "name": "ipython",
    "version": 3
   },
   "file_extension": ".py",
   "mimetype": "text/x-python",
   "name": "python",
   "nbconvert_exporter": "python",
   "pygments_lexer": "ipython3",
   "version": "3.6.7"
  }
 },
 "nbformat": 4,
 "nbformat_minor": 4
}
