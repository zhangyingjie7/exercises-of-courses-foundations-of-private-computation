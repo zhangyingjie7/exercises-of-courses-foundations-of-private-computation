{
 "cells": [
  {
   "cell_type": "markdown",
   "metadata": {},
   "source": [
    "# The Diffie-Hellman Key Exchange\n",
    "\n",
    "The difficulty to solve the discrete logarithm problem can be used to find a common secret key between the two comunicating parties, Alice and Bob doing so using an insecure channel.\n",
    "\n",
    "    \n",
    "Author: [Sebastià Agramunt Puig](https://github.com/sebastiaagramunt) for [OpenMined](https://www.openmined.org/) Privacy ML Series course."
   ]
  },
  {
   "cell_type": "markdown",
   "metadata": {},
   "source": [
    "First, Alice and Bob agree on a public prime number and a generator for the prime number field"
   ]
  },
  {
   "cell_type": "code",
   "execution_count": 1,
   "metadata": {},
   "outputs": [
    {
     "name": "stdout",
     "output_type": "stream",
     "text": [
      "p: 861599\n",
      "g: 676346\n"
     ]
    }
   ],
   "source": [
    "from crypto import GeneratePrimeGeneratorPair\n",
    "\n",
    "bits = 20\n",
    "p, g = GeneratePrimeGeneratorPair(bits)\n",
    "\n",
    "print(f\"p: {p}\\ng: {g}\")"
   ]
  },
  {
   "cell_type": "markdown",
   "metadata": {},
   "source": [
    "This information ($p$ and $g$) is public and known by Charlie, then Alice and Bob do the following: \n",
    "* Alice and Bob secretly draw a random number $a$ and $b$ smaller than $p$. Alice draws $a$ and Bob draws $b$\n",
    "* They both calculate $A=g^a$(mod $p$) and $B=g^b$(mod $p$).\n",
    "* Alice sends $A$ to Bob and Bob sends $B$ to Alice.\n",
    "* They both calculate $s=B^a$(mod $p$)=$A^b$(mod $p$)\n",
    "\n",
    "This $s$ is common to both! They have stablished a secret key"
   ]
  },
  {
   "cell_type": "code",
   "execution_count": 2,
   "metadata": {},
   "outputs": [],
   "source": [
    "from random import randrange\n",
    "\n",
    "class Party:\n",
    "    def __init__(self, name: str, p: int, g: int):\n",
    "        self.name = name\n",
    "        self.p = p\n",
    "        self.g = g\n",
    "        \n",
    "        self.a = randrange(self.p)\n",
    "        self.A = pow(self.g, self.a, self.p)\n",
    "        self.s = None\n",
    "    \n",
    "    def send_A(self) -> int:\n",
    "        return self.A\n",
    "    \n",
    "    def get_B(self, B: int):\n",
    "        self.s = pow(B, self.a, self.p)\n",
    "        \n",
    "    def __str__(self) -> str:\n",
    "        return f\"Party: {self.name}\\np: {self.p}\\ng: {self.g}\\na: {self.a}\\nA: {self.A}\\ns: {self.s}\""
   ]
  },
  {
   "cell_type": "code",
   "execution_count": 3,
   "metadata": {},
   "outputs": [],
   "source": [
    "alice = Party(\"Alice\", p, g)\n",
    "bob = Party(\"Bob\", p, g)"
   ]
  },
  {
   "cell_type": "code",
   "execution_count": 4,
   "metadata": {},
   "outputs": [
    {
     "name": "stdout",
     "output_type": "stream",
     "text": [
      "Party: Alice\n",
      "p: 861599\n",
      "g: 676346\n",
      "a: 248347\n",
      "A: 530215\n",
      "s: None\n",
      "\n",
      "Party: Bob\n",
      "p: 861599\n",
      "g: 676346\n",
      "a: 351685\n",
      "A: 214964\n",
      "s: None\n"
     ]
    }
   ],
   "source": [
    "print(alice)\n",
    "print()\n",
    "print(bob)"
   ]
  },
  {
   "cell_type": "code",
   "execution_count": 5,
   "metadata": {},
   "outputs": [],
   "source": [
    "A = alice.send_A()\n",
    "B = bob.send_A()"
   ]
  },
  {
   "cell_type": "code",
   "execution_count": 6,
   "metadata": {},
   "outputs": [],
   "source": [
    "alice.get_B(B)\n",
    "bob.get_B(A)"
   ]
  },
  {
   "cell_type": "code",
   "execution_count": 7,
   "metadata": {},
   "outputs": [
    {
     "name": "stdout",
     "output_type": "stream",
     "text": [
      "Party: Alice\n",
      "p: 861599\n",
      "g: 676346\n",
      "a: 248347\n",
      "A: 530215\n",
      "s: 89347\n",
      "\n",
      "Party: Bob\n",
      "p: 861599\n",
      "g: 676346\n",
      "a: 351685\n",
      "A: 214964\n",
      "s: 89347\n"
     ]
    }
   ],
   "source": [
    "print(alice)\n",
    "print()\n",
    "print(bob)"
   ]
  },
  {
   "cell_type": "code",
   "execution_count": null,
   "metadata": {},
   "outputs": [],
   "source": []
  },
  {
   "cell_type": "code",
   "execution_count": null,
   "metadata": {},
   "outputs": [],
   "source": []
  }
 ],
 "metadata": {
  "kernelspec": {
   "display_name": "Python 3",
   "language": "python",
   "name": "python3"
  },
  "language_info": {
   "codemirror_mode": {
    "name": "ipython",
    "version": 3
   },
   "file_extension": ".py",
   "mimetype": "text/x-python",
   "name": "python",
   "nbconvert_exporter": "python",
   "pygments_lexer": "ipython3",
   "version": "3.6.7"
  }
 },
 "nbformat": 4,
 "nbformat_minor": 4
}
