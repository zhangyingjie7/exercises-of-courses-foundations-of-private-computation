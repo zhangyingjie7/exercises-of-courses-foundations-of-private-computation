{
 "cells": [
  {
   "cell_type": "markdown",
   "id": "strategic-sponsorship",
   "metadata": {},
   "source": [
    "# Table of contents:\n",
    "\n",
    "* [Introduction to block ciphers](#intro-block)\n",
    "* [Padding a message](#message-padding)\n",
    "* [The Advanced Encryption Standard (AES)](#AES)\n",
    "* [Modes of operation of block ciphers](#modes)\n",
    "* [Size of the output ciphertex on AES](#size)\n",
    "* [Bonus: Fernet cipher](#fernet)\n",
    "    \n",
    "Author: [Sebastià Agramunt Puig](https://github.com/sebastiaagramunt) for [OpenMined](https://www.openmined.org/) Privacy ML Series course.\n",
    "\n"
   ]
  },
  {
   "cell_type": "markdown",
   "id": "informal-yesterday",
   "metadata": {},
   "source": [
    "## Block Ciphers <a class=\"anchor\" id=\"intro-block\"></a>\n",
    "\n",
    "Block ciphers as opposed to stream ciphers take a block of the plaintext (a specific amount of bytes) and encrypts it into a block with the same size. In this section we will use the Advanced Encryption Standard (AES) to understand block ciphers. In the next schema it is shown how an original message of arbitrary $N$ bytes is converted into a ciphertext having blocks of $K$ bytes. The ciphertext size is always a multiple of $K$ bytes."
   ]
  },
  {
   "cell_type": "markdown",
   "id": "destroyed-croatia",
   "metadata": {},
   "source": [
    "<img src=\"img/block_cipher.png\" style=\"width:1100px\"/>"
   ]
  },
  {
   "cell_type": "markdown",
   "id": "constant-bulletin",
   "metadata": {},
   "source": [
    "## Padding a message <a class=\"anchor\" id=\"message-padding\"></a>\n",
    "\n",
    "Most of the times the lenght of the message is not a multiple of the block size so we need to \"pad\" the message to have the required length. A common padding function is [PKCS7](https://en.wikipedia.org/wiki/Padding_(cryptography)). Basically what PKCS7 does is appendinng a list of bytes with the same value corresponding to the number of bytes needed to complete the block.\n",
    "\n",
    "\n",
    "We will use PKCS7 it in the next example:"
   ]
  },
  {
   "cell_type": "code",
   "execution_count": 1,
   "id": "surrounded-cylinder",
   "metadata": {},
   "outputs": [
    {
     "name": "stdout",
     "output_type": "stream",
     "text": [
      "message:\n",
      "\tb'Cryptography is a complex subject after all...'\n",
      "(bin) \n",
      "\t01000011011100100111100101110000011101000110111101100111011100100110000101110000011010000111100100100000011010010111001100100000011000010010000001100011011011110110110101110000011011000110010101111000001000000111001101110101011000100110101001100101011000110111010000100000011000010110011001110100011001010111001000100000011000010110110001101100001011100010111000101110\n",
      "(hex) \n",
      "\t43727970746f677261706879206973206120636f6d706c6578207375626a65637420616674657220616c6c2e2e2e\n"
     ]
    }
   ],
   "source": [
    "from crypto import bytes_to_bin, bytes_to_hex\n",
    "\n",
    "message = b\"Cryptography is a complex subject after all...\"\n",
    "bin_repr = bytes_to_bin(message, pre=\"\")\n",
    "hex_repr = bytes_to_hex(message, pre=\"\")\n",
    "\n",
    "print(f\"message:\\n\\t{message}\")\n",
    "print(f\"(bin) \\n\\t{bin_repr}\")\n",
    "print(f\"(hex) \\n\\t{hex_repr}\")"
   ]
  },
  {
   "cell_type": "code",
   "execution_count": 2,
   "id": "accompanied-oakland",
   "metadata": {},
   "outputs": [
    {
     "name": "stdout",
     "output_type": "stream",
     "text": [
      "message is 46 bytes or 368 bits\n"
     ]
    }
   ],
   "source": [
    "print(f\"message is {len(message)} bytes or {len(bin_repr)} bits\")"
   ]
  },
  {
   "cell_type": "code",
   "execution_count": 3,
   "id": "nervous-burden",
   "metadata": {},
   "outputs": [
    {
     "name": "stdout",
     "output_type": "stream",
     "text": [
      "b'Cryptography is a complex subject after all...\\x02\\x02'\n"
     ]
    }
   ],
   "source": [
    "def PKCS7(m: bytes, block_size_bytes = 16):\n",
    "    n_bytes = block_size_bytes - len(m)%block_size_bytes\n",
    "    pad = bytes([n_bytes for _ in range(n_bytes)])\n",
    "    return m + pad\n",
    "\n",
    "padded_message = PKCS7(message)\n",
    "print(padded_message)"
   ]
  },
  {
   "cell_type": "code",
   "execution_count": 4,
   "id": "extreme-capture",
   "metadata": {},
   "outputs": [
    {
     "name": "stdout",
     "output_type": "stream",
     "text": [
      "message:\n",
      "\t'b'Cryptography is a complex subject after all...''\n",
      "\n",
      "padded_data: \n",
      "\tb'Cryptography is a complex subject after all...\\x02\\x02'\n",
      "\n",
      "bytes per block: 16\n",
      "bits per block: 128\n",
      "message length: 46\n",
      "padded_message lenght: 48\n"
     ]
    }
   ],
   "source": [
    "from cryptography.hazmat.primitives import padding\n",
    "\n",
    "block_size_bits = 128\n",
    "\n",
    "padder = padding.PKCS7(block_size_bits).padder()\n",
    "padded_message = padder.update(message) + padder.finalize()\n",
    "\n",
    "print(f\"message:\\n\\t'{message}'\")\n",
    "print(f\"\\npadded_data: \\n\\t{padded_message}\\n\")\n",
    "\n",
    "print(f\"bytes per block: {int(block_size_bits/8)}\")\n",
    "print(f\"bits per block: {block_size_bits}\")\n",
    "print(f\"message length: {len(message)}\")\n",
    "print(f\"padded_message lenght: {len(padded_message)}\")"
   ]
  },
  {
   "cell_type": "markdown",
   "id": "organized-moment",
   "metadata": {},
   "source": [
    "## Encrypting using AES (Advanced Encryption Standard) <a class=\"anchor\" id=\"AES\"></a>\n",
    "\n",
    "AES is a block cipher that was established as a standard by NIST in 2001 (after a public call to improve/substitute DES encryption algorithm in 1997). AES is a subset of the Rijndael block cipher developed by Vincent Rijmen and Joan Daemen submitted to NIST during the [AES selection process](https://en.wikipedia.org/wiki/Advanced_Encryption_Standard_process).\n",
    "\n",
    "\n",
    "We are not going to go into the details of te exact implementation but the readers are referred to the book of [Katz and Lindell](http://www.cs.umd.edu/~jkatz/imc.html) Chapter 6 section 2. Also Mike Pound explains AES in this [video](https://www.youtube.com/watch?v=O4xNJsjtN6E&t=524s&ab_channel=Computerphile), check it out!"
   ]
  },
  {
   "cell_type": "code",
   "execution_count": 5,
   "id": "sunset-extraction",
   "metadata": {},
   "outputs": [],
   "source": [
    "from cryptography.hazmat.primitives.ciphers import Cipher, algorithms, modes\n",
    "from cryptography.hazmat.backends import default_backend\n",
    "import os\n",
    "\n",
    "secret_key = os.urandom(32)\n",
    "\n",
    "cipher = Cipher(algorithms.AES(secret_key), modes.ECB(), backend=default_backend())\n",
    "\n",
    "encryptor = cipher.encryptor()\n",
    "decryptor = cipher.decryptor()"
   ]
  },
  {
   "cell_type": "code",
   "execution_count": 6,
   "id": "aware-sacrifice",
   "metadata": {},
   "outputs": [
    {
     "name": "stdout",
     "output_type": "stream",
     "text": [
      "ciphertext:\n",
      "\tb' \\x86\\xbf\\x9b\\xbb\\x13\\xe4\\xb0\\x1d\\xba\\x99\\xe7\\xae\\xbe\\x9d!\\xbc\\xe3\\x07\\xeb\\x01r!\\xf1\\xce^\\x08\\xe8J\\x9f\\x8a\\xf7\\xff\\xd9\\x9b\\xfcx\\x03dJ\\xce:K\\x80\\xa0~!\\x18'\n",
      "plaintext:\n",
      "\tb'Cryptography is a complex subject after all...\\x02\\x02'\n"
     ]
    }
   ],
   "source": [
    "ctx = encryptor.update(padded_message) + encryptor.finalize()\n",
    "plx = decryptor.update(ctx) + decryptor.finalize()\n",
    "\n",
    "print(f\"ciphertext:\\n\\t{ctx}\")\n",
    "print(f\"plaintext:\\n\\t{plx}\")"
   ]
  },
  {
   "cell_type": "markdown",
   "id": "weird-filename",
   "metadata": {},
   "source": [
    "## Modes of operation of block ciphers <a class=\"anchor\" id=\"mode\"></a>\n",
    "\n",
    "A block cipher by itself is only suitable for the secure cryptographic transformation (encryption or decryption) of one fixed-length group of bits called a block. A mode of operation describes how to repeatedly apply a cipher's single-block operation to securely transform amounts of data larger than a block ([Wikipedia](https://en.wikipedia.org/wiki/Block_cipher_mode_of_operation)).\n",
    "\n",
    "The first mode is \"not doing anything\", this is the Electronic Codebook mode. See the figure below (from Wikipedia)."
   ]
  },
  {
   "cell_type": "markdown",
   "id": "capable-command",
   "metadata": {},
   "source": [
    "<img src=\"img/ECB_mode.png\" style=\"width:1100px\"/>"
   ]
  },
  {
   "cell_type": "markdown",
   "id": "critical-cinema",
   "metadata": {},
   "source": [
    "We are lucky and in ```cryptography``` package ECB implemented in ```cryptography.hazmat.primitives.ciphers.ECB``` function (we've seen in the previous example!)."
   ]
  },
  {
   "cell_type": "code",
   "execution_count": 7,
   "id": "falling-breeding",
   "metadata": {},
   "outputs": [],
   "source": [
    "secret_key = os.urandom(32)\n",
    "\n",
    "cipher = Cipher(algorithms.AES(secret_key), modes.ECB(), backend=default_backend())\n",
    "\n",
    "encryptor = cipher.encryptor()\n",
    "decryptor = cipher.decryptor()"
   ]
  },
  {
   "cell_type": "markdown",
   "id": "surprised-aspect",
   "metadata": {},
   "source": [
    "Now we can encrypt the same message twice and see what we get in the ciphertext:"
   ]
  },
  {
   "cell_type": "code",
   "execution_count": 8,
   "id": "alleged-suite",
   "metadata": {},
   "outputs": [
    {
     "data": {
      "text/plain": [
       "b'Cryptography is a complex subject after all...\\x02\\x02'"
      ]
     },
     "execution_count": 8,
     "metadata": {},
     "output_type": "execute_result"
    }
   ],
   "source": [
    "padded_message"
   ]
  },
  {
   "cell_type": "code",
   "execution_count": 9,
   "id": "bigger-suspension",
   "metadata": {},
   "outputs": [
    {
     "name": "stdout",
     "output_type": "stream",
     "text": [
      "b'\\xeer^\\x84\\xe1\\xae#\\x01\\xbcQ19\\x17\\xd6%H\\x11\\x13Uh\\xfa2\\xa7\\xf4\\x9d\" \\xfe\\tj\\xf7.#)cQ\\xe0SF\\xdf\\xd1z\\x1e\\xfdAML\\xf6'\n",
      "b'\\xeer^\\x84\\xe1\\xae#\\x01\\xbcQ19\\x17\\xd6%H\\x11\\x13Uh\\xfa2\\xa7\\xf4\\x9d\" \\xfe\\tj\\xf7.#)cQ\\xe0SF\\xdf\\xd1z\\x1e\\xfdAML\\xf6'\n"
     ]
    }
   ],
   "source": [
    "new_message = padded_message+padded_message\n",
    "\n",
    "ctx = encryptor.update(new_message) + encryptor.finalize()\n",
    "print(ctx[0: len(padded_message)])\n",
    "print(ctx[len(padded_message):])"
   ]
  },
  {
   "cell_type": "markdown",
   "id": "bronze-column",
   "metadata": {},
   "source": [
    "This is not a desirable outcome. If I want to send the same message twice, I really don't want to send the same ciphertext. What if in all comunications I start by \"Dear...\" and the attacker knows it?. A better mode is the Cipher block chaining (CBC):"
   ]
  },
  {
   "cell_type": "markdown",
   "id": "sonic-ranking",
   "metadata": {},
   "source": [
    "<img src=\"img/CBC_mode.png\" style=\"width:1100px\"/>"
   ]
  },
  {
   "cell_type": "markdown",
   "id": "meaningful-preview",
   "metadata": {},
   "source": [
    "In this case we take a random initialization vector and perform XOR operation with the block of plaintext, then we feed this into the encryptor, after that we obtain the ciphertext. This ciphertext is used as the initialization vector to encrypt the next block."
   ]
  },
  {
   "cell_type": "code",
   "execution_count": 10,
   "id": "breeding-transportation",
   "metadata": {},
   "outputs": [],
   "source": [
    "secret_key = os.urandom(32)\n",
    "iv = os.urandom(16)\n",
    "\n",
    "cipher = Cipher(algorithms.AES(secret_key), modes.CBC(iv), backend=default_backend())\n",
    "\n",
    "encryptor = cipher.encryptor()\n",
    "decryptor = cipher.decryptor()"
   ]
  },
  {
   "cell_type": "code",
   "execution_count": 11,
   "id": "smooth-celtic",
   "metadata": {},
   "outputs": [
    {
     "name": "stdout",
     "output_type": "stream",
     "text": [
      "b'\\xa4\\x11\\xe0\\xbcH\\xb7\\x13\\xb9\\xe7\\x8d\\x80\\x8a\\x8a9\\xfa\\x0fJ\\xcd\\xd6\\xb7\\xef\\x10\\xf6\\xadd\\xb7\\xdc\\x85F\\xe4,\\x00\\x91\\x86\\x11~\\x92\\x86\\xd9\\x189\\xae\\xdb\\xe6=\\x97\\x1f\\x1a'\n",
      "b'\\x93\\x9dV]\\xbe\\xba2\\x1b\\xe2\\\\\\xaf\\xf4 \\xf1Y\\xbc\\x0eNo\\xe1\\x0e\\xaaX&#\\xcb\\xc2\\x8a\\xb6\\x89\\x08\\xa8\\rx\\xf68E\\t3\\xff)\\x0c\\x82\\xa1\\x86\\x1b\\xe4\\xe2'\n"
     ]
    }
   ],
   "source": [
    "ctx = encryptor.update(padded_message+padded_message) + encryptor.finalize()\n",
    "print(ctx[0: len(padded_message)])\n",
    "print(ctx[len(padded_message):])"
   ]
  },
  {
   "cell_type": "markdown",
   "id": "cutting-demographic",
   "metadata": {},
   "source": [
    "## Size of ciphertext <a class=\"anchor\" id=\"size\"></a>"
   ]
  },
  {
   "cell_type": "code",
   "execution_count": 12,
   "id": "quick-multiple",
   "metadata": {},
   "outputs": [
    {
     "name": "stdout",
     "output_type": "stream",
     "text": [
      "message_len=b'', message_len=0, padded_m=b'\\x10\\x10\\x10\\x10\\x10\\x10\\x10\\x10\\x10\\x10\\x10\\x10\\x10\\x10\\x10\\x10'\n",
      "message_len=b'a', message_len=1, padded_m=b'a\\x0f\\x0f\\x0f\\x0f\\x0f\\x0f\\x0f\\x0f\\x0f\\x0f\\x0f\\x0f\\x0f\\x0f\\x0f'\n",
      "message_len=b'aa', message_len=2, padded_m=b'aa\\x0e\\x0e\\x0e\\x0e\\x0e\\x0e\\x0e\\x0e\\x0e\\x0e\\x0e\\x0e\\x0e\\x0e'\n",
      "message_len=b'aaa', message_len=3, padded_m=b'aaa\\r\\r\\r\\r\\r\\r\\r\\r\\r\\r\\r\\r\\r'\n",
      "message_len=b'aaaa', message_len=4, padded_m=b'aaaa\\x0c\\x0c\\x0c\\x0c\\x0c\\x0c\\x0c\\x0c\\x0c\\x0c\\x0c\\x0c'\n",
      "message_len=b'aaaaa', message_len=5, padded_m=b'aaaaa\\x0b\\x0b\\x0b\\x0b\\x0b\\x0b\\x0b\\x0b\\x0b\\x0b\\x0b'\n",
      "message_len=b'aaaaaa', message_len=6, padded_m=b'aaaaaa\\n\\n\\n\\n\\n\\n\\n\\n\\n\\n'\n",
      "message_len=b'aaaaaaa', message_len=7, padded_m=b'aaaaaaa\\t\\t\\t\\t\\t\\t\\t\\t\\t'\n",
      "message_len=b'aaaaaaaa', message_len=8, padded_m=b'aaaaaaaa\\x08\\x08\\x08\\x08\\x08\\x08\\x08\\x08'\n",
      "message_len=b'aaaaaaaaa', message_len=9, padded_m=b'aaaaaaaaa\\x07\\x07\\x07\\x07\\x07\\x07\\x07'\n",
      "message_len=b'aaaaaaaaaa', message_len=10, padded_m=b'aaaaaaaaaa\\x06\\x06\\x06\\x06\\x06\\x06'\n",
      "message_len=b'aaaaaaaaaaa', message_len=11, padded_m=b'aaaaaaaaaaa\\x05\\x05\\x05\\x05\\x05'\n",
      "message_len=b'aaaaaaaaaaaa', message_len=12, padded_m=b'aaaaaaaaaaaa\\x04\\x04\\x04\\x04'\n",
      "message_len=b'aaaaaaaaaaaaa', message_len=13, padded_m=b'aaaaaaaaaaaaa\\x03\\x03\\x03'\n",
      "message_len=b'aaaaaaaaaaaaaa', message_len=14, padded_m=b'aaaaaaaaaaaaaa\\x02\\x02'\n",
      "message_len=b'aaaaaaaaaaaaaaa', message_len=15, padded_m=b'aaaaaaaaaaaaaaa\\x01'\n",
      "message_len=b'aaaaaaaaaaaaaaaa', message_len=16, padded_m=b'aaaaaaaaaaaaaaaa\\x10\\x10\\x10\\x10\\x10\\x10\\x10\\x10\\x10\\x10\\x10\\x10\\x10\\x10\\x10\\x10'\n",
      "message_len=b'aaaaaaaaaaaaaaaaa', message_len=17, padded_m=b'aaaaaaaaaaaaaaaaa\\x0f\\x0f\\x0f\\x0f\\x0f\\x0f\\x0f\\x0f\\x0f\\x0f\\x0f\\x0f\\x0f\\x0f\\x0f'\n",
      "message_len=b'aaaaaaaaaaaaaaaaaa', message_len=18, padded_m=b'aaaaaaaaaaaaaaaaaa\\x0e\\x0e\\x0e\\x0e\\x0e\\x0e\\x0e\\x0e\\x0e\\x0e\\x0e\\x0e\\x0e\\x0e'\n",
      "message_len=b'aaaaaaaaaaaaaaaaaaa', message_len=19, padded_m=b'aaaaaaaaaaaaaaaaaaa\\r\\r\\r\\r\\r\\r\\r\\r\\r\\r\\r\\r\\r'\n",
      "message_len=b'aaaaaaaaaaaaaaaaaaaa', message_len=20, padded_m=b'aaaaaaaaaaaaaaaaaaaa\\x0c\\x0c\\x0c\\x0c\\x0c\\x0c\\x0c\\x0c\\x0c\\x0c\\x0c\\x0c'\n",
      "message_len=b'aaaaaaaaaaaaaaaaaaaaa', message_len=21, padded_m=b'aaaaaaaaaaaaaaaaaaaaa\\x0b\\x0b\\x0b\\x0b\\x0b\\x0b\\x0b\\x0b\\x0b\\x0b\\x0b'\n",
      "message_len=b'aaaaaaaaaaaaaaaaaaaaaa', message_len=22, padded_m=b'aaaaaaaaaaaaaaaaaaaaaa\\n\\n\\n\\n\\n\\n\\n\\n\\n\\n'\n",
      "message_len=b'aaaaaaaaaaaaaaaaaaaaaaa', message_len=23, padded_m=b'aaaaaaaaaaaaaaaaaaaaaaa\\t\\t\\t\\t\\t\\t\\t\\t\\t'\n",
      "message_len=b'aaaaaaaaaaaaaaaaaaaaaaaa', message_len=24, padded_m=b'aaaaaaaaaaaaaaaaaaaaaaaa\\x08\\x08\\x08\\x08\\x08\\x08\\x08\\x08'\n",
      "message_len=b'aaaaaaaaaaaaaaaaaaaaaaaaa', message_len=25, padded_m=b'aaaaaaaaaaaaaaaaaaaaaaaaa\\x07\\x07\\x07\\x07\\x07\\x07\\x07'\n",
      "message_len=b'aaaaaaaaaaaaaaaaaaaaaaaaaa', message_len=26, padded_m=b'aaaaaaaaaaaaaaaaaaaaaaaaaa\\x06\\x06\\x06\\x06\\x06\\x06'\n",
      "message_len=b'aaaaaaaaaaaaaaaaaaaaaaaaaaa', message_len=27, padded_m=b'aaaaaaaaaaaaaaaaaaaaaaaaaaa\\x05\\x05\\x05\\x05\\x05'\n",
      "message_len=b'aaaaaaaaaaaaaaaaaaaaaaaaaaaa', message_len=28, padded_m=b'aaaaaaaaaaaaaaaaaaaaaaaaaaaa\\x04\\x04\\x04\\x04'\n",
      "message_len=b'aaaaaaaaaaaaaaaaaaaaaaaaaaaaa', message_len=29, padded_m=b'aaaaaaaaaaaaaaaaaaaaaaaaaaaaa\\x03\\x03\\x03'\n",
      "message_len=b'aaaaaaaaaaaaaaaaaaaaaaaaaaaaaa', message_len=30, padded_m=b'aaaaaaaaaaaaaaaaaaaaaaaaaaaaaa\\x02\\x02'\n",
      "message_len=b'aaaaaaaaaaaaaaaaaaaaaaaaaaaaaaa', message_len=31, padded_m=b'aaaaaaaaaaaaaaaaaaaaaaaaaaaaaaa\\x01'\n",
      "message_len=b'aaaaaaaaaaaaaaaaaaaaaaaaaaaaaaaa', message_len=32, padded_m=b'aaaaaaaaaaaaaaaaaaaaaaaaaaaaaaaa\\x10\\x10\\x10\\x10\\x10\\x10\\x10\\x10\\x10\\x10\\x10\\x10\\x10\\x10\\x10\\x10'\n",
      "message_len=b'aaaaaaaaaaaaaaaaaaaaaaaaaaaaaaaaa', message_len=33, padded_m=b'aaaaaaaaaaaaaaaaaaaaaaaaaaaaaaaaa\\x0f\\x0f\\x0f\\x0f\\x0f\\x0f\\x0f\\x0f\\x0f\\x0f\\x0f\\x0f\\x0f\\x0f\\x0f'\n",
      "message_len=b'aaaaaaaaaaaaaaaaaaaaaaaaaaaaaaaaaa', message_len=34, padded_m=b'aaaaaaaaaaaaaaaaaaaaaaaaaaaaaaaaaa\\x0e\\x0e\\x0e\\x0e\\x0e\\x0e\\x0e\\x0e\\x0e\\x0e\\x0e\\x0e\\x0e\\x0e'\n",
      "message_len=b'aaaaaaaaaaaaaaaaaaaaaaaaaaaaaaaaaaa', message_len=35, padded_m=b'aaaaaaaaaaaaaaaaaaaaaaaaaaaaaaaaaaa\\r\\r\\r\\r\\r\\r\\r\\r\\r\\r\\r\\r\\r'\n",
      "message_len=b'aaaaaaaaaaaaaaaaaaaaaaaaaaaaaaaaaaaa', message_len=36, padded_m=b'aaaaaaaaaaaaaaaaaaaaaaaaaaaaaaaaaaaa\\x0c\\x0c\\x0c\\x0c\\x0c\\x0c\\x0c\\x0c\\x0c\\x0c\\x0c\\x0c'\n",
      "message_len=b'aaaaaaaaaaaaaaaaaaaaaaaaaaaaaaaaaaaaa', message_len=37, padded_m=b'aaaaaaaaaaaaaaaaaaaaaaaaaaaaaaaaaaaaa\\x0b\\x0b\\x0b\\x0b\\x0b\\x0b\\x0b\\x0b\\x0b\\x0b\\x0b'\n",
      "message_len=b'aaaaaaaaaaaaaaaaaaaaaaaaaaaaaaaaaaaaaa', message_len=38, padded_m=b'aaaaaaaaaaaaaaaaaaaaaaaaaaaaaaaaaaaaaa\\n\\n\\n\\n\\n\\n\\n\\n\\n\\n'\n",
      "message_len=b'aaaaaaaaaaaaaaaaaaaaaaaaaaaaaaaaaaaaaaa', message_len=39, padded_m=b'aaaaaaaaaaaaaaaaaaaaaaaaaaaaaaaaaaaaaaa\\t\\t\\t\\t\\t\\t\\t\\t\\t'\n",
      "message_len=b'aaaaaaaaaaaaaaaaaaaaaaaaaaaaaaaaaaaaaaaa', message_len=40, padded_m=b'aaaaaaaaaaaaaaaaaaaaaaaaaaaaaaaaaaaaaaaa\\x08\\x08\\x08\\x08\\x08\\x08\\x08\\x08'\n",
      "message_len=b'aaaaaaaaaaaaaaaaaaaaaaaaaaaaaaaaaaaaaaaaa', message_len=41, padded_m=b'aaaaaaaaaaaaaaaaaaaaaaaaaaaaaaaaaaaaaaaaa\\x07\\x07\\x07\\x07\\x07\\x07\\x07'\n",
      "message_len=b'aaaaaaaaaaaaaaaaaaaaaaaaaaaaaaaaaaaaaaaaaa', message_len=42, padded_m=b'aaaaaaaaaaaaaaaaaaaaaaaaaaaaaaaaaaaaaaaaaa\\x06\\x06\\x06\\x06\\x06\\x06'\n",
      "message_len=b'aaaaaaaaaaaaaaaaaaaaaaaaaaaaaaaaaaaaaaaaaaa', message_len=43, padded_m=b'aaaaaaaaaaaaaaaaaaaaaaaaaaaaaaaaaaaaaaaaaaa\\x05\\x05\\x05\\x05\\x05'\n",
      "message_len=b'aaaaaaaaaaaaaaaaaaaaaaaaaaaaaaaaaaaaaaaaaaaa', message_len=44, padded_m=b'aaaaaaaaaaaaaaaaaaaaaaaaaaaaaaaaaaaaaaaaaaaa\\x04\\x04\\x04\\x04'\n",
      "message_len=b'aaaaaaaaaaaaaaaaaaaaaaaaaaaaaaaaaaaaaaaaaaaaa', message_len=45, padded_m=b'aaaaaaaaaaaaaaaaaaaaaaaaaaaaaaaaaaaaaaaaaaaaa\\x03\\x03\\x03'\n",
      "message_len=b'aaaaaaaaaaaaaaaaaaaaaaaaaaaaaaaaaaaaaaaaaaaaaa', message_len=46, padded_m=b'aaaaaaaaaaaaaaaaaaaaaaaaaaaaaaaaaaaaaaaaaaaaaa\\x02\\x02'\n",
      "message_len=b'aaaaaaaaaaaaaaaaaaaaaaaaaaaaaaaaaaaaaaaaaaaaaaa', message_len=47, padded_m=b'aaaaaaaaaaaaaaaaaaaaaaaaaaaaaaaaaaaaaaaaaaaaaaa\\x01'\n",
      "message_len=b'aaaaaaaaaaaaaaaaaaaaaaaaaaaaaaaaaaaaaaaaaaaaaaaa', message_len=48, padded_m=b'aaaaaaaaaaaaaaaaaaaaaaaaaaaaaaaaaaaaaaaaaaaaaaaa\\x10\\x10\\x10\\x10\\x10\\x10\\x10\\x10\\x10\\x10\\x10\\x10\\x10\\x10\\x10\\x10'\n",
      "message_len=b'aaaaaaaaaaaaaaaaaaaaaaaaaaaaaaaaaaaaaaaaaaaaaaaaa', message_len=49, padded_m=b'aaaaaaaaaaaaaaaaaaaaaaaaaaaaaaaaaaaaaaaaaaaaaaaaa\\x0f\\x0f\\x0f\\x0f\\x0f\\x0f\\x0f\\x0f\\x0f\\x0f\\x0f\\x0f\\x0f\\x0f\\x0f'\n",
      "message_len=b'aaaaaaaaaaaaaaaaaaaaaaaaaaaaaaaaaaaaaaaaaaaaaaaaaa', message_len=50, padded_m=b'aaaaaaaaaaaaaaaaaaaaaaaaaaaaaaaaaaaaaaaaaaaaaaaaaa\\x0e\\x0e\\x0e\\x0e\\x0e\\x0e\\x0e\\x0e\\x0e\\x0e\\x0e\\x0e\\x0e\\x0e'\n",
      "message_len=b'aaaaaaaaaaaaaaaaaaaaaaaaaaaaaaaaaaaaaaaaaaaaaaaaaaa', message_len=51, padded_m=b'aaaaaaaaaaaaaaaaaaaaaaaaaaaaaaaaaaaaaaaaaaaaaaaaaaa\\r\\r\\r\\r\\r\\r\\r\\r\\r\\r\\r\\r\\r'\n",
      "message_len=b'aaaaaaaaaaaaaaaaaaaaaaaaaaaaaaaaaaaaaaaaaaaaaaaaaaaa', message_len=52, padded_m=b'aaaaaaaaaaaaaaaaaaaaaaaaaaaaaaaaaaaaaaaaaaaaaaaaaaaa\\x0c\\x0c\\x0c\\x0c\\x0c\\x0c\\x0c\\x0c\\x0c\\x0c\\x0c\\x0c'\n",
      "message_len=b'aaaaaaaaaaaaaaaaaaaaaaaaaaaaaaaaaaaaaaaaaaaaaaaaaaaaa', message_len=53, padded_m=b'aaaaaaaaaaaaaaaaaaaaaaaaaaaaaaaaaaaaaaaaaaaaaaaaaaaaa\\x0b\\x0b\\x0b\\x0b\\x0b\\x0b\\x0b\\x0b\\x0b\\x0b\\x0b'\n",
      "message_len=b'aaaaaaaaaaaaaaaaaaaaaaaaaaaaaaaaaaaaaaaaaaaaaaaaaaaaaa', message_len=54, padded_m=b'aaaaaaaaaaaaaaaaaaaaaaaaaaaaaaaaaaaaaaaaaaaaaaaaaaaaaa\\n\\n\\n\\n\\n\\n\\n\\n\\n\\n'\n",
      "message_len=b'aaaaaaaaaaaaaaaaaaaaaaaaaaaaaaaaaaaaaaaaaaaaaaaaaaaaaaa', message_len=55, padded_m=b'aaaaaaaaaaaaaaaaaaaaaaaaaaaaaaaaaaaaaaaaaaaaaaaaaaaaaaa\\t\\t\\t\\t\\t\\t\\t\\t\\t'\n",
      "message_len=b'aaaaaaaaaaaaaaaaaaaaaaaaaaaaaaaaaaaaaaaaaaaaaaaaaaaaaaaa', message_len=56, padded_m=b'aaaaaaaaaaaaaaaaaaaaaaaaaaaaaaaaaaaaaaaaaaaaaaaaaaaaaaaa\\x08\\x08\\x08\\x08\\x08\\x08\\x08\\x08'\n",
      "message_len=b'aaaaaaaaaaaaaaaaaaaaaaaaaaaaaaaaaaaaaaaaaaaaaaaaaaaaaaaaa', message_len=57, padded_m=b'aaaaaaaaaaaaaaaaaaaaaaaaaaaaaaaaaaaaaaaaaaaaaaaaaaaaaaaaa\\x07\\x07\\x07\\x07\\x07\\x07\\x07'\n",
      "message_len=b'aaaaaaaaaaaaaaaaaaaaaaaaaaaaaaaaaaaaaaaaaaaaaaaaaaaaaaaaaa', message_len=58, padded_m=b'aaaaaaaaaaaaaaaaaaaaaaaaaaaaaaaaaaaaaaaaaaaaaaaaaaaaaaaaaa\\x06\\x06\\x06\\x06\\x06\\x06'\n",
      "message_len=b'aaaaaaaaaaaaaaaaaaaaaaaaaaaaaaaaaaaaaaaaaaaaaaaaaaaaaaaaaaa', message_len=59, padded_m=b'aaaaaaaaaaaaaaaaaaaaaaaaaaaaaaaaaaaaaaaaaaaaaaaaaaaaaaaaaaa\\x05\\x05\\x05\\x05\\x05'\n",
      "message_len=b'aaaaaaaaaaaaaaaaaaaaaaaaaaaaaaaaaaaaaaaaaaaaaaaaaaaaaaaaaaaa', message_len=60, padded_m=b'aaaaaaaaaaaaaaaaaaaaaaaaaaaaaaaaaaaaaaaaaaaaaaaaaaaaaaaaaaaa\\x04\\x04\\x04\\x04'\n",
      "message_len=b'aaaaaaaaaaaaaaaaaaaaaaaaaaaaaaaaaaaaaaaaaaaaaaaaaaaaaaaaaaaaa', message_len=61, padded_m=b'aaaaaaaaaaaaaaaaaaaaaaaaaaaaaaaaaaaaaaaaaaaaaaaaaaaaaaaaaaaaa\\x03\\x03\\x03'\n",
      "message_len=b'aaaaaaaaaaaaaaaaaaaaaaaaaaaaaaaaaaaaaaaaaaaaaaaaaaaaaaaaaaaaaa', message_len=62, padded_m=b'aaaaaaaaaaaaaaaaaaaaaaaaaaaaaaaaaaaaaaaaaaaaaaaaaaaaaaaaaaaaaa\\x02\\x02'\n",
      "message_len=b'aaaaaaaaaaaaaaaaaaaaaaaaaaaaaaaaaaaaaaaaaaaaaaaaaaaaaaaaaaaaaaa', message_len=63, padded_m=b'aaaaaaaaaaaaaaaaaaaaaaaaaaaaaaaaaaaaaaaaaaaaaaaaaaaaaaaaaaaaaaa\\x01'\n",
      "message_len=b'aaaaaaaaaaaaaaaaaaaaaaaaaaaaaaaaaaaaaaaaaaaaaaaaaaaaaaaaaaaaaaaa', message_len=64, padded_m=b'aaaaaaaaaaaaaaaaaaaaaaaaaaaaaaaaaaaaaaaaaaaaaaaaaaaaaaaaaaaaaaaa\\x10\\x10\\x10\\x10\\x10\\x10\\x10\\x10\\x10\\x10\\x10\\x10\\x10\\x10\\x10\\x10'\n",
      "message_len=b'aaaaaaaaaaaaaaaaaaaaaaaaaaaaaaaaaaaaaaaaaaaaaaaaaaaaaaaaaaaaaaaaa', message_len=65, padded_m=b'aaaaaaaaaaaaaaaaaaaaaaaaaaaaaaaaaaaaaaaaaaaaaaaaaaaaaaaaaaaaaaaaa\\x0f\\x0f\\x0f\\x0f\\x0f\\x0f\\x0f\\x0f\\x0f\\x0f\\x0f\\x0f\\x0f\\x0f\\x0f'\n",
      "message_len=b'aaaaaaaaaaaaaaaaaaaaaaaaaaaaaaaaaaaaaaaaaaaaaaaaaaaaaaaaaaaaaaaaaa', message_len=66, padded_m=b'aaaaaaaaaaaaaaaaaaaaaaaaaaaaaaaaaaaaaaaaaaaaaaaaaaaaaaaaaaaaaaaaaa\\x0e\\x0e\\x0e\\x0e\\x0e\\x0e\\x0e\\x0e\\x0e\\x0e\\x0e\\x0e\\x0e\\x0e'\n",
      "message_len=b'aaaaaaaaaaaaaaaaaaaaaaaaaaaaaaaaaaaaaaaaaaaaaaaaaaaaaaaaaaaaaaaaaaa', message_len=67, padded_m=b'aaaaaaaaaaaaaaaaaaaaaaaaaaaaaaaaaaaaaaaaaaaaaaaaaaaaaaaaaaaaaaaaaaa\\r\\r\\r\\r\\r\\r\\r\\r\\r\\r\\r\\r\\r'\n",
      "message_len=b'aaaaaaaaaaaaaaaaaaaaaaaaaaaaaaaaaaaaaaaaaaaaaaaaaaaaaaaaaaaaaaaaaaaa', message_len=68, padded_m=b'aaaaaaaaaaaaaaaaaaaaaaaaaaaaaaaaaaaaaaaaaaaaaaaaaaaaaaaaaaaaaaaaaaaa\\x0c\\x0c\\x0c\\x0c\\x0c\\x0c\\x0c\\x0c\\x0c\\x0c\\x0c\\x0c'\n",
      "message_len=b'aaaaaaaaaaaaaaaaaaaaaaaaaaaaaaaaaaaaaaaaaaaaaaaaaaaaaaaaaaaaaaaaaaaaa', message_len=69, padded_m=b'aaaaaaaaaaaaaaaaaaaaaaaaaaaaaaaaaaaaaaaaaaaaaaaaaaaaaaaaaaaaaaaaaaaaa\\x0b\\x0b\\x0b\\x0b\\x0b\\x0b\\x0b\\x0b\\x0b\\x0b\\x0b'\n",
      "message_len=b'aaaaaaaaaaaaaaaaaaaaaaaaaaaaaaaaaaaaaaaaaaaaaaaaaaaaaaaaaaaaaaaaaaaaaa', message_len=70, padded_m=b'aaaaaaaaaaaaaaaaaaaaaaaaaaaaaaaaaaaaaaaaaaaaaaaaaaaaaaaaaaaaaaaaaaaaaa\\n\\n\\n\\n\\n\\n\\n\\n\\n\\n'\n",
      "message_len=b'aaaaaaaaaaaaaaaaaaaaaaaaaaaaaaaaaaaaaaaaaaaaaaaaaaaaaaaaaaaaaaaaaaaaaaa', message_len=71, padded_m=b'aaaaaaaaaaaaaaaaaaaaaaaaaaaaaaaaaaaaaaaaaaaaaaaaaaaaaaaaaaaaaaaaaaaaaaa\\t\\t\\t\\t\\t\\t\\t\\t\\t'\n",
      "message_len=b'aaaaaaaaaaaaaaaaaaaaaaaaaaaaaaaaaaaaaaaaaaaaaaaaaaaaaaaaaaaaaaaaaaaaaaaa', message_len=72, padded_m=b'aaaaaaaaaaaaaaaaaaaaaaaaaaaaaaaaaaaaaaaaaaaaaaaaaaaaaaaaaaaaaaaaaaaaaaaa\\x08\\x08\\x08\\x08\\x08\\x08\\x08\\x08'\n",
      "message_len=b'aaaaaaaaaaaaaaaaaaaaaaaaaaaaaaaaaaaaaaaaaaaaaaaaaaaaaaaaaaaaaaaaaaaaaaaaa', message_len=73, padded_m=b'aaaaaaaaaaaaaaaaaaaaaaaaaaaaaaaaaaaaaaaaaaaaaaaaaaaaaaaaaaaaaaaaaaaaaaaaa\\x07\\x07\\x07\\x07\\x07\\x07\\x07'\n",
      "message_len=b'aaaaaaaaaaaaaaaaaaaaaaaaaaaaaaaaaaaaaaaaaaaaaaaaaaaaaaaaaaaaaaaaaaaaaaaaaa', message_len=74, padded_m=b'aaaaaaaaaaaaaaaaaaaaaaaaaaaaaaaaaaaaaaaaaaaaaaaaaaaaaaaaaaaaaaaaaaaaaaaaaa\\x06\\x06\\x06\\x06\\x06\\x06'\n",
      "message_len=b'aaaaaaaaaaaaaaaaaaaaaaaaaaaaaaaaaaaaaaaaaaaaaaaaaaaaaaaaaaaaaaaaaaaaaaaaaaa', message_len=75, padded_m=b'aaaaaaaaaaaaaaaaaaaaaaaaaaaaaaaaaaaaaaaaaaaaaaaaaaaaaaaaaaaaaaaaaaaaaaaaaaa\\x05\\x05\\x05\\x05\\x05'\n",
      "message_len=b'aaaaaaaaaaaaaaaaaaaaaaaaaaaaaaaaaaaaaaaaaaaaaaaaaaaaaaaaaaaaaaaaaaaaaaaaaaaa', message_len=76, padded_m=b'aaaaaaaaaaaaaaaaaaaaaaaaaaaaaaaaaaaaaaaaaaaaaaaaaaaaaaaaaaaaaaaaaaaaaaaaaaaa\\x04\\x04\\x04\\x04'\n",
      "message_len=b'aaaaaaaaaaaaaaaaaaaaaaaaaaaaaaaaaaaaaaaaaaaaaaaaaaaaaaaaaaaaaaaaaaaaaaaaaaaaa', message_len=77, padded_m=b'aaaaaaaaaaaaaaaaaaaaaaaaaaaaaaaaaaaaaaaaaaaaaaaaaaaaaaaaaaaaaaaaaaaaaaaaaaaaa\\x03\\x03\\x03'\n",
      "message_len=b'aaaaaaaaaaaaaaaaaaaaaaaaaaaaaaaaaaaaaaaaaaaaaaaaaaaaaaaaaaaaaaaaaaaaaaaaaaaaaa', message_len=78, padded_m=b'aaaaaaaaaaaaaaaaaaaaaaaaaaaaaaaaaaaaaaaaaaaaaaaaaaaaaaaaaaaaaaaaaaaaaaaaaaaaaa\\x02\\x02'\n",
      "message_len=b'aaaaaaaaaaaaaaaaaaaaaaaaaaaaaaaaaaaaaaaaaaaaaaaaaaaaaaaaaaaaaaaaaaaaaaaaaaaaaaa', message_len=79, padded_m=b'aaaaaaaaaaaaaaaaaaaaaaaaaaaaaaaaaaaaaaaaaaaaaaaaaaaaaaaaaaaaaaaaaaaaaaaaaaaaaaa\\x01'\n",
      "message_len=b'aaaaaaaaaaaaaaaaaaaaaaaaaaaaaaaaaaaaaaaaaaaaaaaaaaaaaaaaaaaaaaaaaaaaaaaaaaaaaaaa', message_len=80, padded_m=b'aaaaaaaaaaaaaaaaaaaaaaaaaaaaaaaaaaaaaaaaaaaaaaaaaaaaaaaaaaaaaaaaaaaaaaaaaaaaaaaa\\x10\\x10\\x10\\x10\\x10\\x10\\x10\\x10\\x10\\x10\\x10\\x10\\x10\\x10\\x10\\x10'\n",
      "message_len=b'aaaaaaaaaaaaaaaaaaaaaaaaaaaaaaaaaaaaaaaaaaaaaaaaaaaaaaaaaaaaaaaaaaaaaaaaaaaaaaaaa', message_len=81, padded_m=b'aaaaaaaaaaaaaaaaaaaaaaaaaaaaaaaaaaaaaaaaaaaaaaaaaaaaaaaaaaaaaaaaaaaaaaaaaaaaaaaaa\\x0f\\x0f\\x0f\\x0f\\x0f\\x0f\\x0f\\x0f\\x0f\\x0f\\x0f\\x0f\\x0f\\x0f\\x0f'\n",
      "message_len=b'aaaaaaaaaaaaaaaaaaaaaaaaaaaaaaaaaaaaaaaaaaaaaaaaaaaaaaaaaaaaaaaaaaaaaaaaaaaaaaaaaa', message_len=82, padded_m=b'aaaaaaaaaaaaaaaaaaaaaaaaaaaaaaaaaaaaaaaaaaaaaaaaaaaaaaaaaaaaaaaaaaaaaaaaaaaaaaaaaa\\x0e\\x0e\\x0e\\x0e\\x0e\\x0e\\x0e\\x0e\\x0e\\x0e\\x0e\\x0e\\x0e\\x0e'\n",
      "message_len=b'aaaaaaaaaaaaaaaaaaaaaaaaaaaaaaaaaaaaaaaaaaaaaaaaaaaaaaaaaaaaaaaaaaaaaaaaaaaaaaaaaaa', message_len=83, padded_m=b'aaaaaaaaaaaaaaaaaaaaaaaaaaaaaaaaaaaaaaaaaaaaaaaaaaaaaaaaaaaaaaaaaaaaaaaaaaaaaaaaaaa\\r\\r\\r\\r\\r\\r\\r\\r\\r\\r\\r\\r\\r'\n",
      "message_len=b'aaaaaaaaaaaaaaaaaaaaaaaaaaaaaaaaaaaaaaaaaaaaaaaaaaaaaaaaaaaaaaaaaaaaaaaaaaaaaaaaaaaa', message_len=84, padded_m=b'aaaaaaaaaaaaaaaaaaaaaaaaaaaaaaaaaaaaaaaaaaaaaaaaaaaaaaaaaaaaaaaaaaaaaaaaaaaaaaaaaaaa\\x0c\\x0c\\x0c\\x0c\\x0c\\x0c\\x0c\\x0c\\x0c\\x0c\\x0c\\x0c'\n",
      "message_len=b'aaaaaaaaaaaaaaaaaaaaaaaaaaaaaaaaaaaaaaaaaaaaaaaaaaaaaaaaaaaaaaaaaaaaaaaaaaaaaaaaaaaaa', message_len=85, padded_m=b'aaaaaaaaaaaaaaaaaaaaaaaaaaaaaaaaaaaaaaaaaaaaaaaaaaaaaaaaaaaaaaaaaaaaaaaaaaaaaaaaaaaaa\\x0b\\x0b\\x0b\\x0b\\x0b\\x0b\\x0b\\x0b\\x0b\\x0b\\x0b'\n",
      "message_len=b'aaaaaaaaaaaaaaaaaaaaaaaaaaaaaaaaaaaaaaaaaaaaaaaaaaaaaaaaaaaaaaaaaaaaaaaaaaaaaaaaaaaaaa', message_len=86, padded_m=b'aaaaaaaaaaaaaaaaaaaaaaaaaaaaaaaaaaaaaaaaaaaaaaaaaaaaaaaaaaaaaaaaaaaaaaaaaaaaaaaaaaaaaa\\n\\n\\n\\n\\n\\n\\n\\n\\n\\n'\n",
      "message_len=b'aaaaaaaaaaaaaaaaaaaaaaaaaaaaaaaaaaaaaaaaaaaaaaaaaaaaaaaaaaaaaaaaaaaaaaaaaaaaaaaaaaaaaaa', message_len=87, padded_m=b'aaaaaaaaaaaaaaaaaaaaaaaaaaaaaaaaaaaaaaaaaaaaaaaaaaaaaaaaaaaaaaaaaaaaaaaaaaaaaaaaaaaaaaa\\t\\t\\t\\t\\t\\t\\t\\t\\t'\n",
      "message_len=b'aaaaaaaaaaaaaaaaaaaaaaaaaaaaaaaaaaaaaaaaaaaaaaaaaaaaaaaaaaaaaaaaaaaaaaaaaaaaaaaaaaaaaaaa', message_len=88, padded_m=b'aaaaaaaaaaaaaaaaaaaaaaaaaaaaaaaaaaaaaaaaaaaaaaaaaaaaaaaaaaaaaaaaaaaaaaaaaaaaaaaaaaaaaaaa\\x08\\x08\\x08\\x08\\x08\\x08\\x08\\x08'\n",
      "message_len=b'aaaaaaaaaaaaaaaaaaaaaaaaaaaaaaaaaaaaaaaaaaaaaaaaaaaaaaaaaaaaaaaaaaaaaaaaaaaaaaaaaaaaaaaaa', message_len=89, padded_m=b'aaaaaaaaaaaaaaaaaaaaaaaaaaaaaaaaaaaaaaaaaaaaaaaaaaaaaaaaaaaaaaaaaaaaaaaaaaaaaaaaaaaaaaaaa\\x07\\x07\\x07\\x07\\x07\\x07\\x07'\n",
      "message_len=b'aaaaaaaaaaaaaaaaaaaaaaaaaaaaaaaaaaaaaaaaaaaaaaaaaaaaaaaaaaaaaaaaaaaaaaaaaaaaaaaaaaaaaaaaaa', message_len=90, padded_m=b'aaaaaaaaaaaaaaaaaaaaaaaaaaaaaaaaaaaaaaaaaaaaaaaaaaaaaaaaaaaaaaaaaaaaaaaaaaaaaaaaaaaaaaaaaa\\x06\\x06\\x06\\x06\\x06\\x06'\n",
      "message_len=b'aaaaaaaaaaaaaaaaaaaaaaaaaaaaaaaaaaaaaaaaaaaaaaaaaaaaaaaaaaaaaaaaaaaaaaaaaaaaaaaaaaaaaaaaaaa', message_len=91, padded_m=b'aaaaaaaaaaaaaaaaaaaaaaaaaaaaaaaaaaaaaaaaaaaaaaaaaaaaaaaaaaaaaaaaaaaaaaaaaaaaaaaaaaaaaaaaaaa\\x05\\x05\\x05\\x05\\x05'\n",
      "message_len=b'aaaaaaaaaaaaaaaaaaaaaaaaaaaaaaaaaaaaaaaaaaaaaaaaaaaaaaaaaaaaaaaaaaaaaaaaaaaaaaaaaaaaaaaaaaaa', message_len=92, padded_m=b'aaaaaaaaaaaaaaaaaaaaaaaaaaaaaaaaaaaaaaaaaaaaaaaaaaaaaaaaaaaaaaaaaaaaaaaaaaaaaaaaaaaaaaaaaaaa\\x04\\x04\\x04\\x04'\n",
      "message_len=b'aaaaaaaaaaaaaaaaaaaaaaaaaaaaaaaaaaaaaaaaaaaaaaaaaaaaaaaaaaaaaaaaaaaaaaaaaaaaaaaaaaaaaaaaaaaaa', message_len=93, padded_m=b'aaaaaaaaaaaaaaaaaaaaaaaaaaaaaaaaaaaaaaaaaaaaaaaaaaaaaaaaaaaaaaaaaaaaaaaaaaaaaaaaaaaaaaaaaaaaa\\x03\\x03\\x03'\n",
      "message_len=b'aaaaaaaaaaaaaaaaaaaaaaaaaaaaaaaaaaaaaaaaaaaaaaaaaaaaaaaaaaaaaaaaaaaaaaaaaaaaaaaaaaaaaaaaaaaaaa', message_len=94, padded_m=b'aaaaaaaaaaaaaaaaaaaaaaaaaaaaaaaaaaaaaaaaaaaaaaaaaaaaaaaaaaaaaaaaaaaaaaaaaaaaaaaaaaaaaaaaaaaaaa\\x02\\x02'\n",
      "message_len=b'aaaaaaaaaaaaaaaaaaaaaaaaaaaaaaaaaaaaaaaaaaaaaaaaaaaaaaaaaaaaaaaaaaaaaaaaaaaaaaaaaaaaaaaaaaaaaaa', message_len=95, padded_m=b'aaaaaaaaaaaaaaaaaaaaaaaaaaaaaaaaaaaaaaaaaaaaaaaaaaaaaaaaaaaaaaaaaaaaaaaaaaaaaaaaaaaaaaaaaaaaaaa\\x01'\n",
      "message_len=b'aaaaaaaaaaaaaaaaaaaaaaaaaaaaaaaaaaaaaaaaaaaaaaaaaaaaaaaaaaaaaaaaaaaaaaaaaaaaaaaaaaaaaaaaaaaaaaaa', message_len=96, padded_m=b'aaaaaaaaaaaaaaaaaaaaaaaaaaaaaaaaaaaaaaaaaaaaaaaaaaaaaaaaaaaaaaaaaaaaaaaaaaaaaaaaaaaaaaaaaaaaaaaa\\x10\\x10\\x10\\x10\\x10\\x10\\x10\\x10\\x10\\x10\\x10\\x10\\x10\\x10\\x10\\x10'\n",
      "message_len=b'aaaaaaaaaaaaaaaaaaaaaaaaaaaaaaaaaaaaaaaaaaaaaaaaaaaaaaaaaaaaaaaaaaaaaaaaaaaaaaaaaaaaaaaaaaaaaaaaa', message_len=97, padded_m=b'aaaaaaaaaaaaaaaaaaaaaaaaaaaaaaaaaaaaaaaaaaaaaaaaaaaaaaaaaaaaaaaaaaaaaaaaaaaaaaaaaaaaaaaaaaaaaaaaa\\x0f\\x0f\\x0f\\x0f\\x0f\\x0f\\x0f\\x0f\\x0f\\x0f\\x0f\\x0f\\x0f\\x0f\\x0f'\n",
      "message_len=b'aaaaaaaaaaaaaaaaaaaaaaaaaaaaaaaaaaaaaaaaaaaaaaaaaaaaaaaaaaaaaaaaaaaaaaaaaaaaaaaaaaaaaaaaaaaaaaaaaa', message_len=98, padded_m=b'aaaaaaaaaaaaaaaaaaaaaaaaaaaaaaaaaaaaaaaaaaaaaaaaaaaaaaaaaaaaaaaaaaaaaaaaaaaaaaaaaaaaaaaaaaaaaaaaaa\\x0e\\x0e\\x0e\\x0e\\x0e\\x0e\\x0e\\x0e\\x0e\\x0e\\x0e\\x0e\\x0e\\x0e'\n",
      "message_len=b'aaaaaaaaaaaaaaaaaaaaaaaaaaaaaaaaaaaaaaaaaaaaaaaaaaaaaaaaaaaaaaaaaaaaaaaaaaaaaaaaaaaaaaaaaaaaaaaaaaa', message_len=99, padded_m=b'aaaaaaaaaaaaaaaaaaaaaaaaaaaaaaaaaaaaaaaaaaaaaaaaaaaaaaaaaaaaaaaaaaaaaaaaaaaaaaaaaaaaaaaaaaaaaaaaaaa\\r\\r\\r\\r\\r\\r\\r\\r\\r\\r\\r\\r\\r'\n",
      "message_len=b'aaaaaaaaaaaaaaaaaaaaaaaaaaaaaaaaaaaaaaaaaaaaaaaaaaaaaaaaaaaaaaaaaaaaaaaaaaaaaaaaaaaaaaaaaaaaaaaaaaaa', message_len=100, padded_m=b'aaaaaaaaaaaaaaaaaaaaaaaaaaaaaaaaaaaaaaaaaaaaaaaaaaaaaaaaaaaaaaaaaaaaaaaaaaaaaaaaaaaaaaaaaaaaaaaaaaaa\\x0c\\x0c\\x0c\\x0c\\x0c\\x0c\\x0c\\x0c\\x0c\\x0c\\x0c\\x0c'\n",
      "message_len=b'aaaaaaaaaaaaaaaaaaaaaaaaaaaaaaaaaaaaaaaaaaaaaaaaaaaaaaaaaaaaaaaaaaaaaaaaaaaaaaaaaaaaaaaaaaaaaaaaaaaaa', message_len=101, padded_m=b'aaaaaaaaaaaaaaaaaaaaaaaaaaaaaaaaaaaaaaaaaaaaaaaaaaaaaaaaaaaaaaaaaaaaaaaaaaaaaaaaaaaaaaaaaaaaaaaaaaaaa\\x0b\\x0b\\x0b\\x0b\\x0b\\x0b\\x0b\\x0b\\x0b\\x0b\\x0b'\n",
      "message_len=b'aaaaaaaaaaaaaaaaaaaaaaaaaaaaaaaaaaaaaaaaaaaaaaaaaaaaaaaaaaaaaaaaaaaaaaaaaaaaaaaaaaaaaaaaaaaaaaaaaaaaaa', message_len=102, padded_m=b'aaaaaaaaaaaaaaaaaaaaaaaaaaaaaaaaaaaaaaaaaaaaaaaaaaaaaaaaaaaaaaaaaaaaaaaaaaaaaaaaaaaaaaaaaaaaaaaaaaaaaa\\n\\n\\n\\n\\n\\n\\n\\n\\n\\n'\n",
      "message_len=b'aaaaaaaaaaaaaaaaaaaaaaaaaaaaaaaaaaaaaaaaaaaaaaaaaaaaaaaaaaaaaaaaaaaaaaaaaaaaaaaaaaaaaaaaaaaaaaaaaaaaaaa', message_len=103, padded_m=b'aaaaaaaaaaaaaaaaaaaaaaaaaaaaaaaaaaaaaaaaaaaaaaaaaaaaaaaaaaaaaaaaaaaaaaaaaaaaaaaaaaaaaaaaaaaaaaaaaaaaaaa\\t\\t\\t\\t\\t\\t\\t\\t\\t'\n",
      "message_len=b'aaaaaaaaaaaaaaaaaaaaaaaaaaaaaaaaaaaaaaaaaaaaaaaaaaaaaaaaaaaaaaaaaaaaaaaaaaaaaaaaaaaaaaaaaaaaaaaaaaaaaaaa', message_len=104, padded_m=b'aaaaaaaaaaaaaaaaaaaaaaaaaaaaaaaaaaaaaaaaaaaaaaaaaaaaaaaaaaaaaaaaaaaaaaaaaaaaaaaaaaaaaaaaaaaaaaaaaaaaaaaa\\x08\\x08\\x08\\x08\\x08\\x08\\x08\\x08'\n",
      "message_len=b'aaaaaaaaaaaaaaaaaaaaaaaaaaaaaaaaaaaaaaaaaaaaaaaaaaaaaaaaaaaaaaaaaaaaaaaaaaaaaaaaaaaaaaaaaaaaaaaaaaaaaaaaa', message_len=105, padded_m=b'aaaaaaaaaaaaaaaaaaaaaaaaaaaaaaaaaaaaaaaaaaaaaaaaaaaaaaaaaaaaaaaaaaaaaaaaaaaaaaaaaaaaaaaaaaaaaaaaaaaaaaaaa\\x07\\x07\\x07\\x07\\x07\\x07\\x07'\n",
      "message_len=b'aaaaaaaaaaaaaaaaaaaaaaaaaaaaaaaaaaaaaaaaaaaaaaaaaaaaaaaaaaaaaaaaaaaaaaaaaaaaaaaaaaaaaaaaaaaaaaaaaaaaaaaaaa', message_len=106, padded_m=b'aaaaaaaaaaaaaaaaaaaaaaaaaaaaaaaaaaaaaaaaaaaaaaaaaaaaaaaaaaaaaaaaaaaaaaaaaaaaaaaaaaaaaaaaaaaaaaaaaaaaaaaaaa\\x06\\x06\\x06\\x06\\x06\\x06'\n",
      "message_len=b'aaaaaaaaaaaaaaaaaaaaaaaaaaaaaaaaaaaaaaaaaaaaaaaaaaaaaaaaaaaaaaaaaaaaaaaaaaaaaaaaaaaaaaaaaaaaaaaaaaaaaaaaaaa', message_len=107, padded_m=b'aaaaaaaaaaaaaaaaaaaaaaaaaaaaaaaaaaaaaaaaaaaaaaaaaaaaaaaaaaaaaaaaaaaaaaaaaaaaaaaaaaaaaaaaaaaaaaaaaaaaaaaaaaa\\x05\\x05\\x05\\x05\\x05'\n",
      "message_len=b'aaaaaaaaaaaaaaaaaaaaaaaaaaaaaaaaaaaaaaaaaaaaaaaaaaaaaaaaaaaaaaaaaaaaaaaaaaaaaaaaaaaaaaaaaaaaaaaaaaaaaaaaaaaa', message_len=108, padded_m=b'aaaaaaaaaaaaaaaaaaaaaaaaaaaaaaaaaaaaaaaaaaaaaaaaaaaaaaaaaaaaaaaaaaaaaaaaaaaaaaaaaaaaaaaaaaaaaaaaaaaaaaaaaaaa\\x04\\x04\\x04\\x04'\n",
      "message_len=b'aaaaaaaaaaaaaaaaaaaaaaaaaaaaaaaaaaaaaaaaaaaaaaaaaaaaaaaaaaaaaaaaaaaaaaaaaaaaaaaaaaaaaaaaaaaaaaaaaaaaaaaaaaaaa', message_len=109, padded_m=b'aaaaaaaaaaaaaaaaaaaaaaaaaaaaaaaaaaaaaaaaaaaaaaaaaaaaaaaaaaaaaaaaaaaaaaaaaaaaaaaaaaaaaaaaaaaaaaaaaaaaaaaaaaaaa\\x03\\x03\\x03'\n",
      "message_len=b'aaaaaaaaaaaaaaaaaaaaaaaaaaaaaaaaaaaaaaaaaaaaaaaaaaaaaaaaaaaaaaaaaaaaaaaaaaaaaaaaaaaaaaaaaaaaaaaaaaaaaaaaaaaaaa', message_len=110, padded_m=b'aaaaaaaaaaaaaaaaaaaaaaaaaaaaaaaaaaaaaaaaaaaaaaaaaaaaaaaaaaaaaaaaaaaaaaaaaaaaaaaaaaaaaaaaaaaaaaaaaaaaaaaaaaaaaa\\x02\\x02'\n",
      "message_len=b'aaaaaaaaaaaaaaaaaaaaaaaaaaaaaaaaaaaaaaaaaaaaaaaaaaaaaaaaaaaaaaaaaaaaaaaaaaaaaaaaaaaaaaaaaaaaaaaaaaaaaaaaaaaaaaa', message_len=111, padded_m=b'aaaaaaaaaaaaaaaaaaaaaaaaaaaaaaaaaaaaaaaaaaaaaaaaaaaaaaaaaaaaaaaaaaaaaaaaaaaaaaaaaaaaaaaaaaaaaaaaaaaaaaaaaaaaaaa\\x01'\n",
      "message_len=b'aaaaaaaaaaaaaaaaaaaaaaaaaaaaaaaaaaaaaaaaaaaaaaaaaaaaaaaaaaaaaaaaaaaaaaaaaaaaaaaaaaaaaaaaaaaaaaaaaaaaaaaaaaaaaaaa', message_len=112, padded_m=b'aaaaaaaaaaaaaaaaaaaaaaaaaaaaaaaaaaaaaaaaaaaaaaaaaaaaaaaaaaaaaaaaaaaaaaaaaaaaaaaaaaaaaaaaaaaaaaaaaaaaaaaaaaaaaaaa\\x10\\x10\\x10\\x10\\x10\\x10\\x10\\x10\\x10\\x10\\x10\\x10\\x10\\x10\\x10\\x10'\n",
      "message_len=b'aaaaaaaaaaaaaaaaaaaaaaaaaaaaaaaaaaaaaaaaaaaaaaaaaaaaaaaaaaaaaaaaaaaaaaaaaaaaaaaaaaaaaaaaaaaaaaaaaaaaaaaaaaaaaaaaa', message_len=113, padded_m=b'aaaaaaaaaaaaaaaaaaaaaaaaaaaaaaaaaaaaaaaaaaaaaaaaaaaaaaaaaaaaaaaaaaaaaaaaaaaaaaaaaaaaaaaaaaaaaaaaaaaaaaaaaaaaaaaaa\\x0f\\x0f\\x0f\\x0f\\x0f\\x0f\\x0f\\x0f\\x0f\\x0f\\x0f\\x0f\\x0f\\x0f\\x0f'\n",
      "message_len=b'aaaaaaaaaaaaaaaaaaaaaaaaaaaaaaaaaaaaaaaaaaaaaaaaaaaaaaaaaaaaaaaaaaaaaaaaaaaaaaaaaaaaaaaaaaaaaaaaaaaaaaaaaaaaaaaaaa', message_len=114, padded_m=b'aaaaaaaaaaaaaaaaaaaaaaaaaaaaaaaaaaaaaaaaaaaaaaaaaaaaaaaaaaaaaaaaaaaaaaaaaaaaaaaaaaaaaaaaaaaaaaaaaaaaaaaaaaaaaaaaaa\\x0e\\x0e\\x0e\\x0e\\x0e\\x0e\\x0e\\x0e\\x0e\\x0e\\x0e\\x0e\\x0e\\x0e'\n",
      "message_len=b'aaaaaaaaaaaaaaaaaaaaaaaaaaaaaaaaaaaaaaaaaaaaaaaaaaaaaaaaaaaaaaaaaaaaaaaaaaaaaaaaaaaaaaaaaaaaaaaaaaaaaaaaaaaaaaaaaaa', message_len=115, padded_m=b'aaaaaaaaaaaaaaaaaaaaaaaaaaaaaaaaaaaaaaaaaaaaaaaaaaaaaaaaaaaaaaaaaaaaaaaaaaaaaaaaaaaaaaaaaaaaaaaaaaaaaaaaaaaaaaaaaaa\\r\\r\\r\\r\\r\\r\\r\\r\\r\\r\\r\\r\\r'\n",
      "message_len=b'aaaaaaaaaaaaaaaaaaaaaaaaaaaaaaaaaaaaaaaaaaaaaaaaaaaaaaaaaaaaaaaaaaaaaaaaaaaaaaaaaaaaaaaaaaaaaaaaaaaaaaaaaaaaaaaaaaaa', message_len=116, padded_m=b'aaaaaaaaaaaaaaaaaaaaaaaaaaaaaaaaaaaaaaaaaaaaaaaaaaaaaaaaaaaaaaaaaaaaaaaaaaaaaaaaaaaaaaaaaaaaaaaaaaaaaaaaaaaaaaaaaaaa\\x0c\\x0c\\x0c\\x0c\\x0c\\x0c\\x0c\\x0c\\x0c\\x0c\\x0c\\x0c'\n",
      "message_len=b'aaaaaaaaaaaaaaaaaaaaaaaaaaaaaaaaaaaaaaaaaaaaaaaaaaaaaaaaaaaaaaaaaaaaaaaaaaaaaaaaaaaaaaaaaaaaaaaaaaaaaaaaaaaaaaaaaaaaa', message_len=117, padded_m=b'aaaaaaaaaaaaaaaaaaaaaaaaaaaaaaaaaaaaaaaaaaaaaaaaaaaaaaaaaaaaaaaaaaaaaaaaaaaaaaaaaaaaaaaaaaaaaaaaaaaaaaaaaaaaaaaaaaaaa\\x0b\\x0b\\x0b\\x0b\\x0b\\x0b\\x0b\\x0b\\x0b\\x0b\\x0b'\n",
      "message_len=b'aaaaaaaaaaaaaaaaaaaaaaaaaaaaaaaaaaaaaaaaaaaaaaaaaaaaaaaaaaaaaaaaaaaaaaaaaaaaaaaaaaaaaaaaaaaaaaaaaaaaaaaaaaaaaaaaaaaaaa', message_len=118, padded_m=b'aaaaaaaaaaaaaaaaaaaaaaaaaaaaaaaaaaaaaaaaaaaaaaaaaaaaaaaaaaaaaaaaaaaaaaaaaaaaaaaaaaaaaaaaaaaaaaaaaaaaaaaaaaaaaaaaaaaaaa\\n\\n\\n\\n\\n\\n\\n\\n\\n\\n'\n",
      "message_len=b'aaaaaaaaaaaaaaaaaaaaaaaaaaaaaaaaaaaaaaaaaaaaaaaaaaaaaaaaaaaaaaaaaaaaaaaaaaaaaaaaaaaaaaaaaaaaaaaaaaaaaaaaaaaaaaaaaaaaaaa', message_len=119, padded_m=b'aaaaaaaaaaaaaaaaaaaaaaaaaaaaaaaaaaaaaaaaaaaaaaaaaaaaaaaaaaaaaaaaaaaaaaaaaaaaaaaaaaaaaaaaaaaaaaaaaaaaaaaaaaaaaaaaaaaaaaa\\t\\t\\t\\t\\t\\t\\t\\t\\t'\n",
      "message_len=b'aaaaaaaaaaaaaaaaaaaaaaaaaaaaaaaaaaaaaaaaaaaaaaaaaaaaaaaaaaaaaaaaaaaaaaaaaaaaaaaaaaaaaaaaaaaaaaaaaaaaaaaaaaaaaaaaaaaaaaaa', message_len=120, padded_m=b'aaaaaaaaaaaaaaaaaaaaaaaaaaaaaaaaaaaaaaaaaaaaaaaaaaaaaaaaaaaaaaaaaaaaaaaaaaaaaaaaaaaaaaaaaaaaaaaaaaaaaaaaaaaaaaaaaaaaaaaa\\x08\\x08\\x08\\x08\\x08\\x08\\x08\\x08'\n",
      "message_len=b'aaaaaaaaaaaaaaaaaaaaaaaaaaaaaaaaaaaaaaaaaaaaaaaaaaaaaaaaaaaaaaaaaaaaaaaaaaaaaaaaaaaaaaaaaaaaaaaaaaaaaaaaaaaaaaaaaaaaaaaaa', message_len=121, padded_m=b'aaaaaaaaaaaaaaaaaaaaaaaaaaaaaaaaaaaaaaaaaaaaaaaaaaaaaaaaaaaaaaaaaaaaaaaaaaaaaaaaaaaaaaaaaaaaaaaaaaaaaaaaaaaaaaaaaaaaaaaaa\\x07\\x07\\x07\\x07\\x07\\x07\\x07'\n",
      "message_len=b'aaaaaaaaaaaaaaaaaaaaaaaaaaaaaaaaaaaaaaaaaaaaaaaaaaaaaaaaaaaaaaaaaaaaaaaaaaaaaaaaaaaaaaaaaaaaaaaaaaaaaaaaaaaaaaaaaaaaaaaaaa', message_len=122, padded_m=b'aaaaaaaaaaaaaaaaaaaaaaaaaaaaaaaaaaaaaaaaaaaaaaaaaaaaaaaaaaaaaaaaaaaaaaaaaaaaaaaaaaaaaaaaaaaaaaaaaaaaaaaaaaaaaaaaaaaaaaaaaa\\x06\\x06\\x06\\x06\\x06\\x06'\n",
      "message_len=b'aaaaaaaaaaaaaaaaaaaaaaaaaaaaaaaaaaaaaaaaaaaaaaaaaaaaaaaaaaaaaaaaaaaaaaaaaaaaaaaaaaaaaaaaaaaaaaaaaaaaaaaaaaaaaaaaaaaaaaaaaaa', message_len=123, padded_m=b'aaaaaaaaaaaaaaaaaaaaaaaaaaaaaaaaaaaaaaaaaaaaaaaaaaaaaaaaaaaaaaaaaaaaaaaaaaaaaaaaaaaaaaaaaaaaaaaaaaaaaaaaaaaaaaaaaaaaaaaaaaa\\x05\\x05\\x05\\x05\\x05'\n",
      "message_len=b'aaaaaaaaaaaaaaaaaaaaaaaaaaaaaaaaaaaaaaaaaaaaaaaaaaaaaaaaaaaaaaaaaaaaaaaaaaaaaaaaaaaaaaaaaaaaaaaaaaaaaaaaaaaaaaaaaaaaaaaaaaaa', message_len=124, padded_m=b'aaaaaaaaaaaaaaaaaaaaaaaaaaaaaaaaaaaaaaaaaaaaaaaaaaaaaaaaaaaaaaaaaaaaaaaaaaaaaaaaaaaaaaaaaaaaaaaaaaaaaaaaaaaaaaaaaaaaaaaaaaaa\\x04\\x04\\x04\\x04'\n",
      "message_len=b'aaaaaaaaaaaaaaaaaaaaaaaaaaaaaaaaaaaaaaaaaaaaaaaaaaaaaaaaaaaaaaaaaaaaaaaaaaaaaaaaaaaaaaaaaaaaaaaaaaaaaaaaaaaaaaaaaaaaaaaaaaaaa', message_len=125, padded_m=b'aaaaaaaaaaaaaaaaaaaaaaaaaaaaaaaaaaaaaaaaaaaaaaaaaaaaaaaaaaaaaaaaaaaaaaaaaaaaaaaaaaaaaaaaaaaaaaaaaaaaaaaaaaaaaaaaaaaaaaaaaaaaa\\x03\\x03\\x03'\n",
      "message_len=b'aaaaaaaaaaaaaaaaaaaaaaaaaaaaaaaaaaaaaaaaaaaaaaaaaaaaaaaaaaaaaaaaaaaaaaaaaaaaaaaaaaaaaaaaaaaaaaaaaaaaaaaaaaaaaaaaaaaaaaaaaaaaaa', message_len=126, padded_m=b'aaaaaaaaaaaaaaaaaaaaaaaaaaaaaaaaaaaaaaaaaaaaaaaaaaaaaaaaaaaaaaaaaaaaaaaaaaaaaaaaaaaaaaaaaaaaaaaaaaaaaaaaaaaaaaaaaaaaaaaaaaaaaa\\x02\\x02'\n",
      "message_len=b'aaaaaaaaaaaaaaaaaaaaaaaaaaaaaaaaaaaaaaaaaaaaaaaaaaaaaaaaaaaaaaaaaaaaaaaaaaaaaaaaaaaaaaaaaaaaaaaaaaaaaaaaaaaaaaaaaaaaaaaaaaaaaaa', message_len=127, padded_m=b'aaaaaaaaaaaaaaaaaaaaaaaaaaaaaaaaaaaaaaaaaaaaaaaaaaaaaaaaaaaaaaaaaaaaaaaaaaaaaaaaaaaaaaaaaaaaaaaaaaaaaaaaaaaaaaaaaaaaaaaaaaaaaaa\\x01'\n"
     ]
    }
   ],
   "source": [
    "secret_key = os.urandom(32)\n",
    "iv = os.urandom(16)\n",
    "\n",
    "cipher = Cipher(algorithms.AES(secret_key), modes.CBC(iv), backend=default_backend())\n",
    "block_size = 16\n",
    "\n",
    "for message_len in range(128):\n",
    "    m = str.encode(\"a\"*message_len)\n",
    "    padder = padding.PKCS7(8*block_size).padder()\n",
    "    m_padded = padder.update(m) + padder.finalize()\n",
    "    encryptor = cipher.encryptor()\n",
    "    \n",
    "    ctx = encryptor.update(m_padded) + encryptor.finalize()\n",
    "    #print(f\"message_len={message_len}, padded_m_len={len(m_padded)}, ctx_len={len(ctx)}\")\n",
    "    print(f\"message_len={m}, message_len={message_len}, padded_m={m_padded}\")"
   ]
  },
  {
   "cell_type": "markdown",
   "id": "polish-parts",
   "metadata": {},
   "source": [
    "## Bonus: Fernet <a class=\"anchor\" id=\"fernet\"></a>\n",
    "\n",
    "Another block cipher implemented in cryptography package is [Fernet](https://asecuritysite.com/encryption/fernet). "
   ]
  },
  {
   "cell_type": "code",
   "execution_count": 13,
   "id": "choice-supply",
   "metadata": {},
   "outputs": [
    {
     "name": "stdout",
     "output_type": "stream",
     "text": [
      "len_message: 1, len_ciphertext: 100\n",
      "len_message: 2, len_ciphertext: 100\n",
      "len_message: 3, len_ciphertext: 100\n",
      "len_message: 4, len_ciphertext: 100\n",
      "len_message: 5, len_ciphertext: 100\n",
      "len_message: 6, len_ciphertext: 100\n",
      "len_message: 7, len_ciphertext: 100\n",
      "len_message: 8, len_ciphertext: 100\n",
      "len_message: 9, len_ciphertext: 100\n",
      "len_message: 10, len_ciphertext: 100\n",
      "len_message: 11, len_ciphertext: 100\n",
      "len_message: 12, len_ciphertext: 100\n",
      "len_message: 13, len_ciphertext: 100\n",
      "len_message: 14, len_ciphertext: 100\n",
      "len_message: 15, len_ciphertext: 100\n",
      "len_message: 16, len_ciphertext: 120\n",
      "len_message: 17, len_ciphertext: 120\n",
      "len_message: 18, len_ciphertext: 120\n",
      "len_message: 19, len_ciphertext: 120\n",
      "len_message: 20, len_ciphertext: 120\n",
      "len_message: 21, len_ciphertext: 120\n",
      "len_message: 22, len_ciphertext: 120\n",
      "len_message: 23, len_ciphertext: 120\n",
      "len_message: 24, len_ciphertext: 120\n",
      "len_message: 25, len_ciphertext: 120\n",
      "len_message: 26, len_ciphertext: 120\n",
      "len_message: 27, len_ciphertext: 120\n",
      "len_message: 28, len_ciphertext: 120\n",
      "len_message: 29, len_ciphertext: 120\n",
      "len_message: 30, len_ciphertext: 120\n",
      "len_message: 31, len_ciphertext: 120\n",
      "len_message: 32, len_ciphertext: 140\n",
      "len_message: 33, len_ciphertext: 140\n",
      "len_message: 34, len_ciphertext: 140\n",
      "len_message: 35, len_ciphertext: 140\n",
      "len_message: 36, len_ciphertext: 140\n",
      "len_message: 37, len_ciphertext: 140\n",
      "len_message: 38, len_ciphertext: 140\n",
      "len_message: 39, len_ciphertext: 140\n",
      "len_message: 40, len_ciphertext: 140\n",
      "len_message: 41, len_ciphertext: 140\n",
      "len_message: 42, len_ciphertext: 140\n",
      "len_message: 43, len_ciphertext: 140\n",
      "len_message: 44, len_ciphertext: 140\n",
      "len_message: 45, len_ciphertext: 140\n",
      "len_message: 46, len_ciphertext: 140\n",
      "len_message: 47, len_ciphertext: 140\n",
      "len_message: 48, len_ciphertext: 164\n",
      "len_message: 49, len_ciphertext: 164\n",
      "len_message: 50, len_ciphertext: 164\n",
      "len_message: 51, len_ciphertext: 164\n",
      "len_message: 52, len_ciphertext: 164\n",
      "len_message: 53, len_ciphertext: 164\n",
      "len_message: 54, len_ciphertext: 164\n",
      "len_message: 55, len_ciphertext: 164\n",
      "len_message: 56, len_ciphertext: 164\n",
      "len_message: 57, len_ciphertext: 164\n",
      "len_message: 58, len_ciphertext: 164\n",
      "len_message: 59, len_ciphertext: 164\n",
      "len_message: 60, len_ciphertext: 164\n",
      "len_message: 61, len_ciphertext: 164\n",
      "len_message: 62, len_ciphertext: 164\n",
      "len_message: 63, len_ciphertext: 164\n",
      "len_message: 64, len_ciphertext: 184\n",
      "len_message: 65, len_ciphertext: 184\n",
      "len_message: 66, len_ciphertext: 184\n",
      "len_message: 67, len_ciphertext: 184\n",
      "len_message: 68, len_ciphertext: 184\n",
      "len_message: 69, len_ciphertext: 184\n",
      "len_message: 70, len_ciphertext: 184\n",
      "len_message: 71, len_ciphertext: 184\n",
      "len_message: 72, len_ciphertext: 184\n",
      "len_message: 73, len_ciphertext: 184\n",
      "len_message: 74, len_ciphertext: 184\n",
      "len_message: 75, len_ciphertext: 184\n",
      "len_message: 76, len_ciphertext: 184\n",
      "len_message: 77, len_ciphertext: 184\n",
      "len_message: 78, len_ciphertext: 184\n",
      "len_message: 79, len_ciphertext: 184\n",
      "len_message: 80, len_ciphertext: 204\n",
      "len_message: 81, len_ciphertext: 204\n",
      "len_message: 82, len_ciphertext: 204\n",
      "len_message: 83, len_ciphertext: 204\n",
      "len_message: 84, len_ciphertext: 204\n",
      "len_message: 85, len_ciphertext: 204\n",
      "len_message: 86, len_ciphertext: 204\n",
      "len_message: 87, len_ciphertext: 204\n",
      "len_message: 88, len_ciphertext: 204\n",
      "len_message: 89, len_ciphertext: 204\n",
      "len_message: 90, len_ciphertext: 204\n",
      "len_message: 91, len_ciphertext: 204\n",
      "len_message: 92, len_ciphertext: 204\n",
      "len_message: 93, len_ciphertext: 204\n",
      "len_message: 94, len_ciphertext: 204\n",
      "len_message: 95, len_ciphertext: 204\n",
      "len_message: 96, len_ciphertext: 228\n",
      "len_message: 97, len_ciphertext: 228\n",
      "len_message: 98, len_ciphertext: 228\n",
      "len_message: 99, len_ciphertext: 228\n"
     ]
    }
   ],
   "source": [
    "from cryptography.fernet import Fernet\n",
    "\n",
    "# secret key generation\n",
    "secret_key = Fernet.generate_key()\n",
    "box = Fernet(secret_key)\n",
    "\n",
    "max_len = 100\n",
    "for n in range(1, max_len):\n",
    "    # generate messages of n a's\n",
    "    message = \"\".join([\"a\" for _ in range(n)])\n",
    "    message = str.encode(message)\n",
    "    \n",
    "    ciphertext = box.encrypt(message)\n",
    "    print(f\"len_message: {len(message)}, len_ciphertext: {len(ciphertext)}\")\n"
   ]
  },
  {
   "cell_type": "code",
   "execution_count": null,
   "id": "raised-steps",
   "metadata": {},
   "outputs": [],
   "source": []
  }
 ],
 "metadata": {
  "kernelspec": {
   "display_name": "Python 3",
   "language": "python",
   "name": "python3"
  },
  "language_info": {
   "codemirror_mode": {
    "name": "ipython",
    "version": 3
   },
   "file_extension": ".py",
   "mimetype": "text/x-python",
   "name": "python",
   "nbconvert_exporter": "python",
   "pygments_lexer": "ipython3",
   "version": "3.6.7"
  }
 },
 "nbformat": 4,
 "nbformat_minor": 5
}
