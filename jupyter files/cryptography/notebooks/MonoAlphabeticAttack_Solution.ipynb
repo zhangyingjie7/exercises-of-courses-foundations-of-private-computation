{
 "cells": [
  {
   "cell_type": "markdown",
   "metadata": {},
   "source": [
    "# Exercise: Attack on mono alphabetic cipher\n",
    "\n",
    "In this exercice you will implement an attack to the mono alphabetic cipher using the corpus of the book Nineteen eighty four by George Orwell. Needless to say, a masterpiece worth reading for anyone intereted in privacy.\n",
    "\n",
    "Alice and Bob want to communicate secretly so they meet in person and choose a key that nobody else knows. They agree on using the mono alphabetic cipher to encrypt and decrypt their messages. An attacker (Charlie) is eavesdroping the communication betweeen Alice and Bob so he's able to see all the ciphertext they send to each other. Charlie only knows that Alice and Bob communicate in english and that they use the mono alphabetic cipher. Our question here is, can Charlie crack the secret key with just this information? We will see how in this exercice\n",
    "\n",
    "Author: [Sebastià Agramunt Puig](https://github.com/sebastiaagramunt) for [OpenMined](https://www.openmined.org/) Privacy ML Series course."
   ]
  },
  {
   "cell_type": "markdown",
   "metadata": {},
   "source": [
    "## Alice and Bob's communication\n",
    "\n",
    "As mentioned, first alice and Bob meet and agree on a secret key, for simplicity here, we copy the code of the Monoalphabetic cipher we coded in the Ciphers notebook"
   ]
  },
  {
   "cell_type": "code",
   "execution_count": 1,
   "metadata": {},
   "outputs": [],
   "source": [
    "from random import randrange, seed\n",
    "from copy import deepcopy\n",
    "import string\n",
    "\n",
    "\n",
    "seed(3)\n",
    "\n",
    "def mono_key_generator()-> str:\n",
    "    chars = list(deepcopy(string.ascii_lowercase))\n",
    "    chars_permutation = []\n",
    "    \n",
    "    while len(chars)>0:\n",
    "        letter = chars.pop(randrange(len(chars)))\n",
    "        chars_permutation.append(letter)\n",
    "        \n",
    "    return ''.join(chars_permutation) \n",
    "    \n",
    "def mono_encrypt_decrypt(text: str, secret_key: str, encrypt: bool=True) -> str:\n",
    "    assert len(secret_key)==len(string.ascii_lowercase), \"secret key must be all ascii lowercase, 26 letters\"\n",
    "    \n",
    "    if encrypt:\n",
    "        convert_dict = {p:c for p, c in zip(string.ascii_lowercase, secret_key)}\n",
    "    else:\n",
    "        convert_dict = {c:p for p, c in zip(string.ascii_lowercase, secret_key)}\n",
    "    convert_dict[\" \"] = \" \"\n",
    "    \n",
    "    return ''.join([convert_dict[c] for c in text])"
   ]
  },
  {
   "cell_type": "code",
   "execution_count": 2,
   "metadata": {},
   "outputs": [
    {
     "name": "stdout",
     "output_type": "stream",
     "text": [
      "Secret key shared between Alice and Bob: tizmxsarjchdlpgqwenbykvofu\n"
     ]
    }
   ],
   "source": [
    "seed(5)\n",
    "secret_key = mono_key_generator()\n",
    "print(f\"Secret key shared between Alice and Bob: {secret_key}\")"
   ]
  },
  {
   "cell_type": "code",
   "execution_count": 3,
   "metadata": {},
   "outputs": [
    {
     "name": "stdout",
     "output_type": "stream",
     "text": [
      "message:\n",
      "this is a top secret message\n",
      "\n",
      "ciphertext:\n",
      "brjn jn t bgq nxzexb lxnntax\n",
      "\n",
      "decrypted_ciphertext:\n",
      "this is a top secret message\n"
     ]
    }
   ],
   "source": [
    "message = \"this is a top secret message\"\n",
    "encrypted_message = mono_encrypt_decrypt(message, secret_key)\n",
    "decrypted_ciphertext = mono_encrypt_decrypt(encrypted_message, secret_key, encrypt=False)\n",
    "\n",
    "print(f\"message:\\n{message}\\n\\nciphertext:\\n{encrypted_message}\\n\\ndecrypted_ciphertext:\\n{decrypted_ciphertext}\")"
   ]
  },
  {
   "cell_type": "markdown",
   "metadata": {},
   "source": [
    "To get real words used in english we can download a corpora in this language. For instance we can download a book and use it as the messages Alice and Bob will send to each other. In the following chunk of code we download Nineteen Eighty Four by George Orwell from [Project Gutenberg](http://gutenberg.net.au)."
   ]
  },
  {
   "cell_type": "code",
   "execution_count": 4,
   "metadata": {},
   "outputs": [],
   "source": [
    "from utils import download_data, process_load_textfile\n",
    "import string\n",
    "import os\n",
    "\n",
    "url = 'http://gutenberg.net.au/ebooks01/0100021.txt'\n",
    "filename = 'Nineteen-eighty-four_Orwell.txt'\n",
    "download_path = '/'.join(os.getcwd().split('/')[:-1]) + '/data/'\n",
    "\n",
    "#download data to specified path\n",
    "download_data(url, filename, download_path)\n",
    "\n",
    "#load data and process\n",
    "data = process_load_textfile(filename, download_path)"
   ]
  },
  {
   "cell_type": "markdown",
   "metadata": {},
   "source": [
    "Let's see how it looks after some processing"
   ]
  },
  {
   "cell_type": "code",
   "execution_count": 5,
   "metadata": {},
   "outputs": [
    {
     "data": {
      "text/plain": [
       "'ook its smooth creamy paper a little yellowed by age was of a kind that had not been manufactured for at least forty years past he could guess however that the book was much older than that he had seen it lying in the window of a frowsy little junkshop in a slummy quarter of the town just what quarter he did not now remember and had been stricken immediately by an overwhelming desire to possess it party members were supposed not to go into ordinary shops dealing on the free market it was called but the rule was not strictly kept because there were various things such as shoelaces and razor blades which it was impossible to get hold of in any other way he had given a quick glance up and down the street and then had slipped inside and bought the book for two dollars fifty at the time he was not conscious of wanting it for any particular purpose he had carried it guiltily home in his briefcase even with nothing written in it it was a compromising possession the thing that he was about to '"
      ]
     },
     "execution_count": 5,
     "metadata": {},
     "output_type": "execute_result"
    }
   ],
   "source": [
    "data[10000:11000]"
   ]
  },
  {
   "cell_type": "markdown",
   "metadata": {},
   "source": [
    "So Alice wants to send a very long message to Bob from the book Nineteen Eighty Four, this is the same as sending many messages of one word each. Let's code this part"
   ]
  },
  {
   "cell_type": "code",
   "execution_count": 6,
   "metadata": {},
   "outputs": [],
   "source": [
    "data_len = len(data)\n",
    "\n",
    "init_letter = data_len//2\n",
    "final_letter = init_letter + data_len//4\n",
    "\n",
    "message = data[init_letter:final_letter]\n",
    "encrypted_message = mono_encrypt_decrypt(message, secret_key)"
   ]
  },
  {
   "cell_type": "markdown",
   "metadata": {},
   "source": [
    "## Charlie's side\n",
    "\n",
    "As we mentioned, Charlie only knows that Alice and Bob communciate in english and that they use the Monoalphabetic cipher. He's a smart guy and knows what are the most frequent letters in english. His attack will consist on compare the most frequent letters of the ciphertxt (encrypted data) that Alice sends to Bob with the most frequent letters in english.\n",
    "\n",
    "First things first, we need to obtain the most frequent words in english, luckily you can find them in [wikipedia](https://en.wikipedia.org/wiki/Letter_frequency)."
   ]
  },
  {
   "cell_type": "code",
   "execution_count": 7,
   "metadata": {},
   "outputs": [],
   "source": [
    "english_letter_counts = [(\"a\", 0.082),\n",
    "                         (\"b\", 0.015),\n",
    "                         (\"c\", 0.028),\n",
    "                         (\"d\", 0.043),\n",
    "                         (\"e\", 0.13),\n",
    "                         (\"f\", 0.022),\n",
    "                         (\"g\", 0.02),\n",
    "                         (\"h\", 0.061),\n",
    "                         (\"i\", 0.07),\n",
    "                         (\"j\", 0.0015),\n",
    "                         (\"k\", 0.0077),\n",
    "                         (\"l\", 0.04),\n",
    "                         (\"m\", 0.024),\n",
    "                         (\"n\", 0.067),\n",
    "                         (\"o\", 0.075),\n",
    "                         (\"p\", 0.019),\n",
    "                         (\"q\", 0.00095),\n",
    "                         (\"r\", 0.06),\n",
    "                         (\"s\", 0.063),\n",
    "                         (\"t\", 0.091),\n",
    "                         (\"u\", 0.028),\n",
    "                         (\"v\", 0.0098),\n",
    "                         (\"w\", 0.024),\n",
    "                         (\"x\", 0.0015),\n",
    "                         (\"y\", 0.002),\n",
    "                         (\"z\", 0.00074)\n",
    "                        ]"
   ]
  },
  {
   "cell_type": "code",
   "execution_count": 8,
   "metadata": {},
   "outputs": [
    {
     "data": {
      "text/plain": [
       "[('e', 0.13),\n",
       " ('t', 0.091),\n",
       " ('a', 0.082),\n",
       " ('o', 0.075),\n",
       " ('i', 0.07),\n",
       " ('n', 0.067),\n",
       " ('s', 0.063),\n",
       " ('h', 0.061),\n",
       " ('r', 0.06),\n",
       " ('d', 0.043),\n",
       " ('l', 0.04),\n",
       " ('c', 0.028),\n",
       " ('u', 0.028),\n",
       " ('m', 0.024),\n",
       " ('w', 0.024),\n",
       " ('f', 0.022),\n",
       " ('g', 0.02),\n",
       " ('p', 0.019),\n",
       " ('b', 0.015),\n",
       " ('v', 0.0098),\n",
       " ('k', 0.0077),\n",
       " ('y', 0.002),\n",
       " ('j', 0.0015),\n",
       " ('x', 0.0015),\n",
       " ('q', 0.00095),\n",
       " ('z', 0.00074)]"
      ]
     },
     "execution_count": 8,
     "metadata": {},
     "output_type": "execute_result"
    }
   ],
   "source": [
    "# and sort them according to their frequency\n",
    "english_letter_counts.sort(key=lambda x: x[1], reverse=True)\n",
    "english_letter_counts"
   ]
  },
  {
   "cell_type": "code",
   "execution_count": 9,
   "metadata": {},
   "outputs": [],
   "source": [
    "from collections import Counter\n",
    "from typing import List, Tuple\n",
    "\n",
    "# Write a function that inputs a text and outputs a list of tuples with frequencies of letters,\n",
    "# hint: use Counter from package collections\n",
    "def letter_count(text: str) -> List[Tuple[str, int]]:\n",
    "    # step 1: remove white spaces\n",
    "    text2 = text.replace(\" \", \"\")\n",
    "    \n",
    "    # step 2: create a list of charactrs in the text\n",
    "    letters = [c for c in text2]\n",
    "    \n",
    "    # step 3: count characters and sort \n",
    "    return Counter(letters).most_common()"
   ]
  },
  {
   "cell_type": "code",
   "execution_count": 10,
   "metadata": {},
   "outputs": [
    {
     "data": {
      "text/plain": [
       "[('e', 59619),\n",
       " ('t', 43877),\n",
       " ('a', 36523),\n",
       " ('o', 35051),\n",
       " ('n', 31986),\n",
       " ('i', 31950),\n",
       " ('h', 29164),\n",
       " ('s', 28972),\n",
       " ('r', 26126),\n",
       " ('d', 19022),\n",
       " ('l', 18657),\n",
       " ('u', 13037),\n",
       " ('w', 12243),\n",
       " ('c', 11636),\n",
       " ('m', 10828),\n",
       " ('f', 10188),\n",
       " ('y', 9423),\n",
       " ('g', 9283),\n",
       " ('p', 8614),\n",
       " ('b', 7653),\n",
       " ('v', 4313),\n",
       " ('k', 3609),\n",
       " ('x', 792),\n",
       " ('j', 463),\n",
       " ('q', 409),\n",
       " ('z', 306)]"
      ]
     },
     "execution_count": 10,
     "metadata": {},
     "output_type": "execute_result"
    }
   ],
   "source": [
    "lc = letter_count(data)\n",
    "\n",
    "assert lc[0][0]==\"e\", \"letter_count not well implemented\"\n",
    "assert lc[1][0]==\"t\", \"letter_count not well implemented\"\n",
    "assert lc[2][0]==\"a\", \"letter_count not well implemented\"\n",
    "assert lc[3][0]==\"o\", \"letter_count not well implemented\"\n",
    "assert lc[4][0]==\"n\", \"letter_count not well implemented\"\n",
    "assert lc[5][0]==\"i\", \"letter_count not well implemented\"\n",
    "\n",
    "lc"
   ]
  },
  {
   "cell_type": "markdown",
   "metadata": {},
   "source": [
    "### Exercice 3: Charlie's attack\n",
    "\n",
    "Now Charlie has the ciphertext that Alice sent to Bob and the frequencies of the english letters, a simple attack can be calculate the frequencies of the ciphertext and compare the two lists. Let's code this"
   ]
  },
  {
   "cell_type": "code",
   "execution_count": 11,
   "metadata": {},
   "outputs": [],
   "source": [
    "import string\n",
    "\n",
    "def plaintext_attack(encrypted_message: str, english_letter_counts: List[Tuple[str, int]]) -> str:\n",
    "    # encrypted message is the message intercepted from Alice to Bob\n",
    "    # english_letter counts is the list of tuples for the frequencies\n",
    "    characters = string.ascii_lowercase\n",
    "    \n",
    "    # first calculate the frequencies in plaintext and ciphertext\n",
    "    ciphertext_letter_frequencies = letter_count(encrypted_message)\n",
    "    \n",
    "    # a dictionary that holds each letter in plaintext the conversion to ciphertext\n",
    "    key_dict = {}\n",
    "    for (english_letter, _), (ctx_letter, _) in zip(english_letter_counts, ciphertext_letter_frequencies):\n",
    "        if key_dict.get(english_letter) is None:\n",
    "            key_dict[english_letter] = ctx_letter\n",
    "            \n",
    "    inferred_secret_key = [key_dict[letter] if key_dict.get(letter) is not None else \"_\" for letter in characters]\n",
    "    \n",
    "    return ''.join(inferred_secret_key)\n"
   ]
  },
  {
   "cell_type": "code",
   "execution_count": 12,
   "metadata": {},
   "outputs": [
    {
     "name": "stdout",
     "output_type": "stream",
     "text": [
      "secret_key:\n",
      "\ttizmxsarjchdlpgqwenbykvofu\n",
      "inferred_secret_key:\n",
      "\ttazdxsfrjokmvpgqcenbyilwhu\n",
      "\n",
      "Correctly guessed 14 out of 26\n"
     ]
    }
   ],
   "source": [
    "inferred_secret_key = plaintext_attack(encrypted_message, english_letter_counts)\n",
    "print(f\"secret_key:\\n\\t{secret_key}\\ninferred_secret_key:\\n\\t{inferred_secret_key}\")\n",
    "\n",
    "correctly_guessed = 0\n",
    "for sk, isk in zip(secret_key, inferred_secret_key):\n",
    "    if sk==isk:\n",
    "        correctly_guessed+=1\n",
    "print(f\"\\nCorrectly guessed {correctly_guessed} out of {len(secret_key)}\")"
   ]
  },
  {
   "cell_type": "markdown",
   "metadata": {},
   "source": [
    "Not bad! we've guessed 14 out of 26 characters!, let's see how the decrypted text would look like with our inferred key and compare it to the original Let's see how the text looks like when decrypting with this key"
   ]
  },
  {
   "cell_type": "code",
   "execution_count": 13,
   "metadata": {},
   "outputs": [
    {
     "data": {
      "text/plain": [
       "'inuel formarl in the sawe wokewent daginb a frienldg hanl for a wowent on minstons arw so that the tmo of thew mere madyinb sile vg sile he veban speayinb mith the pecudiar brake courtesg that lifferentiatel hiw frow the waqoritg of inner partg wewvers i hal veen hopinb for an opportunitg of tadyinb to gou he sail i mas realinb one of gour nemspeay articdes in the tiwes the other lag gou taye a schodardg interest in nemspeay i vedieke minston hal recokerel part of his sedfpossession harldg schod'"
      ]
     },
     "execution_count": 13,
     "metadata": {},
     "output_type": "execute_result"
    }
   ],
   "source": [
    "mono_encrypt_decrypt(encrypted_message, inferred_secret_key, encrypt=False)[0:500]"
   ]
  },
  {
   "cell_type": "code",
   "execution_count": 14,
   "metadata": {},
   "outputs": [
    {
     "data": {
      "text/plain": [
       "'inued forward in the same movement laying a friendly hand for a moment on winstons arm so that the two of them were walking side by side he began speaking with the peculiar grave courtesy that differentiated him from the majority of inner party members i had been hoping for an opportunity of talking to you he said i was reading one of your newspeak articles in the times the other day you take a scholarly interest in newspeak i believe winston had recovered part of his selfpossession hardly schol'"
      ]
     },
     "execution_count": 14,
     "metadata": {},
     "output_type": "execute_result"
    }
   ],
   "source": [
    "message[0:500]"
   ]
  },
  {
   "cell_type": "markdown",
   "metadata": {},
   "source": [
    "# Conslusions\n",
    "\n",
    "Charlie has been able to correctly guess 14 out of 26 characters from the key with this very simple attack!. The main takeaway from this exercice is that one can take information by simply looking at the ciphertext. Can we construct a perfectly secure cipher so that the ciphertext carries no information about the original message?. This is what we are going to see in the next section."
   ]
  },
  {
   "cell_type": "code",
   "execution_count": null,
   "metadata": {},
   "outputs": [],
   "source": []
  }
 ],
 "metadata": {
  "kernelspec": {
   "display_name": "Python 3 (ipykernel)",
   "language": "python",
   "name": "python3"
  },
  "language_info": {
   "codemirror_mode": {
    "name": "ipython",
    "version": 3
   },
   "file_extension": ".py",
   "mimetype": "text/x-python",
   "name": "python",
   "nbconvert_exporter": "python",
   "pygments_lexer": "ipython3",
   "version": "3.7.0"
  }
 },
 "nbformat": 4,
 "nbformat_minor": 4
}
