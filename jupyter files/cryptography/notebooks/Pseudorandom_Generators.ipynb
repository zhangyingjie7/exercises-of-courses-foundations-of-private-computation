{
 "cells": [
  {
   "cell_type": "markdown",
   "metadata": {},
   "source": [
    "# Table of contents:\n",
    "\n",
    "* [Pseudorandom number generators](#prng)\n",
    "* [Linear congruential generators](#lcg)\n",
    "* [Building a psedodrandom number generator](#prng2)\n",
    "* [Better ways to generate pseudorandom numbers](#randnumb)\n",
    "* [The quest for the perfect random generator](#perfectr)\n",
    "\n",
    "    \n",
    "Author: [Sebastià Agramunt Puig](https://github.com/sebastiaagramunt) for [OpenMined](https://www.openmined.org/) Privacy ML Series course.\n"
   ]
  },
  {
   "cell_type": "markdown",
   "metadata": {},
   "source": [
    "# Pseudorandom number generators <a class=\"anchor\" id=\"prng\"></a>\n",
    "\n",
    "In this section we will learn how to create \"random\" numbers using a computer. Why do we even need to generate random numbers in the context of cryptography?. Actually we constantly use random numbers in cryptography, e.g. to generate a completely random secret key. There's a quest in cryptography to generate purely random numbers. First, let's take inspiration from the one time pad to see why one would need random numbers"
   ]
  },
  {
   "cell_type": "code",
   "execution_count": 1,
   "metadata": {},
   "outputs": [],
   "source": [
    "from random import randrange\n",
    "import string\n",
    "\n",
    "def vigenere_key_generator(secret_key_size: int) -> str:\n",
    "    n = len(string.ascii_lowercase)\n",
    "    secret_key = ''\n",
    "    while len(secret_key) < secret_key_size:\n",
    "        secret_key += string.ascii_lowercase[randrange(n)]\n",
    "    return secret_key\n",
    "\n",
    "def shift_letter(letter: str, shiftby: str, forward: bool=True) -> str:\n",
    "    n = len(string.ascii_lowercase)\n",
    "    \n",
    "    letter_int = ord(letter) - 97\n",
    "    shiftby_int = ord(shiftby) - 97\n",
    "    \n",
    "    if forward:\n",
    "        return string.ascii_lowercase[(letter_int+shiftby_int)%n]\n",
    "    else:\n",
    "        return string.ascii_lowercase[(letter_int-shiftby_int)%n]\n",
    "    \n",
    "def vigenere_encrypt_decrypt(message: str, secret_key: str, encrypt:bool = True) -> str:\n",
    "    key_len = len(secret_key)\n",
    "    \n",
    "    encoded = ''\n",
    "    for i, letter in enumerate(message):\n",
    "        if letter != \" \":\n",
    "            encoded += shift_letter(letter, secret_key[i%key_len], forward=encrypt)\n",
    "        else:\n",
    "            encoded += letter\n",
    "    return encoded"
   ]
  },
  {
   "cell_type": "code",
   "execution_count": 2,
   "metadata": {},
   "outputs": [
    {
     "name": "stdout",
     "output_type": "stream",
     "text": [
      "message = helloworld\n",
      "secret_key = xgfiwzehxa\n",
      "ciphertext = ekqtkvsyid\n"
     ]
    }
   ],
   "source": [
    "message = \"helloworld\"\n",
    "secret_key = vigenere_key_generator(len(message))\n",
    "ciphertext = vigenere_encrypt_decrypt(message, secret_key, encrypt=True)\n",
    "\n",
    "print(f\"message = {message}\\nsecret_key = {secret_key}\\nciphertext = {ciphertext}\")"
   ]
  },
  {
   "cell_type": "markdown",
   "metadata": {},
   "source": [
    "The one time pad in bits:"
   ]
  },
  {
   "cell_type": "code",
   "execution_count": 3,
   "metadata": {},
   "outputs": [],
   "source": [
    "from random import randrange\n",
    "\n",
    "message = \"01011101000101110101\"\n",
    "secret_key = ''.join([str(randrange(2)) for _ in range(len(message))])\n",
    "ciphertext = ''.join([str((int(m)+int(s))%2) for m, s in zip(message, secret_key)])"
   ]
  },
  {
   "cell_type": "code",
   "execution_count": 4,
   "metadata": {},
   "outputs": [
    {
     "name": "stdout",
     "output_type": "stream",
     "text": [
      "message:\n",
      "\t01011101000101110101\n",
      "secret_key\n",
      "\t00000000111111001010\n",
      "ciphertext\n",
      "\t01011101111010111111\n"
     ]
    }
   ],
   "source": [
    "print(f\"message:\\n\\t{message}\")\n",
    "print(f\"secret_key\\n\\t{secret_key}\")\n",
    "print(f\"ciphertext\\n\\t{ciphertext}\")"
   ]
  },
  {
   "cell_type": "markdown",
   "metadata": {},
   "source": [
    "If the secret_key is a sequence known by Alice and Bob and generated completely random, then the cryptosystem is perfectly secret. Problems for one time pad?\n",
    "\n",
    "* key lenght has to be at least the same as message lenght\n",
    "* the key has to be completely random \n",
    "* Alice and Bob have to meet each time to exchange the secret key\n",
    "\n",
    "Let's design a system very close to pure random:\n",
    "\n",
    "# Linear congruential generators <a class=\"anchor\" id=\"lcg\"></a>\n",
    "\n",
    "A linear congruential generator (LCG) is an algorithm that yields a sequence of pseudo-randomized numbers calculated with a discontinuous piecewise linear equation.\n",
    "\n",
    "$$X_{n+1}=X_n*a+c \\textrm{ (mod m)}$$.\n",
    "\n",
    "There are several LCGs, in the example we take the one of numerical recipes correspoding to the values: a = 1664525, c = 1013904223 and m = $2^{32}$. The initial value $X_0$ is called the seed of the pseudoradom generator."
   ]
  },
  {
   "cell_type": "code",
   "execution_count": 5,
   "metadata": {},
   "outputs": [],
   "source": [
    "a = 1664525\n",
    "c = 1013904223\n",
    "m = 2**32\n",
    "\n",
    "def lcg(x0: int, a: int, c: int, m: int) -> int:\n",
    "    return (x0*a+c)%m"
   ]
  },
  {
   "cell_type": "code",
   "execution_count": 6,
   "metadata": {},
   "outputs": [],
   "source": [
    "x0 = 433\n",
    "\n",
    "l = []\n",
    "\n",
    "xn = x0\n",
    "for _ in range(100000):\n",
    "    xn = lcg(xn, a, c, m)\n",
    "    l.append(xn/m)"
   ]
  },
  {
   "cell_type": "code",
   "execution_count": 7,
   "metadata": {},
   "outputs": [
    {
     "data": {
      "text/plain": [
       "<Figure size 432x288 with 0 Axes>"
      ]
     },
     "metadata": {},
     "output_type": "display_data"
    },
    {
     "data": {
      "image/png": "[encoded data removed]",
      "text/plain": [
       "<Figure size 1152x504 with 1 Axes>"
      ]
     },
     "metadata": {
      "needs_background": "light"
     },
     "output_type": "display_data"
    }
   ],
   "source": [
    "import matplotlib.pyplot as plt\n",
    "\n",
    "plt.clf()\n",
    "fig = plt.figure(figsize=(16,7))\n",
    "plt.hist(l, bins=50)\n",
    "plt.show()"
   ]
  },
  {
   "cell_type": "markdown",
   "metadata": {},
   "source": [
    "The good thing about pseudorandom generators is that you can reconstruct the pseudorandom numbers taking the same initial seed"
   ]
  },
  {
   "cell_type": "code",
   "execution_count": 8,
   "metadata": {},
   "outputs": [
    {
     "name": "stdout",
     "output_type": "stream",
     "text": [
      "1102124048\n",
      "368793647\n",
      "468461506\n",
      "2704688185\n",
      "3035635780\n",
      "1075818195\n",
      "810411542\n",
      "842425981\n",
      "2017260984\n",
      "2691087799\n"
     ]
    }
   ],
   "source": [
    "x0 = 53\n",
    "\n",
    "xn = x0\n",
    "for _ in range(10):\n",
    "    xn = lcg(xn, a, c, m)\n",
    "    print(xn)"
   ]
  },
  {
   "cell_type": "code",
   "execution_count": 9,
   "metadata": {},
   "outputs": [
    {
     "name": "stdout",
     "output_type": "stream",
     "text": [
      "1102124048\n",
      "368793647\n",
      "468461506\n",
      "2704688185\n",
      "3035635780\n",
      "1075818195\n",
      "810411542\n",
      "842425981\n",
      "2017260984\n",
      "2691087799\n"
     ]
    }
   ],
   "source": [
    "x0 = 53\n",
    "\n",
    "xn = x0\n",
    "for _ in range(10):\n",
    "    xn = lcg(xn, a, c, m)\n",
    "    print(xn)"
   ]
  },
  {
   "cell_type": "markdown",
   "metadata": {},
   "source": [
    "This can be useful!. Alice and Bob can generate the same randomness if they keep the seed as a secret!. The secret is the Diffie-Hellman key they generated.\n",
    "\n",
    "# Building PRNG function <a class=\"anchor\" id=\"prgn2\"></a>\n",
    "\n",
    "We will use the common function ```randrange``` from random to create a binary pseudorandom generator."
   ]
  },
  {
   "cell_type": "code",
   "execution_count": 10,
   "metadata": {},
   "outputs": [],
   "source": [
    "from random import seed\n",
    "\n",
    "def PRNG(s: int, l: int) -> list:\n",
    "    seed(s)\n",
    "    \n",
    "    prng = []\n",
    "    while len(prng) < l:\n",
    "        prng.append(randrange(2))\n",
    "    return ''.join([str(n) for n in prng])"
   ]
  },
  {
   "cell_type": "code",
   "execution_count": 11,
   "metadata": {},
   "outputs": [
    {
     "name": "stdout",
     "output_type": "stream",
     "text": [
      "0110011011\n",
      "0110011011\n"
     ]
    }
   ],
   "source": [
    "s = 134323\n",
    "\n",
    "# Alice's end\n",
    "prng_alice = PRNG(s, 10)\n",
    "\n",
    "# Bob's end\n",
    "prng_bob = PRNG(s, 10)\n",
    "\n",
    "print(prng_alice)\n",
    "print(prng_bob)"
   ]
  },
  {
   "cell_type": "markdown",
   "metadata": {},
   "source": [
    "# Better ways to generate random numbers in the computer <a class=\"anchor\" id=\"randnumb\"></a>\n",
    "\n",
    "Our PRNG uses a seed as the source for the entropy for the random numbers. We can use **other seeds like environmental computer noise** (frequency of typing, temperature variation...). "
   ]
  },
  {
   "cell_type": "markdown",
   "metadata": {},
   "source": [
    "Using your system ```/dev/urandom```, e.g generate 10 random bytes (using MacOS). Open a terminal and run:\n",
    "\n",
    "```head -c 10 /dev/urandom```\n",
    "\n",
    "to see the output."
   ]
  },
  {
   "cell_type": "code",
   "execution_count": 12,
   "metadata": {},
   "outputs": [
    {
     "name": "stdout",
     "output_type": "stream",
     "text": [
      "Random bytes:\n",
      "\tb'\\xf47\\t\\xc4\\t\\x875\\xd6\\xfa\\x0c'\n"
     ]
    }
   ],
   "source": [
    "# calling the urandom function\n",
    "import subprocess\n",
    "\n",
    "command = \"head -c 10 /dev/urandom\"\n",
    "process = subprocess.Popen(command.split(), stdout=subprocess.PIPE)\n",
    "output, error = process.communicate()\n",
    "\n",
    "print(f\"Random bytes:\\n\\t{output}\")"
   ]
  },
  {
   "cell_type": "code",
   "execution_count": 13,
   "metadata": {},
   "outputs": [
    {
     "name": "stdout",
     "output_type": "stream",
     "text": [
      "Random bytes:\n",
      "\tb'\\xf47\\t\\xc4\\t\\x875\\xd6\\xfa\\x0c'\n",
      "converted integers:\n",
      "\t[244, 55, 9, 196, 9, 135, 53, 214, 250, 12]\n"
     ]
    }
   ],
   "source": [
    "# transform to integer bytes\n",
    "int_bytes = [b for b in output]\n",
    "\n",
    "print(f\"Random bytes:\\n\\t{output}\\nconverted integers:\\n\\t{int_bytes}\")"
   ]
  },
  {
   "cell_type": "code",
   "execution_count": 14,
   "metadata": {},
   "outputs": [
    {
     "data": {
      "text/plain": [
       "1153272696442165562636812"
      ]
     },
     "execution_count": 14,
     "metadata": {},
     "output_type": "execute_result"
    }
   ],
   "source": [
    "# transform to integer\n",
    "int.from_bytes(output, \"big\")"
   ]
  },
  {
   "cell_type": "markdown",
   "metadata": {},
   "source": [
    "With the system random we can generate random bits of information. For instance:"
   ]
  },
  {
   "cell_type": "code",
   "execution_count": 15,
   "metadata": {},
   "outputs": [
    {
     "data": {
      "text/plain": [
       "'100001100111011110110000010011000000011110111011101001000000111111100001100011001110000110010101100111110001011101010100001110010101111001011101010111101100100000000110111100001001100000000110110001111000010101101001011001100101100100001011101001000000110010011110000101111000111000101010010111001100100111111101001111011101110000111110111110111110011001001010111001010111101001010111110010110100111101100110011101101000101110111101110001001011100010110100101000111111000011111100100010111101100001100001010'"
      ]
     },
     "execution_count": 15,
     "metadata": {},
     "output_type": "execute_result"
    }
   ],
   "source": [
    "# using secrets to acess the sytem random\n",
    "import secrets\n",
    "\n",
    "r = secrets.SystemRandom()\n",
    "r.seed(23123)\n",
    "bin(r.getrandbits(512))[2:]"
   ]
  },
  {
   "cell_type": "markdown",
   "metadata": {},
   "source": [
    "## The quest for a perfect **random generator** <a class=\"anchor\" id=\"perfectr\"></a>\n",
    "\n",
    "Using environmental computer noise is great as a source of entropy to generate random numbers, however the noise that Alice generates is differen than what Bob generates so they do not generate the same stream of bits. For now, we are forced to use pseudorandom generators based on a single seed, the secret key.\n",
    "\n",
    "We need that:\n",
    "\n",
    "* The probability to randomly generate each bit 1 or 0 is 0.5\n",
    "* Alice and Bob generate the same exact stream of random bits\n",
    "\n",
    "How can we do that?\n",
    "\n",
    "Hopefully quantum physics comes to help. Quantum physics is intrinsecally random and therfore we can use it to generate purely random numbers. Also there are ways to correlate two systems (Alice and Bob) so that they generate the same stream of random numbers. This physics phenomenon is called [quantum entanglement](https://en.wikipedia.org/wiki/Quantum_entanglement) and is an active field of research in both experimental and theoretical physics."
   ]
  },
  {
   "cell_type": "code",
   "execution_count": null,
   "metadata": {},
   "outputs": [],
   "source": []
  }
 ],
 "metadata": {
  "kernelspec": {
   "display_name": "Python 3",
   "language": "python",
   "name": "python3"
  },
  "language_info": {
   "codemirror_mode": {
    "name": "ipython",
    "version": 3
   },
   "file_extension": ".py",
   "mimetype": "text/x-python",
   "name": "python",
   "nbconvert_exporter": "python",
   "pygments_lexer": "ipython3",
   "version": "3.6.7"
  }
 },
 "nbformat": 4,
 "nbformat_minor": 4
}
