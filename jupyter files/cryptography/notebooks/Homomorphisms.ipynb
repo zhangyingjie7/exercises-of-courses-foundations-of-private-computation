{
 "cells": [
  {
   "cell_type": "markdown",
   "metadata": {},
   "source": [
    "# Table of contents:\n",
    "\n",
    "* [Homomorphisms](#homomorphisms)\n",
    "    * [Group homomorphism](#homogroups)\n",
    "* [Homomorphism on the RSA cryptosystem](#RSA)\n",
    "* [Homomorphism on Paillier cryptosystem](#paillier)\n",
    "* [Homomorphism on Elgamal cryptosystem](#elgamal)\n",
    "* [Fully Homomorphic Encryption (FHE)](#fhe)\n",
    "    \n",
    "Author: [Sebastià Agramunt Puig](https://github.com/sebastiaagramunt) for [OpenMined](https://www.openmined.org/) Privacy ML Series course.\n",
    "\n",
    "\n",
    "# Homomorphisms <a class=\"anchor\" id=\"homomorphisms\"></a>\n",
    "\n",
    "This section is devoted to understand what are homomorphisms and how can we compute on the ciphertext domain sums and multiplications (in some cases!)."
   ]
  },
  {
   "cell_type": "markdown",
   "metadata": {},
   "source": [
    "## Group homomorphism <a class=\"anchor\" id=\"homogroups\"></a>\n",
    "\n",
    "Let's put some formalism first. Let $(G, \\bigstar)$ and $(H, \\square)$ be algebraic groups. A group homomorphism from $G$ to $H$ is a function\n",
    "\n",
    "$$f: G \\rightarrow H$$\n",
    "\n",
    "such that\n",
    "\n",
    "$$f(x \\bigstar y) = f(x)\\square f(y)$$\n",
    "$$\\forall x, y \\in G$$\n",
    "\n",
    "As a simple example, take the two groups $(\\mathbb{R}, +)$ and $(\\mathbb{R}^+, \\cdot)$, i.e. the real numbers with addition group and real positive numbers with multiplication group. Take the function $f(x)=exp(x)$, then $f$ defines an homomorphism with the two groups since\n",
    "\n",
    "$$f(x+y)=e^{x+y}=e^x\\cdot e^y=f(x)\\cdot f(y)$$\n"
   ]
  },
  {
   "cell_type": "markdown",
   "metadata": {},
   "source": [
    "# Homomorphism on the RSA <a class=\"anchor\" id=\"RSA\"></a>\n",
    "\n",
    "RSA cryptosystem defines a homomorphism on $(\\mathbb{Z}_p, \\cdot)$ \n",
    "\n",
    "$$Enc: (\\mathbb{Z}_N, \\cdot) \\rightarrow (\\mathbb{Z}_N, \\cdot)$$\n",
    "\n",
    "\n",
    "Again, this cryptosystem has been explained in another notebook (I remind you though that here $N$ is a public parameter product of two randomly chosen primes $p$ and $q$).\n",
    "\n",
    "We will test that:\n",
    "\n",
    "$$Dec(Enc(m_x)\\cdot Enc(m_y)) = m_x\\cdot m_y$$\n"
   ]
  },
  {
   "cell_type": "code",
   "execution_count": 1,
   "metadata": {},
   "outputs": [],
   "source": [
    "from random import randrange, seed\n",
    "\n",
    "bits = 64\n",
    "seed(3)"
   ]
  },
  {
   "cell_type": "code",
   "execution_count": 2,
   "metadata": {},
   "outputs": [
    {
     "name": "stdout",
     "output_type": "stream",
     "text": [
      "RSA parameters:\n",
      "-Public:\n",
      "\tN=115110739666747791921112868975170199429\n",
      "\te=105162410562790530939665171758775420585\n",
      "\n",
      "-Private:\n",
      "\td=69909657913518582007458109939751496953\n",
      "Plaintext messages:\n",
      "mx=8672582414284755974426448173802908311\n",
      "my=8478698242011685851719386265609182430\n",
      "\n"
     ]
    }
   ],
   "source": [
    "from crypto import RSAKeyGenerator, RSAEncrypt, RSADecrypt\n",
    "\n",
    "PublicKeyRSA, PrivateKeyRSA = RSAKeyGenerator(bits)\n",
    "\n",
    "N = PublicKeyRSA[0]\n",
    "e = PublicKeyRSA[1]\n",
    "d = PrivateKeyRSA[1]\n",
    "\n",
    "mx, my = randrange(N), randrange(N)\n",
    "\n",
    "print(f\"RSA parameters:\\n-Public:\\n\\tN={N}\\n\\te={e}\")\n",
    "print(f\"\\n-Private:\\n\\td={d}\")\n",
    "print(f\"Plaintext messages:\\nmx={mx}\\nmy={my}\\n\")"
   ]
  },
  {
   "cell_type": "code",
   "execution_count": 3,
   "metadata": {},
   "outputs": [
    {
     "name": "stdout",
     "output_type": "stream",
     "text": [
      "plaintext multiplication: 64703202768683605447684872529566588771\n",
      "ciphertext multiplication and decryption: 64703202768683605447684872529566588771\n"
     ]
    }
   ],
   "source": [
    "mult = mx*my%N\n",
    "mult2 = RSADecrypt(RSAEncrypt(mx, PublicKeyRSA)*RSAEncrypt(my, PublicKeyRSA)%N, PrivateKeyRSA)\n",
    "\n",
    "\n",
    "print(f\"plaintext multiplication: {mult}\")\n",
    "print(f\"ciphertext multiplication and decryption: {mult2}\")"
   ]
  },
  {
   "cell_type": "markdown",
   "metadata": {},
   "source": [
    "# Homomorphism on Paillier <a class=\"anchor\" id=\"paillier\"></a>\n",
    "\n",
    "Paillier cryptosystem defines an homomorphism on the group $(\\mathbb{Z}_{N^2}, +)$ where $f$ is the encryption function, this is:\n",
    "\n",
    "$$Enc: (\\mathbb{Z}_{N}, +) \\rightarrow (\\mathbb{Z}_{N^2}, \\cdot)$$\n",
    "\n",
    "where the function $Enc(x)$ is\n",
    "\n",
    "$$Enc(x)=g^x \\cdot r^N \\pmod{N^2}$$\n",
    "\n",
    "and $N$ is the product of two prime numbers $p$ and $q$ such that the maximum common multiple of $N$ and $(p-1)(q-1)$ is 1. At the same time, $g$ is a random element of $\\mathbb{Z}_{N^2}$ and $r$ is a random number the range $0<r<N$ and part of the group ($\\mathbb{Z}_N, \\cdot$) i.e. $gcm(r, N)=1$.\n",
    "\n",
    "There is another calculated parameter kept private \n",
    "\n",
    "$$\\mu=(L(g^{\\lambda}\\pmod{N^2}))^{-1}\\pmod{N}$$\n",
    "\n",
    "where the function $L$ is defined as\n",
    "\n",
    "$$L(x)=\\frac{x-1}{n}$$\n",
    "\n",
    "taking the integer part of the divison and $\\lambda$ is the least common multiple of the order of the primes i.e. of $p-1$ and $q-1$. \n",
    "\n",
    "One can decrypt the ciphertext $c$ and recover the original message $x$ as\n",
    "\n",
    "$$x=L(c^{\\lambda} \\pmod{N^2})\\cdot \\mu \\pmod{N}$$\n",
    "\n",
    "$$Enc(m_x+m_y)=Enc(m_x)\\cdot Enc(m_y)$$\n",
    "\n",
    "Thus the encryption of two plaintexts in $N^2$ is the multipication of their ciphertexts. Let's try to show this in some examples, the proof of the homomorphic encryption can be found [elsewhere](https://doi.org/10.1016/B978-0-12-801595-7.00005-7)."
   ]
  },
  {
   "cell_type": "code",
   "execution_count": 4,
   "metadata": {},
   "outputs": [
    {
     "name": "stdout",
     "output_type": "stream",
     "text": [
      "Paillier parameters:\n",
      "-Public:\n",
      "\tN=317228669253423891268456764728213811059\n",
      "\tg=64973536771563122426068530836460408091719290602995400805192169229975365662165\n",
      "\n",
      "-Private:\n",
      "\tN=317228669253423891268456764728213811059\n",
      "\tlambda=158614334626711945616416859266658605752\n",
      "\tmu=49375156409393697151841174487733979265\n",
      "Plaintext messages:\n",
      "m1=114661641808165475665698628090987308441\n",
      "m2=107884585413955112054806888761877394689\n",
      "\n"
     ]
    }
   ],
   "source": [
    "from crypto import PaillierKeyGenerator, PaillierEncrypt, PaillierDecrypt\n",
    "\n",
    "PublicKeyPaillier, PrivateKeyPaillier = PaillierKeyGenerator(bits)\n",
    "N = PublicKeyPaillier[0]\n",
    "g = PublicKeyPaillier[1]\n",
    "\n",
    "l = PrivateKeyPaillier[1]\n",
    "mu = PrivateKeyPaillier[2]\n",
    "\n",
    "mx, my = randrange(N), randrange(N)\n",
    "print(f\"Paillier parameters:\\n-Public:\\n\\tN={N}\\n\\tg={g}\")\n",
    "print(f\"\\n-Private:\\n\\tN={N}\\n\\tlambda={l}\\n\\tmu={mu}\")\n",
    "print(f\"Plaintext messages:\\nm1={mx}\\nm2={my}\\n\")"
   ]
  },
  {
   "cell_type": "markdown",
   "metadata": {},
   "source": [
    "We will test that \n",
    "\n",
    "$$m_1+m_2 \\pmod{N} = Dec(Enc(m_1)\\cdot Enc(m_2)\\pmod{N^2})$$\n",
    "\n",
    "on plaintext because the encryption on Paillier is not bijective, i.e. applying the same algorithm on the same input we won't get the same result, that is because it depends on a randomly sampled $r$ (look at the source code of encryption). "
   ]
  },
  {
   "cell_type": "code",
   "execution_count": 5,
   "metadata": {},
   "outputs": [
    {
     "name": "stdout",
     "output_type": "stream",
     "text": [
      "Sum modulo N of plaintext: 222546227222120587720505516852864703130\n",
      "Decryption of the product encoded: 222546227222120587720505516852864703130\n"
     ]
    }
   ],
   "source": [
    "print(f\"Sum modulo N of plaintext: {(mx+my)%N}\")\n",
    "prod_ciphertext = PaillierEncrypt(mx, PublicKeyPaillier)*PaillierEncrypt(my, PublicKeyPaillier)%(N**2)\n",
    "decrypted_prod = PaillierDecrypt(prod_ciphertext, PrivateKeyPaillier)\n",
    "print(f\"Decryption of the product encoded: {decrypted_prod}\")\n",
    "\n",
    "assert decrypted_prod==(mx+my)%N, \"something went wrong\""
   ]
  },
  {
   "cell_type": "code",
   "execution_count": null,
   "metadata": {},
   "outputs": [],
   "source": []
  },
  {
   "cell_type": "markdown",
   "metadata": {},
   "source": [
    "It can also be shown that\n",
    "\n",
    "$$Dec(Enc(m1)g^{m_2}\\pmod{N^2})=m_1+m_2 \\pmod{N}$$"
   ]
  },
  {
   "cell_type": "code",
   "execution_count": 6,
   "metadata": {},
   "outputs": [
    {
     "name": "stdout",
     "output_type": "stream",
     "text": [
      "Sum modulo N of plaintexts: 222546227222120587720505516852864703130\n",
      "Decrypted product: 222546227222120587720505516852864703130\n"
     ]
    }
   ],
   "source": [
    "decrypted_prod = PaillierDecrypt(PaillierEncrypt(mx, PublicKeyPaillier)*pow(g, my, N**2), PrivateKeyPaillier)\n",
    "\n",
    "assert (mx+my)%N==decrypted_prod, \"something went wrong\"\n",
    "print(f\"Sum modulo N of plaintexts: {(mx+my)%N}\")\n",
    "print(f\"Decrypted product: {decrypted_prod}\")"
   ]
  },
  {
   "cell_type": "markdown",
   "metadata": {},
   "source": [
    "but this does not define any homomorphism since we are multiplying an exponenciated plaintext (from the first group) to a ciphertext (from the second group). "
   ]
  },
  {
   "cell_type": "markdown",
   "metadata": {},
   "source": [
    "# Homomorphism on ElGamal <a class=\"anchor\" id=\"elgamal\"></a>"
   ]
  },
  {
   "cell_type": "markdown",
   "metadata": {},
   "source": [
    "El Gamal cryptosystem defines a homomorphism on $(\\mathbb{Z}_p, \\cdot)$ \n",
    "\n",
    "$$Enc: (\\mathbb{Z}_p, \\cdot) \\rightarrow (\\mathbb{Z}_p, \\cdot) \\times (\\mathbb{Z}_p, \\cdot)$$\n",
    "\n",
    "s. t \n",
    "\n",
    "$$Enc(m) = c = (c_1, c_2)$$\n",
    "\n",
    "This cryptosystem has been explained in another notebook so I refer the reader there to understand it better. The muliplication in the plaintext is defined the usual way but on the ciphertext we multiply pointwise (Shorr):\n",
    "\n",
    "$$Enc(m_x) = (c_{x1}, c_{x2})$$\n",
    "$$Enc(m_y) = (c_{y1}, c_{y2})$$\n",
    "$$Enc(m_x)\\cdot Enc(m_y) = (c_{x1}\\cdot c_{y1}, c_{x2}\\cdot c_{y2})$$"
   ]
  },
  {
   "cell_type": "markdown",
   "metadata": {},
   "source": [
    "We have to test the homomorphism:\n",
    "\n",
    "$$Enc(m_x\\cdot m_y)=Enc(m_x)\\cdot Enc(m_y) = (c_{x1}\\cdot c_{y1}, c_{x2} \\cdot c_{y2})$$\n",
    "\n",
    "or equivalently \n",
    "\n",
    "$$Dec(Enc(m_x)\\cdot Enc(m_y))=m_x\\cdot m_y$$"
   ]
  },
  {
   "cell_type": "code",
   "execution_count": 7,
   "metadata": {},
   "outputs": [
    {
     "name": "stdout",
     "output_type": "stream",
     "text": [
      "ElGamal parameters:\n",
      "-Public:\n",
      "\tA=6449297829066993208\n",
      "\tg=1588082161193385932\n",
      "\tp=9628098341074011907\n",
      "\n",
      "-Private:\n",
      "\tsk=4567125481059076332\n",
      "\n",
      "\n",
      "Plaintext messages:\n",
      "mx=8024907043293506373\n",
      "my=9224214575254058992\n",
      "\n"
     ]
    }
   ],
   "source": [
    "from crypto import ElGamalKeyGenerator, ElGamalEncrypt, ElGamalDecrypt\n",
    "\n",
    "PublicKeyElGamal, PrivateKeyElGamal = ElGamalKeyGenerator(bits)\n",
    "A = PublicKeyElGamal[0]\n",
    "g = PublicKeyElGamal[1]\n",
    "p = PublicKeyElGamal[2]\n",
    "\n",
    "sk = PrivateKeyElGamal[0]\n",
    "mx, my = randrange(p), randrange(p)\n",
    "\n",
    "print(f\"ElGamal parameters:\\n-Public:\\n\\tA={A}\\n\\tg={g}\\n\\tp={p}\")\n",
    "print(f\"\\n-Private:\\n\\tsk={sk}\\n\\n\")\n",
    "print(f\"Plaintext messages:\\nmx={mx}\\nmy={my}\\n\")"
   ]
  },
  {
   "cell_type": "code",
   "execution_count": 8,
   "metadata": {},
   "outputs": [
    {
     "name": "stdout",
     "output_type": "stream",
     "text": [
      "ciphertext 1 = (5565390317215748065, 6867623251151918661)\n",
      "ciphertext 2 = (6806882144077333449, 2465824210384759077)\n",
      "\n",
      "Product of m1 and m2 in ciphertext = (5849767633442321908, 7920321264608353552)\n",
      "Decrypting the product of ciphertext 7085892333900747554\n",
      "Product of the plaintexts 7085892333900747554\n"
     ]
    }
   ],
   "source": [
    "c1 = ElGamalEncrypt(mx, PublicKeyElGamal)\n",
    "c2  = ElGamalEncrypt(my, PublicKeyElGamal)\n",
    "\n",
    "# plaintext multiplicatoin\n",
    "mxmy = mx*my%p\n",
    "\n",
    "# cipher multiplication\n",
    "cipher_mult = (c1[0]*c2[0]%p, c1[1]*c2[1]%p)\n",
    "dec_cipher_mult = ElGamalDecrypt(cipher_mult, PrivateKeyElGamal)\n",
    "\n",
    "assert mxmy==dec_cipher_mult, \"something went wrong\"\n",
    "\n",
    "# print stuff\n",
    "print(f\"ciphertext 1 = {c1}\\nciphertext 2 = {c2}\\n\")\n",
    "print(f\"Product of m1 and m2 in ciphertext = {cipher_mult}\")\n",
    "print(f\"Decrypting the product of ciphertext {dec_cipher_mult}\")\n",
    "print(f\"Product of the plaintexts {mxmy}\")"
   ]
  },
  {
   "cell_type": "markdown",
   "metadata": {},
   "source": [
    "Up until now we have seen that RSA, ElGamal and Paillier encryption schemes are homomorphic with a certain operation. Furthermore this operation can be applied to all elements of the group (i.e. no matter what are the two oringinal messages as long as they belong to the initial group set). This properties defines what we know as **partial homomorphic encryption**.\n",
    "\n",
    "## Fully homomorphic encryption <a class=\"anchor\" id=\"fhe\"></a>\n",
    "\n",
    "Ideally we would like to define encryption functions such that they do not only work in one operation (say sum or product) but with the two at the same time. This is what the community coins as fully **homomorphic encryption**. During many years there was a quest to find a fully homomorphic encryption scheme and finally [Craig Gentry](https://en.wikipedia.org/wiki/Craig_Gentry_(computer_scientist)) published his PhD thesis in 2009 with the first fully homomorphic encryption scheme based on [algebraic lattices](https://en.wikipedia.org/wiki/Lattice-based_cryptography)."
   ]
  }
 ],
 "metadata": {
  "kernelspec": {
   "display_name": "Python 3",
   "language": "python",
   "name": "python3"
  },
  "language_info": {
   "codemirror_mode": {
    "name": "ipython",
    "version": 3
   },
   "file_extension": ".py",
   "mimetype": "text/x-python",
   "name": "python",
   "nbconvert_exporter": "python",
   "pygments_lexer": "ipython3",
   "version": "3.6.7"
  }
 },
 "nbformat": 4,
 "nbformat_minor": 4
}
