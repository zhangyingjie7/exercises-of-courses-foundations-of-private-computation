{
 "cells": [
  {
   "cell_type": "markdown",
   "metadata": {},
   "source": [
    "# Table of contents:\n",
    "\n",
    "* [Stream Ciphers](#streamciphers)\n",
    "* [ChaCha20 Stream Cipher](#chacha20)\n",
    "* [Length of ciphertext in stream cipher](#len)\n",
    "\n",
    "\n",
    "Author: [Sebastià Agramunt Puig](https://github.com/sebastiaagramunt) for [OpenMined](https://www.openmined.org/) Privacy ML Series course."
   ]
  },
  {
   "cell_type": "markdown",
   "metadata": {},
   "source": [
    "# Stream ciphers <a class=\"anchor\" id=\"streamciphers\"></a>\n",
    "\n",
    "So far, the cipher we coded pads bit by bit or, equivalently byte by byte, this is what we know as **stream cipher** because we generate a stream of bytes to pad the message. Of course our homemade implementation is not the perfect one. Hopefully we have the ```cryptography``` package!.\n"
   ]
  },
  {
   "cell_type": "markdown",
   "metadata": {},
   "source": [
    "<img src=\"img/stream_cipher.png\" style=\"width:900px\"/>"
   ]
  },
  {
   "cell_type": "markdown",
   "metadata": {},
   "source": [
    "# The ChaCha20 Stream Cipher <a class=\"anchor\" id=\"chacha20\"></a>\n",
    "\n",
    "The ciphertext has the same lenght as the plaintext, if we add one more bit to the plaintext that would result in one more bit in the plaintext. Let's use a stream cipher called [ChaCha20](https://tools.ietf.org/html/draft-strombergson-chacha-test-vectors-00), you can find a python [implementation](https://asecuritysite.com/encryption/chacha) and the original [paper](https://cr.yp.to/chacha/chacha-20080120.pdf)."
   ]
  },
  {
   "cell_type": "code",
   "execution_count": 1,
   "metadata": {},
   "outputs": [],
   "source": [
    "import os\n",
    "from cryptography.hazmat.primitives.ciphers import Cipher, algorithms, modes\n",
    "from cryptography.hazmat.backends import default_backend\n",
    "\n",
    "secret_key = os.urandom(32)\n",
    "nonce = os.urandom(16)\n",
    "algorithm = algorithms.ChaCha20(secret_key, nonce)\n",
    "\n",
    "chachacipher = Cipher(algorithm, mode=None, backend=default_backend())\n",
    "encryptor = chachacipher.encryptor()\n",
    "decryptor = chachacipher.decryptor()"
   ]
  },
  {
   "cell_type": "code",
   "execution_count": 2,
   "metadata": {},
   "outputs": [
    {
     "name": "stdout",
     "output_type": "stream",
     "text": [
      "original message:\n",
      "\tb'A super secret message'\n",
      "ctx:\n",
      "\tb'\\x9au\\x82\\xd1?\\xc5\\x83H\\x9f\\x80\\xd8\\xd7\\xbcR\\x85\\xa2\\x1f\\xdd46\\x0c\\x0b'\n",
      "recovered message:\n",
      "\tb'A super secret message'\n"
     ]
    }
   ],
   "source": [
    "message = b'A super secret message'\n",
    "ctx = encryptor.update(message)\n",
    "ptx = decryptor.update(ctx)\n",
    "\n",
    "print(f\"original message:\\n\\t{message}\")\n",
    "print(f\"ctx:\\n\\t{ctx}\")\n",
    "print(f\"recovered message:\\n\\t{ptx}\")"
   ]
  },
  {
   "cell_type": "code",
   "execution_count": 3,
   "metadata": {},
   "outputs": [
    {
     "name": "stdout",
     "output_type": "stream",
     "text": [
      "original message:\n",
      "\tb'A super secret message'\n",
      "ctx:\n",
      "\tb'\\x00\"\\xcd\\x10\\xceV}\\xd2\\xb2\\'\\x19;\\x14>}\\x90\\x1b\\x04\\xce\\xf3\\xe2\\xfd'\n",
      "recovered message:\n",
      "\tb'A super secret message'\n"
     ]
    }
   ],
   "source": [
    "nonce = os.urandom(16)\n",
    "algorithm = algorithms.ChaCha20(secret_key, nonce)\n",
    "\n",
    "chachacipher = Cipher(algorithm, mode=None, backend=default_backend())\n",
    "encryptor = chachacipher.encryptor()\n",
    "decryptor = chachacipher.decryptor()\n",
    "\n",
    "message = b'A super secret message'\n",
    "ctx = encryptor.update(message)\n",
    "ptx = decryptor.update(ctx)\n",
    "\n",
    "print(f\"original message:\\n\\t{message}\")\n",
    "print(f\"ctx:\\n\\t{ctx}\")\n",
    "print(f\"recovered message:\\n\\t{ptx}\")"
   ]
  },
  {
   "cell_type": "markdown",
   "metadata": {},
   "source": [
    "# Length of the ciphertext in stream ciphers <a class=\"anchor\" id=\"len\"></a>\n",
    "\n",
    "The lenght of the ciphertext is the same as the lenght of the plaintext in stream ciphers. In the next example we create a message of all characters \"a\" and encrypt with ChaCha20 cipher:"
   ]
  },
  {
   "cell_type": "code",
   "execution_count": 4,
   "metadata": {},
   "outputs": [
    {
     "name": "stdout",
     "output_type": "stream",
     "text": [
      "message_len: 0, ciphertext_len: 0\n",
      "message_len: 1, ciphertext_len: 1\n",
      "message_len: 2, ciphertext_len: 2\n",
      "message_len: 3, ciphertext_len: 3\n",
      "message_len: 4, ciphertext_len: 4\n",
      "message_len: 5, ciphertext_len: 5\n",
      "message_len: 6, ciphertext_len: 6\n",
      "message_len: 7, ciphertext_len: 7\n",
      "message_len: 8, ciphertext_len: 8\n",
      "message_len: 9, ciphertext_len: 9\n",
      "message_len: 10, ciphertext_len: 10\n",
      "message_len: 11, ciphertext_len: 11\n",
      "message_len: 12, ciphertext_len: 12\n",
      "message_len: 13, ciphertext_len: 13\n",
      "message_len: 14, ciphertext_len: 14\n",
      "message_len: 15, ciphertext_len: 15\n",
      "message_len: 16, ciphertext_len: 16\n",
      "message_len: 17, ciphertext_len: 17\n",
      "message_len: 18, ciphertext_len: 18\n",
      "message_len: 19, ciphertext_len: 19\n",
      "message_len: 20, ciphertext_len: 20\n",
      "message_len: 21, ciphertext_len: 21\n",
      "message_len: 22, ciphertext_len: 22\n",
      "message_len: 23, ciphertext_len: 23\n",
      "message_len: 24, ciphertext_len: 24\n",
      "message_len: 25, ciphertext_len: 25\n",
      "message_len: 26, ciphertext_len: 26\n",
      "message_len: 27, ciphertext_len: 27\n",
      "message_len: 28, ciphertext_len: 28\n",
      "message_len: 29, ciphertext_len: 29\n",
      "message_len: 30, ciphertext_len: 30\n",
      "message_len: 31, ciphertext_len: 31\n"
     ]
    }
   ],
   "source": [
    "for message_len in range(32):\n",
    "    message = str.encode(\"a\"*message_len)\n",
    "    ctx = encryptor.update(message)\n",
    "    print(f\"message_len: {message_len}, ciphertext_len: {len(ctx)}\")"
   ]
  },
  {
   "cell_type": "markdown",
   "metadata": {},
   "source": [
    "Since in stream ciphers (in general) we are XORing byte by byte using the original message and a pseudorandomly generated stream of bytes, the length of the message is the same as the length of the ciphertext."
   ]
  },
  {
   "cell_type": "code",
   "execution_count": null,
   "metadata": {},
   "outputs": [],
   "source": []
  },
  {
   "cell_type": "code",
   "execution_count": null,
   "metadata": {},
   "outputs": [],
   "source": []
  },
  {
   "cell_type": "code",
   "execution_count": null,
   "metadata": {},
   "outputs": [],
   "source": []
  },
  {
   "cell_type": "code",
   "execution_count": null,
   "metadata": {},
   "outputs": [],
   "source": []
  }
 ],
 "metadata": {
  "kernelspec": {
   "display_name": "Python 3",
   "language": "python",
   "name": "python3"
  },
  "language_info": {
   "codemirror_mode": {
    "name": "ipython",
    "version": 3
   },
   "file_extension": ".py",
   "mimetype": "text/x-python",
   "name": "python",
   "nbconvert_exporter": "python",
   "pygments_lexer": "ipython3",
   "version": "3.6.7"
  }
 },
 "nbformat": 4,
 "nbformat_minor": 4
}
