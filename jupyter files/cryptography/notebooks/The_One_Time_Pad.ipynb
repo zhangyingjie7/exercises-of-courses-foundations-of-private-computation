{
 "cells": [
  {
   "cell_type": "markdown",
   "metadata": {},
   "source": [
    "# One time pad\n",
    "\n",
    "In the previous lesson we performed an attack over the Monoalphabetic cipher where the attacker (Charlie) only knew that Alice and Bob were communicating in english and that they were using this concrete cipher. Therefore the ciphertext is leaking information. Can we find a cipher whose ciphertext doesn't leak any information on the original message?. We are going to answer this question using the Vigenere cipher.\n",
    "\n",
    "\n",
    "# Table of contents:\n",
    "\n",
    "* [Vigenere revisited](#vigenere-revisited)\n",
    "* [Gathering plain english data](#nineteen-eighty-four)\n",
    "* [Counting letter frequencies](#counting-frequencies)\n",
    "* [Frequencies with short key](#counting-frequencies-2)\n",
    "* [Frequencies with large key](#counting-frequencies3)\n",
    "* [The One Time Pad](#onetimepad)\n",
    "* [Why is the one time pad impractical?](#impractical-onetimepad)\n",
    "\n",
    "    \n",
    "Author: [Sebastià Agramunt Puig](https://github.com/sebastiaagramunt) for [OpenMined](https://www.openmined.org/) Privacy ML Series course."
   ]
  },
  {
   "cell_type": "markdown",
   "metadata": {},
   "source": [
    "## Vigenère cipher revisited <a class=\"anchor\" id=\"vigenere-revisited\"></a>\n",
    "First, lets copy paste the code for the Vingenère cipher already coded in the first notebook"
   ]
  },
  {
   "cell_type": "code",
   "execution_count": 1,
   "metadata": {},
   "outputs": [],
   "source": [
    "from copy import deepcopy\n",
    "from random import randrange\n",
    "import string\n",
    "\n",
    "def vigenere_key_generator(secret_key_size: int) -> str:\n",
    "    n = len(string.ascii_lowercase)\n",
    "    secret_key = ''\n",
    "    while len(secret_key) < secret_key_size:\n",
    "        secret_key += string.ascii_lowercase[randrange(n)]\n",
    "    return secret_key\n",
    "\n",
    "\n",
    "def shift_letter(letter: str, shiftby: str, forward: bool=True) -> str:\n",
    "    n = len(string.ascii_lowercase)\n",
    "    \n",
    "    letter_int = ord(letter) - 97\n",
    "    shiftby_int = ord(shiftby) - 97\n",
    "    \n",
    "    if forward:\n",
    "        return string.ascii_lowercase[(letter_int+shiftby_int)%n]\n",
    "    else:\n",
    "        return string.ascii_lowercase[(letter_int-shiftby_int)%n]\n",
    "\n",
    "\n",
    "def vigenere_encrypt_decrypt(message: str, secret_key: str, encrypt:bool = True) -> str:\n",
    "    key_len = len(secret_key)\n",
    "    \n",
    "    encoded = ''\n",
    "    for i, letter in enumerate(message):\n",
    "        if letter != \" \":\n",
    "            encoded += shift_letter(letter, secret_key[i%key_len], forward=encrypt)\n",
    "        else:\n",
    "            encoded += letter\n",
    "    return encoded"
   ]
  },
  {
   "cell_type": "markdown",
   "metadata": {},
   "source": [
    "## Downloading data from the book Nineteen Eighty Four <a class=\"anchor\" id=\"nineteen-eighty-four\"></a>"
   ]
  },
  {
   "cell_type": "code",
   "execution_count": 2,
   "metadata": {},
   "outputs": [],
   "source": [
    "from utils import download_data, process_load_textfile\n",
    "import string\n",
    "import os\n",
    "\n",
    "url = 'http://gutenberg.net.au/ebooks01/0100021.txt'\n",
    "filename = 'Nineteen-eighty-four_Orwell.txt'\n",
    "download_path = '/'.join(os.getcwd().split('/')[:-1]) + '/data/'\n",
    "\n",
    "#download data to specified path\n",
    "download_data(url, filename, download_path)\n",
    "\n",
    "#load data and process\n",
    "data = process_load_textfile(filename, download_path)"
   ]
  },
  {
   "cell_type": "code",
   "execution_count": null,
   "metadata": {},
   "outputs": [],
   "source": []
  },
  {
   "cell_type": "code",
   "execution_count": null,
   "metadata": {},
   "outputs": [],
   "source": []
  },
  {
   "cell_type": "code",
   "execution_count": null,
   "metadata": {},
   "outputs": [],
   "source": []
  },
  {
   "cell_type": "markdown",
   "metadata": {},
   "source": [
    "Have a look at the data"
   ]
  },
  {
   "cell_type": "code",
   "execution_count": 3,
   "metadata": {},
   "outputs": [
    {
     "data": {
      "text/plain": [
       "'ook its smooth creamy paper a little yellowed by age was of a kind that had not been manufactured for at least forty years past he could guess however that the book was much older than that he had seen it lying in the window of a frowsy little junkshop in a slummy quarter of the town just what quarter he did not now remember and had been stricken immediately by an overwhelming desire to possess it party members were supposed not to go into ordinary shops dealing on the free market it was called but the rule was not strictly kept because there were various things such as shoelaces and razor blades which it was impossible to get hold of in any other way he had given a quick glance up and down the street and then had slipped inside and bought the book for two dollars fifty at the time he was not conscious of wanting it for any particular purpose he had carried it guiltily home in his briefcase even with nothing written in it it was a compromising possession the thing that he was about to '"
      ]
     },
     "execution_count": 3,
     "metadata": {},
     "output_type": "execute_result"
    }
   ],
   "source": [
    "data[10000:11000]"
   ]
  },
  {
   "cell_type": "markdown",
   "metadata": {},
   "source": [
    "## Counting letter frequencies <a class=\"anchor\" id=\"counting-frequencies\"></a>\n",
    "\n",
    "First we write a function to count the frequency of the letters for a given text and outputs a sorted tuple with the letter and the counts of that letter"
   ]
  },
  {
   "cell_type": "code",
   "execution_count": 4,
   "metadata": {},
   "outputs": [],
   "source": [
    "from typing import List, Tuple\n",
    "from collections import Counter\n",
    "\n",
    "def letter_count(text: str) -> List[Tuple[str, int]]:\n",
    "    text2 = text.replace(\" \", \"\")\n",
    "    letters = [c for c in text2]\n",
    "    return Counter(letters).most_common()"
   ]
  },
  {
   "cell_type": "markdown",
   "metadata": {},
   "source": [
    "And calculate the frequency for the book nineteen eighty four"
   ]
  },
  {
   "cell_type": "code",
   "execution_count": 5,
   "metadata": {},
   "outputs": [
    {
     "data": {
      "text/plain": [
       "[('e', 59619),\n",
       " ('t', 43877),\n",
       " ('a', 36523),\n",
       " ('o', 35051),\n",
       " ('n', 31986),\n",
       " ('i', 31950),\n",
       " ('h', 29164),\n",
       " ('s', 28972),\n",
       " ('r', 26126),\n",
       " ('d', 19022),\n",
       " ('l', 18657),\n",
       " ('u', 13037),\n",
       " ('w', 12243),\n",
       " ('c', 11636),\n",
       " ('m', 10828),\n",
       " ('f', 10188),\n",
       " ('y', 9423),\n",
       " ('g', 9283),\n",
       " ('p', 8614),\n",
       " ('b', 7653),\n",
       " ('v', 4313),\n",
       " ('k', 3609),\n",
       " ('x', 792),\n",
       " ('j', 463),\n",
       " ('q', 409),\n",
       " ('z', 306)]"
      ]
     },
     "execution_count": 5,
     "metadata": {},
     "output_type": "execute_result"
    }
   ],
   "source": [
    "freq = letter_count(data)\n",
    "freq"
   ]
  },
  {
   "cell_type": "markdown",
   "metadata": {},
   "source": [
    "And let's write a function that gives a bar plot for the frequencies:"
   ]
  },
  {
   "cell_type": "code",
   "execution_count": 6,
   "metadata": {},
   "outputs": [],
   "source": [
    "import matplotlib.pyplot as plt\n",
    "\n",
    "def freq_plotter(text: str, title: str) -> plt.figure:\n",
    "    plt.clf()\n",
    "    freq = letter_count(text)\n",
    "    names = [x[0] for x in freq]\n",
    "    values = [x[1] for x in freq]\n",
    "\n",
    "    fig = plt.figure(figsize=(16,7))\n",
    "\n",
    "    plt.bar(names, values)\n",
    "    plt.title(title)\n",
    "    return fig"
   ]
  },
  {
   "cell_type": "code",
   "execution_count": 7,
   "metadata": {},
   "outputs": [
    {
     "data": {
      "text/plain": [
       "<Figure size 432x288 with 0 Axes>"
      ]
     },
     "metadata": {},
     "output_type": "display_data"
    },
    {
     "data": {
      "image/png": "[encoded data removed]",
      "text/plain": [
       "<Figure size 1152x504 with 1 Axes>"
      ]
     },
     "metadata": {
      "needs_background": "light"
     },
     "output_type": "display_data"
    }
   ],
   "source": [
    "fig = freq_plotter(data, \"Frequencies of letters for Nineteen Eighty Four\")"
   ]
  },
  {
   "cell_type": "markdown",
   "metadata": {},
   "source": [
    "And finally let's code another nice utility, a function that randomly draws a random portion of the text"
   ]
  },
  {
   "cell_type": "code",
   "execution_count": 8,
   "metadata": {},
   "outputs": [],
   "source": [
    "from random import randrange, seed\n",
    "\n",
    "def draw_sample(text: str, size: int) -> str:\n",
    "    n = len(text)\n",
    "    i_init = randrange(n)\n",
    "    i_final = i_init + size\n",
    "    \n",
    "    c = ''\n",
    "    for i in range(i_init, i_final):\n",
    "        c += text[i%n]\n",
    "    return c"
   ]
  },
  {
   "cell_type": "code",
   "execution_count": 9,
   "metadata": {},
   "outputs": [
    {
     "data": {
      "text/plain": [
       "' much for both of them for some time after their visit to the church belfry it had been impossible t'"
      ]
     },
     "execution_count": 9,
     "metadata": {},
     "output_type": "execute_result"
    }
   ],
   "source": [
    "seed(3)\n",
    "draw_sample(data, 100)"
   ]
  },
  {
   "cell_type": "markdown",
   "metadata": {},
   "source": [
    "## Counting frequencies with short key <a class=\"anchor\" id=\"counting-frequencies-2\"></a>\n",
    "\n",
    "Now let's count the frequency in the ciphertext for a randomly sampled text from the book. Let's begin with the shift cipher (i.e. Vigenere with key size 1)"
   ]
  },
  {
   "cell_type": "code",
   "execution_count": 10,
   "metadata": {},
   "outputs": [
    {
     "name": "stdout",
     "output_type": "stream",
     "text": [
      "message_size = 141791\n",
      "secret_key_size = 1\n"
     ]
    }
   ],
   "source": [
    "seed(10)\n",
    "message_size = len(data)//4\n",
    "secret_key_size = 1\n",
    "print(f\"message_size = {message_size}\\nsecret_key_size = {secret_key_size}\")\n",
    "\n",
    "# generating random message\n",
    "message = draw_sample(data, message_size)\n",
    "\n",
    "# generating secret key\n",
    "secret_key = vigenere_key_generator(secret_key_size)\n",
    "\n",
    "# calculating ciphertext that Alice sends to Bob\n",
    "ciphertext = vigenere_encrypt_decrypt(message, secret_key, encrypt=True)\n",
    "\n",
    "# just to make sure Vigenere is well coded\n",
    "assert message==vigenere_encrypt_decrypt(ciphertext, secret_key, encrypt=False), \"something went wrong\""
   ]
  },
  {
   "cell_type": "code",
   "execution_count": 11,
   "metadata": {},
   "outputs": [
    {
     "data": {
      "text/plain": [
       "<Figure size 432x288 with 0 Axes>"
      ]
     },
     "metadata": {},
     "output_type": "display_data"
    },
    {
     "data": {
      "image/png": "[encoded data removed]",
      "text/plain": [
       "<Figure size 1152x504 with 1 Axes>"
      ]
     },
     "metadata": {
      "needs_background": "light"
     },
     "output_type": "display_data"
    }
   ],
   "source": [
    "fig = freq_plotter(ciphertext, f\"Frequencies for ciphertext size {message_size} and key size {secret_key_size}\")"
   ]
  },
  {
   "cell_type": "markdown",
   "metadata": {},
   "source": [
    "We observe that the frequencies of the letters are not the same, and therefore if the attacker knows Alice and Bob communicate in english he will probably be able to say that the shift is 1, i.e. the secret key is \"b\" because the most frequent letter in english is \"e\" and that corresponds to the peak in \"f\", therefore the shift is of one position. Here we can extract information from the ciphertext."
   ]
  },
  {
   "cell_type": "markdown",
   "metadata": {},
   "source": [
    "## Counting frequencies with large key <a class=\"anchor\" id=\"counting-frequencies3\"></a>\n",
    "\n",
    "Instead of having a short key, let's take a super long key, actually the size of our message:"
   ]
  },
  {
   "cell_type": "code",
   "execution_count": 12,
   "metadata": {},
   "outputs": [
    {
     "name": "stdout",
     "output_type": "stream",
     "text": [
      "message_size = 141791\n",
      "secret_key_size = 141791\n"
     ]
    }
   ],
   "source": [
    "seed(10)\n",
    "message_size = len(data)//4\n",
    "secret_key_size = message_size\n",
    "print(f\"message_size = {message_size}\\nsecret_key_size = {secret_key_size}\")\n",
    "\n",
    "# generating random message\n",
    "message = draw_sample(data, message_size)\n",
    "\n",
    "# generating secret key\n",
    "secret_key = vigenere_key_generator(secret_key_size)\n",
    "\n",
    "# calculating ciphertext that Alice sends to Bob\n",
    "ciphertext = vigenere_encrypt_decrypt(message, secret_key, encrypt=True)\n",
    "\n",
    "# just to make sure Vigenere is well coded\n",
    "assert message==vigenere_encrypt_decrypt(ciphertext, secret_key, encrypt=False), \"something went wrong\""
   ]
  },
  {
   "cell_type": "code",
   "execution_count": 13,
   "metadata": {},
   "outputs": [
    {
     "data": {
      "text/plain": [
       "<Figure size 432x288 with 0 Axes>"
      ]
     },
     "metadata": {},
     "output_type": "display_data"
    },
    {
     "data": {
      "image/png": "[encoded data removed]",
      "text/plain": [
       "<Figure size 1152x504 with 1 Axes>"
      ]
     },
     "metadata": {
      "needs_background": "light"
     },
     "output_type": "display_data"
    }
   ],
   "source": [
    "fig = freq_plotter(ciphertext, f\"Frequencies for ciphertext size {message_size} and key size {secret_key_size}\")"
   ]
  },
  {
   "cell_type": "markdown",
   "metadata": {},
   "source": [
    "Great!. The attacker computes the frequency of the letters in the ciphertext and determines that the probability for each letter to appear is almost the same. In this context we can say that the ciphertext does not contain any information from the original message."
   ]
  },
  {
   "cell_type": "markdown",
   "metadata": {},
   "source": [
    "## The one time pad <a class=\"anchor\" id=\"onetimepad\"></a>\n",
    "\n",
    "Let's have a deeper look on what we've done in the previous section. First let's see what is the frequency for each letter when randomly generating the key"
   ]
  },
  {
   "cell_type": "code",
   "execution_count": 14,
   "metadata": {},
   "outputs": [],
   "source": [
    "rdm_secret_keys = [vigenere_key_generator(secret_key_size=1) for _ in range(15000)]\n",
    "count = Counter(rdm_secret_keys)"
   ]
  },
  {
   "cell_type": "code",
   "execution_count": 15,
   "metadata": {},
   "outputs": [
    {
     "data": {
      "text/plain": [
       "[('h', 627),\n",
       " ('l', 625),\n",
       " ('w', 614),\n",
       " ('v', 610),\n",
       " ('c', 606),\n",
       " ('x', 603),\n",
       " ('j', 597),\n",
       " ('s', 594),\n",
       " ('g', 587),\n",
       " ('a', 586),\n",
       " ('b', 584),\n",
       " ('n', 577),\n",
       " ('r', 577),\n",
       " ('e', 571),\n",
       " ('k', 571),\n",
       " ('q', 566),\n",
       " ('m', 564),\n",
       " ('f', 560),\n",
       " ('z', 558),\n",
       " ('t', 556),\n",
       " ('u', 550),\n",
       " ('p', 549),\n",
       " ('d', 548),\n",
       " ('o', 545),\n",
       " ('i', 544),\n",
       " ('y', 531)]"
      ]
     },
     "execution_count": 15,
     "metadata": {},
     "output_type": "execute_result"
    }
   ],
   "source": [
    "count.most_common()"
   ]
  },
  {
   "cell_type": "markdown",
   "metadata": {},
   "source": [
    "These are very similar, this means that the probability for generating any letter is almost the same, around 1/26.  Then when we encrypt what we do is to \"shift\" or \"pad\" our character by the key number. This means that the character in the ciphertext has probability 1/26 independent on what the character of the message was. We can formalise this using Bayesian statistics: \n",
    "\n",
    "A cryptosystem has perfect secrecy if for all possible messages and for all possible ciphertext the probability of finding a message is independent of the ciphertext\n",
    "\n",
    "$$P(m|c) = P(m)$$\n",
    "\n",
    "where $P(m)$ is the probability of message $m$ from the corpus of all possible messages $M$ and $P(m|c)$ is the conditional probability for $m$ having observed the ciphertext $c$ belonging to the corpus of all possible ciphertexts $C$.\n",
    "\n",
    "Equivalently we can write \n",
    "\n",
    "$$P(m|c) = P(m|c^\\prime)$$\n",
    "\n",
    "for any two arbitrary ciphertext $c$ and $c^\\prime$. This means that the probability for the message $m$ is independent of the ciphertext. "
   ]
  },
  {
   "cell_type": "markdown",
   "metadata": {},
   "source": [
    "## One time pad is impractical because... <a class=\"anchor\" id=\"impractical-onetimepad\"></a>\n",
    "\n",
    "* The key has to be at least as long as the message one wants to transmit\n",
    "* For perfect secrecy one has to use a new key every time.\n",
    "* Alice and Bob have to make sure that they are the only ones that know the key. They cannot stablish a common key communicating through an insecure channel"
   ]
  },
  {
   "cell_type": "code",
   "execution_count": null,
   "metadata": {},
   "outputs": [],
   "source": []
  }
 ],
 "metadata": {
  "kernelspec": {
   "display_name": "Python 3 (ipykernel)",
   "language": "python",
   "name": "python3"
  },
  "language_info": {
   "codemirror_mode": {
    "name": "ipython",
    "version": 3
   },
   "file_extension": ".py",
   "mimetype": "text/x-python",
   "name": "python",
   "nbconvert_exporter": "python",
   "pygments_lexer": "ipython3",
   "version": "3.7.0"
  }
 },
 "nbformat": 4,
 "nbformat_minor": 4
}
