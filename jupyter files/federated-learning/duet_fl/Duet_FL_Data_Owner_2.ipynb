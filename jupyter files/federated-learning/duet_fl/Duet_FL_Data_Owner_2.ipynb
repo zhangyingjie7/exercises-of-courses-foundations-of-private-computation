{
 "cells": [
  {
   "cell_type": "markdown",
   "id": "dependent-pharmacy",
   "metadata": {},
   "source": [
    "# Part 1: Launch a Duet Server and upload data"
   ]
  },
  {
   "cell_type": "code",
   "execution_count": 1,
   "id": "dirty-subject",
   "metadata": {
    "scrolled": true
   },
   "outputs": [
    {
     "name": "stdout",
     "output_type": "stream",
     "text": [
      "🎤  🎸  ♪♪♪ Starting Duet ♫♫♫  🎻  🎹\n",
      "\n",
      "♫♫♫ >\u001b[93m DISCLAIMER\u001b[0m: \u001b[1mDuet is an experimental feature currently in beta.\n",
      "♫♫♫ > Use at your own risk.\n",
      "\u001b[0m\n",
      "\u001b[1m\n",
      "    > ❤️ \u001b[91mLove\u001b[0m \u001b[92mDuet\u001b[0m? \u001b[93mPlease\u001b[0m \u001b[94mconsider\u001b[0m \u001b[95msupporting\u001b[0m \u001b[91mour\u001b[0m \u001b[93mcommunity!\u001b[0m\n",
      "    > https://github.com/sponsors/OpenMined\u001b[1m\n",
      "\n",
      "♫♫♫ > Punching through firewall to OpenGrid Network Node at:\n",
      "♫♫♫ > http://ec2-18-218-7-180.us-east-2.compute.amazonaws.com:5000\n",
      "♫♫♫ >\n",
      "♫♫♫ > ...waiting for response from OpenGrid Network... \n",
      "♫♫♫ > \u001b[92mDONE!\u001b[0m\n",
      "\n",
      "♫♫♫ > \u001b[95mSTEP 1:\u001b[0m Send the following code to your Duet Partner!\n",
      "\n",
      "import syft as sy\n",
      "duet = sy.join_duet(loopback=True)\n",
      "\n",
      "♫♫♫ > Connecting...\n"
     ]
    },
    {
     "name": "stderr",
     "output_type": "stream",
     "text": [
      "d:\\program files\\python\\python37\\tutorial-env\\lib\\site-packages\\aiortc\\rtcdtlstransport.py:211: CryptographyDeprecationWarning: This version of cryptography contains a temporary pyOpenSSL fallback path. Upgrade pyOpenSSL now.\n",
      "  _openssl_assert(lib.SSL_CTX_use_certificate(ctx, self._cert._x509) == 1)  # type: ignore\n",
      "d:\\program files\\python\\python37\\tutorial-env\\lib\\site-packages\\aiortc\\rtcdtlstransport.py:186: CryptographyDeprecationWarning: This version of cryptography contains a temporary pyOpenSSL fallback path. Upgrade pyOpenSSL now.\n",
      "  value=certificate_digest(self._cert._x509),  # type: ignore\n"
     ]
    },
    {
     "name": "stdout",
     "output_type": "stream",
     "text": [
      "\n",
      "♫♫♫ > \u001b[92mCONNECTED!\u001b[0m\n",
      "\n",
      "`searchable` is deprecated please use `pointable` in futurees: 0  Request Handlers: 0                                \n",
      "♫♫♫ > DUET LIVE STATUS  -  Objects: 4  Requests: 0   Messages: 223  Request Handlers: 1                                \r"
     ]
    }
   ],
   "source": [
    "import syft as sy\n",
    "duet = sy.duet(loopback=True)"
   ]
  },
  {
   "cell_type": "code",
   "execution_count": 2,
   "id": "different-setup",
   "metadata": {},
   "outputs": [],
   "source": [
    "import torch as th\n",
    "import numpy as np"
   ]
  },
  {
   "cell_type": "code",
   "execution_count": 3,
   "id": "continent-sixth",
   "metadata": {},
   "outputs": [],
   "source": [
    "data = th.FloatTensor(np.array([60, 65, 75, 85, 95]).reshape(-1, 1))\n",
    "\n",
    "data = data.tag(\"DO2 data\")\n",
    "data = data.describe(\"Dataset of 5 samples, 1 feature\")\n",
    "\n",
    "data_ptr = data.send(duet, searchable=True)"
   ]
  },
  {
   "cell_type": "code",
   "execution_count": 4,
   "id": "tropical-addition",
   "metadata": {},
   "outputs": [
    {
     "data": {
      "text/html": [
       "<div>\n",
       "<style scoped>\n",
       "    .dataframe tbody tr th:only-of-type {\n",
       "        vertical-align: middle;\n",
       "    }\n",
       "\n",
       "    .dataframe tbody tr th {\n",
       "        vertical-align: top;\n",
       "    }\n",
       "\n",
       "    .dataframe thead th {\n",
       "        text-align: right;\n",
       "    }\n",
       "</style>\n",
       "<table border=\"1\" class=\"dataframe\">\n",
       "  <thead>\n",
       "    <tr style=\"text-align: right;\">\n",
       "      <th></th>\n",
       "      <th>ID</th>\n",
       "      <th>Tags</th>\n",
       "      <th>Description</th>\n",
       "      <th>object_type</th>\n",
       "    </tr>\n",
       "  </thead>\n",
       "  <tbody>\n",
       "    <tr>\n",
       "      <th>0</th>\n",
       "      <td>&lt;UID: 41cfbabb65f14f029c195045770a1b07&gt;</td>\n",
       "      <td>[DO2 data]</td>\n",
       "      <td>Dataset of 5 samples, 1 feature</td>\n",
       "      <td>&lt;class 'torch.Tensor'&gt;</td>\n",
       "    </tr>\n",
       "  </tbody>\n",
       "</table>\n",
       "</div>"
      ],
      "text/plain": [
       "                                        ID        Tags  \\\n",
       "0  <UID: 41cfbabb65f14f029c195045770a1b07>  [DO2 data]   \n",
       "\n",
       "                       Description             object_type  \n",
       "0  Dataset of 5 samples, 1 feature  <class 'torch.Tensor'>  "
      ]
     },
     "execution_count": 4,
     "metadata": {},
     "output_type": "execute_result"
    }
   ],
   "source": [
    "duet.store.pandas"
   ]
  },
  {
   "cell_type": "code",
   "execution_count": 5,
   "id": "nearby-usage",
   "metadata": {},
   "outputs": [
    {
     "name": "stdout",
     "output_type": "stream",
     "text": [
      "\r",
      "♫♫♫ > DUET LIVE STATUS  *  Objects: 1  Requests: 0   Messages: 2  Request Handlers: 0                                \r"
     ]
    },
    {
     "data": {
      "text/plain": [
       "tensor([[60.],\n",
       "        [65.],\n",
       "        [75.],\n",
       "        [85.],\n",
       "        [95.]])"
      ]
     },
     "execution_count": 5,
     "metadata": {},
     "output_type": "execute_result"
    }
   ],
   "source": [
    "data"
   ]
  },
  {
   "cell_type": "code",
   "execution_count": 6,
   "id": "under-revolution",
   "metadata": {},
   "outputs": [
    {
     "name": "stderr",
     "output_type": "stream",
     "text": [
      "[2021-12-13T12:06:31.749805+0800][CRITICAL][logger]][14036] > HANDLER Request <UID: 14ab1d5d5a47469a95599a033b3651d7>: To evaluate training progress\n",
      "Value: <Storable: 138.23800659179688>\n",
      "[2021-12-13T12:06:32.941782+0800][CRITICAL][logger]][14036] > HANDLER Request <UID: e8e9fb23688a40abb14d5694161ea43e>: To evaluate training progress\n",
      "Value: <Storable: 17.31894302368164>\n",
      "[2021-12-13T12:06:34.140919+0800][CRITICAL][logger]][14036] > HANDLER Request <UID: 184d3900f64a4332b30a949737f1d95f>: To evaluate training progress\n",
      "Value: <Storable: 11.224181175231934>\n",
      "[2021-12-13T12:06:35.286673+0800][CRITICAL][logger]][14036] > HANDLER Request <UID: 6056db05a8654543980f871373f5f4e1>: To evaluate training progress\n",
      "Value: <Storable: 49.8996467590332>\n",
      "[2021-12-13T12:06:36.468421+0800][CRITICAL][logger]][14036] > HANDLER Request <UID: 1b755e039e86415db259d69a22e7a6fc>: To evaluate training progress\n",
      "Value: <Storable: 59.34345626831055>\n",
      "[2021-12-13T12:06:37.615727+0800][CRITICAL][logger]][14036] > HANDLER Request <UID: fb06b787e52c4ee8bd7bc8632eb7f004>: To evaluate training progress\n",
      "Value: <Storable: 39.10646438598633>\n",
      "[2021-12-13T12:06:37.870857+0800][CRITICAL][logger]][14036] > HANDLER Request <UID: 844712c7e3dc4d5b9fd5eef553036ef8>: To evaluate training progress\n",
      "Value: <Storable: 14.231210708618164>\n",
      "[2021-12-13T12:06:39.066041+0800][CRITICAL][logger]][14036] > HANDLER Request <UID: fa525d3923704762a8a3028ef5c6f4e6>: To evaluate training progress\n",
      "Value: <Storable: 2.707404375076294>\n",
      "[2021-12-13T12:06:40.221194+0800][CRITICAL][logger]][14036] > HANDLER Request <UID: b206b10dcc874cb7ba290464172e05ff>: To evaluate training progress\n",
      "Value: <Storable: 8.063619613647461>\n",
      "[2021-12-13T12:06:41.375957+0800][CRITICAL][logger]][14036] > HANDLER Request <UID: 3832b434928746d89685eecc16f9921a>: To evaluate training progress\n",
      "Value: <Storable: 20.713214874267578>\n",
      "[2021-12-13T12:06:49.717070+0800][CRITICAL][logger]][14036] > HANDLER Request <UID: 66e0cff9e6924806afea8a2f911b77fc>:\n",
      "Value: <Storable: [Parameter containing:tensor([[0.5623]], requires_grad=True), Parameter containing:tensor([-0.5091], requires_grad=True)]>\n",
      "[2021-12-13T12:07:41.757457+0800][CRITICAL][logger]][14036] > HANDLER Request <UID: 959f735358404b1381d44d270b5a6881>:\n",
      "Value: <Storable: 'in_features=1, out_features=1, bias=True'>\n",
      "[2021-12-13T12:07:41.926532+0800][CRITICAL][logger]][14036] > HANDLER Request <UID: d9276a68e15346f897f06873e64a75b4>:\n",
      "Value: <Storable: OrderedDict([('weight', tensor([[0.5623]])), ('bias', tensor([-0.5091]))])>\n"
     ]
    }
   ],
   "source": [
    "duet.requests.add_handler(\n",
    "    action=\"accept\",\n",
    "    print_local=True,  # print the result in your notebook\n",
    ")"
   ]
  },
  {
   "cell_type": "code",
   "execution_count": null,
   "id": "every-banana",
   "metadata": {},
   "outputs": [],
   "source": []
  }
 ],
 "metadata": {
  "kernelspec": {
   "display_name": "Python 3 (ipykernel)",
   "language": "python",
   "name": "python3"
  },
  "language_info": {
   "codemirror_mode": {
    "name": "ipython",
    "version": 3
   },
   "file_extension": ".py",
   "mimetype": "text/x-python",
   "name": "python",
   "nbconvert_exporter": "python",
   "pygments_lexer": "ipython3",
   "version": "3.7.0"
  }
 },
 "nbformat": 4,
 "nbformat_minor": 5
}
