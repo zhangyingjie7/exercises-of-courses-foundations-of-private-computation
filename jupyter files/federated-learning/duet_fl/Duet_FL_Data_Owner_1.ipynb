{
 "cells": [
  {
   "cell_type": "markdown",
   "id": "continent-climb",
   "metadata": {},
   "source": [
    "# Part 1: Launch a Duet Server and upload data"
   ]
  },
  {
   "cell_type": "code",
   "execution_count": 1,
   "id": "parental-classics",
   "metadata": {},
   "outputs": [
    {
     "name": "stdout",
     "output_type": "stream",
     "text": [
      "🎤  🎸  ♪♪♪ Starting Duet ♫♫♫  🎻  🎹\n",
      "\n",
      "♫♫♫ >\u001b[93m DISCLAIMER\u001b[0m: \u001b[1mDuet is an experimental feature currently in beta.\n",
      "♫♫♫ > Use at your own risk.\n",
      "\u001b[0m\n",
      "\u001b[1m\n",
      "    > ❤️ \u001b[91mLove\u001b[0m \u001b[92mDuet\u001b[0m? \u001b[93mPlease\u001b[0m \u001b[94mconsider\u001b[0m \u001b[95msupporting\u001b[0m \u001b[91mour\u001b[0m \u001b[93mcommunity!\u001b[0m\n",
      "    > https://github.com/sponsors/OpenMined\u001b[1m\n",
      "\n",
      "♫♫♫ > Punching through firewall to OpenGrid Network Node at:\n",
      "♫♫♫ > http://ec2-18-218-7-180.us-east-2.compute.amazonaws.com:5000\n",
      "♫♫♫ >\n",
      "♫♫♫ > ...waiting for response from OpenGrid Network... \n",
      "♫♫♫ > \u001b[92mDONE!\u001b[0m\n",
      "\n",
      "♫♫♫ > \u001b[95mSTEP 1:\u001b[0m Send the following code to your Duet Partner!\n",
      "\n",
      "import syft as sy\n",
      "duet = sy.join_duet(loopback=True)\n",
      "\n",
      "♫♫♫ > Connecting...\n"
     ]
    },
    {
     "name": "stderr",
     "output_type": "stream",
     "text": [
      "d:\\program files\\python\\python37\\tutorial-env\\lib\\site-packages\\aiortc\\rtcdtlstransport.py:211: CryptographyDeprecationWarning: This version of cryptography contains a temporary pyOpenSSL fallback path. Upgrade pyOpenSSL now.\n",
      "  _openssl_assert(lib.SSL_CTX_use_certificate(ctx, self._cert._x509) == 1)  # type: ignore\n",
      "d:\\program files\\python\\python37\\tutorial-env\\lib\\site-packages\\aiortc\\rtcdtlstransport.py:186: CryptographyDeprecationWarning: This version of cryptography contains a temporary pyOpenSSL fallback path. Upgrade pyOpenSSL now.\n",
      "  value=certificate_digest(self._cert._x509),  # type: ignore\n"
     ]
    },
    {
     "name": "stdout",
     "output_type": "stream",
     "text": [
      "\n",
      "♫♫♫ > \u001b[92mCONNECTED!\u001b[0m\n",
      "\n",
      "♫♫♫ > DUET LIVE STATUS  *  Objects: 4  Requests: 0   Messages: 224  Request Handlers: 1                                                         \r"
     ]
    }
   ],
   "source": [
    "import syft as sy\n",
    "duet = sy.launch_duet(loopback=True)"
   ]
  },
  {
   "cell_type": "code",
   "execution_count": 2,
   "id": "dying-switch",
   "metadata": {},
   "outputs": [],
   "source": [
    "import torch as th\n",
    "import numpy as np"
   ]
  },
  {
   "cell_type": "code",
   "execution_count": 3,
   "id": "focused-error",
   "metadata": {},
   "outputs": [
    {
     "name": "stdout",
     "output_type": "stream",
     "text": [
      "`searchable` is deprecated please use `pointable` in future\n"
     ]
    }
   ],
   "source": [
    "data = th.FloatTensor(np.array([5, 15, 25, 35, 45, 55]).reshape(-1, 1))\n",
    "\n",
    "data = data.tag(\"DO1 data\")\n",
    "data = data.describe(\"Dataset of 6 samples, 1 feature\")\n",
    "\n",
    "data_ptr = data.send(duet, searchable=True)"
   ]
  },
  {
   "cell_type": "code",
   "execution_count": 4,
   "id": "circular-commodity",
   "metadata": {},
   "outputs": [
    {
     "data": {
      "text/html": [
       "<div>\n",
       "<style scoped>\n",
       "    .dataframe tbody tr th:only-of-type {\n",
       "        vertical-align: middle;\n",
       "    }\n",
       "\n",
       "    .dataframe tbody tr th {\n",
       "        vertical-align: top;\n",
       "    }\n",
       "\n",
       "    .dataframe thead th {\n",
       "        text-align: right;\n",
       "    }\n",
       "</style>\n",
       "<table border=\"1\" class=\"dataframe\">\n",
       "  <thead>\n",
       "    <tr style=\"text-align: right;\">\n",
       "      <th></th>\n",
       "      <th>ID</th>\n",
       "      <th>Tags</th>\n",
       "      <th>Description</th>\n",
       "      <th>object_type</th>\n",
       "    </tr>\n",
       "  </thead>\n",
       "  <tbody>\n",
       "    <tr>\n",
       "      <th>0</th>\n",
       "      <td>&lt;UID: bed3e121100a4738bd415caac7bb0e85&gt;</td>\n",
       "      <td>[DO1 data]</td>\n",
       "      <td>Dataset of 6 samples, 1 feature</td>\n",
       "      <td>&lt;class 'torch.Tensor'&gt;</td>\n",
       "    </tr>\n",
       "  </tbody>\n",
       "</table>\n",
       "</div>"
      ],
      "text/plain": [
       "                                        ID        Tags  \\\n",
       "0  <UID: bed3e121100a4738bd415caac7bb0e85>  [DO1 data]   \n",
       "\n",
       "                       Description             object_type  \n",
       "0  Dataset of 6 samples, 1 feature  <class 'torch.Tensor'>  "
      ]
     },
     "execution_count": 4,
     "metadata": {},
     "output_type": "execute_result"
    }
   ],
   "source": [
    "duet.store.pandas"
   ]
  },
  {
   "cell_type": "code",
   "execution_count": 5,
   "id": "undefined-keeping",
   "metadata": {},
   "outputs": [
    {
     "data": {
      "text/plain": [
       "tensor([[ 5.],\n",
       "        [15.],\n",
       "        [25.],\n",
       "        [35.],\n",
       "        [45.],\n",
       "        [55.]])"
      ]
     },
     "execution_count": 5,
     "metadata": {},
     "output_type": "execute_result"
    }
   ],
   "source": [
    "data"
   ]
  },
  {
   "cell_type": "code",
   "execution_count": 6,
   "id": "thousand-borough",
   "metadata": {},
   "outputs": [
    {
     "name": "stderr",
     "output_type": "stream",
     "text": [
      "[2021-12-13T12:05:59.435904+0800][CRITICAL][logger]][6264] > HANDLER Request <UID: 39414ea7e5ab442e938520ecc454cb95>: To evaluate training progress\n",
      "Value: <Storable: 50.621063232421875>\n",
      "[2021-12-13T12:06:00.621318+0800][CRITICAL][logger]][6264] > HANDLER Request <UID: 884792ec33bf4ee694903ae64c0c2a6d>: To evaluate training progress\n",
      "Value: <Storable: 13.572895050048828>\n",
      "[2021-12-13T12:06:01.790011+0800][CRITICAL][logger]][6264] > HANDLER Request <UID: 3cfb68cd95cc41fa8acdd3acb83e93f6>: To evaluate training progress\n",
      "Value: <Storable: 1.601438045501709>\n",
      "[2021-12-13T12:06:02.981579+0800][CRITICAL][logger]][6264] > HANDLER Request <UID: 43c785e7c53546acaf252a751a595f79>: To evaluate training progress\n",
      "Value: <Storable: 7.448986053466797>\n",
      "[2021-12-13T12:06:04.145104+0800][CRITICAL][logger]][6264] > HANDLER Request <UID: 0502cf984ad6433688167dab2b334305>: To evaluate training progress\n",
      "Value: <Storable: 16.346715927124023>\n",
      "Exception in callback Transaction.__retry()\n",
      "handle: <TimerHandle when=70924.64 Transaction.__retry()>\n",
      "Traceback (most recent call last):\n",
      "  File \"D:\\program files\\python\\python37\\lib\\asyncio\\events.py\", line 88, in _run\n",
      "    self._context.run(self._callback, *self._args)\n",
      "  File \"d:\\program files\\python\\python37\\tutorial-env\\lib\\site-packages\\aioice\\stun.py\", line 306, in __retry\n",
      "    self.__future.set_exception(TransactionTimeout())\n",
      "  File \"D:\\program files\\python\\python37\\lib\\asyncio\\futures.py\", line 246, in set_exception\n",
      "    raise InvalidStateError('{}: {!r}'.format(self._state, self))\n",
      "asyncio.base_futures.InvalidStateError: FINISHED: <Future finished result=(Message(messa...a\\xda\\x92di*'), ('172.31.48.1', 65370))>\n",
      "[2021-12-13T12:06:05.326609+0800][CRITICAL][logger]][6264] > HANDLER Request <UID: 5580b3b5aa494f029313ee5a4ba0e849>: To evaluate training progress\n",
      "Value: <Storable: 18.442180633544922>\n",
      "[2021-12-13T12:06:06.480174+0800][CRITICAL][logger]][6264] > HANDLER Request <UID: 9b116db4e36e4ef38f24c5ec9dc1f382>: To evaluate training progress\n",
      "Value: <Storable: 14.163008689880371>\n",
      "[2021-12-13T12:06:07.604597+0800][CRITICAL][logger]][6264] > HANDLER Request <UID: 03bca26dc83d451082b0a3cb870191a7>: To evaluate training progress\n",
      "Value: <Storable: 7.744306564331055>\n",
      "[2021-12-13T12:06:08.797312+0800][CRITICAL][logger]][6264] > HANDLER Request <UID: 2abe8a0b036b46cfab312b1659fff1ea>: To evaluate training progress\n",
      "Value: <Storable: 2.935067892074585>\n",
      "[2021-12-13T12:06:09.933274+0800][CRITICAL][logger]][6264] > HANDLER Request <UID: de154aef957d4118b5eac2feec28f0cb>: To evaluate training progress\n",
      "Value: <Storable: 1.5995491743087769>\n",
      "[2021-12-13T12:06:48.568504+0800][CRITICAL][logger]][6264] > HANDLER Request <UID: 82b8727d3acb4ea6b999002c8b5dcbcd>:\n",
      "Value: <Storable: [Parameter containing:tensor([[0.6364]], requires_grad=True), Parameter containing:tensor([-0.3874], requires_grad=True)]>\n",
      "[2021-12-13T12:07:37.883654+0800][CRITICAL][logger]][6264] > HANDLER Request <UID: 2e27b5c7cefc4a4981843efcfce898b6>:\n",
      "Value: <Storable: 'in_features=1, out_features=1, bias=True'>\n",
      "[2021-12-13T12:07:38.070673+0800][CRITICAL][logger]][6264] > HANDLER Request <UID: 89d35219126d4bcd8e9d07684810b8a1>:\n",
      "Value: <Storable: OrderedDict([('weight', tensor([[0.6364]])), ('bias', tensor([-0.3874]))])>\n"
     ]
    }
   ],
   "source": [
    "duet.requests.add_handler(\n",
    "    action=\"accept\",\n",
    "    print_local=True,  # print the result in your notebook\n",
    ")"
   ]
  },
  {
   "cell_type": "code",
   "execution_count": null,
   "id": "assigned-tomato",
   "metadata": {},
   "outputs": [],
   "source": []
  }
 ],
 "metadata": {
  "kernelspec": {
   "display_name": "Python 3 (ipykernel)",
   "language": "python",
   "name": "python3"
  },
  "language_info": {
   "codemirror_mode": {
    "name": "ipython",
    "version": 3
   },
   "file_extension": ".py",
   "mimetype": "text/x-python",
   "name": "python",
   "nbconvert_exporter": "python",
   "pygments_lexer": "ipython3",
   "version": "3.7.0"
  }
 },
 "nbformat": 4,
 "nbformat_minor": 5
}
