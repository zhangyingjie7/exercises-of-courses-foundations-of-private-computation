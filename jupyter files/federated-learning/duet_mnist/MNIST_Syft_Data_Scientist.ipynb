{
 "cells": [
  {
   "cell_type": "markdown",
   "metadata": {},
   "source": [
    "# MNIST - Syft Duet - Data Scientist 🥁"
   ]
  },
  {
   "cell_type": "markdown",
   "metadata": {},
   "source": [
    "## PART 1: Connect to a Remote Duet Server\n",
    "\n",
    "As the Data Scientist, you want to perform data science on data that is sitting in the Data Owner's Duet server in their Notebook.\n",
    "\n",
    "In order to do this, we must run the code that the Data Owner sends us, which importantly includes their Duet Session ID. The code will look like this, importantly with their real Server ID.\n",
    "\n",
    "```\n",
    "import syft as sy\n",
    "duet = sy.duet('xxxxxxxxxxxxxxxxxxxxxxxxxxxxxxxx')\n",
    "```\n",
    "\n",
    "This will create a direct connection from my notebook to the remote Duet server. Once the connection is established all traffic is sent directly between the two nodes.\n",
    "\n",
    "Paste the code or Server ID that the Data Owner gives you and run it in the cell below. It will return your Client ID which you must send to the Data Owner to enter into Duet so it can pair your notebooks."
   ]
  },
  {
   "cell_type": "code",
   "execution_count": 1,
   "metadata": {},
   "outputs": [
    {
     "name": "stdout",
     "output_type": "stream",
     "text": [
      "🎤  🎸  ♪♪♪ Joining Duet ♫♫♫  🎻  🎹\n",
      "\n",
      "♫♫♫ >\u001b[93m DISCLAIMER\u001b[0m: \u001b[1mDuet is an experimental feature currently in beta.\n",
      "♫♫♫ > Use at your own risk.\n",
      "\u001b[0m\n",
      "\u001b[1m\n",
      "    > ❤️ \u001b[91mLove\u001b[0m \u001b[92mDuet\u001b[0m? \u001b[93mPlease\u001b[0m \u001b[94mconsider\u001b[0m \u001b[95msupporting\u001b[0m \u001b[91mour\u001b[0m \u001b[93mcommunity!\u001b[0m\n",
      "    > https://github.com/sponsors/OpenMined\u001b[1m\n",
      "\n",
      "♫♫♫ > Punching through firewall to OpenGrid Network Node at:\n",
      "♫♫♫ > http://ec2-18-218-7-180.us-east-2.compute.amazonaws.com:5000\n",
      "♫♫♫ >\n",
      "♫♫♫ > ...waiting for response from OpenGrid Network... \n",
      "♫♫♫ > \u001b[92mDONE!\u001b[0m\n"
     ]
    },
    {
     "name": "stderr",
     "output_type": "stream",
     "text": [
      "d:\\program files\\python\\python37\\tutorial-env\\lib\\site-packages\\aiortc\\rtcdtlstransport.py:211: CryptographyDeprecationWarning: This version of cryptography contains a temporary pyOpenSSL fallback path. Upgrade pyOpenSSL now.\n",
      "  _openssl_assert(lib.SSL_CTX_use_certificate(ctx, self._cert._x509) == 1)  # type: ignore\n",
      "d:\\program files\\python\\python37\\tutorial-env\\lib\\site-packages\\aiortc\\rtcdtlstransport.py:186: CryptographyDeprecationWarning: This version of cryptography contains a temporary pyOpenSSL fallback path. Upgrade pyOpenSSL now.\n",
      "  value=certificate_digest(self._cert._x509),  # type: ignore\n"
     ]
    },
    {
     "name": "stdout",
     "output_type": "stream",
     "text": [
      "\n",
      "♫♫♫ > \u001b[92mCONNECTED!\u001b[0m\n"
     ]
    }
   ],
   "source": [
    "import syft as sy\n",
    "duet = sy.join_duet(loopback=True)"
   ]
  },
  {
   "cell_type": "markdown",
   "metadata": {},
   "source": [
    "### <img src=\"https://github.com/OpenMined/design-assets/raw/master/logos/OM/mark-primary-light.png\" alt=\"he-black-box\" width=\"100\"/> Checkpoint 0 : Now STOP and run the Data Owner notebook until the next checkpoint."
   ]
  },
  {
   "cell_type": "markdown",
   "metadata": {},
   "source": [
    "## PART 2: Setting up a Model and our Data\n",
    "The majority of the code below has been adapted closely from the original PyTorch MNIST example which is available in the `original` directory with these notebooks."
   ]
  },
  {
   "cell_type": "markdown",
   "metadata": {},
   "source": [
    "The `duet` variable is now your reference to a whole world of remote operations including supported libraries like torch.\n",
    "\n",
    "Lets take a look at the duet.torch attribute.\n",
    "```\n",
    "duet.torch\n",
    "```"
   ]
  },
  {
   "cell_type": "code",
   "execution_count": 2,
   "metadata": {},
   "outputs": [
    {
     "data": {
      "text/plain": [
       "Module:\n",
       "\t.Tensor -> <syft.ast.klass.Class object at 0x0000024A18DDAA08>\n",
       "\t.BFloat16Tensor -> <syft.ast.klass.Class object at 0x0000024A18DDAA70>\n",
       "\t.BoolTensor -> <syft.ast.klass.Class object at 0x0000024A18DDAAD8>\n",
       "\t.ByteTensor -> <syft.ast.klass.Class object at 0x0000024A18DDAB40>\n",
       "\t.CharTensor -> <syft.ast.klass.Class object at 0x0000024A18DDABA8>\n",
       "\t.DoubleTensor -> <syft.ast.klass.Class object at 0x0000024A18DDAC10>\n",
       "\t.FloatTensor -> <syft.ast.klass.Class object at 0x0000024A18DDAC78>\n",
       "\t.HalfTensor -> <syft.ast.klass.Class object at 0x0000024A18DDACE0>\n",
       "\t.IntTensor -> <syft.ast.klass.Class object at 0x0000024A18DDAD48>\n",
       "\t.LongTensor -> <syft.ast.klass.Class object at 0x0000024A18DDADB0>\n",
       "\t.ShortTensor -> <syft.ast.klass.Class object at 0x0000024A18DDAE18>\n",
       "\t.nn -> Module:\n",
       "\t\t.Parameter -> <syft.ast.klass.Class object at 0x0000024A18DDAF50>\n",
       "\t\t.Module -> <syft.ast.klass.Class object at 0x0000024A18EDB0B0>\n",
       "\t\t.Conv2d -> <syft.ast.klass.Class object at 0x0000024A18EDB590>\n",
       "\t\t.Dropout2d -> <syft.ast.klass.Class object at 0x0000024A18EDB9A0>\n",
       "\t\t.Linear -> <syft.ast.klass.Class object at 0x0000024A18EDBCE0>\n",
       "\t\t.functional -> Module:\n",
       "\t\t\t.relu -> <syft.ast.callable.Callable object at 0x0000024A18EE1590>\n",
       "\t\t\t.gelu -> <syft.ast.callable.Callable object at 0x0000024A18EE15F8>\n",
       "\t\t\t.max_pool2d -> <syft.ast.callable.Callable object at 0x0000024A18EE1660>\n",
       "\t\t\t.log_softmax -> <syft.ast.callable.Callable object at 0x0000024A18EE16C8>\n",
       "\t\t\t.cosine_embedding_loss -> <syft.ast.callable.Callable object at 0x0000024A18EED388>\n",
       "\t\t\t.ctc_loss -> <syft.ast.callable.Callable object at 0x0000024A18EED3F0>\n",
       "\t\t\t.hinge_embedding_loss -> <syft.ast.callable.Callable object at 0x0000024A18EED458>\n",
       "\t\t\t.l1_loss -> <syft.ast.callable.Callable object at 0x0000024A18EED4C0>\n",
       "\t\t\t.margin_ranking_loss -> <syft.ast.callable.Callable object at 0x0000024A18EED528>\n",
       "\t\t\t.mse_loss -> <syft.ast.callable.Callable object at 0x0000024A18EED590>\n",
       "\t\t\t.multi_margin_loss -> <syft.ast.callable.Callable object at 0x0000024A18EED5F8>\n",
       "\t\t\t.multilabel_margin_loss -> <syft.ast.callable.Callable object at 0x0000024A18EED660>\n",
       "\t\t\t.multilabel_soft_margin_loss -> <syft.ast.callable.Callable object at 0x0000024A18EED6C8>\n",
       "\t\t\t.nll_loss -> <syft.ast.callable.Callable object at 0x0000024A18EED730>\n",
       "\t\t\t.cross_entropy -> <syft.ast.callable.Callable object at 0x0000024A18EED798>\n",
       "\t\t\t.poisson_nll_loss -> <syft.ast.callable.Callable object at 0x0000024A18EED800>\n",
       "\t\t\t.smooth_l1_loss -> <syft.ast.callable.Callable object at 0x0000024A18EED868>\n",
       "\t\t\t.soft_margin_loss -> <syft.ast.callable.Callable object at 0x0000024A18EED8D0>\n",
       "\t\t\t.triplet_margin_loss -> <syft.ast.callable.Callable object at 0x0000024A18EED938>\n",
       "\n",
       "\t\t.Sequential -> <syft.ast.klass.Class object at 0x0000024A18EED048>\n",
       "\t\t.AdaptiveLogSoftmaxWithLoss -> <syft.ast.klass.Class object at 0x0000024A18EED9A0>\n",
       "\t\t.BCELoss -> <syft.ast.klass.Class object at 0x0000024A18EEDA70>\n",
       "\t\t.BCEWithLogitsLoss -> <syft.ast.klass.Class object at 0x0000024A18EEDB40>\n",
       "\t\t.CTCLoss -> <syft.ast.klass.Class object at 0x0000024A18EEDC10>\n",
       "\t\t.CrossEntropyLoss -> <syft.ast.klass.Class object at 0x0000024A18EEDCE0>\n",
       "\t\t.CosineEmbeddingLoss -> <syft.ast.klass.Class object at 0x0000024A18EEDDB0>\n",
       "\t\t.HingeEmbeddingLoss -> <syft.ast.klass.Class object at 0x0000024A18EEDE80>\n",
       "\t\t.KLDivLoss -> <syft.ast.klass.Class object at 0x0000024A18EEDF50>\n",
       "\t\t.L1Loss -> <syft.ast.klass.Class object at 0x0000024A18EF30B0>\n",
       "\t\t.MSELoss -> <syft.ast.klass.Class object at 0x0000024A18EF3180>\n",
       "\t\t.MarginRankingLoss -> <syft.ast.klass.Class object at 0x0000024A18EF3250>\n",
       "\t\t.MultiLabelMarginLoss -> <syft.ast.klass.Class object at 0x0000024A18EF3320>\n",
       "\t\t.MultiLabelSoftMarginLoss -> <syft.ast.klass.Class object at 0x0000024A18EF33F0>\n",
       "\t\t.MultiMarginLoss -> <syft.ast.klass.Class object at 0x0000024A18EF34C0>\n",
       "\t\t.NLLLoss -> <syft.ast.klass.Class object at 0x0000024A18EF3590>\n",
       "\t\t.NLLLoss2d -> <syft.ast.klass.Class object at 0x0000024A18EF3660>\n",
       "\t\t.PoissonNLLLoss -> <syft.ast.klass.Class object at 0x0000024A18EF3730>\n",
       "\t\t.SmoothL1Loss -> <syft.ast.klass.Class object at 0x0000024A18EF3800>\n",
       "\t\t.SoftMarginLoss -> <syft.ast.klass.Class object at 0x0000024A18EF38D0>\n",
       "\t\t.TripletMarginLoss -> <syft.ast.klass.Class object at 0x0000024A18EF39A0>\n",
       "\t\t.AdaptiveAvgPool1d -> <syft.ast.klass.Class object at 0x0000024A18EF3A70>\n",
       "\t\t.AdaptiveAvgPool2d -> <syft.ast.klass.Class object at 0x0000024A18EF3E80>\n",
       "\t\t.AdaptiveAvgPool3d -> <syft.ast.klass.Class object at 0x0000024A18EF8320>\n",
       "\t\t.AdaptiveMaxPool1d -> <syft.ast.klass.Class object at 0x0000024A18EF8730>\n",
       "\t\t.AdaptiveMaxPool2d -> <syft.ast.klass.Class object at 0x0000024A18EF8B40>\n",
       "\t\t.AdaptiveMaxPool3d -> <syft.ast.klass.Class object at 0x0000024A18EF8F50>\n",
       "\t\t.AlphaDropout -> <syft.ast.klass.Class object at 0x0000024A18F003F0>\n",
       "\t\t.AvgPool1d -> <syft.ast.klass.Class object at 0x0000024A18F00800>\n",
       "\t\t.AvgPool2d -> <syft.ast.klass.Class object at 0x0000024A18F00C10>\n",
       "\t\t.AvgPool3d -> <syft.ast.klass.Class object at 0x0000024A18F050B0>\n",
       "\t\t.BatchNorm1d -> <syft.ast.klass.Class object at 0x0000024A18F054C0>\n",
       "\t\t.BatchNorm2d -> <syft.ast.klass.Class object at 0x0000024A18F058D0>\n",
       "\t\t.BatchNorm3d -> <syft.ast.klass.Class object at 0x0000024A18F05CE0>\n",
       "\t\t.Bilinear -> <syft.ast.klass.Class object at 0x0000024A18F0A180>\n",
       "\t\t.CELU -> <syft.ast.klass.Class object at 0x0000024A18F0A590>\n",
       "\t\t.ConstantPad1d -> <syft.ast.klass.Class object at 0x0000024A18F0A9A0>\n",
       "\t\t.ConstantPad2d -> <syft.ast.klass.Class object at 0x0000024A18F0ADB0>\n",
       "\t\t.ConstantPad3d -> <syft.ast.klass.Class object at 0x0000024A18F11250>\n",
       "\t\t.Container -> <syft.ast.klass.Class object at 0x0000024A18F11660>\n",
       "\t\t.Conv1d -> <syft.ast.klass.Class object at 0x0000024A18F11A70>\n",
       "\t\t.Conv3d -> <syft.ast.klass.Class object at 0x0000024A18F11E80>\n",
       "\t\t.ConvTranspose1d -> <syft.ast.klass.Class object at 0x0000024A18F16320>\n",
       "\t\t.ConvTranspose2d -> <syft.ast.klass.Class object at 0x0000024A18F16730>\n",
       "\t\t.ConvTranspose3d -> <syft.ast.klass.Class object at 0x0000024A18F16B40>\n",
       "\t\t.CosineSimilarity -> <syft.ast.klass.Class object at 0x0000024A18F16F50>\n",
       "\t\t.CrossMapLRN2d -> <syft.ast.klass.Class object at 0x0000024A18F1B3F0>\n",
       "\t\t.DataParallel -> <syft.ast.klass.Class object at 0x0000024A18F1B800>\n",
       "\t\t.Dropout -> <syft.ast.klass.Class object at 0x0000024A18F1BC10>\n",
       "\t\t.Dropout3d -> <syft.ast.klass.Class object at 0x0000024A18F20180>\n",
       "\t\t.ELU -> <syft.ast.klass.Class object at 0x0000024A18F20590>\n",
       "\t\t.Embedding -> <syft.ast.klass.Class object at 0x0000024A18F209A0>\n",
       "\t\t.EmbeddingBag -> <syft.ast.klass.Class object at 0x0000024A18F20DB0>\n",
       "\t\t.FeatureAlphaDropout -> <syft.ast.klass.Class object at 0x0000024A18F26250>\n",
       "\t\t.Flatten -> <syft.ast.klass.Class object at 0x0000024A18F26660>\n",
       "\t\t.Fold -> <syft.ast.klass.Class object at 0x0000024A18F26A70>\n",
       "\t\t.FractionalMaxPool2d -> <syft.ast.klass.Class object at 0x0000024A18F26E80>\n",
       "\t\t.FractionalMaxPool3d -> <syft.ast.klass.Class object at 0x0000024A18F2C320>\n",
       "\t\t.GELU -> <syft.ast.klass.Class object at 0x0000024A18F2C730>\n",
       "\t\t.GLU -> <syft.ast.klass.Class object at 0x0000024A18F2CB40>\n",
       "\t\t.GRU -> <syft.ast.klass.Class object at 0x0000024A18F2CF50>\n",
       "\t\t.GRUCell -> <syft.ast.klass.Class object at 0x0000024A18F323F0>\n",
       "\t\t.GroupNorm -> <syft.ast.klass.Class object at 0x0000024A18F32800>\n",
       "\t\t.Hardshrink -> <syft.ast.klass.Class object at 0x0000024A18F32C10>\n",
       "\t\t.Hardsigmoid -> <syft.ast.klass.Class object at 0x0000024A18F370B0>\n",
       "\t\t.Hardswish -> <syft.ast.klass.Class object at 0x0000024A18F37458>\n",
       "\t\t.Hardtanh -> <syft.ast.klass.Class object at 0x0000024A18F37800>\n",
       "\t\t.Identity -> <syft.ast.klass.Class object at 0x0000024A18F37C10>\n",
       "\t\t.InstanceNorm1d -> <syft.ast.klass.Class object at 0x0000024A18F3C0B0>\n",
       "\t\t.InstanceNorm2d -> <syft.ast.klass.Class object at 0x0000024A18F3C4C0>\n",
       "\t\t.InstanceNorm3d -> <syft.ast.klass.Class object at 0x0000024A18F3C8D0>\n",
       "\t\t.LPPool1d -> <syft.ast.klass.Class object at 0x0000024A18F3CCE0>\n",
       "\t\t.LPPool2d -> <syft.ast.klass.Class object at 0x0000024A18F43180>\n",
       "\t\t.LSTM -> <syft.ast.klass.Class object at 0x0000024A18F43590>\n",
       "\t\t.LSTMCell -> <syft.ast.klass.Class object at 0x0000024A18F439A0>\n",
       "\t\t.LayerNorm -> <syft.ast.klass.Class object at 0x0000024A18F43DB0>\n",
       "\t\t.LeakyReLU -> <syft.ast.klass.Class object at 0x0000024A18F49250>\n",
       "\t\t.LocalResponseNorm -> <syft.ast.klass.Class object at 0x0000024A18F49660>\n",
       "\t\t.LogSigmoid -> <syft.ast.klass.Class object at 0x0000024A18F49A70>\n",
       "\t\t.LogSoftmax -> <syft.ast.klass.Class object at 0x0000024A18F49E80>\n",
       "\t\t.MaxPool1d -> <syft.ast.klass.Class object at 0x0000024A18F4E320>\n",
       "\t\t.MaxPool2d -> <syft.ast.klass.Class object at 0x0000024A18F4E730>\n",
       "\t\t.MaxPool3d -> <syft.ast.klass.Class object at 0x0000024A18F4EB40>\n",
       "\t\t.MaxUnpool1d -> <syft.ast.klass.Class object at 0x0000024A18F4EF50>\n",
       "\t\t.MaxUnpool2d -> <syft.ast.klass.Class object at 0x0000024A18F533F0>\n",
       "\t\t.MaxUnpool3d -> <syft.ast.klass.Class object at 0x0000024A18F53800>\n",
       "\t\t.ModuleDict -> <syft.ast.klass.Class object at 0x0000024A18F53C10>\n",
       "\t\t.ModuleList -> <syft.ast.klass.Class object at 0x0000024A18F590B0>\n",
       "\t\t.MultiheadAttention -> <syft.ast.klass.Class object at 0x0000024A18F59590>\n",
       "\t\t.PReLU -> <syft.ast.klass.Class object at 0x0000024A18F599A0>\n",
       "\t\t.PairwiseDistance -> <syft.ast.klass.Class object at 0x0000024A18F59DB0>\n",
       "\t\t.PixelShuffle -> <syft.ast.klass.Class object at 0x0000024A18F5F250>\n",
       "\t\t.RNN -> <syft.ast.klass.Class object at 0x0000024A18F5F660>\n",
       "\t\t.RNNBase -> <syft.ast.klass.Class object at 0x0000024A18F5FA70>\n",
       "\t\t.RNNCell -> <syft.ast.klass.Class object at 0x0000024A18F5FE80>\n",
       "\t\t.RNNCellBase -> <syft.ast.klass.Class object at 0x0000024A18F66320>\n",
       "\t\t.RReLU -> <syft.ast.klass.Class object at 0x0000024A18F66730>\n",
       "\t\t.ReLU -> <syft.ast.klass.Class object at 0x0000024A18F66B40>\n",
       "\t\t.ReLU6 -> <syft.ast.klass.Class object at 0x0000024A18F66F50>\n",
       "\t\t.ReflectionPad1d -> <syft.ast.klass.Class object at 0x0000024A18F6D3F0>\n",
       "\t\t.ReflectionPad2d -> <syft.ast.klass.Class object at 0x0000024A18F6D800>\n",
       "\t\t.ReplicationPad1d -> <syft.ast.klass.Class object at 0x0000024A18F6DC10>\n",
       "\t\t.ReplicationPad2d -> <syft.ast.klass.Class object at 0x0000024A18F710B0>\n",
       "\t\t.ReplicationPad3d -> <syft.ast.klass.Class object at 0x0000024A18F714C0>\n",
       "\t\t.SELU -> <syft.ast.klass.Class object at 0x0000024A18F718D0>\n",
       "\t\t.Sigmoid -> <syft.ast.klass.Class object at 0x0000024A18F71E18>\n",
       "\t\t.Softmax -> <syft.ast.klass.Class object at 0x0000024A18F782B8>\n",
       "\t\t.Softmax2d -> <syft.ast.klass.Class object at 0x0000024A18F786C8>\n",
       "\t\t.Softmin -> <syft.ast.klass.Class object at 0x0000024A18F78AD8>\n",
       "\t\t.Softplus -> <syft.ast.klass.Class object at 0x0000024A18F78EE8>\n",
       "\t\t.Softshrink -> <syft.ast.klass.Class object at 0x0000024A18F7D388>\n",
       "\t\t.Softsign -> <syft.ast.klass.Class object at 0x0000024A18F7D798>\n",
       "\t\t.SyncBatchNorm -> <syft.ast.klass.Class object at 0x0000024A18F7DBA8>\n",
       "\t\t.Tanh -> <syft.ast.klass.Class object at 0x0000024A18F83048>\n",
       "\t\t.Tanhshrink -> <syft.ast.klass.Class object at 0x0000024A18F83458>\n",
       "\t\t.Threshold -> <syft.ast.klass.Class object at 0x0000024A18F83868>\n",
       "\t\t.Transformer -> <syft.ast.klass.Class object at 0x0000024A18F83C78>\n",
       "\t\t.TransformerDecoder -> <syft.ast.klass.Class object at 0x0000024A18F8C118>\n",
       "\t\t.TransformerDecoderLayer -> <syft.ast.klass.Class object at 0x0000024A18F8C528>\n",
       "\t\t.TransformerEncoder -> <syft.ast.klass.Class object at 0x0000024A18F8CA08>\n",
       "\t\t.TransformerEncoderLayer -> <syft.ast.klass.Class object at 0x0000024A18F8CE18>\n",
       "\t\t.Unfold -> <syft.ast.klass.Class object at 0x0000024A18F90388>\n",
       "\t\t.Upsample -> <syft.ast.klass.Class object at 0x0000024A18F90798>\n",
       "\t\t.UpsamplingBilinear2d -> <syft.ast.klass.Class object at 0x0000024A18F90BA8>\n",
       "\t\t.UpsamplingNearest2d -> <syft.ast.klass.Class object at 0x0000024A18F950B0>\n",
       "\t\t.ZeroPad2d -> <syft.ast.klass.Class object at 0x0000024A18F954C0>\n",
       "\n",
       "\t.return_types -> Module:\n",
       "\t\t.cummax -> <syft.ast.klass.Class object at 0x0000024A18E355F8>\n",
       "\t\t.cummin -> <syft.ast.klass.Class object at 0x0000024A18E35660>\n",
       "\t\t.eig -> <syft.ast.klass.Class object at 0x0000024A18E356C8>\n",
       "\t\t.kthvalue -> <syft.ast.klass.Class object at 0x0000024A18E35730>\n",
       "\t\t.lstsq -> <syft.ast.klass.Class object at 0x0000024A18E35798>\n",
       "\t\t.slogdet -> <syft.ast.klass.Class object at 0x0000024A18E35800>\n",
       "\t\t.qr -> <syft.ast.klass.Class object at 0x0000024A18E35868>\n",
       "\t\t.mode -> <syft.ast.klass.Class object at 0x0000024A18E358D0>\n",
       "\t\t.solve -> <syft.ast.klass.Class object at 0x0000024A18E35938>\n",
       "\t\t.sort -> <syft.ast.klass.Class object at 0x0000024A18E359A0>\n",
       "\t\t.symeig -> <syft.ast.klass.Class object at 0x0000024A18E35A08>\n",
       "\t\t.topk -> <syft.ast.klass.Class object at 0x0000024A18E35A70>\n",
       "\t\t.triangular_solve -> <syft.ast.klass.Class object at 0x0000024A18E35AD8>\n",
       "\t\t.svd -> <syft.ast.klass.Class object at 0x0000024A18E35B40>\n",
       "\t\t.geqrf -> <syft.ast.klass.Class object at 0x0000024A18E35BA8>\n",
       "\t\t.median -> <syft.ast.klass.Class object at 0x0000024A18E35C10>\n",
       "\t\t.max -> <syft.ast.klass.Class object at 0x0000024A18E35C78>\n",
       "\t\t.min -> <syft.ast.klass.Class object at 0x0000024A18E35CE0>\n",
       "\n",
       "\t.Size -> <syft.ast.klass.Class object at 0x0000024A18EB0388>\n",
       "\t.set_grad_enabled -> <syft.ast.klass.Class object at 0x0000024A18EB06C8>\n",
       "\t.zeros -> <syft.ast.callable.Callable object at 0x0000024A18EB0730>\n",
       "\t.randn -> <syft.ast.callable.Callable object at 0x0000024A18EB0798>\n",
       "\t.ones_like -> <syft.ast.callable.Callable object at 0x0000024A18EB0800>\n",
       "\t.arange -> <syft.ast.callable.Callable object at 0x0000024A18EB0938>\n",
       "\t.abs_ -> <syft.ast.callable.Callable object at 0x0000024A18EB09A0>\n",
       "\t.abs -> <syft.ast.callable.Callable object at 0x0000024A18EB0A08>\n",
       "\t.acos_ -> <syft.ast.callable.Callable object at 0x0000024A18EB0A70>\n",
       "\t.acos -> <syft.ast.callable.Callable object at 0x0000024A18EB0AD8>\n",
       "\t.add -> <syft.ast.callable.Callable object at 0x0000024A18EB0B40>\n",
       "\t.addbmm -> <syft.ast.callable.Callable object at 0x0000024A18EB0BA8>\n",
       "\t.addcdiv -> <syft.ast.callable.Callable object at 0x0000024A18EB0C10>\n",
       "\t.addcmul -> <syft.ast.callable.Callable object at 0x0000024A18EB0C78>\n",
       "\t.addmm -> <syft.ast.callable.Callable object at 0x0000024A18EB0CE0>\n",
       "\t.addmv_ -> <syft.ast.callable.Callable object at 0x0000024A18EB0D48>\n",
       "\t.addmv -> <syft.ast.callable.Callable object at 0x0000024A18EB0DB0>\n",
       "\t.addr -> <syft.ast.callable.Callable object at 0x0000024A18EB0E18>\n",
       "\t.all -> <syft.ast.callable.Callable object at 0x0000024A18EB0E80>\n",
       "\t.allclose -> <syft.ast.callable.Callable object at 0x0000024A18EB0EE8>\n",
       "\t.angle -> <syft.ast.callable.Callable object at 0x0000024A18EB0F50>\n",
       "\t.any -> <syft.ast.callable.Callable object at 0x0000024A18EB3048>\n",
       "\t.argmax -> <syft.ast.callable.Callable object at 0x0000024A18EB30B0>\n",
       "\t.argmin -> <syft.ast.callable.Callable object at 0x0000024A18EB3118>\n",
       "\t.argsort -> <syft.ast.callable.Callable object at 0x0000024A18EB3180>\n",
       "\t.as_strided_ -> <syft.ast.callable.Callable object at 0x0000024A18EB31E8>\n",
       "\t.as_strided -> <syft.ast.callable.Callable object at 0x0000024A18EB3250>\n",
       "\t.asin_ -> <syft.ast.callable.Callable object at 0x0000024A18EB32B8>\n",
       "\t.asin -> <syft.ast.callable.Callable object at 0x0000024A18EB3320>\n",
       "\t.atan_ -> <syft.ast.callable.Callable object at 0x0000024A18EB3388>\n",
       "\t.atan -> <syft.ast.callable.Callable object at 0x0000024A18EB33F0>\n",
       "\t.atan2 -> <syft.ast.callable.Callable object at 0x0000024A18EB3458>\n",
       "\t.baddbmm -> <syft.ast.callable.Callable object at 0x0000024A18EB34C0>\n",
       "\t.bernoulli -> <syft.ast.callable.Callable object at 0x0000024A18EB3528>\n",
       "\t.bitwise_and -> <syft.ast.callable.Callable object at 0x0000024A18EB3590>\n",
       "\t.bitwise_not -> <syft.ast.callable.Callable object at 0x0000024A18EB35F8>\n",
       "\t.bitwise_or -> <syft.ast.callable.Callable object at 0x0000024A18EB3660>\n",
       "\t.bitwise_xor -> <syft.ast.callable.Callable object at 0x0000024A18EB36C8>\n",
       "\t.bmm -> <syft.ast.callable.Callable object at 0x0000024A18EB3730>\n",
       "\t.cat -> <syft.ast.callable.Callable object at 0x0000024A18EB3798>\n",
       "\t.ceil_ -> <syft.ast.callable.Callable object at 0x0000024A18EB3800>\n",
       "\t.ceil -> <syft.ast.callable.Callable object at 0x0000024A18EB3868>\n",
       "\t.cholesky_inverse -> <syft.ast.callable.Callable object at 0x0000024A18EB38D0>\n",
       "\t.cholesky_solve -> <syft.ast.callable.Callable object at 0x0000024A18EB3938>\n",
       "\t.cholesky -> <syft.ast.callable.Callable object at 0x0000024A18EB39A0>\n",
       "\t.chunk -> <syft.ast.callable.Callable object at 0x0000024A18EB3A08>\n",
       "\t.clamp_ -> <syft.ast.callable.Callable object at 0x0000024A18EB3A70>\n",
       "\t.clamp_max_ -> <syft.ast.callable.Callable object at 0x0000024A18EB3AD8>\n",
       "\t.clamp_max -> <syft.ast.callable.Callable object at 0x0000024A18EB3B40>\n",
       "\t.clamp_min_ -> <syft.ast.callable.Callable object at 0x0000024A18EB3BA8>\n",
       "\t.clamp_min -> <syft.ast.callable.Callable object at 0x0000024A18EB3C10>\n",
       "\t.clamp -> <syft.ast.callable.Callable object at 0x0000024A18EB3C78>\n",
       "\t.clone -> <syft.ast.callable.Callable object at 0x0000024A18EB3CE0>\n",
       "\t.conj -> <syft.ast.callable.Callable object at 0x0000024A18EB3D48>\n",
       "\t.cos_ -> <syft.ast.callable.Callable object at 0x0000024A18EB3DB0>\n",
       "\t.cos -> <syft.ast.callable.Callable object at 0x0000024A18EB3E18>\n",
       "\t.cosh_ -> <syft.ast.callable.Callable object at 0x0000024A18EB3E80>\n",
       "\t.cosh -> <syft.ast.callable.Callable object at 0x0000024A18EB3EE8>\n",
       "\t.cross -> <syft.ast.callable.Callable object at 0x0000024A18EB3F50>\n",
       "\t.cummax -> <syft.ast.callable.Callable object at 0x0000024A18EB9048>\n",
       "\t.cummin -> <syft.ast.callable.Callable object at 0x0000024A18EB90B0>\n",
       "\t.cumprod -> <syft.ast.callable.Callable object at 0x0000024A18EB9118>\n",
       "\t.cumsum -> <syft.ast.callable.Callable object at 0x0000024A18EB9180>\n",
       "\t.dequantize -> <syft.ast.callable.Callable object at 0x0000024A18EB91E8>\n",
       "\t.det -> <syft.ast.callable.Callable object at 0x0000024A18EB9250>\n",
       "\t.detach -> <syft.ast.callable.Callable object at 0x0000024A18EB92B8>\n",
       "\t.diag_embed -> <syft.ast.callable.Callable object at 0x0000024A18EB9320>\n",
       "\t.diag -> <syft.ast.callable.Callable object at 0x0000024A18EB9388>\n",
       "\t.diagflat -> <syft.ast.callable.Callable object at 0x0000024A18EB93F0>\n",
       "\t.diagonal -> <syft.ast.callable.Callable object at 0x0000024A18EB9458>\n",
       "\t.digamma -> <syft.ast.callable.Callable object at 0x0000024A18EB94C0>\n",
       "\t.dist -> <syft.ast.callable.Callable object at 0x0000024A18EB9528>\n",
       "\t.div -> <syft.ast.callable.Callable object at 0x0000024A18EB9590>\n",
       "\t.dot -> <syft.ast.callable.Callable object at 0x0000024A18EB95F8>\n",
       "\t.eig -> <syft.ast.callable.Callable object at 0x0000024A18EB9660>\n",
       "\t.eq -> <syft.ast.callable.Callable object at 0x0000024A18EB96C8>\n",
       "\t.equal -> <syft.ast.callable.Callable object at 0x0000024A18EB9730>\n",
       "\t.erf_ -> <syft.ast.callable.Callable object at 0x0000024A18EB9798>\n",
       "\t.erf -> <syft.ast.callable.Callable object at 0x0000024A18EB9800>\n",
       "\t.erfc_ -> <syft.ast.callable.Callable object at 0x0000024A18EB9868>\n",
       "\t.erfc -> <syft.ast.callable.Callable object at 0x0000024A18EB98D0>\n",
       "\t.erfinv -> <syft.ast.callable.Callable object at 0x0000024A18EB9938>\n",
       "\t.exp_ -> <syft.ast.callable.Callable object at 0x0000024A18EB99A0>\n",
       "\t.exp -> <syft.ast.callable.Callable object at 0x0000024A18EB9A08>\n",
       "\t.expm1_ -> <syft.ast.callable.Callable object at 0x0000024A18EB9A70>\n",
       "\t.expm1 -> <syft.ast.callable.Callable object at 0x0000024A18EB9AD8>\n",
       "\t.fft -> Module:\n",
       "\n",
       "\t.fill_ -> <syft.ast.callable.Callable object at 0x0000024A18EB9BA8>\n",
       "\t.flatten -> <syft.ast.callable.Callable object at 0x0000024A18EB9C10>\n",
       "\t.flip -> <syft.ast.callable.Callable object at 0x0000024A18EB9C78>\n",
       "\t.floor_ -> <syft.ast.callable.Callable object at 0x0000024A18EB9CE0>\n",
       "\t.floor_divide -> <syft.ast.callable.Callable object at 0x0000024A18EB9D48>\n",
       "\t.floor -> <syft.ast.callable.Callable object at 0x0000024A18EB9DB0>\n",
       "\t.fmod -> <syft.ast.callable.Callable object at 0x0000024A18EB9E18>\n",
       "\t.frac_ -> <syft.ast.callable.Callable object at 0x0000024A18EB9E80>\n",
       "\t.frac -> <syft.ast.callable.Callable object at 0x0000024A18EB9EE8>\n",
       "\t.from_numpy -> <syft.ast.callable.Callable object at 0x0000024A18EB9F50>\n",
       "\t.gather -> <syft.ast.callable.Callable object at 0x0000024A18EBD048>\n",
       "\t.ge -> <syft.ast.callable.Callable object at 0x0000024A18EBD0B0>\n",
       "\t.geqrf -> <syft.ast.callable.Callable object at 0x0000024A18EBD118>\n",
       "\t.ger -> <syft.ast.callable.Callable object at 0x0000024A18EBD180>\n",
       "\t.get_device -> <syft.ast.callable.Callable object at 0x0000024A18EBD1E8>\n",
       "\t.gt -> <syft.ast.callable.Callable object at 0x0000024A18EBD250>\n",
       "\t.hardshrink -> <syft.ast.callable.Callable object at 0x0000024A18EBD2B8>\n",
       "\t.histc -> <syft.ast.callable.Callable object at 0x0000024A18EBD320>\n",
       "\t.index_add -> <syft.ast.callable.Callable object at 0x0000024A18EBD388>\n",
       "\t.index_copy -> <syft.ast.callable.Callable object at 0x0000024A18EBD3F0>\n",
       "\t.index_fill -> <syft.ast.callable.Callable object at 0x0000024A18EBD458>\n",
       "\t.index_put_ -> <syft.ast.callable.Callable object at 0x0000024A18EBD4C0>\n",
       "\t.index_put -> <syft.ast.callable.Callable object at 0x0000024A18EBD528>\n",
       "\t.index_select -> <syft.ast.callable.Callable object at 0x0000024A18EBD590>\n",
       "\t.int_repr -> <syft.ast.callable.Callable object at 0x0000024A18EBD5F8>\n",
       "\t.inverse -> <syft.ast.callable.Callable object at 0x0000024A18EBD660>\n",
       "\t.is_complex -> <syft.ast.callable.Callable object at 0x0000024A18EBD6C8>\n",
       "\t.is_distributed -> <syft.ast.callable.Callable object at 0x0000024A18EBD730>\n",
       "\t.is_floating_point -> <syft.ast.callable.Callable object at 0x0000024A18EBD798>\n",
       "\t.is_nonzero -> <syft.ast.callable.Callable object at 0x0000024A18EBD800>\n",
       "\t.is_same_size -> <syft.ast.callable.Callable object at 0x0000024A18EBD868>\n",
       "\t.is_signed -> <syft.ast.callable.Callable object at 0x0000024A18EBD8D0>\n",
       "\t.isclose -> <syft.ast.callable.Callable object at 0x0000024A18EBD938>\n",
       "\t.kthvalue -> <syft.ast.callable.Callable object at 0x0000024A18EBD9A0>\n",
       "\t.le -> <syft.ast.callable.Callable object at 0x0000024A18EBDA08>\n",
       "\t.lerp -> <syft.ast.callable.Callable object at 0x0000024A18EBDA70>\n",
       "\t.lgamma -> <syft.ast.callable.Callable object at 0x0000024A18EBDAD8>\n",
       "\t.log_ -> <syft.ast.callable.Callable object at 0x0000024A18EBDB40>\n",
       "\t.log_softmax -> <syft.ast.callable.Callable object at 0x0000024A18EBDBA8>\n",
       "\t.log -> <syft.ast.callable.Callable object at 0x0000024A18EBDC10>\n",
       "\t.log10_ -> <syft.ast.callable.Callable object at 0x0000024A18EBDC78>\n",
       "\t.log10 -> <syft.ast.callable.Callable object at 0x0000024A18EBDCE0>\n",
       "\t.log1p_ -> <syft.ast.callable.Callable object at 0x0000024A18EBDD48>\n",
       "\t.log1p -> <syft.ast.callable.Callable object at 0x0000024A18EBDDB0>\n",
       "\t.log2_ -> <syft.ast.callable.Callable object at 0x0000024A18EBDE18>\n",
       "\t.log2 -> <syft.ast.callable.Callable object at 0x0000024A18EBDE80>\n",
       "\t.logdet -> <syft.ast.callable.Callable object at 0x0000024A18EBDEE8>\n",
       "\t.logical_and -> <syft.ast.callable.Callable object at 0x0000024A18EBDF50>\n",
       "\t.logical_not -> <syft.ast.callable.Callable object at 0x0000024A18EC1048>\n",
       "\t.logical_or -> <syft.ast.callable.Callable object at 0x0000024A18EC10B0>\n",
       "\t.logical_xor -> <syft.ast.callable.Callable object at 0x0000024A18EC1118>\n",
       "\t.logsumexp -> <syft.ast.callable.Callable object at 0x0000024A18EC1180>\n",
       "\t.lstsq -> <syft.ast.callable.Callable object at 0x0000024A18EC11E8>\n",
       "\t.lt -> <syft.ast.callable.Callable object at 0x0000024A18EC1250>\n",
       "\t.lu_solve -> <syft.ast.callable.Callable object at 0x0000024A18EC12B8>\n",
       "\t.lu -> <syft.ast.callable.Callable object at 0x0000024A18EC1320>\n",
       "\t.masked_fill -> <syft.ast.callable.Callable object at 0x0000024A18EC1388>\n",
       "\t.masked_scatter -> <syft.ast.callable.Callable object at 0x0000024A18EC13F0>\n",
       "\t.masked_select -> <syft.ast.callable.Callable object at 0x0000024A18EC1458>\n",
       "\t.matmul -> <syft.ast.callable.Callable object at 0x0000024A18EC14C0>\n",
       "\t.matrix_power -> <syft.ast.callable.Callable object at 0x0000024A18EC1528>\n",
       "\t.mean -> <syft.ast.callable.Callable object at 0x0000024A18EC1590>\n",
       "\t.mm -> <syft.ast.callable.Callable object at 0x0000024A18EC15F8>\n",
       "\t.mode -> <syft.ast.callable.Callable object at 0x0000024A18EC1660>\n",
       "\t.mul -> <syft.ast.callable.Callable object at 0x0000024A18EC16C8>\n",
       "\t.multinomial -> <syft.ast.callable.Callable object at 0x0000024A18EC1730>\n",
       "\t.mv -> <syft.ast.callable.Callable object at 0x0000024A18EC1798>\n",
       "\t.mvlgamma -> <syft.ast.callable.Callable object at 0x0000024A18EC1800>\n",
       "\t.narrow -> <syft.ast.callable.Callable object at 0x0000024A18EC1868>\n",
       "\t.ne -> <syft.ast.callable.Callable object at 0x0000024A18EC18D0>\n",
       "\t.neg_ -> <syft.ast.callable.Callable object at 0x0000024A18EC1938>\n",
       "\t.neg -> <syft.ast.callable.Callable object at 0x0000024A18EC19A0>\n",
       "\t.nonzero -> <syft.ast.callable.Callable object at 0x0000024A18EC1A08>\n",
       "\t.norm -> <syft.ast.callable.Callable object at 0x0000024A18EC1A70>\n",
       "\t.orgqr -> <syft.ast.callable.Callable object at 0x0000024A18EC1AD8>\n",
       "\t.ormqr -> <syft.ast.callable.Callable object at 0x0000024A18EC1B40>\n",
       "\t.pinverse -> <syft.ast.callable.Callable object at 0x0000024A18EC1BA8>\n",
       "\t.polygamma -> <syft.ast.callable.Callable object at 0x0000024A18EC1C10>\n",
       "\t.pow -> <syft.ast.callable.Callable object at 0x0000024A18EC1C78>\n",
       "\t.prelu -> <syft.ast.callable.Callable object at 0x0000024A18EC1CE0>\n",
       "\t.q_per_channel_axis -> <syft.ast.callable.Callable object at 0x0000024A18EC1D48>\n",
       "\t.q_per_channel_scales -> <syft.ast.callable.Callable object at 0x0000024A18EC1DB0>\n",
       "\t.q_per_channel_zero_points -> <syft.ast.callable.Callable object at 0x0000024A18EC1E18>\n",
       "\t.q_scale -> <syft.ast.callable.Callable object at 0x0000024A18EC1E80>\n",
       "\t.q_zero_point -> <syft.ast.callable.Callable object at 0x0000024A18EC1EE8>\n",
       "\t.qr -> <syft.ast.callable.Callable object at 0x0000024A18EC1F50>\n",
       "\t.reciprocal_ -> <syft.ast.callable.Callable object at 0x0000024A18EC7048>\n",
       "\t.reciprocal -> <syft.ast.callable.Callable object at 0x0000024A18EC70B0>\n",
       "\t.relu_ -> <syft.ast.callable.Callable object at 0x0000024A18EC7118>\n",
       "\t.relu -> <syft.ast.callable.Callable object at 0x0000024A18EC7180>\n",
       "\t.remainder -> <syft.ast.callable.Callable object at 0x0000024A18EC71E8>\n",
       "\t.renorm -> <syft.ast.callable.Callable object at 0x0000024A18EC7250>\n",
       "\t.repeat_interleave -> <syft.ast.callable.Callable object at 0x0000024A18EC72B8>\n",
       "\t.reshape -> <syft.ast.callable.Callable object at 0x0000024A18EC7320>\n",
       "\t.resize_as_ -> <syft.ast.callable.Callable object at 0x0000024A18EC7388>\n",
       "\t.roll -> <syft.ast.callable.Callable object at 0x0000024A18EC73F0>\n",
       "\t.rot90 -> <syft.ast.callable.Callable object at 0x0000024A18EC7458>\n",
       "\t.round_ -> <syft.ast.callable.Callable object at 0x0000024A18EC74C0>\n",
       "\t.round -> <syft.ast.callable.Callable object at 0x0000024A18EC7528>\n",
       "\t.rsqrt_ -> <syft.ast.callable.Callable object at 0x0000024A18EC7590>\n",
       "\t.rsqrt -> <syft.ast.callable.Callable object at 0x0000024A18EC75F8>\n",
       "\t.scatter_add -> <syft.ast.callable.Callable object at 0x0000024A18EC7660>\n",
       "\t.scatter -> <syft.ast.callable.Callable object at 0x0000024A18EC76C8>\n",
       "\t.select -> <syft.ast.callable.Callable object at 0x0000024A18EC7730>\n",
       "\t.sigmoid_ -> <syft.ast.callable.Callable object at 0x0000024A18EC7798>\n",
       "\t.sigmoid -> <syft.ast.callable.Callable object at 0x0000024A18EC7800>\n",
       "\t.sign -> <syft.ast.callable.Callable object at 0x0000024A18EC7868>\n",
       "\t.sin_ -> <syft.ast.callable.Callable object at 0x0000024A18EC78D0>\n",
       "\t.sin -> <syft.ast.callable.Callable object at 0x0000024A18EC7938>\n",
       "\t.sinh_ -> <syft.ast.callable.Callable object at 0x0000024A18EC79A0>\n",
       "\t.sinh -> <syft.ast.callable.Callable object at 0x0000024A18EC7A08>\n",
       "\t.slogdet -> <syft.ast.callable.Callable object at 0x0000024A18EC7A70>\n",
       "\t.softmax -> <syft.ast.callable.Callable object at 0x0000024A18EC7AD8>\n",
       "\t.solve -> <syft.ast.callable.Callable object at 0x0000024A18EC7B40>\n",
       "\t.sort -> <syft.ast.callable.Callable object at 0x0000024A18EC7BA8>\n",
       "\t.split_with_sizes -> <syft.ast.callable.Callable object at 0x0000024A18EC7C10>\n",
       "\t.split -> <syft.ast.callable.Callable object at 0x0000024A18EC7C78>\n",
       "\t.sqrt_ -> <syft.ast.callable.Callable object at 0x0000024A18EC7CE0>\n",
       "\t.sqrt -> <syft.ast.callable.Callable object at 0x0000024A18EC7D48>\n",
       "\t.square_ -> <syft.ast.callable.Callable object at 0x0000024A18EC7DB0>\n",
       "\t.square -> <syft.ast.callable.Callable object at 0x0000024A18EC7E18>\n",
       "\t.squeeze -> <syft.ast.callable.Callable object at 0x0000024A18EC7E80>\n",
       "\t.stack -> <syft.ast.callable.Callable object at 0x0000024A18EC7EE8>\n",
       "\t.std -> <syft.ast.callable.Callable object at 0x0000024A18EC7F50>\n",
       "\t.stft -> <syft.ast.callable.Callable object at 0x0000024A18ECB048>\n",
       "\t.sub -> <syft.ast.callable.Callable object at 0x0000024A18ECB0B0>\n",
       "\t.sum -> <syft.ast.callable.Callable object at 0x0000024A18ECB118>\n",
       "\t.svd -> <syft.ast.callable.Callable object at 0x0000024A18ECB180>\n",
       "\t.symeig -> <syft.ast.callable.Callable object at 0x0000024A18ECB1E8>\n",
       "\t.t -> <syft.ast.callable.Callable object at 0x0000024A18ECB250>\n",
       "\t.take -> <syft.ast.callable.Callable object at 0x0000024A18ECB2B8>\n",
       "\t.tan_ -> <syft.ast.callable.Callable object at 0x0000024A18ECB320>\n",
       "\t.tan -> <syft.ast.callable.Callable object at 0x0000024A18ECB388>\n",
       "\t.tanh_ -> <syft.ast.callable.Callable object at 0x0000024A18ECB3F0>\n",
       "\t.tanh -> <syft.ast.callable.Callable object at 0x0000024A18ECB458>\n",
       "\t.topk -> <syft.ast.callable.Callable object at 0x0000024A18ECB4C0>\n",
       "\t.trace -> <syft.ast.callable.Callable object at 0x0000024A18ECB528>\n",
       "\t.transpose -> <syft.ast.callable.Callable object at 0x0000024A18ECB590>\n",
       "\t.triangular_solve -> <syft.ast.callable.Callable object at 0x0000024A18ECB5F8>\n",
       "\t.tril -> <syft.ast.callable.Callable object at 0x0000024A18ECB660>\n",
       "\t.triu -> <syft.ast.callable.Callable object at 0x0000024A18ECB6C8>\n",
       "\t.true_divide -> <syft.ast.callable.Callable object at 0x0000024A18ECB730>\n",
       "\t.trunc_ -> <syft.ast.callable.Callable object at 0x0000024A18ECB798>\n",
       "\t.trunc -> <syft.ast.callable.Callable object at 0x0000024A18ECB800>\n",
       "\t.unique_consecutive -> <syft.ast.callable.Callable object at 0x0000024A18ECB868>\n",
       "\t.unique -> <syft.ast.callable.Callable object at 0x0000024A18ECB8D0>\n",
       "\t.unsqueeze -> <syft.ast.callable.Callable object at 0x0000024A18ECB938>\n",
       "\t.var -> <syft.ast.callable.Callable object at 0x0000024A18ECB9A0>\n",
       "\t.unsafe_chunk -> <syft.ast.callable.Callable object at 0x0000024A18ECBA08>\n",
       "\t.absolute -> <syft.ast.callable.Callable object at 0x0000024A18ECBA70>\n",
       "\t.acosh_ -> <syft.ast.callable.Callable object at 0x0000024A18ECBAD8>\n",
       "\t.acosh -> <syft.ast.callable.Callable object at 0x0000024A18ECBB40>\n",
       "\t.asinh_ -> <syft.ast.callable.Callable object at 0x0000024A18ECBBA8>\n",
       "\t.asinh -> <syft.ast.callable.Callable object at 0x0000024A18ECBC10>\n",
       "\t.atanh_ -> <syft.ast.callable.Callable object at 0x0000024A18ECBC78>\n",
       "\t.atanh -> <syft.ast.callable.Callable object at 0x0000024A18ECBCE0>\n",
       "\t.deg2rad_ -> <syft.ast.callable.Callable object at 0x0000024A18ECBD48>\n",
       "\t.deg2rad -> <syft.ast.callable.Callable object at 0x0000024A18ECBDB0>\n",
       "\t.fliplr -> <syft.ast.callable.Callable object at 0x0000024A18ECBE18>\n",
       "\t.flipud -> <syft.ast.callable.Callable object at 0x0000024A18ECBE80>\n",
       "\t.isfinite -> <syft.ast.callable.Callable object at 0x0000024A18ECBEE8>\n",
       "\t.isinf -> <syft.ast.callable.Callable object at 0x0000024A18ECBF50>\n",
       "\t.isnan -> <syft.ast.callable.Callable object at 0x0000024A18ED1048>\n",
       "\t.logaddexp -> <syft.ast.callable.Callable object at 0x0000024A18ED10B0>\n",
       "\t.logaddexp2 -> <syft.ast.callable.Callable object at 0x0000024A18ED1118>\n",
       "\t.logcumsumexp -> <syft.ast.callable.Callable object at 0x0000024A18ED1180>\n",
       "\t.rad2deg_ -> <syft.ast.callable.Callable object at 0x0000024A18ED11E8>\n",
       "\t.rad2deg -> <syft.ast.callable.Callable object at 0x0000024A18ED1250>\n",
       "\t.istft -> <syft.ast.callable.Callable object at 0x0000024A18ED12B8>\n",
       "\t.amax -> <syft.ast.callable.Callable object at 0x0000024A18ED1320>\n",
       "\t.amin -> <syft.ast.callable.Callable object at 0x0000024A18ED1388>\n",
       "\t.arccos -> <syft.ast.callable.Callable object at 0x0000024A18ED13F0>\n",
       "\t.arccos_ -> <syft.ast.callable.Callable object at 0x0000024A18ED1458>\n",
       "\t.arccosh -> <syft.ast.callable.Callable object at 0x0000024A18ED14C0>\n",
       "\t.arccosh_ -> <syft.ast.callable.Callable object at 0x0000024A18ED1528>\n",
       "\t.arcsin -> <syft.ast.callable.Callable object at 0x0000024A18ED1590>\n",
       "\t.arcsin_ -> <syft.ast.callable.Callable object at 0x0000024A18ED15F8>\n",
       "\t.arcsinh -> <syft.ast.callable.Callable object at 0x0000024A18ED1660>\n",
       "\t.arcsinh_ -> <syft.ast.callable.Callable object at 0x0000024A18ED16C8>\n",
       "\t.arctan -> <syft.ast.callable.Callable object at 0x0000024A18ED1730>\n",
       "\t.arctan_ -> <syft.ast.callable.Callable object at 0x0000024A18ED1798>\n",
       "\t.arctanh -> <syft.ast.callable.Callable object at 0x0000024A18ED1800>\n",
       "\t.arctanh_ -> <syft.ast.callable.Callable object at 0x0000024A18ED1868>\n",
       "\t.clip -> <syft.ast.callable.Callable object at 0x0000024A18ED18D0>\n",
       "\t.clip_ -> <syft.ast.callable.Callable object at 0x0000024A18ED1938>\n",
       "\t.count_nonzero -> <syft.ast.callable.Callable object at 0x0000024A18ED19A0>\n",
       "\t.divide -> <syft.ast.callable.Callable object at 0x0000024A18ED1A08>\n",
       "\t.exp2 -> <syft.ast.callable.Callable object at 0x0000024A18ED1A70>\n",
       "\t.exp2_ -> <syft.ast.callable.Callable object at 0x0000024A18ED1AD8>\n",
       "\t.fix -> <syft.ast.callable.Callable object at 0x0000024A18ED1B40>\n",
       "\t.fix_ -> <syft.ast.callable.Callable object at 0x0000024A18ED1BA8>\n",
       "\t.gcd -> <syft.ast.callable.Callable object at 0x0000024A18ED1C10>\n",
       "\t.gcd_ -> <syft.ast.callable.Callable object at 0x0000024A18ED1C78>\n",
       "\t.greater -> <syft.ast.callable.Callable object at 0x0000024A18ED1CE0>\n",
       "\t.greater_equal -> <syft.ast.callable.Callable object at 0x0000024A18ED1D48>\n",
       "\t.heaviside -> <syft.ast.callable.Callable object at 0x0000024A18ED1DB0>\n",
       "\t.hypot -> <syft.ast.callable.Callable object at 0x0000024A18ED1E18>\n",
       "\t.i0 -> <syft.ast.callable.Callable object at 0x0000024A18ED1E80>\n",
       "\t.i0_ -> <syft.ast.callable.Callable object at 0x0000024A18ED1EE8>\n",
       "\t.isneginf -> <syft.ast.callable.Callable object at 0x0000024A18ED1F50>\n",
       "\t.isposinf -> <syft.ast.callable.Callable object at 0x0000024A18ED8048>\n",
       "\t.isreal -> <syft.ast.callable.Callable object at 0x0000024A18ED80B0>\n",
       "\t.lcm -> <syft.ast.callable.Callable object at 0x0000024A18ED8118>\n",
       "\t.lcm_ -> <syft.ast.callable.Callable object at 0x0000024A18ED8180>\n",
       "\t.less -> <syft.ast.callable.Callable object at 0x0000024A18ED81E8>\n",
       "\t.less_equal -> <syft.ast.callable.Callable object at 0x0000024A18ED8250>\n",
       "\t.logit -> <syft.ast.callable.Callable object at 0x0000024A18ED82B8>\n",
       "\t.logit_ -> <syft.ast.callable.Callable object at 0x0000024A18ED8320>\n",
       "\t.maximum -> <syft.ast.callable.Callable object at 0x0000024A18ED8388>\n",
       "\t.minimum -> <syft.ast.callable.Callable object at 0x0000024A18ED83F0>\n",
       "\t.matrix_exp -> <syft.ast.callable.Callable object at 0x0000024A18ED8458>\n",
       "\t.multiply -> <syft.ast.callable.Callable object at 0x0000024A18ED84C0>\n",
       "\t.nanquantile -> <syft.ast.callable.Callable object at 0x0000024A18ED8528>\n",
       "\t.nansum -> <syft.ast.callable.Callable object at 0x0000024A18ED8590>\n",
       "\t.negative -> <syft.ast.callable.Callable object at 0x0000024A18ED85F8>\n",
       "\t.negative_ -> <syft.ast.callable.Callable object at 0x0000024A18ED8660>\n",
       "\t.nextafter -> <syft.ast.callable.Callable object at 0x0000024A18ED86C8>\n",
       "\t.outer -> <syft.ast.callable.Callable object at 0x0000024A18ED8730>\n",
       "\t.quantile -> <syft.ast.callable.Callable object at 0x0000024A18ED8798>\n",
       "\t.sgn -> <syft.ast.callable.Callable object at 0x0000024A18ED8800>\n",
       "\t.signbit -> <syft.ast.callable.Callable object at 0x0000024A18ED8868>\n",
       "\t.subtract -> <syft.ast.callable.Callable object at 0x0000024A18ED88D0>\n",
       "\t.unsafe_split -> <syft.ast.callable.Callable object at 0x0000024A18ED8938>\n",
       "\t.vdot -> <syft.ast.callable.Callable object at 0x0000024A18ED89A0>\n",
       "\t.movedim -> <syft.ast.callable.Callable object at 0x0000024A18ED8A08>\n",
       "\t.unsafe_split_with_sizes -> <syft.ast.callable.Callable object at 0x0000024A18ED8A70>\n",
       "\t.cuda -> Module:\n",
       "\t\t.is_available -> <syft.ast.callable.Callable object at 0x0000024A18ED8B40>\n",
       "\n",
       "\t.device -> <syft.ast.klass.Class object at 0x0000024A18ED8BA8>\n",
       "\t.random -> Module:\n",
       "\t\t.initial_seed -> <syft.ast.callable.Callable object at 0x0000024A18ED8D48>\n",
       "\n",
       "\t.zeros_like -> <syft.ast.callable.Callable object at 0x0000024A18ED8DB0>\n",
       "\t.manual_seed -> <syft.ast.callable.Callable object at 0x0000024A18ED8E18>\n",
       "\t.Generator -> <syft.ast.klass.Class object at 0x0000024A18ED8E80>\n",
       "\t.utils -> Module:\n",
       "\t\t.data -> Module:\n",
       "\t\t\t.DataLoader -> <syft.ast.klass.Class object at 0x0000024A18EE1250>\n",
       "\t\t\t.dataloader -> Module:\n",
       "\t\t\t\t._SingleProcessDataLoaderIter -> <syft.ast.klass.Class object at 0x0000024A18EE13F0>\n",
       "\n",
       "\n",
       "\n",
       "\t.optim -> Module:\n",
       "\t\t.ASGD -> <syft.ast.klass.Class object at 0x0000024A18EE1798>\n",
       "\t\t.Adadelta -> <syft.ast.klass.Class object at 0x0000024A18EE1938>\n",
       "\t\t.Adagrad -> <syft.ast.klass.Class object at 0x0000024A18EE1AD8>\n",
       "\t\t.Adam -> <syft.ast.klass.Class object at 0x0000024A18EE1C78>\n",
       "\t\t.AdamW -> <syft.ast.klass.Class object at 0x0000024A18EE1E18>\n",
       "\t\t.Adamax -> <syft.ast.klass.Class object at 0x0000024A18EE7048>\n",
       "\t\t.LBFGS -> <syft.ast.klass.Class object at 0x0000024A18EE71E8>\n",
       "\t\t.Optimizer -> <syft.ast.klass.Class object at 0x0000024A18EE7388>\n",
       "\t\t.RMSprop -> <syft.ast.klass.Class object at 0x0000024A18EE7528>\n",
       "\t\t.Rprop -> <syft.ast.klass.Class object at 0x0000024A18EE76C8>\n",
       "\t\t.SGD -> <syft.ast.klass.Class object at 0x0000024A18EE7868>\n",
       "\t\t.SparseAdam -> <syft.ast.klass.Class object at 0x0000024A18EE7A08>\n",
       "\t\t.lr_scheduler -> Module:\n",
       "\t\t\t.StepLR -> <syft.ast.klass.Class object at 0x0000024A18EE7C10>\n",
       "\n",
       "\n",
       "\t.no_grad -> <syft.ast.klass.Class object at 0x0000024A18EE7D48>\n",
       "\t.autograd -> Module:\n",
       "\t\t.grad_mode -> Module:\n",
       "\t\t\t.no_grad -> <syft.ast.klass.Class object at 0x0000024A18EE7E80>\n",
       "\n",
       "\n",
       "\t.distributions -> Module:\n",
       "\t\t.Categorical -> <syft.ast.klass.Class object at 0x0000024A18F95938>\n",
       "\n",
       "\t.kron -> <syft.ast.callable.Callable object at 0x0000024A18F95E80>\n",
       "\t.msort -> <syft.ast.callable.Callable object at 0x0000024A18F9D048>\n",
       "\t.row_stack -> <syft.ast.callable.Callable object at 0x0000024A18F9D0B0>\n",
       "\t.moveaxis -> <syft.ast.callable.Callable object at 0x0000024A18F9D388>\n",
       "\t.tensor_split -> <syft.ast.callable.Callable object at 0x0000024A18F9D4C0>\n",
       "\t.tile -> <syft.ast.callable.Callable object at 0x0000024A18F9D5F8>\n",
       "\t.fmin -> <syft.ast.callable.Callable object at 0x0000024A18F9D800>\n",
       "\t.ldexp -> <syft.ast.callable.Callable object at 0x0000024A18F9D868>\n",
       "\t.igamma -> <syft.ast.callable.Callable object at 0x0000024A18F9D9A0>\n",
       "\t.float_power -> <syft.ast.callable.Callable object at 0x0000024A18F9DEE8>\n",
       "\t.xlogy -> <syft.ast.callable.Callable object at 0x0000024A18FA10B0>\n",
       "\t.copysign -> <syft.ast.callable.Callable object at 0x0000024A18FA1118>\n",
       "\t.nanmedian -> <syft.ast.callable.Callable object at 0x0000024A18FA1180>\n",
       "\t.igammac -> <syft.ast.callable.Callable object at 0x0000024A18FA11E8>\n",
       "\t.diff -> <syft.ast.callable.Callable object at 0x0000024A18FA1320>\n",
       "\t.sinc -> <syft.ast.callable.Callable object at 0x0000024A18FA1458>\n",
       "\t.column_stack -> <syft.ast.callable.Callable object at 0x0000024A18FA1660>\n",
       "\t.pixel_unshuffle -> <syft.ast.callable.Callable object at 0x0000024A18FA1798>\n",
       "\t.swapaxes -> <syft.ast.callable.Callable object at 0x0000024A18FA1A70>\n",
       "\t.nan_to_num -> <syft.ast.callable.Callable object at 0x0000024A18FA1AD8>\n",
       "\t.inner -> <syft.ast.callable.Callable object at 0x0000024A18FA1B40>\n",
       "\t.fmax -> <syft.ast.callable.Callable object at 0x0000024A18FA1BA8>\n",
       "\t.ravel -> <syft.ast.callable.Callable object at 0x0000024A18FA1F50>\n",
       "\t.broadcast_to -> <syft.ast.callable.Callable object at 0x0000024A18FA8048>\n",
       "\t.swapdims -> <syft.ast.callable.Callable object at 0x0000024A18FA8250>"
      ]
     },
     "execution_count": 2,
     "metadata": {},
     "output_type": "execute_result"
    }
   ],
   "source": [
    "duet.torch"
   ]
  },
  {
   "cell_type": "markdown",
   "metadata": {},
   "source": [
    "Lets create a model just like the one in the MNIST example. We do this in almost the exact same way as in PyTorch. The main difference is we inherit from sy.Module instead of nn.Module and we need to pass in a variable called torch_ref which we will use internally for any calls that would normally be to torch."
   ]
  },
  {
   "cell_type": "code",
   "execution_count": 3,
   "metadata": {},
   "outputs": [],
   "source": [
    "class SyNet(sy.Module):\n",
    "    def __init__(self, torch_ref):\n",
    "        super(SyNet, self).__init__(torch_ref=torch_ref)\n",
    "        self.conv1 = self.torch_ref.nn.Conv2d(1, 32, 3, 1)\n",
    "        self.conv2 = self.torch_ref.nn.Conv2d(32, 64, 3, 1) \n",
    "        self.dropout1 = self.torch_ref.nn.Dropout2d(0.25)\n",
    "        self.dropout2 = self.torch_ref.nn.Dropout2d(0.5)\n",
    "        self.fc1 = self.torch_ref.nn.Linear(9216, 128)\n",
    "        self.fc2 = self.torch_ref.nn.Linear(128, 10)\n",
    "\n",
    "    def forward(self, x):\n",
    "        x = self.conv1(x)\n",
    "        x = self.torch_ref.nn.functional.relu(x)\n",
    "        x = self.conv2(x)\n",
    "        x = self.torch_ref.nn.functional.relu(x)\n",
    "        x = self.torch_ref.nn.functional.max_pool2d(x, 2)\n",
    "        x = self.dropout1(x)\n",
    "        x = self.torch_ref.flatten(x, 1)\n",
    "        x = self.fc1(x)\n",
    "        x = self.torch_ref.nn.functional.relu(x)\n",
    "        x = self.dropout2(x)\n",
    "        x = self.fc2(x)\n",
    "        output = self.torch_ref.nn.functional.log_softmax(x, dim=1)\n",
    "        return output"
   ]
  },
  {
   "cell_type": "code",
   "execution_count": 4,
   "metadata": {},
   "outputs": [],
   "source": [
    "# lets import torch and torchvision just as we normally would\n",
    "import torch\n",
    "import torchvision"
   ]
  },
  {
   "cell_type": "code",
   "execution_count": 5,
   "metadata": {},
   "outputs": [],
   "source": [
    "# now we can create the model and pass in our local copy of torch\n",
    "local_model = SyNet(torch)"
   ]
  },
  {
   "cell_type": "markdown",
   "metadata": {},
   "source": [
    "Next we can get our MNIST Test Set ready using our local copy of torch."
   ]
  },
  {
   "cell_type": "code",
   "execution_count": 6,
   "metadata": {},
   "outputs": [],
   "source": [
    "# we need some transforms for the MNIST data set\n",
    "local_transform_1 = torchvision.transforms.ToTensor()  # this converts PIL images to Tensors\n",
    "local_transform_2 = torchvision.transforms.Normalize(0.1307, 0.3081)  # this normalizes the dataset\n",
    "\n",
    "# compose our transforms\n",
    "local_transforms = torchvision.transforms.Compose([local_transform_1, local_transform_2])"
   ]
  },
  {
   "cell_type": "code",
   "execution_count": 7,
   "metadata": {},
   "outputs": [],
   "source": [
    "# Lets define a few settings which are from the original MNIST example command-line args\n",
    "args = {\n",
    "    \"batch_size\": 64,\n",
    "    \"test_batch_size\": 1000,\n",
    "    \"epochs\": 14,\n",
    "    \"lr\": 1.0,\n",
    "    \"gamma\": 0.7,\n",
    "    \"no_cuda\": False,\n",
    "    \"dry_run\": False,\n",
    "    \"seed\": 42, # the meaning of life\n",
    "    \"log_interval\": 10,\n",
    "    \"save_model\": True,\n",
    "}"
   ]
  },
  {
   "cell_type": "code",
   "execution_count": 8,
   "metadata": {},
   "outputs": [
    {
     "name": "stdout",
     "output_type": "stream",
     "text": [
      "10000\n"
     ]
    }
   ],
   "source": [
    "from syft.util import get_root_data_path\n",
    "# we will configure the test set here locally since we want to know if our Data Owner's\n",
    "# private training dataset will help us reach new SOTA results for our benchmark test set\n",
    "test_kwargs = {\n",
    "    \"batch_size\": args[\"test_batch_size\"],\n",
    "}\n",
    "\n",
    "test_data = torchvision.datasets.MNIST(str(get_root_data_path()), train=False, download=True, transform=local_transforms)\n",
    "test_loader = torch.utils.data.DataLoader(test_data,**test_kwargs)\n",
    "test_data_length = len(test_loader.dataset)\n",
    "print(test_data_length)"
   ]
  },
  {
   "cell_type": "markdown",
   "metadata": {},
   "source": [
    "Now its time to send the model to our partner’s Duet Server."
   ]
  },
  {
   "cell_type": "markdown",
   "metadata": {},
   "source": [
    "Note: You can load normal torch model weights before sending your model.\n",
    "Try training the model and saving it at the end of the notebook and then coming back and\n",
    "reloading the weights here, or you can train the same model once using the original script\n",
    "in `original` dir and load it here as well."
   ]
  },
  {
   "cell_type": "code",
   "execution_count": 9,
   "metadata": {},
   "outputs": [],
   "source": [
    "local_model.load(\"./duet_mnist.pt\")"
   ]
  },
  {
   "cell_type": "code",
   "execution_count": 10,
   "metadata": {},
   "outputs": [],
   "source": [
    "model = local_model.send(duet)"
   ]
  },
  {
   "cell_type": "markdown",
   "metadata": {},
   "source": [
    "Lets create an alias for our partner’s torch called `remote_torch` so we can refer to the local torch as `torch` and any operation we want to do remotely as `remote_torch`. Remember, the return values from `remote_torch` are `Pointers`, not the real objects. They mostly act the same when using them with other `Pointers` but you can't mix them with local torch objects."
   ]
  },
  {
   "cell_type": "code",
   "execution_count": 11,
   "metadata": {},
   "outputs": [],
   "source": [
    "remote_torch = duet.torch"
   ]
  },
  {
   "cell_type": "code",
   "execution_count": 12,
   "metadata": {},
   "outputs": [
    {
     "name": "stdout",
     "output_type": "stream",
     "text": [
      "False\n"
     ]
    }
   ],
   "source": [
    "# lets ask to see if our Data Owner has CUDA\n",
    "has_cuda = False\n",
    "has_cuda_ptr = remote_torch.cuda.is_available()\n",
    "has_cuda = bool(has_cuda_ptr.get(\n",
    "    request_block=True,\n",
    "    reason=\"To run test and inference locally\",\n",
    "    timeout_secs=5,  # change to something slower\n",
    "))\n",
    "print(has_cuda)"
   ]
  },
  {
   "cell_type": "code",
   "execution_count": 13,
   "metadata": {},
   "outputs": [
    {
     "name": "stdout",
     "output_type": "stream",
     "text": [
      "Data Owner device is cpu\n"
     ]
    }
   ],
   "source": [
    "use_cuda = not args[\"no_cuda\"] and has_cuda\n",
    "# now we can set the seed\n",
    "remote_torch.manual_seed(args[\"seed\"])\n",
    "\n",
    "device = remote_torch.device(\"cuda\" if use_cuda else \"cpu\")\n",
    "print(f\"Data Owner device is {device.type.get()}\")"
   ]
  },
  {
   "cell_type": "code",
   "execution_count": 14,
   "metadata": {},
   "outputs": [],
   "source": [
    "# if we have CUDA lets send our model to the GPU\n",
    "if has_cuda:\n",
    "    model.cuda(device)\n",
    "else:\n",
    "    model.cpu()"
   ]
  },
  {
   "cell_type": "markdown",
   "metadata": {},
   "source": [
    "Lets get our params, setup an optimizer and a scheduler just the same as the PyTorch MNIST example"
   ]
  },
  {
   "cell_type": "code",
   "execution_count": 15,
   "metadata": {},
   "outputs": [],
   "source": [
    "params = model.parameters()"
   ]
  },
  {
   "cell_type": "code",
   "execution_count": 16,
   "metadata": {},
   "outputs": [],
   "source": [
    "optimizer = remote_torch.optim.Adadelta(params, lr=args[\"lr\"])"
   ]
  },
  {
   "cell_type": "code",
   "execution_count": 17,
   "metadata": {},
   "outputs": [],
   "source": [
    "scheduler = remote_torch.optim.lr_scheduler.StepLR(optimizer, step_size=1, gamma=args[\"gamma\"])"
   ]
  },
  {
   "cell_type": "markdown",
   "metadata": {},
   "source": [
    "Next we need a training loop so we can improve our remote model. Since we want to train on remote data we should first check if the model is remote since we will be using remote_torch in this function. To check if a model is local or remote simply use the `.is_local` attribute."
   ]
  },
  {
   "cell_type": "code",
   "execution_count": 18,
   "metadata": {},
   "outputs": [],
   "source": [
    "def train(model, torch_ref, train_loader, optimizer, epoch, args, train_data_length):\n",
    "    # + 0.5 lets us math.ceil without the import\n",
    "    train_batches = round((train_data_length / args[\"batch_size\"]) + 0.5)\n",
    "    print(f\"> Running train in {train_batches} batches\")\n",
    "    if model.is_local:\n",
    "        print(\"Training requires remote model\")\n",
    "        return\n",
    "\n",
    "    model.train()\n",
    "\n",
    "    for batch_idx, data in enumerate(train_loader):\n",
    "        data_ptr, target_ptr = data[0], data[1]\n",
    "        optimizer.zero_grad()\n",
    "        output = model(data_ptr)\n",
    "        loss = torch_ref.nn.functional.nll_loss(output, target_ptr)\n",
    "        loss.backward()\n",
    "        optimizer.step()\n",
    "        loss_item = loss.item()\n",
    "        train_loss = duet.python.Float(0)  # create a remote Float we can use for summation\n",
    "        train_loss += loss_item\n",
    "        if batch_idx % args[\"log_interval\"] == 0:\n",
    "            local_loss = None\n",
    "            local_loss = loss_item.get(\n",
    "                reason=\"To evaluate training progress\",\n",
    "                request_block=True,\n",
    "                timeout_secs=5\n",
    "            )\n",
    "            if local_loss is not None:\n",
    "                print(\"Train Epoch: {} {} {:.4}\".format(epoch, batch_idx, local_loss))\n",
    "            else:\n",
    "                print(\"Train Epoch: {} {} ?\".format(epoch, batch_idx))\n",
    "        if batch_idx >= train_batches - 1:\n",
    "            print(\"batch_idx >= train_batches, breaking\")\n",
    "            break\n",
    "        if args[\"dry_run\"]:\n",
    "            break"
   ]
  },
  {
   "cell_type": "markdown",
   "metadata": {},
   "source": [
    "Now we can define a simple test loop very similar to the original PyTorch MNIST example.\n",
    "This function should expect a remote model from our outer epoch loop, so internally we can call `get` to download the weights to do an evaluation on our machine with our local test set. Remember, if we have trained on private data, our model will require permission to download, so we should use request_block=True and make sure the Data Owner approves our requests. For the rest of this function, we will use local `torch` as we normally would."
   ]
  },
  {
   "cell_type": "code",
   "execution_count": 19,
   "metadata": {},
   "outputs": [],
   "source": [
    "def test_local(model, torch_ref, test_loader, test_data_length):\n",
    "    # download remote model\n",
    "    if not model.is_local:\n",
    "        local_model = model.get(\n",
    "            request_block=True,\n",
    "            reason=\"test evaluation\",\n",
    "            timeout_secs=5\n",
    "        )\n",
    "    else:\n",
    "        local_model = model\n",
    "    # + 0.5 lets us math.ceil without the import\n",
    "    test_batches = round((test_data_length / args[\"test_batch_size\"]) + 0.5)\n",
    "    print(f\"> Running test_local in {test_batches} batches\")\n",
    "    local_model.eval()\n",
    "    test_loss = 0.0\n",
    "    correct = 0.0\n",
    "\n",
    "    with torch_ref.no_grad():\n",
    "        for batch_idx, (data, target) in enumerate(test_loader):\n",
    "            output = local_model(data)\n",
    "            iter_loss = torch_ref.nn.functional.nll_loss(output, target, reduction=\"sum\").item()\n",
    "            test_loss = test_loss + iter_loss\n",
    "            pred = output.argmax(dim=1)\n",
    "            total = pred.eq(target).sum().item()\n",
    "            correct += total\n",
    "            if args[\"dry_run\"]:\n",
    "                break\n",
    "                \n",
    "            if batch_idx >= test_batches - 1:\n",
    "                print(\"batch_idx >= test_batches, breaking\")\n",
    "                break\n",
    "\n",
    "    accuracy = correct / test_data_length\n",
    "    print(f\"Test Set Accuracy: {100 * accuracy}%\")"
   ]
  },
  {
   "cell_type": "markdown",
   "metadata": {},
   "source": [
    "Finally just for demonstration purposes, we will get the built-in MNIST dataset but on the Data Owners side from `remote_torchvision`."
   ]
  },
  {
   "cell_type": "code",
   "execution_count": 20,
   "metadata": {},
   "outputs": [],
   "source": [
    "# we need some transforms for the MNIST data set\n",
    "remote_torchvision = duet.torchvision\n",
    "\n",
    "transform_1 = remote_torchvision.transforms.ToTensor()  # this converts PIL images to Tensors\n",
    "transform_2 = remote_torchvision.transforms.Normalize(0.1307, 0.3081)  # this normalizes the dataset\n",
    "\n",
    "remote_list = duet.python.List()  # create a remote list to add the transforms to\n",
    "remote_list.append(transform_1)\n",
    "remote_list.append(transform_2)\n",
    "\n",
    "# compose our transforms\n",
    "transforms = remote_torchvision.transforms.Compose(remote_list)\n",
    "\n",
    "# The DO has kindly let us initialise a DataLoader for their training set\n",
    "train_kwargs = {\n",
    "    \"batch_size\": args[\"batch_size\"],\n",
    "}\n",
    "train_data_ptr = remote_torchvision.datasets.MNIST(str(get_root_data_path()), train=True, download=True, transform=transforms)\n",
    "train_loader_ptr = remote_torch.utils.data.DataLoader(train_data_ptr,**train_kwargs)"
   ]
  },
  {
   "cell_type": "code",
   "execution_count": 21,
   "metadata": {},
   "outputs": [
    {
     "name": "stdout",
     "output_type": "stream",
     "text": [
      "Training Dataset size is: 60000\n"
     ]
    }
   ],
   "source": [
    "# normally we would not necessarily know the length of a remote dataset so lets ask for it\n",
    "# so we can pass that to our training loop and know when to stop\n",
    "def get_train_length(train_data_ptr):\n",
    "    train_data_length = len(train_data_ptr)\n",
    "    return train_data_length\n",
    "\n",
    "try:\n",
    "    if train_data_length is None:\n",
    "        train_data_length = get_train_length(train_data_ptr)\n",
    "except NameError:\n",
    "        train_data_length = get_train_length(train_data_ptr)\n",
    "\n",
    "print(f\"Training Dataset size is: {train_data_length}\")"
   ]
  },
  {
   "cell_type": "markdown",
   "metadata": {},
   "source": [
    "## PART 3: Training"
   ]
  },
  {
   "cell_type": "code",
   "execution_count": 22,
   "metadata": {},
   "outputs": [
    {
     "name": "stdout",
     "output_type": "stream",
     "text": [
      "Starting Training\n",
      "Epoch: 1\n",
      "> Running train in 938 batches\n",
      "Train Epoch: 1 0 1.589\n",
      "> Running test_local in 10 batches\n",
      "Test Set Accuracy: 1.47%\n",
      "Epoch time: 8 seconds\n",
      "Finished Training\n"
     ]
    }
   ],
   "source": [
    "import time\n",
    "\n",
    "args[\"dry_run\"] = True  # comment to do a full train\n",
    "print(\"Starting Training\")\n",
    "for epoch in range(1, args[\"epochs\"] + 1):\n",
    "    epoch_start = time.time()\n",
    "    print(f\"Epoch: {epoch}\")\n",
    "    # remote training on model with remote_torch\n",
    "    train(model, remote_torch, train_loader_ptr, optimizer, epoch, args, train_data_length)\n",
    "    # local testing on model with local torch\n",
    "    test_local(model, torch, test_loader, test_data_length)\n",
    "    scheduler.step()\n",
    "    epoch_end = time.time()\n",
    "    print(f\"Epoch time: {int(epoch_end - epoch_start)} seconds\")\n",
    "    if args[\"dry_run\"]:\n",
    "        break\n",
    "print(\"Finished Training\")"
   ]
  },
  {
   "cell_type": "code",
   "execution_count": 23,
   "metadata": {},
   "outputs": [],
   "source": [
    "if args[\"save_model\"]:\n",
    "    model.get(\n",
    "        request_block=True,\n",
    "        reason=\"test evaluation\",\n",
    "        timeout_secs=5\n",
    "    ).save(\"./duet_mnist.pt\")"
   ]
  },
  {
   "cell_type": "markdown",
   "metadata": {},
   "source": [
    "## PART 4: Inference"
   ]
  },
  {
   "cell_type": "markdown",
   "metadata": {},
   "source": [
    "A model would be no fun without the ability to do inference. The following code shows some examples on how we can do this either remotely or locally."
   ]
  },
  {
   "cell_type": "code",
   "execution_count": 24,
   "metadata": {},
   "outputs": [],
   "source": [
    "import matplotlib.pyplot as plt\n",
    "def draw_image_and_label(image, label):\n",
    "    fig = plt.figure()\n",
    "    plt.tight_layout()\n",
    "    plt.imshow(image, cmap=\"gray\", interpolation=\"none\")\n",
    "    plt.title(\"Ground Truth: {}\".format(label))\n",
    "    \n",
    "def prep_for_inference(image):\n",
    "    image_batch = image.unsqueeze(0).unsqueeze(0)\n",
    "    image_batch = image_batch * 1.0\n",
    "    return image_batch"
   ]
  },
  {
   "cell_type": "code",
   "execution_count": 25,
   "metadata": {},
   "outputs": [],
   "source": [
    "def classify_local(image, model):\n",
    "    if not model.is_local:\n",
    "        print(\"model is remote try .get()\")\n",
    "        return -1, torch.Tensor([-1])\n",
    "    image_tensor = torch.Tensor(prep_for_inference(image))\n",
    "    output = model(image_tensor)\n",
    "    preds = torch.exp(output)\n",
    "    local_y = preds\n",
    "    local_y = local_y.squeeze()\n",
    "    pos = local_y == max(local_y)\n",
    "    index = torch.nonzero(pos, as_tuple=False)\n",
    "    class_num = index.squeeze()\n",
    "    return class_num, local_y"
   ]
  },
  {
   "cell_type": "code",
   "execution_count": 26,
   "metadata": {},
   "outputs": [],
   "source": [
    "def classify_remote(image, model):\n",
    "    if model.is_local:\n",
    "        print(\"model is local try .send()\")\n",
    "        return -1, remote_torch.Tensor([-1])\n",
    "    image_tensor_ptr = remote_torch.Tensor(prep_for_inference(image))\n",
    "    output = model(image_tensor_ptr)\n",
    "    preds = remote_torch.exp(output)\n",
    "    preds_result = preds.get(\n",
    "        request_block=True,\n",
    "        reason=\"To see a real world example of inference\",\n",
    "        timeout_secs=10\n",
    "    )\n",
    "    if preds_result is None:\n",
    "        print(\"No permission to do inference, request again\")\n",
    "        return -1, torch.Tensor([-1])\n",
    "    else:\n",
    "        # now we have the local tensor we can use local torch\n",
    "        local_y = torch.Tensor(preds_result)\n",
    "        local_y = local_y.squeeze()\n",
    "        pos = local_y == max(local_y)\n",
    "        index = torch.nonzero(pos, as_tuple=False)\n",
    "        class_num = index.squeeze()\n",
    "        return class_num, local_y"
   ]
  },
  {
   "cell_type": "code",
   "execution_count": 27,
   "metadata": {},
   "outputs": [
    {
     "name": "stdout",
     "output_type": "stream",
     "text": [
      "Random Test Image: 2402\n",
      "Displaying 2402 == 402 in Batch: 2/10\n"
     ]
    },
    {
     "data": {
      "image/png": "[encoded data removed]",
      "text/plain": [
       "<Figure size 432x288 with 1 Axes>"
      ]
     },
     "metadata": {
      "needs_background": "light"
     },
     "output_type": "display_data"
    }
   ],
   "source": [
    "# lets grab something from the test set\n",
    "import random\n",
    "total_images = test_data_length # 10000\n",
    "index = random.randint(0, total_images)\n",
    "print(\"Random Test Image:\", index)\n",
    "count = 0\n",
    "batch = index // test_kwargs[\"batch_size\"]\n",
    "batch_index = index % int(total_images / len(test_loader))\n",
    "for tensor_ptr in test_loader:\n",
    "    data, target = tensor_ptr[0], tensor_ptr[1]\n",
    "    if batch == count:\n",
    "        break\n",
    "    count += 1\n",
    "\n",
    "print(f\"Displaying {index} == {batch_index} in Batch: {batch}/{len(test_loader)}\")\n",
    "if batch_index > len(data):\n",
    "    batch_index = 0\n",
    "image_1 = data[batch_index].reshape((28, 28))\n",
    "label_1 = target[batch_index]\n",
    "draw_image_and_label(image_1, label_1)"
   ]
  },
  {
   "cell_type": "code",
   "execution_count": 28,
   "metadata": {},
   "outputs": [
    {
     "name": "stdout",
     "output_type": "stream",
     "text": [
      "Prediction: 4 Ground Truth: 4\n",
      "tensor([0.0126, 0.0165, 0.2732, 0.0066, 0.5232, 0.0055, 0.0174, 0.0715, 0.0263,\n",
      "        0.0471], grad_fn=<SqueezeBackward0>)\n"
     ]
    }
   ],
   "source": [
    "# classify remote\n",
    "class_num, preds = classify_remote(image_1, model)\n",
    "print(f\"Prediction: {class_num} Ground Truth: {label_1}\")\n",
    "print(preds)"
   ]
  },
  {
   "cell_type": "code",
   "execution_count": 29,
   "metadata": {},
   "outputs": [],
   "source": [
    "local_model = model.get(\n",
    "    request_block=True,\n",
    "    reason=\"To run test and inference locally\",\n",
    "    timeout_secs=5,\n",
    ")"
   ]
  },
  {
   "cell_type": "code",
   "execution_count": 30,
   "metadata": {},
   "outputs": [
    {
     "name": "stdout",
     "output_type": "stream",
     "text": [
      "Prediction: 4 Ground Truth: 4\n",
      "tensor([0.0102, 0.0124, 0.1134, 0.0108, 0.5166, 0.0939, 0.0339, 0.0314, 0.0334,\n",
      "        0.1440], grad_fn=<SqueezeBackward0>)\n"
     ]
    }
   ],
   "source": [
    "# classify local\n",
    "class_num, preds = classify_local(image_1, local_model)\n",
    "print(f\"Prediction: {class_num} Ground Truth: {label_1}\")\n",
    "print(preds)"
   ]
  },
  {
   "cell_type": "code",
   "execution_count": 31,
   "metadata": {},
   "outputs": [],
   "source": [
    "# We can also download an image from the web and run inference on that\n",
    "from PIL import Image, ImageEnhance\n",
    "import PIL.ImageOps    \n",
    "\n",
    "import os\n",
    "def classify_url_image(image_url):\n",
    "    filename = os.path.basename(image_url)\n",
    "    os.system(f'curl -O {image_url}')\n",
    "    im = Image.open(filename)\n",
    "    im = PIL.ImageOps.invert(im)\n",
    "#     im = im.resize((28,28), Image.ANTIALIAS)\n",
    "    im = im.convert('LA')\n",
    "    enhancer = ImageEnhance.Brightness(im)\n",
    "    im = enhancer.enhance(3)\n",
    "\n",
    "\n",
    "    print(im.size)\n",
    "    fig = plt.figure()\n",
    "    plt.tight_layout()\n",
    "    plt.imshow(im, cmap=\"gray\", interpolation=\"none\")\n",
    "    \n",
    "    # classify local\n",
    "    class_num, preds = classify_local(image_1, local_model)\n",
    "    print(f\"Prediction: {class_num}\")\n",
    "    print(preds)"
   ]
  },
  {
   "cell_type": "code",
   "execution_count": 33,
   "metadata": {},
   "outputs": [
    {
     "name": "stdout",
     "output_type": "stream",
     "text": [
      "(89, 93)\n",
      "Prediction: 4\n",
      "tensor([0.0706, 0.0215, 0.0486, 0.0395, 0.3014, 0.0405, 0.0926, 0.2044, 0.0720,\n",
      "        0.1088], grad_fn=<SqueezeBackward0>)\n"
     ]
    },
    {
     "data": {
      "image/png": "[encoded data removed]",
      "text/plain": [
       "<Figure size 432x288 with 1 Axes>"
      ]
     },
     "metadata": {
      "needs_background": "light"
     },
     "output_type": "display_data"
    }
   ],
   "source": [
    "image_url = \"https://raw.githubusercontent.com/kensanata/numbers/master/0018_CHXX/0/number-100.png\"\n",
    "classify_url_image(image_url)"
   ]
  },
  {
   "cell_type": "code",
   "execution_count": null,
   "metadata": {},
   "outputs": [],
   "source": []
  }
 ],
 "metadata": {
  "kernelspec": {
   "display_name": "Python 3 (ipykernel)",
   "language": "python",
   "name": "python3"
  },
  "language_info": {
   "codemirror_mode": {
    "name": "ipython",
    "version": 3
   },
   "file_extension": ".py",
   "mimetype": "text/x-python",
   "name": "python",
   "nbconvert_exporter": "python",
   "pygments_lexer": "ipython3",
   "version": "3.7.0"
  },
  "pycharm": {
   "stem_cell": {
    "cell_type": "raw",
    "metadata": {
     "collapsed": false
    },
    "source": []
   }
  }
 },
 "nbformat": 4,
 "nbformat_minor": 4
}
