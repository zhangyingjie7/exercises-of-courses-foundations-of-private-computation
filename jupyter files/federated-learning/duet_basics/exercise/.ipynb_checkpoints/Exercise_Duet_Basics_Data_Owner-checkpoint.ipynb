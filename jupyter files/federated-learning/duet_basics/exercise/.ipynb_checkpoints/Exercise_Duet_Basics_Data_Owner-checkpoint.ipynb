{
 "cells": [
  {
   "cell_type": "code",
   "execution_count": 1,
   "id": "manual-curve",
   "metadata": {},
   "outputs": [],
   "source": [
    "import syft as sy"
   ]
  },
  {
   "cell_type": "markdown",
   "id": "short-proposition",
   "metadata": {},
   "source": [
    "# Part 1: Launch a Duet Server"
   ]
  },
  {
   "cell_type": "code",
   "execution_count": 2,
   "id": "mighty-stephen",
   "metadata": {
    "scrolled": false
   },
   "outputs": [
    {
     "name": "stdout",
     "output_type": "stream",
     "text": [
      "🎤  🎸  ♪♪♪ Starting Duet ♫♫♫  🎻  🎹\n",
      "\n",
      "♫♫♫ >\u001b[93m DISCLAIMER\u001b[0m: \u001b[1mDuet is an experimental feature currently in beta.\n",
      "♫♫♫ > Use at your own risk.\n",
      "\u001b[0m\n",
      "\u001b[1m\n",
      "    > ❤️ \u001b[91mLove\u001b[0m \u001b[92mDuet\u001b[0m? \u001b[93mPlease\u001b[0m \u001b[94mconsider\u001b[0m \u001b[95msupporting\u001b[0m \u001b[91mour\u001b[0m \u001b[93mcommunity!\u001b[0m\n",
      "    > https://github.com/sponsors/OpenMined\u001b[1m\n",
      "\n",
      "♫♫♫ > Punching through firewall to OpenGrid Network Node at:\n",
      "♫♫♫ > http://ec2-18-218-7-180.us-east-2.compute.amazonaws.com:5000\n",
      "♫♫♫ >\n",
      "♫♫♫ > ...waiting for response from OpenGrid Network... \n",
      "♫♫♫ > \u001b[92mDONE!\u001b[0m\n",
      "\n",
      "♫♫♫ > \u001b[95mSTEP 1:\u001b[0m Send the following code to your Duet Partner!\n",
      "\n",
      "import syft as sy\n",
      "duet = sy.join_duet(loopback=True)\n",
      "\n",
      "♫♫♫ > Connecting...\n"
     ]
    },
    {
     "name": "stderr",
     "output_type": "stream",
     "text": [
      "d:\\program files\\python\\python37\\tutorial-env\\lib\\site-packages\\aiortc\\rtcdtlstransport.py:211: CryptographyDeprecationWarning: This version of cryptography contains a temporary pyOpenSSL fallback path. Upgrade pyOpenSSL now.\n",
      "  _openssl_assert(lib.SSL_CTX_use_certificate(ctx, self._cert._x509) == 1)  # type: ignore\n",
      "d:\\program files\\python\\python37\\tutorial-env\\lib\\site-packages\\aiortc\\rtcdtlstransport.py:186: CryptographyDeprecationWarning: This version of cryptography contains a temporary pyOpenSSL fallback path. Upgrade pyOpenSSL now.\n",
      "  value=certificate_digest(self._cert._x509),  # type: ignore\n"
     ]
    },
    {
     "name": "stdout",
     "output_type": "stream",
     "text": [
      "\n",
      "♫♫♫ > \u001b[92mCONNECTED!\u001b[0m\n",
      "\n",
      "♫♫♫ > DUET LIVE STATUS  -  Objects: 3  Requests: 0   Messages: 308  Request Handlers: 1                                 \r"
     ]
    }
   ],
   "source": [
    "duet = sy.launch_duet(loopback=True)"
   ]
  },
  {
   "cell_type": "markdown",
   "id": "german-salmon",
   "metadata": {},
   "source": [
    "# Part 2: Upload data to Duet Server"
   ]
  },
  {
   "cell_type": "code",
   "execution_count": 3,
   "id": "according-marker",
   "metadata": {},
   "outputs": [
    {
     "name": "stdout",
     "output_type": "stream",
     "text": [
      "`searchable` is deprecated please use `pointable` in future\n"
     ]
    }
   ],
   "source": [
    "import torch as th\n",
    "\n",
    "# Data owner has HEIGHTS (cm) data of 6 people - GROUP A\n",
    "height_data = th.tensor([157.48, 147.32, 149.86, 177.8, 170.18, 182.88])\n",
    "\n",
    "# Data owner names the data with tag \"HEIGHTS\"\n",
    "height_data = height_data.tag(\"HEIGHTS of GROUP A\")\n",
    "\n",
    "# Data owner adds a description to the tensor where height data is located\n",
    "height_data = height_data.describe(\n",
    "    \"This is a list of heights (cm) of GROUP A - 6 people.\"\n",
    ")\n",
    "\n",
    "# Finally the data owner UPLOADS THE DATA to the Duet server and makes it searchable\n",
    "# by data scientists.\n",
    "height_data_pointer = height_data.send(duet, searchable=True)"
   ]
  },
  {
   "cell_type": "code",
   "execution_count": 4,
   "id": "representative-kernel",
   "metadata": {},
   "outputs": [],
   "source": [
    "# Data owner also has WEIGHTS (kg) data of 6 people - GROUP A\n",
    "weight_data = th.tensor([57, 61, 74, 76, 78, 67])\n",
    "\n",
    "# Data owner names the data with tag \"WEIGHTS\"\n",
    "weight_data = weight_data.tag(\"WEIGHTS of GROUP A\")\n",
    "\n",
    "# Data owner adds a description to the tensor where weights data is located\n",
    "weight_data = weight_data.describe(\n",
    "    \"This is a list of body weights (kg) of GROUP A - 6 people.\"\n",
    ")\n",
    "\n",
    "# Finally the data owner UPLOADS THE DATA to the Duet server and makes it searchable\n",
    "# by data scientists.\n",
    "weight_data_pointer = weight_data.send(duet, pointable=True)"
   ]
  },
  {
   "cell_type": "code",
   "execution_count": 5,
   "id": "improving-portrait",
   "metadata": {},
   "outputs": [
    {
     "data": {
      "text/html": [
       "<div>\n",
       "<style scoped>\n",
       "    .dataframe tbody tr th:only-of-type {\n",
       "        vertical-align: middle;\n",
       "    }\n",
       "\n",
       "    .dataframe tbody tr th {\n",
       "        vertical-align: top;\n",
       "    }\n",
       "\n",
       "    .dataframe thead th {\n",
       "        text-align: right;\n",
       "    }\n",
       "</style>\n",
       "<table border=\"1\" class=\"dataframe\">\n",
       "  <thead>\n",
       "    <tr style=\"text-align: right;\">\n",
       "      <th></th>\n",
       "      <th>ID</th>\n",
       "      <th>Tags</th>\n",
       "      <th>Description</th>\n",
       "      <th>object_type</th>\n",
       "    </tr>\n",
       "  </thead>\n",
       "  <tbody>\n",
       "    <tr>\n",
       "      <th>0</th>\n",
       "      <td>&lt;UID: 103a88f6b6854d3884a3c04e0a0c1eaa&gt;</td>\n",
       "      <td>[HEIGHTS of GROUP A]</td>\n",
       "      <td>This is a list of heights (cm) of GROUP A - 6 ...</td>\n",
       "      <td>&lt;class 'torch.Tensor'&gt;</td>\n",
       "    </tr>\n",
       "    <tr>\n",
       "      <th>1</th>\n",
       "      <td>&lt;UID: e6581fbfa96849de914373f844f27aef&gt;</td>\n",
       "      <td>[WEIGHTS of GROUP A]</td>\n",
       "      <td>This is a list of body weights (kg) of GROUP A...</td>\n",
       "      <td>&lt;class 'torch.Tensor'&gt;</td>\n",
       "    </tr>\n",
       "  </tbody>\n",
       "</table>\n",
       "</div>"
      ],
      "text/plain": [
       "                                        ID                  Tags  \\\n",
       "0  <UID: 103a88f6b6854d3884a3c04e0a0c1eaa>  [HEIGHTS of GROUP A]   \n",
       "1  <UID: e6581fbfa96849de914373f844f27aef>  [WEIGHTS of GROUP A]   \n",
       "\n",
       "                                         Description             object_type  \n",
       "0  This is a list of heights (cm) of GROUP A - 6 ...  <class 'torch.Tensor'>  \n",
       "1  This is a list of body weights (kg) of GROUP A...  <class 'torch.Tensor'>  "
      ]
     },
     "execution_count": 5,
     "metadata": {},
     "output_type": "execute_result"
    }
   ],
   "source": [
    "duet.store.pandas"
   ]
  },
  {
   "cell_type": "code",
   "execution_count": 6,
   "id": "challenging-determination",
   "metadata": {},
   "outputs": [],
   "source": [
    "assert len(duet.store) == 2"
   ]
  },
  {
   "cell_type": "markdown",
   "id": "orange-worcester",
   "metadata": {},
   "source": [
    "# Part 3: Response to requests coming from Data Scientist"
   ]
  },
  {
   "cell_type": "code",
   "execution_count": 7,
   "id": "liberal-label",
   "metadata": {
    "scrolled": true
   },
   "outputs": [],
   "source": [
    "duet.requests.add_handler(action=\"accept\")"
   ]
  },
  {
   "cell_type": "markdown",
   "id": "understood-chosen",
   "metadata": {},
   "source": [
    "### <img src=\"https://github.com/OpenMined/design-assets/raw/master/logos/OM/mark-primary-light.png\" alt=\"he-black-box\" width=\"100\"/> Checkpoint 1 : Well done!"
   ]
  }
 ],
 "metadata": {
  "kernelspec": {
   "display_name": "Python 3 (ipykernel)",
   "language": "python",
   "name": "python3"
  },
  "language_info": {
   "codemirror_mode": {
    "name": "ipython",
    "version": 3
   },
   "file_extension": ".py",
   "mimetype": "text/x-python",
   "name": "python",
   "nbconvert_exporter": "python",
   "pygments_lexer": "ipython3",
   "version": "3.7.0"
  }
 },
 "nbformat": 4,
 "nbformat_minor": 5
}
