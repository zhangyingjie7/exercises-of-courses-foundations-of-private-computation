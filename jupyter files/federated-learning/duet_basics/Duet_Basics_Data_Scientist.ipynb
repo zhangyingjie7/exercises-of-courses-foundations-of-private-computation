{
 "cells": [
  {
   "cell_type": "markdown",
   "id": "included-evidence",
   "metadata": {},
   "source": [
    "# Part 1: Join the Duet Server the Data Owner connected to"
   ]
  },
  {
   "cell_type": "code",
   "execution_count": 1,
   "id": "quality-visiting",
   "metadata": {},
   "outputs": [],
   "source": [
    "import syft as sy"
   ]
  },
  {
   "cell_type": "code",
   "execution_count": 4,
   "id": "retired-profession",
   "metadata": {
    "scrolled": true
   },
   "outputs": [
    {
     "name": "stdout",
     "output_type": "stream",
     "text": [
      "🎤  🎸  ♪♪♪ Joining Duet ♫♫♫  🎻  🎹\n",
      "\n",
      "♫♫♫ >\u001b[93m DISCLAIMER\u001b[0m: \u001b[1mDuet is an experimental feature currently in beta.\n",
      "♫♫♫ > Use at your own risk.\n",
      "\u001b[0m\n",
      "\u001b[1m\n",
      "    > ❤️ \u001b[91mLove\u001b[0m \u001b[92mDuet\u001b[0m? \u001b[93mPlease\u001b[0m \u001b[94mconsider\u001b[0m \u001b[95msupporting\u001b[0m \u001b[91mour\u001b[0m \u001b[93mcommunity!\u001b[0m\n",
      "    > https://github.com/sponsors/OpenMined\u001b[1m\n",
      "\n",
      "♫♫♫ > Punching through firewall to OpenGrid Network Node at:\n",
      "♫♫♫ > http://ec2-18-218-7-180.us-east-2.compute.amazonaws.com:5000\n",
      "♫♫♫ >\n",
      "♫♫♫ > ...waiting for response from OpenGrid Network... \n",
      "♫♫♫ > \u001b[92mDONE!\u001b[0m\n"
     ]
    },
    {
     "ename": "Exception",
     "evalue": "failed to load client ID",
     "output_type": "error",
     "traceback": [
      "\u001b[1;31m---------------------------------------------------------------------------\u001b[0m",
      "\u001b[1;31mException\u001b[0m                                 Traceback (most recent call last)",
      "\u001b[1;32m~\\AppData\\Local\\Temp/ipykernel_580/4278489160.py\u001b[0m in \u001b[0;36m<module>\u001b[1;34m\u001b[0m\n\u001b[1;32m----> 1\u001b[1;33m \u001b[0mduet\u001b[0m \u001b[1;33m=\u001b[0m \u001b[0msy\u001b[0m\u001b[1;33m.\u001b[0m\u001b[0mjoin_duet\u001b[0m\u001b[1;33m(\u001b[0m\u001b[1;34m'4814df40925c14ae8f950342e3e8d776'\u001b[0m\u001b[1;33m,\u001b[0m \u001b[0mloopback\u001b[0m\u001b[1;33m=\u001b[0m\u001b[1;32mTrue\u001b[0m\u001b[1;33m)\u001b[0m\u001b[1;33m\u001b[0m\u001b[0m\n\u001b[0m",
      "\u001b[1;32md:\\program files\\python\\python37\\tutorial-env\\lib\\site-packages\\syft\\grid\\duet\\__init__.py\u001b[0m in \u001b[0;36mjoin_duet\u001b[1;34m(target_id, network_url, loopback, credential_exchanger)\u001b[0m\n\u001b[0;32m    283\u001b[0m \u001b[1;33m\u001b[0m\u001b[0m\n\u001b[0;32m    284\u001b[0m     target_id = credential_exchanger.set_role(join=True).run(\n\u001b[1;32m--> 285\u001b[1;33m         \u001b[0mcredential\u001b[0m\u001b[1;33m=\u001b[0m\u001b[0msignaling_client\u001b[0m\u001b[1;33m.\u001b[0m\u001b[0mduet_id\u001b[0m\u001b[1;33m\u001b[0m\u001b[0m\n\u001b[0m\u001b[0;32m    286\u001b[0m     )\n\u001b[0;32m    287\u001b[0m \u001b[1;33m\u001b[0m\u001b[0m\n",
      "\u001b[1;32md:\\program files\\python\\python37\\tutorial-env\\lib\\site-packages\\syft\\grid\\duet\\exchange_ids.py\u001b[0m in \u001b[0;36mrun\u001b[1;34m(self, credential)\u001b[0m\n\u001b[0;32m    121\u001b[0m         \u001b[0mself\u001b[0m\u001b[1;33m.\u001b[0m\u001b[0mcredential\u001b[0m \u001b[1;33m=\u001b[0m \u001b[0mcredential\u001b[0m\u001b[1;33m\u001b[0m\u001b[0m\n\u001b[0;32m    122\u001b[0m         \u001b[1;32mif\u001b[0m \u001b[0mself\u001b[0m\u001b[1;33m.\u001b[0m\u001b[0mjoin\u001b[0m\u001b[1;33m:\u001b[0m\u001b[1;33m\u001b[0m\u001b[0m\n\u001b[1;32m--> 123\u001b[1;33m             \u001b[1;32mreturn\u001b[0m \u001b[0mself\u001b[0m\u001b[1;33m.\u001b[0m\u001b[0m_client_exchange\u001b[0m\u001b[1;33m(\u001b[0m\u001b[0mcredential\u001b[0m\u001b[1;33m=\u001b[0m\u001b[0mself\u001b[0m\u001b[1;33m.\u001b[0m\u001b[0mcredential\u001b[0m\u001b[1;33m)\u001b[0m\u001b[1;33m\u001b[0m\u001b[0m\n\u001b[0m\u001b[0;32m    124\u001b[0m         \u001b[1;32melse\u001b[0m\u001b[1;33m:\u001b[0m\u001b[1;33m\u001b[0m\u001b[0m\n\u001b[0;32m    125\u001b[0m             \u001b[1;32mreturn\u001b[0m \u001b[0mself\u001b[0m\u001b[1;33m.\u001b[0m\u001b[0m_server_exchange\u001b[0m\u001b[1;33m(\u001b[0m\u001b[0mcredential\u001b[0m\u001b[1;33m=\u001b[0m\u001b[0mself\u001b[0m\u001b[1;33m.\u001b[0m\u001b[0mcredential\u001b[0m\u001b[1;33m)\u001b[0m\u001b[1;33m\u001b[0m\u001b[0m\n",
      "\u001b[1;32md:\\program files\\python\\python37\\tutorial-env\\lib\\site-packages\\syft\\grid\\duet\\exchange_ids.py\u001b[0m in \u001b[0;36m_client_exchange\u001b[1;34m(self, credential)\u001b[0m\n\u001b[0;32m    194\u001b[0m \u001b[1;33m\u001b[0m\u001b[0m\n\u001b[0;32m    195\u001b[0m         \u001b[1;32mif\u001b[0m \u001b[0mserver_id\u001b[0m \u001b[1;33m==\u001b[0m \u001b[1;34m\"\"\u001b[0m\u001b[1;33m:\u001b[0m\u001b[1;33m\u001b[0m\u001b[0m\n\u001b[1;32m--> 196\u001b[1;33m             \u001b[1;32mraise\u001b[0m \u001b[0mException\u001b[0m\u001b[1;33m(\u001b[0m\u001b[1;34m\"failed to load client ID\"\u001b[0m\u001b[1;33m)\u001b[0m\u001b[1;33m\u001b[0m\u001b[0m\n\u001b[0m\u001b[0;32m    197\u001b[0m \u001b[1;33m\u001b[0m\u001b[0m\n\u001b[0;32m    198\u001b[0m         \u001b[0mloopback_config\u001b[0m\u001b[1;33m[\u001b[0m\u001b[1;34m\"client_id\"\u001b[0m\u001b[1;33m]\u001b[0m \u001b[1;33m=\u001b[0m \u001b[0mcredential\u001b[0m\u001b[1;33m\u001b[0m\u001b[0m\n",
      "\u001b[1;31mException\u001b[0m: failed to load client ID"
     ]
    }
   ],
   "source": [
    "duet = sy.join_duet('4814df40925c14ae8f950342e3e8d776', network_url=\"http://ec2-18-216-8-163.us-east-2.compute.amazonaws.com:5000/\")"
   ]
  },
  {
   "cell_type": "markdown",
   "id": "strong-burner",
   "metadata": {},
   "source": [
    "### <img src=\"https://github.com/OpenMined/design-assets/raw/master/logos/OM/mark-primary-light.png\" alt=\"he-black-box\" width=\"100\"/> Checkpoint 0 : Now STOP and run the Data Owner notebook until Checkpoint 1."
   ]
  },
  {
   "cell_type": "markdown",
   "id": "worthy-server",
   "metadata": {},
   "source": [
    "# Part 2: Search for Available Data"
   ]
  },
  {
   "cell_type": "code",
   "execution_count": 3,
   "id": "aquatic-teens",
   "metadata": {},
   "outputs": [
    {
     "data": {
      "text/html": [
       "<div>\n",
       "<style scoped>\n",
       "    .dataframe tbody tr th:only-of-type {\n",
       "        vertical-align: middle;\n",
       "    }\n",
       "\n",
       "    .dataframe tbody tr th {\n",
       "        vertical-align: top;\n",
       "    }\n",
       "\n",
       "    .dataframe thead th {\n",
       "        text-align: right;\n",
       "    }\n",
       "</style>\n",
       "<table border=\"1\" class=\"dataframe\">\n",
       "  <thead>\n",
       "    <tr style=\"text-align: right;\">\n",
       "      <th></th>\n",
       "      <th>ID</th>\n",
       "      <th>Tags</th>\n",
       "      <th>Description</th>\n",
       "    </tr>\n",
       "  </thead>\n",
       "  <tbody>\n",
       "    <tr>\n",
       "      <th>0</th>\n",
       "      <td>&lt;UID: 7229d4cd650a4a29ba4a70e1cdbb0eb9&gt;</td>\n",
       "      <td>[ages]</td>\n",
       "      <td>This is a list of ages of 6 people.</td>\n",
       "    </tr>\n",
       "  </tbody>\n",
       "</table>\n",
       "</div>"
      ],
      "text/plain": [
       "                                        ID    Tags  \\\n",
       "0  <UID: 7229d4cd650a4a29ba4a70e1cdbb0eb9>  [ages]   \n",
       "\n",
       "                           Description  \n",
       "0  This is a list of ages of 6 people.  "
      ]
     },
     "execution_count": 3,
     "metadata": {},
     "output_type": "execute_result"
    }
   ],
   "source": [
    "# The data scientist can check the list of searchable data in Data Owner's duet store\n",
    "duet.store.pandas"
   ]
  },
  {
   "cell_type": "code",
   "execution_count": 4,
   "id": "paperback-priest",
   "metadata": {},
   "outputs": [
    {
     "name": "stdout",
     "output_type": "stream",
     "text": [
      "<syft.proxy.torch.TensorPointer object at 0x7ff2806c4a00>\n"
     ]
    }
   ],
   "source": [
    "# Data Scientist likes the age data. (S)He needs a pointer to it.\n",
    "\n",
    "data_ptr = duet.store[0] \n",
    "# data_ptr = duet.store['ages']\n",
    "\n",
    "# data_ptr is a reference to the age dataset remotely available on data owner's server\n",
    "print(data_ptr)"
   ]
  },
  {
   "cell_type": "markdown",
   "id": "prostate-contamination",
   "metadata": {},
   "source": [
    "# Part 3: Perform some basic analysis on the data\n",
    "Now the data scientist can perform analysis on the data that is in the Data Owner's duet server, without the owner having to share his/her data."
   ]
  },
  {
   "cell_type": "markdown",
   "id": "dimensional-missile",
   "metadata": {},
   "source": [
    "### Get average age"
   ]
  },
  {
   "cell_type": "code",
   "execution_count": 5,
   "id": "blocked-jersey",
   "metadata": {},
   "outputs": [],
   "source": [
    "average_age = data_ptr.float().mean()"
   ]
  },
  {
   "cell_type": "code",
   "execution_count": 6,
   "id": "weekly-documentation",
   "metadata": {
    "scrolled": true
   },
   "outputs": [
    {
     "name": "stdout",
     "output_type": "stream",
     "text": [
      "You do not have permission to .get() Object with ID: <UID: f4a594185a694ce8a9a6f9ad101560ac>Please submit a request.\n"
     ]
    }
   ],
   "source": [
    "# Now the Data Scientist wants to download the result.\n",
    "\n",
    "try:\n",
    "    average_age.get()\n",
    "except Exception as e:\n",
    "    print(e)"
   ]
  },
  {
   "cell_type": "code",
   "execution_count": 7,
   "id": "mature-reaction",
   "metadata": {},
   "outputs": [],
   "source": [
    "# Looks like the Data Scientist does not have permission to download this result! He/she needs\n",
    "# to make a request to the Data Owner.\n",
    "\n",
    "average_age.request(reason=\"Please approve!\")"
   ]
  },
  {
   "cell_type": "markdown",
   "id": "caroline-cologne",
   "metadata": {},
   "source": [
    "### <img src=\"https://github.com/OpenMined/design-assets/raw/master/logos/OM/mark-primary-light.png\" alt=\"he-black-box\" width=\"100\"/> Checkpoint 1 : Now STOP and run the Data Owner notebook until Checkpoint 2."
   ]
  },
  {
   "cell_type": "code",
   "execution_count": 8,
   "id": "whole-montreal",
   "metadata": {
    "scrolled": true
   },
   "outputs": [
    {
     "name": "stdout",
     "output_type": "stream",
     "text": [
      "You do not have permission to .get() Object with ID: <UID: f4a594185a694ce8a9a6f9ad101560ac>Please submit a request.\n"
     ]
    }
   ],
   "source": [
    "try:\n",
    "    average_age.get()\n",
    "except Exception as e:\n",
    "    print(e)"
   ]
  },
  {
   "cell_type": "code",
   "execution_count": 9,
   "id": "clean-opposition",
   "metadata": {},
   "outputs": [],
   "source": [
    "average_age.request(\n",
    "    reason=\"I am a data scientist and I need to know the average age for my analysis.\"\n",
    ")"
   ]
  },
  {
   "cell_type": "code",
   "execution_count": 10,
   "id": "impaired-premiere",
   "metadata": {},
   "outputs": [
    {
     "data": {
      "text/html": [
       "<div>\n",
       "<style scoped>\n",
       "    .dataframe tbody tr th:only-of-type {\n",
       "        vertical-align: middle;\n",
       "    }\n",
       "\n",
       "    .dataframe tbody tr th {\n",
       "        vertical-align: top;\n",
       "    }\n",
       "\n",
       "    .dataframe thead th {\n",
       "        text-align: right;\n",
       "    }\n",
       "</style>\n",
       "<table border=\"1\" class=\"dataframe\">\n",
       "  <thead>\n",
       "    <tr style=\"text-align: right;\">\n",
       "      <th></th>\n",
       "      <th>Name</th>\n",
       "      <th>Reason</th>\n",
       "      <th>Request ID</th>\n",
       "      <th>Requested Object's ID</th>\n",
       "    </tr>\n",
       "  </thead>\n",
       "  <tbody>\n",
       "    <tr>\n",
       "      <th>0</th>\n",
       "      <td></td>\n",
       "      <td>I am a data scientist and I need to know the a...</td>\n",
       "      <td>&lt;UID: 9b41487d464c4fab98e602b5a59f5605&gt;</td>\n",
       "      <td>&lt;UID: f4a594185a694ce8a9a6f9ad101560ac&gt;</td>\n",
       "    </tr>\n",
       "  </tbody>\n",
       "</table>\n",
       "</div>"
      ],
      "text/plain": [
       "  Name                                             Reason  \\\n",
       "0       I am a data scientist and I need to know the a...   \n",
       "\n",
       "                                Request ID  \\\n",
       "0  <UID: 9b41487d464c4fab98e602b5a59f5605>   \n",
       "\n",
       "                     Requested Object's ID  \n",
       "0  <UID: f4a594185a694ce8a9a6f9ad101560ac>  "
      ]
     },
     "execution_count": 10,
     "metadata": {},
     "output_type": "execute_result"
    }
   ],
   "source": [
    "duet.requests.pandas"
   ]
  },
  {
   "cell_type": "markdown",
   "id": "practical-yacht",
   "metadata": {},
   "source": [
    "### <img src=\"https://github.com/OpenMined/design-assets/raw/master/logos/OM/mark-primary-light.png\" alt=\"he-black-box\" width=\"100\"/> Checkpoint 2 : Now STOP and run the Data Owner notebook until the next checkpoint."
   ]
  },
  {
   "cell_type": "code",
   "execution_count": 11,
   "id": "arabic-dayton",
   "metadata": {},
   "outputs": [
    {
     "name": "stdout",
     "output_type": "stream",
     "text": [
      "tensor(46.8333)\n"
     ]
    }
   ],
   "source": [
    "# Once the request is approved - the data scientist can download the result!\n",
    "avg = average_age.get()\n",
    "print(avg)"
   ]
  },
  {
   "cell_type": "markdown",
   "id": "metropolitan-shannon",
   "metadata": {},
   "source": [
    "### Get min and max age"
   ]
  },
  {
   "cell_type": "code",
   "execution_count": 12,
   "id": "demonstrated-palmer",
   "metadata": {},
   "outputs": [
    {
     "data": {
      "text/plain": [
       "Module:\n",
       "\t.Tensor -> Tensor\n",
       "\t.BFloat16Tensor -> BFloat16Tensor\n",
       "\t.BoolTensor -> BoolTensor\n",
       "\t.ByteTensor -> ByteTensor\n",
       "\t.CharTensor -> CharTensor\n",
       "\t.DoubleTensor -> DoubleTensor\n",
       "\t.FloatTensor -> FloatTensor\n",
       "\t.HalfTensor -> HalfTensor\n",
       "\t.IntTensor -> IntTensor\n",
       "\t.LongTensor -> LongTensor\n",
       "\t.ShortTensor -> ShortTensor\n",
       "\t.nn -> Module:\n",
       "\t\t.Parameter -> Parameter\n",
       "\t\t.Module -> Module\n",
       "\t\t.Conv2d -> Conv2d\n",
       "\t\t.Dropout2d -> Dropout2d\n",
       "\t\t.Linear -> Linear\n",
       "\t\t.functional -> Module:\n",
       "\t\t\t.relu -> <syft.ast.function.Function object at 0x7ff2805170d0>\n",
       "\t\t\t.max_pool2d -> <syft.ast.function.Function object at 0x7ff280517100>\n",
       "\t\t\t.log_softmax -> <syft.ast.function.Function object at 0x7ff280517130>\n",
       "\t\t\t.cosine_embedding_loss -> <syft.ast.function.Function object at 0x7ff280517b50>\n",
       "\t\t\t.ctc_loss -> <syft.ast.function.Function object at 0x7ff280517b80>\n",
       "\t\t\t.hinge_embedding_loss -> <syft.ast.function.Function object at 0x7ff280517bb0>\n",
       "\t\t\t.l1_loss -> <syft.ast.function.Function object at 0x7ff280517be0>\n",
       "\t\t\t.margin_ranking_loss -> <syft.ast.function.Function object at 0x7ff280517c10>\n",
       "\t\t\t.mse_loss -> <syft.ast.function.Function object at 0x7ff280517c40>\n",
       "\t\t\t.multi_margin_loss -> <syft.ast.function.Function object at 0x7ff280517c70>\n",
       "\t\t\t.multilabel_margin_loss -> <syft.ast.function.Function object at 0x7ff280517ca0>\n",
       "\t\t\t.multilabel_soft_margin_loss -> <syft.ast.function.Function object at 0x7ff280517cd0>\n",
       "\t\t\t.nll_loss -> <syft.ast.function.Function object at 0x7ff280517d00>\n",
       "\t\t\t.poisson_nll_loss -> <syft.ast.function.Function object at 0x7ff280517d30>\n",
       "\t\t\t.smooth_l1_loss -> <syft.ast.function.Function object at 0x7ff280517d60>\n",
       "\t\t\t.soft_margin_loss -> <syft.ast.function.Function object at 0x7ff280517d90>\n",
       "\t\t\t.triplet_margin_loss -> <syft.ast.function.Function object at 0x7ff280517dc0>\n",
       "\n",
       "\t\t.Sequential -> Sequential\n",
       "\t\t.AdaptiveLogSoftmaxWithLoss -> AdaptiveLogSoftmaxWithLoss\n",
       "\t\t.BCELoss -> BCELoss\n",
       "\t\t.BCEWithLogitsLoss -> BCEWithLogitsLoss\n",
       "\t\t.CTCLoss -> CTCLoss\n",
       "\t\t.CrossEntropyLoss -> CrossEntropyLoss\n",
       "\t\t.CosineEmbeddingLoss -> CosineEmbeddingLoss\n",
       "\t\t.HingeEmbeddingLoss -> HingeEmbeddingLoss\n",
       "\t\t.KLDivLoss -> KLDivLoss\n",
       "\t\t.L1Loss -> L1Loss\n",
       "\t\t.MSELoss -> MSELoss\n",
       "\t\t.MarginRankingLoss -> MarginRankingLoss\n",
       "\t\t.MultiLabelMarginLoss -> MultiLabelMarginLoss\n",
       "\t\t.MultiLabelSoftMarginLoss -> MultiLabelSoftMarginLoss\n",
       "\t\t.MultiMarginLoss -> MultiMarginLoss\n",
       "\t\t.NLLLoss -> NLLLoss\n",
       "\t\t.NLLLoss2d -> NLLLoss2d\n",
       "\t\t.PoissonNLLLoss -> PoissonNLLLoss\n",
       "\t\t.SmoothL1Loss -> SmoothL1Loss\n",
       "\t\t.SoftMarginLoss -> SoftMarginLoss\n",
       "\t\t.TripletMarginLoss -> TripletMarginLoss\n",
       "\t\t.AdaptiveAvgPool1d -> AdaptiveAvgPool1d\n",
       "\t\t.AdaptiveAvgPool2d -> AdaptiveAvgPool2d\n",
       "\t\t.AdaptiveAvgPool3d -> AdaptiveAvgPool3d\n",
       "\t\t.AdaptiveMaxPool1d -> AdaptiveMaxPool1d\n",
       "\t\t.AdaptiveMaxPool2d -> AdaptiveMaxPool2d\n",
       "\t\t.AdaptiveMaxPool3d -> AdaptiveMaxPool3d\n",
       "\t\t.AlphaDropout -> AlphaDropout\n",
       "\t\t.AvgPool1d -> AvgPool1d\n",
       "\t\t.AvgPool2d -> AvgPool2d\n",
       "\t\t.AvgPool3d -> AvgPool3d\n",
       "\t\t.BatchNorm1d -> BatchNorm1d\n",
       "\t\t.BatchNorm2d -> BatchNorm2d\n",
       "\t\t.BatchNorm3d -> BatchNorm3d\n",
       "\t\t.Bilinear -> Bilinear\n",
       "\t\t.CELU -> CELU\n",
       "\t\t.ConstantPad1d -> ConstantPad1d\n",
       "\t\t.ConstantPad2d -> ConstantPad2d\n",
       "\t\t.ConstantPad3d -> ConstantPad3d\n",
       "\t\t.Container -> Container\n",
       "\t\t.Conv1d -> Conv1d\n",
       "\t\t.Conv3d -> Conv3d\n",
       "\t\t.ConvTranspose1d -> ConvTranspose1d\n",
       "\t\t.ConvTranspose2d -> ConvTranspose2d\n",
       "\t\t.ConvTranspose3d -> ConvTranspose3d\n",
       "\t\t.CosineSimilarity -> CosineSimilarity\n",
       "\t\t.CrossMapLRN2d -> CrossMapLRN2d\n",
       "\t\t.DataParallel -> DataParallel\n",
       "\t\t.Dropout -> Dropout\n",
       "\t\t.Dropout3d -> Dropout3d\n",
       "\t\t.ELU -> ELU\n",
       "\t\t.Embedding -> Embedding\n",
       "\t\t.EmbeddingBag -> EmbeddingBag\n",
       "\t\t.FeatureAlphaDropout -> FeatureAlphaDropout\n",
       "\t\t.Flatten -> Flatten\n",
       "\t\t.Fold -> Fold\n",
       "\t\t.FractionalMaxPool2d -> FractionalMaxPool2d\n",
       "\t\t.FractionalMaxPool3d -> FractionalMaxPool3d\n",
       "\t\t.GELU -> GELU\n",
       "\t\t.GLU -> GLU\n",
       "\t\t.GRU -> GRU\n",
       "\t\t.GRUCell -> GRUCell\n",
       "\t\t.GroupNorm -> GroupNorm\n",
       "\t\t.Hardshrink -> Hardshrink\n",
       "\t\t.Hardsigmoid -> Hardsigmoid\n",
       "\t\t.Hardswish -> Hardswish\n",
       "\t\t.Hardtanh -> Hardtanh\n",
       "\t\t.Identity -> Identity\n",
       "\t\t.InstanceNorm1d -> InstanceNorm1d\n",
       "\t\t.InstanceNorm2d -> InstanceNorm2d\n",
       "\t\t.InstanceNorm3d -> InstanceNorm3d\n",
       "\t\t.LPPool1d -> LPPool1d\n",
       "\t\t.LPPool2d -> LPPool2d\n",
       "\t\t.LSTM -> LSTM\n",
       "\t\t.LSTMCell -> LSTMCell\n",
       "\t\t.LayerNorm -> LayerNorm\n",
       "\t\t.LeakyReLU -> LeakyReLU\n",
       "\t\t.LocalResponseNorm -> LocalResponseNorm\n",
       "\t\t.LogSigmoid -> LogSigmoid\n",
       "\t\t.LogSoftmax -> LogSoftmax\n",
       "\t\t.MaxPool1d -> MaxPool1d\n",
       "\t\t.MaxPool2d -> MaxPool2d\n",
       "\t\t.MaxPool3d -> MaxPool3d\n",
       "\t\t.MaxUnpool1d -> MaxUnpool1d\n",
       "\t\t.MaxUnpool2d -> MaxUnpool2d\n",
       "\t\t.MaxUnpool3d -> MaxUnpool3d\n",
       "\t\t.ModuleDict -> ModuleDict\n",
       "\t\t.ModuleList -> ModuleList\n",
       "\t\t.MultiheadAttention -> MultiheadAttention\n",
       "\t\t.PReLU -> PReLU\n",
       "\t\t.PairwiseDistance -> PairwiseDistance\n",
       "\t\t.PixelShuffle -> PixelShuffle\n",
       "\t\t.RNN -> RNN\n",
       "\t\t.RNNBase -> RNNBase\n",
       "\t\t.RNNCell -> RNNCell\n",
       "\t\t.RNNCellBase -> RNNCellBase\n",
       "\t\t.RReLU -> RReLU\n",
       "\t\t.ReLU -> ReLU\n",
       "\t\t.ReLU6 -> ReLU6\n",
       "\t\t.ReflectionPad1d -> ReflectionPad1d\n",
       "\t\t.ReflectionPad2d -> ReflectionPad2d\n",
       "\t\t.ReplicationPad1d -> ReplicationPad1d\n",
       "\t\t.ReplicationPad2d -> ReplicationPad2d\n",
       "\t\t.ReplicationPad3d -> ReplicationPad3d\n",
       "\t\t.SELU -> SELU\n",
       "\t\t.Sigmoid -> Sigmoid\n",
       "\t\t.Softmax -> Softmax\n",
       "\t\t.Softmax2d -> Softmax2d\n",
       "\t\t.Softmin -> Softmin\n",
       "\t\t.Softplus -> Softplus\n",
       "\t\t.Softshrink -> Softshrink\n",
       "\t\t.Softsign -> Softsign\n",
       "\t\t.SyncBatchNorm -> SyncBatchNorm\n",
       "\t\t.Tanh -> Tanh\n",
       "\t\t.Tanhshrink -> Tanhshrink\n",
       "\t\t.Threshold -> Threshold\n",
       "\t\t.Transformer -> Transformer\n",
       "\t\t.TransformerDecoder -> TransformerDecoder\n",
       "\t\t.TransformerDecoderLayer -> TransformerDecoderLayer\n",
       "\t\t.TransformerEncoder -> TransformerEncoder\n",
       "\t\t.TransformerEncoderLayer -> TransformerEncoderLayer\n",
       "\t\t.Unfold -> Unfold\n",
       "\t\t.Upsample -> Upsample\n",
       "\t\t.UpsamplingBilinear2d -> UpsamplingBilinear2d\n",
       "\t\t.UpsamplingNearest2d -> UpsamplingNearest2d\n",
       "\t\t.ZeroPad2d -> ZeroPad2d\n",
       "\n",
       "\t.abs_ -> <syft.ast.function.Function object at 0x7ff2804eab20>\n",
       "\t.abs -> <syft.ast.function.Function object at 0x7ff2804eab50>\n",
       "\t.acos_ -> <syft.ast.function.Function object at 0x7ff2804eab80>\n",
       "\t.acos -> <syft.ast.function.Function object at 0x7ff2804eabb0>\n",
       "\t.add -> <syft.ast.function.Function object at 0x7ff2804eabe0>\n",
       "\t.addbmm -> <syft.ast.function.Function object at 0x7ff2804eac10>\n",
       "\t.addcdiv -> <syft.ast.function.Function object at 0x7ff2804eac40>\n",
       "\t.addcmul -> <syft.ast.function.Function object at 0x7ff2804eac70>\n",
       "\t.addmm -> <syft.ast.function.Function object at 0x7ff2804eaca0>\n",
       "\t.addmv_ -> <syft.ast.function.Function object at 0x7ff2804eacd0>\n",
       "\t.addmv -> <syft.ast.function.Function object at 0x7ff2804ead00>\n",
       "\t.addr -> <syft.ast.function.Function object at 0x7ff2804ead30>\n",
       "\t.all -> <syft.ast.function.Function object at 0x7ff2804ead60>\n",
       "\t.allclose -> <syft.ast.function.Function object at 0x7ff2804ead90>\n",
       "\t.angle -> <syft.ast.function.Function object at 0x7ff2804eadc0>\n",
       "\t.any -> <syft.ast.function.Function object at 0x7ff2804eadf0>\n",
       "\t.argmax -> <syft.ast.function.Function object at 0x7ff2804eae20>\n",
       "\t.argmin -> <syft.ast.function.Function object at 0x7ff2804eae50>\n",
       "\t.argsort -> <syft.ast.function.Function object at 0x7ff2804eae80>\n",
       "\t.as_strided_ -> <syft.ast.function.Function object at 0x7ff2804eaeb0>\n",
       "\t.as_strided -> <syft.ast.function.Function object at 0x7ff2804eaee0>\n",
       "\t.asin_ -> <syft.ast.function.Function object at 0x7ff2804eaf10>\n",
       "\t.asin -> <syft.ast.function.Function object at 0x7ff2804eaf40>\n",
       "\t.atan_ -> <syft.ast.function.Function object at 0x7ff2804eaf70>\n",
       "\t.atan -> <syft.ast.function.Function object at 0x7ff2804eafa0>\n",
       "\t.atan2 -> <syft.ast.function.Function object at 0x7ff2804eafd0>\n",
       "\t.baddbmm -> <syft.ast.function.Function object at 0x7ff2804f3040>\n",
       "\t.bernoulli -> <syft.ast.function.Function object at 0x7ff2804f3070>\n",
       "\t.bitwise_and -> <syft.ast.function.Function object at 0x7ff2804f30a0>\n",
       "\t.bitwise_not -> <syft.ast.function.Function object at 0x7ff2804f30d0>\n",
       "\t.bitwise_or -> <syft.ast.function.Function object at 0x7ff2804f3100>\n",
       "\t.bitwise_xor -> <syft.ast.function.Function object at 0x7ff2804f3130>\n",
       "\t.bmm -> <syft.ast.function.Function object at 0x7ff2804f3160>\n",
       "\t.ceil_ -> <syft.ast.function.Function object at 0x7ff2804f3190>\n",
       "\t.ceil -> <syft.ast.function.Function object at 0x7ff2804f31c0>\n",
       "\t.cholesky_inverse -> <syft.ast.function.Function object at 0x7ff2804f31f0>\n",
       "\t.cholesky_solve -> <syft.ast.function.Function object at 0x7ff2804f3220>\n",
       "\t.cholesky -> <syft.ast.function.Function object at 0x7ff2804f3250>\n",
       "\t.chunk -> <syft.ast.function.Function object at 0x7ff2804f3280>\n",
       "\t.clamp_ -> <syft.ast.function.Function object at 0x7ff2804f32b0>\n",
       "\t.clamp_max_ -> <syft.ast.function.Function object at 0x7ff2804f32e0>\n",
       "\t.clamp_max -> <syft.ast.function.Function object at 0x7ff2804f3310>\n",
       "\t.clamp_min_ -> <syft.ast.function.Function object at 0x7ff2804f3340>\n",
       "\t.clamp_min -> <syft.ast.function.Function object at 0x7ff2804f3370>\n",
       "\t.clamp -> <syft.ast.function.Function object at 0x7ff2804f33a0>\n",
       "\t.clone -> <syft.ast.function.Function object at 0x7ff2804f33d0>\n",
       "\t.conj -> <syft.ast.function.Function object at 0x7ff2804f3400>\n",
       "\t.cos_ -> <syft.ast.function.Function object at 0x7ff2804f3430>\n",
       "\t.cos -> <syft.ast.function.Function object at 0x7ff2804f3460>\n",
       "\t.cosh_ -> <syft.ast.function.Function object at 0x7ff2804f3490>\n",
       "\t.cosh -> <syft.ast.function.Function object at 0x7ff2804f34c0>\n",
       "\t.cross -> <syft.ast.function.Function object at 0x7ff2804f34f0>\n",
       "\t.cummax -> <syft.ast.function.Function object at 0x7ff2804f3520>\n",
       "\t.cummin -> <syft.ast.function.Function object at 0x7ff2804f3550>\n",
       "\t.cumprod -> <syft.ast.function.Function object at 0x7ff2804f3580>\n",
       "\t.cumsum -> <syft.ast.function.Function object at 0x7ff2804f35b0>\n",
       "\t.dequantize -> <syft.ast.function.Function object at 0x7ff2804f35e0>\n",
       "\t.det -> <syft.ast.function.Function object at 0x7ff2804f3610>\n",
       "\t.detach -> <syft.ast.function.Function object at 0x7ff2804f3640>\n",
       "\t.diag_embed -> <syft.ast.function.Function object at 0x7ff2804f3670>\n",
       "\t.diag -> <syft.ast.function.Function object at 0x7ff2804f36a0>\n",
       "\t.diagflat -> <syft.ast.function.Function object at 0x7ff2804f36d0>\n",
       "\t.diagonal -> <syft.ast.function.Function object at 0x7ff2804f3700>\n",
       "\t.digamma -> <syft.ast.function.Function object at 0x7ff2804f3730>\n",
       "\t.dist -> <syft.ast.function.Function object at 0x7ff2804f3760>\n",
       "\t.div -> <syft.ast.function.Function object at 0x7ff2804f3790>\n",
       "\t.dot -> <syft.ast.function.Function object at 0x7ff2804f37c0>\n",
       "\t.eig -> <syft.ast.function.Function object at 0x7ff2804f37f0>\n",
       "\t.eq -> <syft.ast.function.Function object at 0x7ff2804f3820>\n",
       "\t.equal -> <syft.ast.function.Function object at 0x7ff2804f3850>\n",
       "\t.erf_ -> <syft.ast.function.Function object at 0x7ff2804f3880>\n",
       "\t.erf -> <syft.ast.function.Function object at 0x7ff2804f38b0>\n",
       "\t.erfc_ -> <syft.ast.function.Function object at 0x7ff2804f38e0>\n",
       "\t.erfc -> <syft.ast.function.Function object at 0x7ff2804f3910>\n",
       "\t.erfinv -> <syft.ast.function.Function object at 0x7ff2804f3940>\n",
       "\t.exp_ -> <syft.ast.function.Function object at 0x7ff2804f3970>\n",
       "\t.exp -> <syft.ast.function.Function object at 0x7ff2804f39a0>\n",
       "\t.expm1_ -> <syft.ast.function.Function object at 0x7ff2804f39d0>\n",
       "\t.expm1 -> <syft.ast.function.Function object at 0x7ff2804f3a00>\n",
       "\t.fft -> <syft.ast.function.Function object at 0x7ff2804f3a30>\n",
       "\t.fill_ -> <syft.ast.function.Function object at 0x7ff2804f3a60>\n",
       "\t.flatten -> <syft.ast.function.Function object at 0x7ff2804f3a90>\n",
       "\t.flip -> <syft.ast.function.Function object at 0x7ff2804f3ac0>\n",
       "\t.floor_ -> <syft.ast.function.Function object at 0x7ff2804f3af0>\n",
       "\t.floor_divide -> <syft.ast.function.Function object at 0x7ff2804f3b20>\n",
       "\t.floor -> <syft.ast.function.Function object at 0x7ff2804f3b50>\n",
       "\t.fmod -> <syft.ast.function.Function object at 0x7ff2804f3b80>\n",
       "\t.frac_ -> <syft.ast.function.Function object at 0x7ff2804f3bb0>\n",
       "\t.frac -> <syft.ast.function.Function object at 0x7ff2804f3be0>\n",
       "\t.gather -> <syft.ast.function.Function object at 0x7ff2804f3c10>\n",
       "\t.ge -> <syft.ast.function.Function object at 0x7ff2804f3c40>\n",
       "\t.geqrf -> <syft.ast.function.Function object at 0x7ff2804f3c70>\n",
       "\t.ger -> <syft.ast.function.Function object at 0x7ff2804f3ca0>\n",
       "\t.get_device -> <syft.ast.function.Function object at 0x7ff2804f3cd0>\n",
       "\t.gt -> <syft.ast.function.Function object at 0x7ff2804f3d00>\n",
       "\t.hardshrink -> <syft.ast.function.Function object at 0x7ff2804f3d30>\n",
       "\t.histc -> <syft.ast.function.Function object at 0x7ff2804f3d60>\n",
       "\t.ifft -> <syft.ast.function.Function object at 0x7ff2804f3d90>\n",
       "\t.index_add -> <syft.ast.function.Function object at 0x7ff2804f3dc0>\n",
       "\t.index_copy -> <syft.ast.function.Function object at 0x7ff2804f3df0>\n",
       "\t.index_fill -> <syft.ast.function.Function object at 0x7ff2804f3e20>\n",
       "\t.index_put_ -> <syft.ast.function.Function object at 0x7ff2804f3e50>\n",
       "\t.index_put -> <syft.ast.function.Function object at 0x7ff2804f3e80>\n",
       "\t.index_select -> <syft.ast.function.Function object at 0x7ff2804f3eb0>\n",
       "\t.int_repr -> <syft.ast.function.Function object at 0x7ff2804f3ee0>\n",
       "\t.inverse -> <syft.ast.function.Function object at 0x7ff2804f3f10>\n",
       "\t.irfft -> <syft.ast.function.Function object at 0x7ff2804f3f40>\n",
       "\t.is_complex -> <syft.ast.function.Function object at 0x7ff2804f3f70>\n",
       "\t.is_distributed -> <syft.ast.function.Function object at 0x7ff2804f3fa0>\n",
       "\t.is_floating_point -> <syft.ast.function.Function object at 0x7ff2804f3fd0>\n",
       "\t.is_nonzero -> <syft.ast.function.Function object at 0x7ff2804fb040>\n",
       "\t.is_same_size -> <syft.ast.function.Function object at 0x7ff2804fb070>\n",
       "\t.is_signed -> <syft.ast.function.Function object at 0x7ff2804fb0a0>\n",
       "\t.isclose -> <syft.ast.function.Function object at 0x7ff2804fb0d0>\n",
       "\t.kthvalue -> <syft.ast.function.Function object at 0x7ff2804fb100>\n",
       "\t.le -> <syft.ast.function.Function object at 0x7ff2804fb130>\n",
       "\t.lerp -> <syft.ast.function.Function object at 0x7ff2804fb160>\n",
       "\t.lgamma -> <syft.ast.function.Function object at 0x7ff2804fb190>\n",
       "\t.log_ -> <syft.ast.function.Function object at 0x7ff2804fb1c0>\n",
       "\t.log_softmax -> <syft.ast.function.Function object at 0x7ff2804fb1f0>\n",
       "\t.log -> <syft.ast.function.Function object at 0x7ff2804fb220>\n",
       "\t.log10_ -> <syft.ast.function.Function object at 0x7ff2804fb250>\n",
       "\t.log10 -> <syft.ast.function.Function object at 0x7ff2804fb280>\n",
       "\t.log1p_ -> <syft.ast.function.Function object at 0x7ff2804fb2b0>\n",
       "\t.log1p -> <syft.ast.function.Function object at 0x7ff2804fb2e0>\n",
       "\t.log2_ -> <syft.ast.function.Function object at 0x7ff2804fb310>\n",
       "\t.log2 -> <syft.ast.function.Function object at 0x7ff2804fb340>\n",
       "\t.logdet -> <syft.ast.function.Function object at 0x7ff2804fb370>\n",
       "\t.logical_and -> <syft.ast.function.Function object at 0x7ff2804fb3a0>\n",
       "\t.logical_not -> <syft.ast.function.Function object at 0x7ff2804fb3d0>\n",
       "\t.logical_or -> <syft.ast.function.Function object at 0x7ff2804fb400>\n",
       "\t.logical_xor -> <syft.ast.function.Function object at 0x7ff2804fb430>\n",
       "\t.logsumexp -> <syft.ast.function.Function object at 0x7ff2804fb460>\n",
       "\t.lstsq -> <syft.ast.function.Function object at 0x7ff2804fb490>\n",
       "\t.lt -> <syft.ast.function.Function object at 0x7ff2804fb4c0>\n",
       "\t.lu_solve -> <syft.ast.function.Function object at 0x7ff2804fb4f0>\n",
       "\t.lu -> <syft.ast.function.Function object at 0x7ff2804fb520>\n",
       "\t.masked_fill -> <syft.ast.function.Function object at 0x7ff2804fb550>\n",
       "\t.masked_scatter -> <syft.ast.function.Function object at 0x7ff2804fb580>\n",
       "\t.masked_select -> <syft.ast.function.Function object at 0x7ff2804fb5b0>\n",
       "\t.matmul -> <syft.ast.function.Function object at 0x7ff2804fb5e0>\n",
       "\t.matrix_power -> <syft.ast.function.Function object at 0x7ff2804fb610>\n",
       "\t.mean -> <syft.ast.function.Function object at 0x7ff2804fb640>\n",
       "\t.mm -> <syft.ast.function.Function object at 0x7ff2804fb670>\n",
       "\t.mode -> <syft.ast.function.Function object at 0x7ff2804fb6a0>\n",
       "\t.mul -> <syft.ast.function.Function object at 0x7ff2804fb6d0>\n",
       "\t.multinomial -> <syft.ast.function.Function object at 0x7ff2804fb700>\n",
       "\t.mv -> <syft.ast.function.Function object at 0x7ff2804fb730>\n",
       "\t.mvlgamma -> <syft.ast.function.Function object at 0x7ff2804fb760>\n",
       "\t.narrow -> <syft.ast.function.Function object at 0x7ff2804fb790>\n",
       "\t.ne -> <syft.ast.function.Function object at 0x7ff2804fb7c0>\n",
       "\t.neg_ -> <syft.ast.function.Function object at 0x7ff2804fb7f0>\n",
       "\t.neg -> <syft.ast.function.Function object at 0x7ff2804fb820>\n",
       "\t.nonzero -> <syft.ast.function.Function object at 0x7ff2804fb850>\n",
       "\t.norm -> <syft.ast.function.Function object at 0x7ff2804fb880>\n",
       "\t.orgqr -> <syft.ast.function.Function object at 0x7ff2804fb8b0>\n",
       "\t.ormqr -> <syft.ast.function.Function object at 0x7ff2804fb8e0>\n",
       "\t.pinverse -> <syft.ast.function.Function object at 0x7ff2804fb910>\n",
       "\t.polygamma -> <syft.ast.function.Function object at 0x7ff2804fb940>\n",
       "\t.pow -> <syft.ast.function.Function object at 0x7ff2804fb970>\n",
       "\t.prelu -> <syft.ast.function.Function object at 0x7ff2804fb9a0>\n",
       "\t.q_per_channel_axis -> <syft.ast.function.Function object at 0x7ff2804fb9d0>\n",
       "\t.q_per_channel_scales -> <syft.ast.function.Function object at 0x7ff2804fba00>\n",
       "\t.q_per_channel_zero_points -> <syft.ast.function.Function object at 0x7ff2804fba30>\n",
       "\t.q_scale -> <syft.ast.function.Function object at 0x7ff2804fba60>\n",
       "\t.q_zero_point -> <syft.ast.function.Function object at 0x7ff2804fba90>\n",
       "\t.qr -> <syft.ast.function.Function object at 0x7ff2804fbac0>\n",
       "\t.reciprocal_ -> <syft.ast.function.Function object at 0x7ff2804fbaf0>\n",
       "\t.reciprocal -> <syft.ast.function.Function object at 0x7ff2804fbb20>\n",
       "\t.relu_ -> <syft.ast.function.Function object at 0x7ff2804fbb50>\n",
       "\t.relu -> <syft.ast.function.Function object at 0x7ff2804fbb80>\n",
       "\t.remainder -> <syft.ast.function.Function object at 0x7ff2804fbbb0>\n",
       "\t.renorm -> <syft.ast.function.Function object at 0x7ff2804fbbe0>\n",
       "\t.repeat_interleave -> <syft.ast.function.Function object at 0x7ff2804fbc10>\n",
       "\t.reshape -> <syft.ast.function.Function object at 0x7ff2804fbc40>\n",
       "\t.resize_as_ -> <syft.ast.function.Function object at 0x7ff2804fbc70>\n",
       "\t.rfft -> <syft.ast.function.Function object at 0x7ff2804fbca0>\n",
       "\t.roll -> <syft.ast.function.Function object at 0x7ff2804fbcd0>\n",
       "\t.rot90 -> <syft.ast.function.Function object at 0x7ff2804fbd00>\n",
       "\t.round_ -> <syft.ast.function.Function object at 0x7ff2804fbd30>\n",
       "\t.round -> <syft.ast.function.Function object at 0x7ff2804fbd60>\n",
       "\t.rsqrt_ -> <syft.ast.function.Function object at 0x7ff2804fbd90>\n",
       "\t.rsqrt -> <syft.ast.function.Function object at 0x7ff2804fbdc0>\n",
       "\t.scatter_add -> <syft.ast.function.Function object at 0x7ff2804fbdf0>\n",
       "\t.scatter -> <syft.ast.function.Function object at 0x7ff2804fbe20>\n",
       "\t.select -> <syft.ast.function.Function object at 0x7ff2804fbe50>\n",
       "\t.sigmoid_ -> <syft.ast.function.Function object at 0x7ff2804fbe80>\n",
       "\t.sigmoid -> <syft.ast.function.Function object at 0x7ff2804fbeb0>\n",
       "\t.sign -> <syft.ast.function.Function object at 0x7ff2804fbee0>\n",
       "\t.sin_ -> <syft.ast.function.Function object at 0x7ff2804fbf10>\n",
       "\t.sin -> <syft.ast.function.Function object at 0x7ff2804fbf40>\n",
       "\t.sinh_ -> <syft.ast.function.Function object at 0x7ff2804fbf70>\n",
       "\t.sinh -> <syft.ast.function.Function object at 0x7ff2804fbfa0>\n",
       "\t.slogdet -> <syft.ast.function.Function object at 0x7ff2804fbfd0>\n",
       "\t.softmax -> <syft.ast.function.Function object at 0x7ff280503040>\n",
       "\t.solve -> <syft.ast.function.Function object at 0x7ff280503070>\n",
       "\t.sort -> <syft.ast.function.Function object at 0x7ff2805030a0>\n",
       "\t.split_with_sizes -> <syft.ast.function.Function object at 0x7ff2805030d0>\n",
       "\t.split -> <syft.ast.function.Function object at 0x7ff280503100>\n",
       "\t.sqrt_ -> <syft.ast.function.Function object at 0x7ff280503130>\n",
       "\t.sqrt -> <syft.ast.function.Function object at 0x7ff280503160>\n",
       "\t.square_ -> <syft.ast.function.Function object at 0x7ff280503190>\n",
       "\t.square -> <syft.ast.function.Function object at 0x7ff2805031c0>\n",
       "\t.squeeze -> <syft.ast.function.Function object at 0x7ff2805031f0>\n",
       "\t.std -> <syft.ast.function.Function object at 0x7ff280503220>\n",
       "\t.stft -> <syft.ast.function.Function object at 0x7ff280503250>\n",
       "\t.sub -> <syft.ast.function.Function object at 0x7ff280503280>\n",
       "\t.sum -> <syft.ast.function.Function object at 0x7ff2805032b0>\n",
       "\t.svd -> <syft.ast.function.Function object at 0x7ff2805032e0>\n",
       "\t.symeig -> <syft.ast.function.Function object at 0x7ff280503310>\n",
       "\t.t -> <syft.ast.function.Function object at 0x7ff280503340>\n",
       "\t.take -> <syft.ast.function.Function object at 0x7ff280503370>\n",
       "\t.tan_ -> <syft.ast.function.Function object at 0x7ff2805033a0>\n",
       "\t.tan -> <syft.ast.function.Function object at 0x7ff2805033d0>\n",
       "\t.tanh_ -> <syft.ast.function.Function object at 0x7ff280503400>\n",
       "\t.tanh -> <syft.ast.function.Function object at 0x7ff280503430>\n",
       "\t.topk -> <syft.ast.function.Function object at 0x7ff280503460>\n",
       "\t.trace -> <syft.ast.function.Function object at 0x7ff280503490>\n",
       "\t.transpose -> <syft.ast.function.Function object at 0x7ff2805034c0>\n",
       "\t.triangular_solve -> <syft.ast.function.Function object at 0x7ff2805034f0>\n",
       "\t.tril -> <syft.ast.function.Function object at 0x7ff280503520>\n",
       "\t.triu -> <syft.ast.function.Function object at 0x7ff280503550>\n",
       "\t.true_divide -> <syft.ast.function.Function object at 0x7ff280503580>\n",
       "\t.trunc_ -> <syft.ast.function.Function object at 0x7ff2805035b0>\n",
       "\t.trunc -> <syft.ast.function.Function object at 0x7ff2805035e0>\n",
       "\t.unique_consecutive -> <syft.ast.function.Function object at 0x7ff280503610>\n",
       "\t.unique -> <syft.ast.function.Function object at 0x7ff280503640>\n",
       "\t.unsqueeze -> <syft.ast.function.Function object at 0x7ff280503670>\n",
       "\t.var -> <syft.ast.function.Function object at 0x7ff2805036a0>\n",
       "\t.unsafe_chunk -> <syft.ast.function.Function object at 0x7ff2805036d0>\n",
       "\t.absolute -> <syft.ast.function.Function object at 0x7ff280503700>\n",
       "\t.acosh_ -> <syft.ast.function.Function object at 0x7ff280503730>\n",
       "\t.acosh -> <syft.ast.function.Function object at 0x7ff280503760>\n",
       "\t.asinh_ -> <syft.ast.function.Function object at 0x7ff280503790>\n",
       "\t.asinh -> <syft.ast.function.Function object at 0x7ff2805037c0>\n",
       "\t.atanh_ -> <syft.ast.function.Function object at 0x7ff2805037f0>\n",
       "\t.atanh -> <syft.ast.function.Function object at 0x7ff280503820>\n",
       "\t.deg2rad_ -> <syft.ast.function.Function object at 0x7ff280503850>\n",
       "\t.deg2rad -> <syft.ast.function.Function object at 0x7ff280503880>\n",
       "\t.fliplr -> <syft.ast.function.Function object at 0x7ff2805038b0>\n",
       "\t.flipud -> <syft.ast.function.Function object at 0x7ff2805038e0>\n",
       "\t.isfinite -> <syft.ast.function.Function object at 0x7ff280503910>\n",
       "\t.isinf -> <syft.ast.function.Function object at 0x7ff280503940>\n",
       "\t.isnan -> <syft.ast.function.Function object at 0x7ff280503970>\n",
       "\t.logaddexp -> <syft.ast.function.Function object at 0x7ff2805039a0>\n",
       "\t.logaddexp2 -> <syft.ast.function.Function object at 0x7ff2805039d0>\n",
       "\t.logcumsumexp -> <syft.ast.function.Function object at 0x7ff280503a00>\n",
       "\t.rad2deg_ -> <syft.ast.function.Function object at 0x7ff280503a30>\n",
       "\t.rad2deg -> <syft.ast.function.Function object at 0x7ff280503a60>\n",
       "\t.istft -> <syft.ast.function.Function object at 0x7ff280503a90>\n",
       "\t.amax -> <syft.ast.function.Function object at 0x7ff280503ac0>\n",
       "\t.amin -> <syft.ast.function.Function object at 0x7ff280503af0>\n",
       "\t.arccos -> <syft.ast.function.Function object at 0x7ff280503b20>\n",
       "\t.arccos_ -> <syft.ast.function.Function object at 0x7ff280503b50>\n",
       "\t.arccosh -> <syft.ast.function.Function object at 0x7ff280503b80>\n",
       "\t.arccosh_ -> <syft.ast.function.Function object at 0x7ff280503bb0>\n",
       "\t.arcsin -> <syft.ast.function.Function object at 0x7ff280503be0>\n",
       "\t.arcsin_ -> <syft.ast.function.Function object at 0x7ff280503c10>\n",
       "\t.arcsinh -> <syft.ast.function.Function object at 0x7ff280503c40>\n",
       "\t.arcsinh_ -> <syft.ast.function.Function object at 0x7ff280503c70>\n",
       "\t.arctan -> <syft.ast.function.Function object at 0x7ff280503ca0>\n",
       "\t.arctan_ -> <syft.ast.function.Function object at 0x7ff280503cd0>\n",
       "\t.arctanh -> <syft.ast.function.Function object at 0x7ff280503d00>\n",
       "\t.arctanh_ -> <syft.ast.function.Function object at 0x7ff280503d30>\n",
       "\t.clip -> <syft.ast.function.Function object at 0x7ff280503d60>\n",
       "\t.clip_ -> <syft.ast.function.Function object at 0x7ff280503d90>\n",
       "\t.count_nonzero -> <syft.ast.function.Function object at 0x7ff280503dc0>\n",
       "\t.divide -> <syft.ast.function.Function object at 0x7ff280503df0>\n",
       "\t.exp2 -> <syft.ast.function.Function object at 0x7ff280503e20>\n",
       "\t.exp2_ -> <syft.ast.function.Function object at 0x7ff280503e50>\n",
       "\t.fix -> <syft.ast.function.Function object at 0x7ff280503e80>\n",
       "\t.fix_ -> <syft.ast.function.Function object at 0x7ff280503eb0>\n",
       "\t.gcd -> <syft.ast.function.Function object at 0x7ff280503ee0>\n",
       "\t.gcd_ -> <syft.ast.function.Function object at 0x7ff280503f10>\n",
       "\t.greater -> <syft.ast.function.Function object at 0x7ff280503f40>\n",
       "\t.greater_equal -> <syft.ast.function.Function object at 0x7ff280503f70>\n",
       "\t.heaviside -> <syft.ast.function.Function object at 0x7ff280503fa0>\n",
       "\t.hypot -> <syft.ast.function.Function object at 0x7ff280503fd0>\n",
       "\t.i0 -> <syft.ast.function.Function object at 0x7ff28050c040>\n",
       "\t.i0_ -> <syft.ast.function.Function object at 0x7ff28050c070>\n",
       "\t.isneginf -> <syft.ast.function.Function object at 0x7ff28050c0a0>\n",
       "\t.isposinf -> <syft.ast.function.Function object at 0x7ff28050c0d0>\n",
       "\t.isreal -> <syft.ast.function.Function object at 0x7ff28050c100>\n",
       "\t.lcm -> <syft.ast.function.Function object at 0x7ff28050c130>\n",
       "\t.lcm_ -> <syft.ast.function.Function object at 0x7ff28050c160>\n",
       "\t.less -> <syft.ast.function.Function object at 0x7ff28050c190>\n",
       "\t.less_equal -> <syft.ast.function.Function object at 0x7ff28050c1c0>\n",
       "\t.logit -> <syft.ast.function.Function object at 0x7ff28050c1f0>\n",
       "\t.logit_ -> <syft.ast.function.Function object at 0x7ff28050c220>\n",
       "\t.maximum -> <syft.ast.function.Function object at 0x7ff28050c250>\n",
       "\t.minimum -> <syft.ast.function.Function object at 0x7ff28050c280>\n",
       "\t.matrix_exp -> <syft.ast.function.Function object at 0x7ff28050c2b0>\n",
       "\t.multiply -> <syft.ast.function.Function object at 0x7ff28050c2e0>\n",
       "\t.nanquantile -> <syft.ast.function.Function object at 0x7ff28050c310>\n",
       "\t.nansum -> <syft.ast.function.Function object at 0x7ff28050c340>\n",
       "\t.negative -> <syft.ast.function.Function object at 0x7ff28050c370>\n",
       "\t.negative_ -> <syft.ast.function.Function object at 0x7ff28050c3a0>\n",
       "\t.nextafter -> <syft.ast.function.Function object at 0x7ff28050c3d0>\n",
       "\t.outer -> <syft.ast.function.Function object at 0x7ff28050c400>\n",
       "\t.quantile -> <syft.ast.function.Function object at 0x7ff28050c430>\n",
       "\t.sgn -> <syft.ast.function.Function object at 0x7ff28050c460>\n",
       "\t.signbit -> <syft.ast.function.Function object at 0x7ff28050c490>\n",
       "\t.subtract -> <syft.ast.function.Function object at 0x7ff28050c4c0>\n",
       "\t.unsafe_split -> <syft.ast.function.Function object at 0x7ff28050c4f0>\n",
       "\t.vdot -> <syft.ast.function.Function object at 0x7ff28050c520>\n",
       "\t.movedim -> <syft.ast.function.Function object at 0x7ff28050c550>\n",
       "\t.unsafe_split_with_sizes -> <syft.ast.function.Function object at 0x7ff28050c580>\n",
       "\t.cuda -> Module:\n",
       "\t\t.is_available -> <syft.ast.function.Function object at 0x7ff28050c5e0>\n",
       "\n",
       "\t.device -> device\n",
       "\t.random -> Module:\n",
       "\t\t.initial_seed -> <syft.ast.function.Function object at 0x7ff28050c6d0>\n",
       "\n",
       "\t.zeros_like -> <syft.ast.function.Function object at 0x7ff28050c700>\n",
       "\t.manual_seed -> <syft.ast.function.Function object at 0x7ff28050c730>\n",
       "\t.Generator -> Generator\n",
       "\t.utils -> Module:\n",
       "\t\t.data -> Module:\n",
       "\t\t\t.DataLoader -> DataLoader\n",
       "\t\t\t.dataloader -> Module:\n",
       "\t\t\t\t._SingleProcessDataLoaderIter -> _SingleProcessDataLoaderIter\n",
       "\n",
       "\n",
       "\n",
       "\t.optim -> Module:\n",
       "\t\t.ASGD -> ASGD\n",
       "\t\t.Adadelta -> Adadelta\n",
       "\t\t.Adagrad -> Adagrad\n",
       "\t\t.Adam -> Adam\n",
       "\t\t.AdamW -> AdamW\n",
       "\t\t.Adamax -> Adamax\n",
       "\t\t.LBFGS -> LBFGS\n",
       "\t\t.Optimizer -> Optimizer\n",
       "\t\t.RMSprop -> RMSprop\n",
       "\t\t.Rprop -> Rprop\n",
       "\t\t.SGD -> SGD\n",
       "\t\t.SparseAdam -> SparseAdam\n",
       "\t\t.lr_scheduler -> Module:\n",
       "\t\t\t.StepLR -> StepLR\n",
       "\n",
       "\n",
       "\t.no_grad -> no_grad\n",
       "\t.autograd -> Module:\n",
       "\t\t.grad_mode -> Module:\n",
       "\t\t\t.no_grad -> no_grad\n",
       "\n"
      ]
     },
     "execution_count": 12,
     "metadata": {},
     "output_type": "execute_result"
    }
   ],
   "source": [
    "duet.torch"
   ]
  },
  {
   "cell_type": "code",
   "execution_count": 26,
   "id": "assumed-roberts",
   "metadata": {},
   "outputs": [],
   "source": [
    "max_age_ptr = data_ptr.float().amax()\n",
    "min_age_ptr = data_ptr.float().amin()"
   ]
  },
  {
   "cell_type": "code",
   "execution_count": 27,
   "id": "criminal-copying",
   "metadata": {},
   "outputs": [
    {
     "name": "stdout",
     "output_type": "stream",
     "text": [
      "tensor(88.)\n"
     ]
    }
   ],
   "source": [
    "max_age_result = max_age_ptr.get(\n",
    "    request_block=True,\n",
    "    reason=\"download the maximum age\",\n",
    "    timeout_secs=10,\n",
    ")\n",
    "\n",
    "print(max_age_result)"
   ]
  },
  {
   "cell_type": "code",
   "execution_count": 28,
   "id": "selected-piece",
   "metadata": {},
   "outputs": [
    {
     "name": "stdout",
     "output_type": "stream",
     "text": [
      "tensor(22.)\n"
     ]
    }
   ],
   "source": [
    "min_age_result = min_age_ptr.get(\n",
    "    request_block=True,\n",
    "    reason=\"download the minimum age\",\n",
    "    timeout_secs=10,\n",
    ")\n",
    "\n",
    "print(min_age_result)"
   ]
  },
  {
   "cell_type": "markdown",
   "id": "incorporated-tower",
   "metadata": {},
   "source": [
    "## Let's cheat!"
   ]
  },
  {
   "cell_type": "code",
   "execution_count": 29,
   "id": "realistic-genre",
   "metadata": {
    "scrolled": true
   },
   "outputs": [
    {
     "name": "stdout",
     "output_type": "stream",
     "text": [
      "tensor([25, 32, 49, 65, 88, 22])\n"
     ]
    }
   ],
   "source": [
    "age_data = data_ptr.get(request_block=True, delete_obj=False)\n",
    "\n",
    "print(age_data)"
   ]
  },
  {
   "cell_type": "markdown",
   "id": "raised-adult",
   "metadata": {},
   "source": [
    "Please note in the later releases there will be features for the verification of the requests made by data scientists so that they cannot be exploited in anyway. In later courses different techniques for making this whole process more robust will be covered. So stay tuned!\n",
    "\n",
    "For this course, it is a great way for you to debug your codes and sanity check!"
   ]
  },
  {
   "cell_type": "code",
   "execution_count": null,
   "id": "ancient-identification",
   "metadata": {},
   "outputs": [],
   "source": []
  },
  {
   "cell_type": "code",
   "execution_count": null,
   "id": "inappropriate-whole",
   "metadata": {},
   "outputs": [],
   "source": []
  },
  {
   "cell_type": "markdown",
   "id": "accredited-grammar",
   "metadata": {},
   "source": [
    "### <img src=\"https://github.com/OpenMined/design-assets/raw/master/logos/OM/mark-primary-light.png\" alt=\"he-black-box\" width=\"100\"/> Checkpoint 3 : Well done!"
   ]
  },
  {
   "cell_type": "code",
   "execution_count": null,
   "id": "million-gallery",
   "metadata": {},
   "outputs": [],
   "source": []
  }
 ],
 "metadata": {
  "kernelspec": {
   "display_name": "Python 3 (ipykernel)",
   "language": "python",
   "name": "python3"
  },
  "language_info": {
   "codemirror_mode": {
    "name": "ipython",
    "version": 3
   },
   "file_extension": ".py",
   "mimetype": "text/x-python",
   "name": "python",
   "nbconvert_exporter": "python",
   "pygments_lexer": "ipython3",
   "version": "3.7.0"
  }
 },
 "nbformat": 4,
 "nbformat_minor": 5
}
