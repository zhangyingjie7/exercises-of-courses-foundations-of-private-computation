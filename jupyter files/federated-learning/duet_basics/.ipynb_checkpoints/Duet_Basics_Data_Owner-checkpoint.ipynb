{
 "cells": [
  {
   "cell_type": "markdown",
   "id": "worth-teach",
   "metadata": {},
   "source": [
    "# Part 1: Launch a Duet Server"
   ]
  },
  {
   "cell_type": "code",
   "execution_count": 1,
   "id": "incorporate-empty",
   "metadata": {},
   "outputs": [],
   "source": [
    "import syft as sy"
   ]
  },
  {
   "cell_type": "code",
   "execution_count": null,
   "id": "packed-german",
   "metadata": {
    "scrolled": true
   },
   "outputs": [
    {
     "name": "stdout",
     "output_type": "stream",
     "text": [
      "🎤  🎸  ♪♪♪ Starting Duet ♫♫♫  🎻  🎹\n",
      "\n",
      "♫♫♫ >\u001b[93m DISCLAIMER\u001b[0m: \u001b[1mDuet is an experimental feature currently in beta.\n",
      "♫♫♫ > Use at your own risk.\n",
      "\u001b[0m\n",
      "\u001b[1m\n",
      "    > ❤️ \u001b[91mLove\u001b[0m \u001b[92mDuet\u001b[0m? \u001b[93mPlease\u001b[0m \u001b[94mconsider\u001b[0m \u001b[95msupporting\u001b[0m \u001b[91mour\u001b[0m \u001b[93mcommunity!\u001b[0m\n",
      "    > https://github.com/sponsors/OpenMined\u001b[1m\n",
      "\n",
      "♫♫♫ > Punching through firewall to OpenGrid Network Node at:\n",
      "♫♫♫ > http://ec2-18-218-7-180.us-east-2.compute.amazonaws.com:5000\n",
      "♫♫♫ >\n",
      "♫♫♫ > ...waiting for response from OpenGrid Network... \n",
      "♫♫♫ > \u001b[92mDONE!\u001b[0m\n",
      "\n",
      "♫♫♫ > \u001b[95mSTEP 1:\u001b[0m Send the following code to your Duet Partner!\n",
      "\n",
      "import syft as sy\n",
      "duet = sy.join_duet(loopback=True)\n",
      "\n",
      "♫♫♫ > Connecting...\n"
     ]
    },
    {
     "name": "stderr",
     "output_type": "stream",
     "text": [
      "d:\\program files\\python\\python37\\tutorial-env\\lib\\site-packages\\aiortc\\rtcdtlstransport.py:211: CryptographyDeprecationWarning: This version of cryptography contains a temporary pyOpenSSL fallback path. Upgrade pyOpenSSL now.\n",
      "  _openssl_assert(lib.SSL_CTX_use_certificate(ctx, self._cert._x509) == 1)  # type: ignore\n",
      "d:\\program files\\python\\python37\\tutorial-env\\lib\\site-packages\\aiortc\\rtcdtlstransport.py:186: CryptographyDeprecationWarning: This version of cryptography contains a temporary pyOpenSSL fallback path. Upgrade pyOpenSSL now.\n",
      "  value=certificate_digest(self._cert._x509),  # type: ignore\n"
     ]
    }
   ],
   "source": [
    "duet = sy.launch_duet(network_url=\"http://ec2-18-216-8-163.us-east-2.compute.amazonaws.com:5000/\")"
   ]
  },
  {
   "cell_type": "markdown",
   "id": "saved-dressing",
   "metadata": {},
   "source": [
    "# Part 2: Upload data to Duet Server"
   ]
  },
  {
   "cell_type": "code",
   "execution_count": null,
   "id": "complicated-lafayette",
   "metadata": {},
   "outputs": [],
   "source": [
    "import torch as th"
   ]
  },
  {
   "cell_type": "code",
   "execution_count": 6,
   "id": "atomic-irrigation",
   "metadata": {},
   "outputs": [],
   "source": [
    "# Data owner has age data of 6 people\n",
    "age_data = th.tensor([25, 32, 49, 65, 88, 22])"
   ]
  },
  {
   "cell_type": "code",
   "execution_count": 7,
   "id": "better-multiple",
   "metadata": {},
   "outputs": [],
   "source": [
    "# Data owner names the data with tag \"ages\"\n",
    "age_data = age_data.tag(\"ages\")"
   ]
  },
  {
   "cell_type": "code",
   "execution_count": 8,
   "id": "centered-snowboard",
   "metadata": {},
   "outputs": [],
   "source": [
    "# Data owner adds a description to the tensor where age data is located\n",
    "age_data = age_data.describe(\"This is a list of ages of 6 people.\")"
   ]
  },
  {
   "cell_type": "code",
   "execution_count": 9,
   "id": "special-martial",
   "metadata": {},
   "outputs": [
    {
     "ename": "NameError",
     "evalue": "name 'duet' is not defined",
     "output_type": "error",
     "traceback": [
      "\u001b[1;31m---------------------------------------------------------------------------\u001b[0m",
      "\u001b[1;31mNameError\u001b[0m                                 Traceback (most recent call last)",
      "\u001b[1;32m~\\AppData\\Local\\Temp/ipykernel_13596/2697672871.py\u001b[0m in \u001b[0;36m<module>\u001b[1;34m\u001b[0m\n\u001b[0;32m      2\u001b[0m \u001b[1;31m# by data scientists. NOTE: The data is still on the Data Owners machine and cannot be\u001b[0m\u001b[1;33m\u001b[0m\u001b[1;33m\u001b[0m\u001b[0m\n\u001b[0;32m      3\u001b[0m \u001b[1;31m# viewed or retrieved by any Data Scientists without permission.\u001b[0m\u001b[1;33m\u001b[0m\u001b[1;33m\u001b[0m\u001b[0m\n\u001b[1;32m----> 4\u001b[1;33m \u001b[0mage_data_pointer\u001b[0m \u001b[1;33m=\u001b[0m \u001b[0mage_data\u001b[0m\u001b[1;33m.\u001b[0m\u001b[0msend\u001b[0m\u001b[1;33m(\u001b[0m\u001b[0mduet\u001b[0m\u001b[1;33m,\u001b[0m \u001b[0mpointable\u001b[0m\u001b[1;33m=\u001b[0m\u001b[1;32mTrue\u001b[0m\u001b[1;33m)\u001b[0m\u001b[1;33m\u001b[0m\u001b[0m\n\u001b[0m",
      "\u001b[1;31mNameError\u001b[0m: name 'duet' is not defined"
     ]
    }
   ],
   "source": [
    "# Finally the data owner UPLOADS THE DATA to the Duet server and makes it searchable\n",
    "# by data scientists. NOTE: The data is still on the Data Owners machine and cannot be\n",
    "# viewed or retrieved by any Data Scientists without permission.\n",
    "age_data_pointer = age_data.send(duet, pointable=True)"
   ]
  },
  {
   "cell_type": "code",
   "execution_count": 8,
   "id": "approximate-tracy",
   "metadata": {},
   "outputs": [
    {
     "data": {
      "text/plain": [
       "[<syft.proxy.torch.TensorPointer object at 0x7fca07283e80>]"
      ]
     },
     "execution_count": 8,
     "metadata": {},
     "output_type": "execute_result"
    }
   ],
   "source": [
    "# Once uploaded, the data owner can see the object stored in the tensor\n",
    "duet.store"
   ]
  },
  {
   "cell_type": "code",
   "execution_count": 9,
   "id": "continuing-jordan",
   "metadata": {
    "scrolled": true
   },
   "outputs": [
    {
     "data": {
      "text/html": [
       "<div>\n",
       "<style scoped>\n",
       "    .dataframe tbody tr th:only-of-type {\n",
       "        vertical-align: middle;\n",
       "    }\n",
       "\n",
       "    .dataframe tbody tr th {\n",
       "        vertical-align: top;\n",
       "    }\n",
       "\n",
       "    .dataframe thead th {\n",
       "        text-align: right;\n",
       "    }\n",
       "</style>\n",
       "<table border=\"1\" class=\"dataframe\">\n",
       "  <thead>\n",
       "    <tr style=\"text-align: right;\">\n",
       "      <th></th>\n",
       "      <th>ID</th>\n",
       "      <th>Tags</th>\n",
       "      <th>Description</th>\n",
       "    </tr>\n",
       "  </thead>\n",
       "  <tbody>\n",
       "    <tr>\n",
       "      <th>0</th>\n",
       "      <td>&lt;UID: 7229d4cd650a4a29ba4a70e1cdbb0eb9&gt;</td>\n",
       "      <td>[ages]</td>\n",
       "      <td>This is a list of ages of 6 people.</td>\n",
       "    </tr>\n",
       "  </tbody>\n",
       "</table>\n",
       "</div>"
      ],
      "text/plain": [
       "                                        ID    Tags  \\\n",
       "0  <UID: 7229d4cd650a4a29ba4a70e1cdbb0eb9>  [ages]   \n",
       "\n",
       "                           Description  \n",
       "0  This is a list of ages of 6 people.  "
      ]
     },
     "execution_count": 9,
     "metadata": {},
     "output_type": "execute_result"
    }
   ],
   "source": [
    "# To see it in a human-readable format, data owner can also pretty-print the tensor information\n",
    "duet.store.pandas"
   ]
  },
  {
   "cell_type": "markdown",
   "id": "white-inflation",
   "metadata": {},
   "source": [
    "### <img src=\"https://github.com/OpenMined/design-assets/raw/master/logos/OM/mark-primary-light.png\" alt=\"he-black-box\" width=\"100\"/> Checkpoint 1 : Now STOP and run the Data Scientist notebook until the same checkpoint."
   ]
  },
  {
   "cell_type": "markdown",
   "id": "scheduled-slope",
   "metadata": {},
   "source": [
    "# Part 3: Response to requests coming from Data Scientist"
   ]
  },
  {
   "cell_type": "code",
   "execution_count": null,
   "id": "amazing-father",
   "metadata": {},
   "outputs": [],
   "source": [
    "# To check if there is a request from the Data Scientist, the data owner runs this command occasionally\n",
    "# or when there is a notification of new request in the DUET LIVE STATUS\n",
    "duet.requests.pandas"
   ]
  },
  {
   "cell_type": "code",
   "execution_count": 10,
   "id": "operational-photograph",
   "metadata": {},
   "outputs": [
    {
     "data": {
      "text/plain": [
       "'Please approve!'"
      ]
     },
     "execution_count": 10,
     "metadata": {},
     "output_type": "execute_result"
    }
   ],
   "source": [
    "# There's a new request! Let's check what it says.\n",
    "duet.requests[0].request_description"
   ]
  },
  {
   "cell_type": "code",
   "execution_count": 11,
   "id": "viral-fancy",
   "metadata": {},
   "outputs": [],
   "source": [
    "# Doesn't look like a convincing request :( Have to deny it sorry!\n",
    "duet.requests[0].deny()"
   ]
  },
  {
   "cell_type": "code",
   "execution_count": 12,
   "id": "running-league",
   "metadata": {},
   "outputs": [
    {
     "data": {
      "text/html": [
       "<div>\n",
       "<style scoped>\n",
       "    .dataframe tbody tr th:only-of-type {\n",
       "        vertical-align: middle;\n",
       "    }\n",
       "\n",
       "    .dataframe tbody tr th {\n",
       "        vertical-align: top;\n",
       "    }\n",
       "\n",
       "    .dataframe thead th {\n",
       "        text-align: right;\n",
       "    }\n",
       "</style>\n",
       "<table border=\"1\" class=\"dataframe\">\n",
       "  <thead>\n",
       "    <tr style=\"text-align: right;\">\n",
       "      <th></th>\n",
       "    </tr>\n",
       "  </thead>\n",
       "  <tbody>\n",
       "  </tbody>\n",
       "</table>\n",
       "</div>"
      ],
      "text/plain": [
       "Empty DataFrame\n",
       "Columns: []\n",
       "Index: []"
      ]
     },
     "execution_count": 12,
     "metadata": {},
     "output_type": "execute_result"
    }
   ],
   "source": [
    "# No more request\n",
    "duet.requests.pandas"
   ]
  },
  {
   "cell_type": "markdown",
   "id": "clinical-analyst",
   "metadata": {},
   "source": [
    "### <img src=\"https://github.com/OpenMined/design-assets/raw/master/logos/OM/mark-primary-light.png\" alt=\"he-black-box\" width=\"100\"/> Checkpoint 2 : Now STOP and run the Data Scientist notebook until the same checkpoint."
   ]
  },
  {
   "cell_type": "code",
   "execution_count": 13,
   "id": "magnetic-vinyl",
   "metadata": {},
   "outputs": [
    {
     "data": {
      "text/html": [
       "<div>\n",
       "<style scoped>\n",
       "    .dataframe tbody tr th:only-of-type {\n",
       "        vertical-align: middle;\n",
       "    }\n",
       "\n",
       "    .dataframe tbody tr th {\n",
       "        vertical-align: top;\n",
       "    }\n",
       "\n",
       "    .dataframe thead th {\n",
       "        text-align: right;\n",
       "    }\n",
       "</style>\n",
       "<table border=\"1\" class=\"dataframe\">\n",
       "  <thead>\n",
       "    <tr style=\"text-align: right;\">\n",
       "      <th></th>\n",
       "      <th>Name</th>\n",
       "      <th>Reason</th>\n",
       "      <th>Request ID</th>\n",
       "      <th>Requested Object's ID</th>\n",
       "    </tr>\n",
       "  </thead>\n",
       "  <tbody>\n",
       "    <tr>\n",
       "      <th>0</th>\n",
       "      <td></td>\n",
       "      <td>I am a data scientist and I need to know the a...</td>\n",
       "      <td>&lt;UID: 9b41487d464c4fab98e602b5a59f5605&gt;</td>\n",
       "      <td>&lt;UID: f4a594185a694ce8a9a6f9ad101560ac&gt;</td>\n",
       "    </tr>\n",
       "  </tbody>\n",
       "</table>\n",
       "</div>"
      ],
      "text/plain": [
       "  Name                                             Reason  \\\n",
       "0       I am a data scientist and I need to know the a...   \n",
       "\n",
       "                                Request ID  \\\n",
       "0  <UID: 9b41487d464c4fab98e602b5a59f5605>   \n",
       "\n",
       "                     Requested Object's ID  \n",
       "0  <UID: f4a594185a694ce8a9a6f9ad101560ac>  "
      ]
     },
     "execution_count": 13,
     "metadata": {},
     "output_type": "execute_result"
    }
   ],
   "source": [
    "# Oh there's a new request!\n",
    "duet.requests.pandas"
   ]
  },
  {
   "cell_type": "code",
   "execution_count": 14,
   "id": "periodic-seating",
   "metadata": {},
   "outputs": [
    {
     "data": {
      "text/plain": [
       "'I am a data scientist and I need to know the average age for my analysis.'"
      ]
     },
     "execution_count": 14,
     "metadata": {},
     "output_type": "execute_result"
    }
   ],
   "source": [
    "# Let's check what it says.\n",
    "duet.requests[0].request_description"
   ]
  },
  {
   "cell_type": "code",
   "execution_count": 15,
   "id": "australian-lease",
   "metadata": {
    "scrolled": true
   },
   "outputs": [],
   "source": [
    "# The request looks reasonable. Should be accepted :)\n",
    "duet.requests[0].accept()"
   ]
  },
  {
   "cell_type": "markdown",
   "id": "confident-poker",
   "metadata": {},
   "source": [
    "### Add request handlers"
   ]
  },
  {
   "cell_type": "code",
   "execution_count": 20,
   "id": "loose-fifth",
   "metadata": {},
   "outputs": [],
   "source": [
    "# You can automatically accept or deny requests, which is great for testing.\n",
    "# We have more advanced handlers coming soon.\n",
    "\n",
    "duet.requests.add_handler(action=\"accept\")"
   ]
  },
  {
   "cell_type": "markdown",
   "id": "attractive-modem",
   "metadata": {},
   "source": [
    "### <img src=\"https://github.com/OpenMined/design-assets/raw/master/logos/OM/mark-primary-light.png\" alt=\"he-black-box\" width=\"100\"/> Checkpoint 3 : Well done!"
   ]
  },
  {
   "cell_type": "code",
   "execution_count": null,
   "id": "urban-effects",
   "metadata": {},
   "outputs": [],
   "source": []
  }
 ],
 "metadata": {
  "kernelspec": {
   "display_name": "Python 3 (ipykernel)",
   "language": "python",
   "name": "python3"
  },
  "language_info": {
   "codemirror_mode": {
    "name": "ipython",
    "version": 3
   },
   "file_extension": ".py",
   "mimetype": "text/x-python",
   "name": "python",
   "nbconvert_exporter": "python",
   "pygments_lexer": "ipython3",
   "version": "3.7.0"
  }
 },
 "nbformat": 4,
 "nbformat_minor": 5
}
