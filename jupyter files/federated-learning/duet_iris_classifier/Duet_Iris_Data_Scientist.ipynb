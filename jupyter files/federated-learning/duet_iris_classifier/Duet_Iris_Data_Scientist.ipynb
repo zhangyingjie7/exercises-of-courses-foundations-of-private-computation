{
 "cells": [
  {
   "cell_type": "code",
   "execution_count": 1,
   "id": "relevant-thong",
   "metadata": {},
   "outputs": [],
   "source": [
    "import syft as sy"
   ]
  },
  {
   "cell_type": "markdown",
   "id": "express-crisis",
   "metadata": {},
   "source": [
    "# Part 1: Join the Duet Server the Data Owner connected to"
   ]
  },
  {
   "cell_type": "code",
   "execution_count": 2,
   "id": "reserved-chain",
   "metadata": {
    "scrolled": true
   },
   "outputs": [
    {
     "name": "stdout",
     "output_type": "stream",
     "text": [
      "🎤  🎸  ♪♪♪ Joining Duet ♫♫♫  🎻  🎹\n",
      "\n",
      "♫♫♫ >\u001b[93m DISCLAIMER\u001b[0m: \u001b[1mDuet is an experimental feature currently in beta.\n",
      "♫♫♫ > Use at your own risk.\n",
      "\u001b[0m\n",
      "\u001b[1m\n",
      "    > ❤️ \u001b[91mLove\u001b[0m \u001b[92mDuet\u001b[0m? \u001b[93mPlease\u001b[0m \u001b[94mconsider\u001b[0m \u001b[95msupporting\u001b[0m \u001b[91mour\u001b[0m \u001b[93mcommunity!\u001b[0m\n",
      "    > https://github.com/sponsors/OpenMined\u001b[1m\n",
      "\n",
      "♫♫♫ > Punching through firewall to OpenGrid Network Node at:\n",
      "♫♫♫ > http://ec2-18-218-7-180.us-east-2.compute.amazonaws.com:5000\n",
      "♫♫♫ >\n",
      "♫♫♫ > ...waiting for response from OpenGrid Network... \n",
      "♫♫♫ > \u001b[92mDONE!\u001b[0m\n"
     ]
    },
    {
     "name": "stderr",
     "output_type": "stream",
     "text": [
      "d:\\program files\\python\\python37\\tutorial-env\\lib\\site-packages\\aiortc\\rtcdtlstransport.py:211: CryptographyDeprecationWarning: This version of cryptography contains a temporary pyOpenSSL fallback path. Upgrade pyOpenSSL now.\n",
      "  _openssl_assert(lib.SSL_CTX_use_certificate(ctx, self._cert._x509) == 1)  # type: ignore\n",
      "d:\\program files\\python\\python37\\tutorial-env\\lib\\site-packages\\aiortc\\rtcdtlstransport.py:186: CryptographyDeprecationWarning: This version of cryptography contains a temporary pyOpenSSL fallback path. Upgrade pyOpenSSL now.\n",
      "  value=certificate_digest(self._cert._x509),  # type: ignore\n"
     ]
    },
    {
     "name": "stdout",
     "output_type": "stream",
     "text": [
      "\n",
      "♫♫♫ > \u001b[92mCONNECTED!\u001b[0m\n"
     ]
    }
   ],
   "source": [
    "duet = sy.join_duet(loopback=True)"
   ]
  },
  {
   "cell_type": "markdown",
   "id": "impaired-beast",
   "metadata": {},
   "source": [
    "### <img src=\"https://github.com/OpenMined/design-assets/raw/master/logos/OM/mark-primary-light.png\" alt=\"he-black-box\" width=\"100\"/> Checkpoint 0 : Now STOP and run the Data Owner notebook until Checkpoint 1."
   ]
  },
  {
   "cell_type": "markdown",
   "id": "intellectual-suffering",
   "metadata": {},
   "source": [
    "# Part 2: Search for Available Data\n"
   ]
  },
  {
   "cell_type": "code",
   "execution_count": 3,
   "id": "virtual-small",
   "metadata": {},
   "outputs": [
    {
     "data": {
      "text/html": [
       "<div>\n",
       "<style scoped>\n",
       "    .dataframe tbody tr th:only-of-type {\n",
       "        vertical-align: middle;\n",
       "    }\n",
       "\n",
       "    .dataframe tbody tr th {\n",
       "        vertical-align: top;\n",
       "    }\n",
       "\n",
       "    .dataframe thead th {\n",
       "        text-align: right;\n",
       "    }\n",
       "</style>\n",
       "<table border=\"1\" class=\"dataframe\">\n",
       "  <thead>\n",
       "    <tr style=\"text-align: right;\">\n",
       "      <th></th>\n",
       "      <th>ID</th>\n",
       "      <th>Tags</th>\n",
       "      <th>Description</th>\n",
       "      <th>object_type</th>\n",
       "    </tr>\n",
       "  </thead>\n",
       "  <tbody>\n",
       "    <tr>\n",
       "      <th>0</th>\n",
       "      <td>&lt;UID: 46727d02dc6b40d5b9f5f26e005e708f&gt;</td>\n",
       "      <td>[iris-data]</td>\n",
       "      <td>This is a dataset for flower classification of...</td>\n",
       "      <td>&lt;class 'torch.Tensor'&gt;</td>\n",
       "    </tr>\n",
       "    <tr>\n",
       "      <th>1</th>\n",
       "      <td>&lt;UID: de148fcfa2ac4958866d5b90c392322c&gt;</td>\n",
       "      <td>[iris-target]</td>\n",
       "      <td>Labels for flowers: Iris-setosa, Iris-versicol...</td>\n",
       "      <td>&lt;class 'torch.Tensor'&gt;</td>\n",
       "    </tr>\n",
       "  </tbody>\n",
       "</table>\n",
       "</div>"
      ],
      "text/plain": [
       "                                        ID           Tags  \\\n",
       "0  <UID: 46727d02dc6b40d5b9f5f26e005e708f>    [iris-data]   \n",
       "1  <UID: de148fcfa2ac4958866d5b90c392322c>  [iris-target]   \n",
       "\n",
       "                                         Description             object_type  \n",
       "0  This is a dataset for flower classification of...  <class 'torch.Tensor'>  \n",
       "1  Labels for flowers: Iris-setosa, Iris-versicol...  <class 'torch.Tensor'>  "
      ]
     },
     "execution_count": 3,
     "metadata": {},
     "output_type": "execute_result"
    }
   ],
   "source": [
    "# The data scientist can check the list of searchable data in Data Owner's duet store\n",
    "duet.store.pandas"
   ]
  },
  {
   "cell_type": "markdown",
   "id": "violent-cutting",
   "metadata": {},
   "source": [
    "Data Scientist wants to use the iris dataset. (S)He needs a pointer to the data and\n",
    "a pointer to the target for prediction."
   ]
  },
  {
   "cell_type": "code",
   "execution_count": 4,
   "id": "statewide-sydney",
   "metadata": {},
   "outputs": [],
   "source": [
    "data_ptr = duet.store[0]\n",
    "target_ptr = duet.store[1]"
   ]
  },
  {
   "cell_type": "markdown",
   "id": "marked-interaction",
   "metadata": {},
   "source": [
    "`data_ptr` is a reference to the iris dataset remotely available on data owner's server.\n",
    "`target_ptr` is a reference to the iris dataset LABELS remotely available on data owner's server"
   ]
  },
  {
   "cell_type": "code",
   "execution_count": 5,
   "id": "piano-cleaner",
   "metadata": {},
   "outputs": [
    {
     "name": "stdout",
     "output_type": "stream",
     "text": [
      "<syft.proxy.torch.TensorPointer object at 0x000002979D6335F8>\n",
      "<syft.proxy.torch.TensorPointer object at 0x000002979D633710>\n"
     ]
    }
   ],
   "source": [
    "print(data_ptr)\n",
    "print(target_ptr)"
   ]
  },
  {
   "cell_type": "markdown",
   "id": "satellite-english",
   "metadata": {},
   "source": [
    "# Part 3: Perform Logistic Regression on Iris dataset\n",
    "Now the data scientist can perform machine learning on the data that is in the Data Owner's duet server, without the owner having to share his/her data."
   ]
  },
  {
   "cell_type": "markdown",
   "id": "introductory-dominican",
   "metadata": {},
   "source": [
    "### Basic analysis"
   ]
  },
  {
   "cell_type": "markdown",
   "id": "auburn-symphony",
   "metadata": {},
   "source": [
    "First the data scientist needs to know some basic information about the dataset.\n",
    "1. The length of the dataset\n",
    "2. The input dimension\n",
    "3. The output dimension\n",
    "\n",
    "These information have to be explicitly shared by the Data Owner. Let's try to find them in the data description."
   ]
  },
  {
   "cell_type": "code",
   "execution_count": 6,
   "id": "crucial-saskatchewan",
   "metadata": {},
   "outputs": [
    {
     "name": "stdout",
     "output_type": "stream",
     "text": [
      "This is a dataset for flower classification of 150 samples. 4 Features are sepal length (cm),sepal width (cm), petal length (cm), petal width (cm)\n",
      "\n",
      "Labels for flowers: Iris-setosa, Iris-versicolour, Iris-virginica\n"
     ]
    }
   ],
   "source": [
    "print(duet.store.pandas[\"Description\"][0])\n",
    "print()\n",
    "print(duet.store.pandas[\"Description\"][1])"
   ]
  },
  {
   "cell_type": "markdown",
   "id": "fallen-destruction",
   "metadata": {},
   "source": [
    "### Train model"
   ]
  },
  {
   "cell_type": "code",
   "execution_count": 7,
   "id": "disabled-secretariat",
   "metadata": {},
   "outputs": [],
   "source": [
    "import torch"
   ]
  },
  {
   "cell_type": "code",
   "execution_count": 8,
   "id": "cutting-hamburg",
   "metadata": {},
   "outputs": [],
   "source": [
    "in_dim = 4\n",
    "out_dim = 3\n",
    "n_samples = 150"
   ]
  },
  {
   "cell_type": "markdown",
   "id": "laden-belgium",
   "metadata": {},
   "source": [
    "First, let's create our model for `Logistic Regression`. If you are already familiar with PyTorch, you will notice that the model is built almost the exact same way as you do in PyTorch. The main difference is that here we inherit from `sy.Module` instead of `nn.Module`. We also need to pass in a variable called `torch_ref` which we will use internally for any calls that you would normally make to torch."
   ]
  },
  {
   "cell_type": "code",
   "execution_count": 9,
   "id": "accurate-prototype",
   "metadata": {},
   "outputs": [],
   "source": [
    "class SyNet(sy.Module):\n",
    "    def __init__(self, torch_ref):\n",
    "        super(SyNet, self).__init__(torch_ref=torch_ref)\n",
    "        self.layer1 = self.torch_ref.nn.Linear(in_dim, 20)\n",
    "        self.layer2 = self.torch_ref.nn.Linear(20, 30)\n",
    "        self.out = self.torch_ref.nn.Linear(30, out_dim)\n",
    "\n",
    "    def forward(self, x):\n",
    "        x = self.torch_ref.nn.functional.relu(self.layer1(x))\n",
    "        x = self.torch_ref.nn.functional.relu(self.layer2(x))\n",
    "        output = self.torch_ref.nn.functional.log_softmax(self.out(x), dim=1)\n",
    "        return output\n"
   ]
  },
  {
   "cell_type": "markdown",
   "id": "german-macro",
   "metadata": {},
   "source": [
    "Now we can create a local model by passing our local copy of torch."
   ]
  },
  {
   "cell_type": "code",
   "execution_count": 10,
   "id": "appreciated-premiere",
   "metadata": {},
   "outputs": [],
   "source": [
    "local_model = SyNet(torch)"
   ]
  },
  {
   "cell_type": "markdown",
   "id": "express-surge",
   "metadata": {},
   "source": [
    "Now we will send the local copy of the model to our partner's duet server."
   ]
  },
  {
   "cell_type": "code",
   "execution_count": 11,
   "id": "spare-promotion",
   "metadata": {},
   "outputs": [],
   "source": [
    "remote_model = local_model.send(duet)"
   ]
  },
  {
   "cell_type": "markdown",
   "id": "grateful-calgary",
   "metadata": {},
   "source": [
    "Let's create an alias for our partner’s torch called `remote_torch` so we can refer to the local torch as torch and any operation we want to do remotely as `remote_torch`. Remember, the return values from `remote_torch` are Pointers, not the real objects. They mostly act the same when using them with other Pointers but they cannot be mixed with local torch objects."
   ]
  },
  {
   "cell_type": "code",
   "execution_count": 12,
   "id": "caroline-sheep",
   "metadata": {},
   "outputs": [],
   "source": [
    "remote_torch = duet.torch"
   ]
  },
  {
   "cell_type": "markdown",
   "id": "offshore-samba",
   "metadata": {},
   "source": [
    "We will get a pointer to our remote model parameters. Then we will set our optimizer. Here, we will be using `Adam optimizer`. `params` is a pointer to the list of parameters. `optim` is a reference to the Adam optimizer which can be used to optimize the remote model."
   ]
  },
  {
   "cell_type": "code",
   "execution_count": 13,
   "id": "wooden-strip",
   "metadata": {},
   "outputs": [
    {
     "name": "stdout",
     "output_type": "stream",
     "text": [
      "params: <syft.proxy.syft.lib.python.ListPointer object at 0x00000297FE3FD160>\n",
      "optim: <syft.proxy.torch.optim.AdamPointer object at 0x00000297FE3FD128>\n"
     ]
    }
   ],
   "source": [
    "params = remote_model.parameters()\n",
    "optim = remote_torch.optim.Adam(params=params, lr=0.01)\n",
    "print(\"params:\", params)\n",
    "print(\"optim:\", optim)"
   ]
  },
  {
   "cell_type": "markdown",
   "id": "manual-acoustic",
   "metadata": {},
   "source": [
    "Now we will create our `train` function. It will take few parameters, like the `remote_model`, `torch_ref`, `optim` and `data_ptr` and `target_ptr`."
   ]
  },
  {
   "cell_type": "code",
   "execution_count": 14,
   "id": "monetary-table",
   "metadata": {},
   "outputs": [],
   "source": [
    "def train(iterations, model, torch_ref, optim, data_ptr, target_ptr):\n",
    "\n",
    "    losses = []\n",
    "\n",
    "    for i in range(iterations):\n",
    "\n",
    "        optim.zero_grad()\n",
    "\n",
    "        output = model(data_ptr)\n",
    "\n",
    "        # nll_loss = negative log-liklihood loss\n",
    "        loss = torch_ref.nn.functional.nll_loss(output, target_ptr.long())\n",
    "\n",
    "        loss_item = loss.item()\n",
    "\n",
    "        loss_value = loss_item.get(\n",
    "            reason=\"To evaluate training progress\", request_block=True, timeout_secs=5\n",
    "        )\n",
    "\n",
    "        if i % 10 == 0:\n",
    "            print(\"Epoch\", i, \"loss\", loss_value)\n",
    "\n",
    "        losses.append(loss_value)\n",
    "\n",
    "        loss.backward()\n",
    "\n",
    "        optim.step()\n",
    "\n",
    "    return losses"
   ]
  },
  {
   "cell_type": "code",
   "execution_count": 15,
   "id": "responsible-international",
   "metadata": {
    "scrolled": true
   },
   "outputs": [
    {
     "name": "stdout",
     "output_type": "stream",
     "text": [
      "Epoch 0 loss 1.1145817041397095\n",
      "Epoch 10 loss 0.5143080353736877\n",
      "Epoch 20 loss 0.1980985552072525\n",
      "Epoch 30 loss 0.08837559819221497\n",
      "Epoch 40 loss 0.06831612437963486\n"
     ]
    }
   ],
   "source": [
    "iteration = 50\n",
    "losses = train(iteration, remote_model, remote_torch, optim, data_ptr, target_ptr)"
   ]
  },
  {
   "cell_type": "code",
   "execution_count": 16,
   "id": "generous-azerbaijan",
   "metadata": {},
   "outputs": [],
   "source": [
    "import matplotlib.pyplot as plt"
   ]
  },
  {
   "cell_type": "code",
   "execution_count": 17,
   "id": "established-illinois",
   "metadata": {},
   "outputs": [
    {
     "data": {
      "text/plain": [
       "Text(0.5, 0, 'iteration')"
      ]
     },
     "execution_count": 17,
     "metadata": {},
     "output_type": "execute_result"
    },
    {
     "data": {
      "image/png": "[encoded data removed]",
      "text/plain": [
       "<Figure size 432x288 with 1 Axes>"
      ]
     },
     "metadata": {
      "needs_background": "light"
     },
     "output_type": "display_data"
    }
   ],
   "source": [
    "plt.plot(range(iteration), losses)\n",
    "plt.ylabel(\"Loss\")\n",
    "plt.xlabel(\"iteration\")"
   ]
  },
  {
   "cell_type": "markdown",
   "id": "rubber-judge",
   "metadata": {},
   "source": [
    "### Download model"
   ]
  },
  {
   "cell_type": "code",
   "execution_count": 18,
   "id": "healthy-passion",
   "metadata": {},
   "outputs": [],
   "source": [
    "def get_local_model(model):\n",
    "    if not model.is_local:\n",
    "        local_model = model.get(\n",
    "            request_block=True,\n",
    "            reason=\"To run test and inference locally\",\n",
    "            timeout_secs=5,\n",
    "        )\n",
    "    else:\n",
    "        local_model = model\n",
    "\n",
    "    return local_model\n",
    "\n",
    "\n",
    "local_model = get_local_model(remote_model)"
   ]
  },
  {
   "cell_type": "markdown",
   "id": "smart-amateur",
   "metadata": {},
   "source": [
    "### Test on local data"
   ]
  },
  {
   "cell_type": "code",
   "execution_count": 19,
   "id": "generous-violin",
   "metadata": {},
   "outputs": [],
   "source": [
    "import torch\n",
    "import pandas as pd\n",
    "import numpy as np\n",
    "from sklearn.metrics import accuracy_score"
   ]
  },
  {
   "cell_type": "code",
   "execution_count": 20,
   "id": "minimal-management",
   "metadata": {},
   "outputs": [
    {
     "data": {
      "text/html": [
       "<div>\n",
       "<style scoped>\n",
       "    .dataframe tbody tr th:only-of-type {\n",
       "        vertical-align: middle;\n",
       "    }\n",
       "\n",
       "    .dataframe tbody tr th {\n",
       "        vertical-align: top;\n",
       "    }\n",
       "\n",
       "    .dataframe thead th {\n",
       "        text-align: right;\n",
       "    }\n",
       "</style>\n",
       "<table border=\"1\" class=\"dataframe\">\n",
       "  <thead>\n",
       "    <tr style=\"text-align: right;\">\n",
       "      <th></th>\n",
       "      <th>sepal length (cm)</th>\n",
       "      <th>sepal width (cm)</th>\n",
       "      <th>petal length (cm)</th>\n",
       "      <th>petal width (cm)</th>\n",
       "      <th>species</th>\n",
       "    </tr>\n",
       "  </thead>\n",
       "  <tbody>\n",
       "    <tr>\n",
       "      <th>0</th>\n",
       "      <td>5.8</td>\n",
       "      <td>4.0</td>\n",
       "      <td>1.2</td>\n",
       "      <td>0.2</td>\n",
       "      <td>0</td>\n",
       "    </tr>\n",
       "    <tr>\n",
       "      <th>1</th>\n",
       "      <td>5.7</td>\n",
       "      <td>4.4</td>\n",
       "      <td>1.5</td>\n",
       "      <td>0.4</td>\n",
       "      <td>0</td>\n",
       "    </tr>\n",
       "    <tr>\n",
       "      <th>2</th>\n",
       "      <td>6.0</td>\n",
       "      <td>2.7</td>\n",
       "      <td>5.1</td>\n",
       "      <td>1.6</td>\n",
       "      <td>1</td>\n",
       "    </tr>\n",
       "    <tr>\n",
       "      <th>3</th>\n",
       "      <td>6.0</td>\n",
       "      <td>2.9</td>\n",
       "      <td>4.5</td>\n",
       "      <td>1.5</td>\n",
       "      <td>1</td>\n",
       "    </tr>\n",
       "    <tr>\n",
       "      <th>4</th>\n",
       "      <td>5.8</td>\n",
       "      <td>2.7</td>\n",
       "      <td>5.1</td>\n",
       "      <td>1.9</td>\n",
       "      <td>2</td>\n",
       "    </tr>\n",
       "  </tbody>\n",
       "</table>\n",
       "</div>"
      ],
      "text/plain": [
       "   sepal length (cm)  sepal width (cm)  petal length (cm)  petal width (cm)  \\\n",
       "0                5.8               4.0                1.2               0.2   \n",
       "1                5.7               4.4                1.5               0.4   \n",
       "2                6.0               2.7                5.1               1.6   \n",
       "3                6.0               2.9                4.5               1.5   \n",
       "4                5.8               2.7                5.1               1.9   \n",
       "\n",
       "   species  \n",
       "0        0  \n",
       "1        0  \n",
       "2        1  \n",
       "3        1  \n",
       "4        2  "
      ]
     },
     "execution_count": 20,
     "metadata": {},
     "output_type": "execute_result"
    }
   ],
   "source": [
    "iris_test = pd.read_csv(\"./data/iris-test.csv\")\n",
    "iris_test.head()"
   ]
  },
  {
   "cell_type": "code",
   "execution_count": 21,
   "id": "explicit-resolution",
   "metadata": {},
   "outputs": [],
   "source": [
    "X_test = iris_test.loc[:, iris_test.columns != \"species\"]\n",
    "y_test = iris_test[\"species\"]"
   ]
  },
  {
   "cell_type": "code",
   "execution_count": 22,
   "id": "finnish-citation",
   "metadata": {},
   "outputs": [],
   "source": [
    "X_test = torch.FloatTensor(np.array(X_test))\n",
    "y_test = torch.LongTensor(np.array(y_test))"
   ]
  },
  {
   "cell_type": "code",
   "execution_count": 23,
   "id": "wicked-waste",
   "metadata": {
    "scrolled": true
   },
   "outputs": [
    {
     "name": "stdout",
     "output_type": "stream",
     "text": [
      "Prediction: 0 Ground Truth: 0\n",
      "Prediction: 0 Ground Truth: 0\n",
      "Prediction: 2 Ground Truth: 1\n",
      "Prediction: 1 Ground Truth: 1\n",
      "Prediction: 2 Ground Truth: 2\n",
      "Prediction: 0 Ground Truth: 0\n",
      "Prediction: 1 Ground Truth: 1\n",
      "Prediction: 0 Ground Truth: 0\n",
      "Prediction: 0 Ground Truth: 0\n",
      "Prediction: 2 Ground Truth: 2\n",
      "Prediction: 2 Ground Truth: 2\n",
      "Prediction: 2 Ground Truth: 2\n",
      "Prediction: 2 Ground Truth: 2\n",
      "Prediction: 2 Ground Truth: 2\n",
      "Prediction: 2 Ground Truth: 2\n",
      "Prediction: 1 Ground Truth: 1\n",
      "Prediction: 0 Ground Truth: 0\n",
      "Prediction: 1 Ground Truth: 1\n",
      "Prediction: 0 Ground Truth: 0\n",
      "Prediction: 0 Ground Truth: 0\n",
      "Prediction: 2 Ground Truth: 2\n",
      "Prediction: 2 Ground Truth: 2\n",
      "Prediction: 0 Ground Truth: 0\n",
      "Prediction: 2 Ground Truth: 2\n",
      "Prediction: 0 Ground Truth: 0\n",
      "Prediction: 0 Ground Truth: 0\n",
      "Prediction: 0 Ground Truth: 0\n",
      "Prediction: 0 Ground Truth: 0\n",
      "Prediction: 2 Ground Truth: 2\n",
      "Prediction: 2 Ground Truth: 2\n"
     ]
    }
   ],
   "source": [
    "preds = []\n",
    "with torch.no_grad():\n",
    "    for i in range(len(X_test)):\n",
    "        sample = X_test[i]\n",
    "        y_hat = local_model(sample.unsqueeze(0))\n",
    "        pred = y_hat.argmax().item()\n",
    "        print(f\"Prediction: {pred} Ground Truth: {y_test[i]}\")\n",
    "        preds.append(pred)"
   ]
  },
  {
   "cell_type": "code",
   "execution_count": 24,
   "id": "collaborative-beast",
   "metadata": {},
   "outputs": [
    {
     "name": "stdout",
     "output_type": "stream",
     "text": [
      "Overall test accuracy 96.66666666666667\n"
     ]
    }
   ],
   "source": [
    "acc = accuracy_score(y_test, preds)\n",
    "print(\"Overall test accuracy\", acc * 100)"
   ]
  },
  {
   "cell_type": "code",
   "execution_count": null,
   "id": "literary-venezuela",
   "metadata": {},
   "outputs": [],
   "source": []
  }
 ],
 "metadata": {
  "kernelspec": {
   "display_name": "Python 3 (ipykernel)",
   "language": "python",
   "name": "python3"
  },
  "language_info": {
   "codemirror_mode": {
    "name": "ipython",
    "version": 3
   },
   "file_extension": ".py",
   "mimetype": "text/x-python",
   "name": "python",
   "nbconvert_exporter": "python",
   "pygments_lexer": "ipython3",
   "version": "3.7.0"
  }
 },
 "nbformat": 4,
 "nbformat_minor": 5
}
