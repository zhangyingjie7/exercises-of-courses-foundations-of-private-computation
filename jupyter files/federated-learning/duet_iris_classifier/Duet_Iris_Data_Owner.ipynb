{
 "cells": [
  {
   "cell_type": "code",
   "execution_count": 1,
   "id": "unsigned-palace",
   "metadata": {},
   "outputs": [],
   "source": [
    "import syft as sy"
   ]
  },
  {
   "cell_type": "markdown",
   "id": "korean-bunch",
   "metadata": {},
   "source": [
    "# Part 1: Launch a Duet Server"
   ]
  },
  {
   "cell_type": "code",
   "execution_count": 2,
   "id": "plastic-ridge",
   "metadata": {
    "scrolled": true
   },
   "outputs": [
    {
     "name": "stdout",
     "output_type": "stream",
     "text": [
      "🎤  🎸  ♪♪♪ Starting Duet ♫♫♫  🎻  🎹\n",
      "\n",
      "♫♫♫ >\u001b[93m DISCLAIMER\u001b[0m: \u001b[1mDuet is an experimental feature currently in beta.\n",
      "♫♫♫ > Use at your own risk.\n",
      "\u001b[0m\n",
      "\u001b[1m\n",
      "    > ❤️ \u001b[91mLove\u001b[0m \u001b[92mDuet\u001b[0m? \u001b[93mPlease\u001b[0m \u001b[94mconsider\u001b[0m \u001b[95msupporting\u001b[0m \u001b[91mour\u001b[0m \u001b[93mcommunity!\u001b[0m\n",
      "    > https://github.com/sponsors/OpenMined\u001b[1m\n",
      "\n",
      "♫♫♫ > Punching through firewall to OpenGrid Network Node at:\n",
      "♫♫♫ > http://ec2-18-218-7-180.us-east-2.compute.amazonaws.com:5000\n",
      "♫♫♫ >\n",
      "♫♫♫ > ...waiting for response from OpenGrid Network... \n",
      "♫♫♫ > \u001b[92mDONE!\u001b[0m\n",
      "\n",
      "♫♫♫ > \u001b[95mSTEP 1:\u001b[0m Send the following code to your Duet Partner!\n",
      "\n",
      "import syft as sy\n",
      "duet = sy.join_duet(loopback=True)\n",
      "\n",
      "♫♫♫ > Connecting...\n"
     ]
    },
    {
     "name": "stderr",
     "output_type": "stream",
     "text": [
      "d:\\program files\\python\\python37\\tutorial-env\\lib\\site-packages\\aiortc\\rtcdtlstransport.py:211: CryptographyDeprecationWarning: This version of cryptography contains a temporary pyOpenSSL fallback path. Upgrade pyOpenSSL now.\n",
      "  _openssl_assert(lib.SSL_CTX_use_certificate(ctx, self._cert._x509) == 1)  # type: ignore\n",
      "d:\\program files\\python\\python37\\tutorial-env\\lib\\site-packages\\aiortc\\rtcdtlstransport.py:186: CryptographyDeprecationWarning: This version of cryptography contains a temporary pyOpenSSL fallback path. Upgrade pyOpenSSL now.\n",
      "  value=certificate_digest(self._cert._x509),  # type: ignore\n"
     ]
    },
    {
     "name": "stdout",
     "output_type": "stream",
     "text": [
      "\n",
      "♫♫♫ > \u001b[92mCONNECTED!\u001b[0m\n",
      "\n",
      "♫♫♫ > DUET LIVE STATUS  *  Objects: 8  Requests: 0   Messages: 1513  Request Handlers: 1                                 \r"
     ]
    }
   ],
   "source": [
    "duet = sy.launch_duet(loopback=True)"
   ]
  },
  {
   "cell_type": "markdown",
   "id": "wrapped-eligibility",
   "metadata": {},
   "source": [
    "# Part 2: Upload data to Duet Server"
   ]
  },
  {
   "cell_type": "markdown",
   "id": "christian-point",
   "metadata": {},
   "source": [
    "Let's say the data owner has a dataset of Iris flowers. He will upload the data to the duet server for other data scientists to use."
   ]
  },
  {
   "cell_type": "code",
   "execution_count": 3,
   "id": "understood-aging",
   "metadata": {},
   "outputs": [
    {
     "name": "stdout",
     "output_type": "stream",
     "text": [
      "♫♫♫ > DUET LIVE STATUS  -  Objects: 0  Requests: 0   Messages: 0  Request Handlers: 0                                \r"
     ]
    }
   ],
   "source": [
    "from sklearn import datasets\n",
    "import torch as th"
   ]
  },
  {
   "cell_type": "code",
   "execution_count": 4,
   "id": "employed-momentum",
   "metadata": {},
   "outputs": [],
   "source": [
    "iris = datasets.load_iris()\n",
    "X, y = iris.data, iris.target"
   ]
  },
  {
   "cell_type": "markdown",
   "id": "grand-differential",
   "metadata": {},
   "source": [
    "Flower species mappings:\n",
    "1. \"Iris-setosa\": 0,\n",
    "2. \"Iris-versicolor\": 1,\n",
    "3. \"Iris-virginica\": 2\n",
    "\n",
    "Flower features:\n",
    "1. sepal length (cm)\n",
    "2. sepal width (cm)\n",
    "3. petal length (cm)\n",
    "4. petal width (cm)"
   ]
  },
  {
   "cell_type": "code",
   "execution_count": 5,
   "id": "royal-hacker",
   "metadata": {},
   "outputs": [
    {
     "name": "stdout",
     "output_type": "stream",
     "text": [
      "data:\n",
      "[[5.1 3.5 1.4 0.2]\n",
      " [4.9 3.  1.4 0.2]\n",
      " [4.7 3.2 1.3 0.2]\n",
      " [4.6 3.1 1.5 0.2]\n",
      " [5.  3.6 1.4 0.2]]\n"
     ]
    }
   ],
   "source": [
    "print(\"data:\")\n",
    "print(X[0:5])"
   ]
  },
  {
   "cell_type": "code",
   "execution_count": 6,
   "id": "theoretical-ownership",
   "metadata": {},
   "outputs": [
    {
     "name": "stdout",
     "output_type": "stream",
     "text": [
      "target:\n",
      "[0 0 0 0 0 0 0 0 0 0 0 0 0 0 0 0 0 0 0 0 0 0 0 0 0 0 0 0 0 0 0 0 0 0 0 0 0\n",
      " 0 0 0 0 0 0 0 0 0 0 0 0 0 1 1 1 1 1 1 1 1 1 1 1 1 1 1 1 1 1 1 1 1 1 1 1 1\n",
      " 1 1 1 1 1 1 1 1 1 1 1 1 1 1 1 1 1 1 1 1 1 1 1 1 1 1 2 2 2 2 2 2 2 2 2 2 2\n",
      " 2 2 2 2 2 2 2 2 2 2 2 2 2 2 2 2 2 2 2 2 2 2 2 2 2 2 2 2 2 2 2 2 2 2 2 2 2\n",
      " 2 2]\n"
     ]
    }
   ],
   "source": [
    "print(\"target:\")\n",
    "print(y)"
   ]
  },
  {
   "cell_type": "code",
   "execution_count": 7,
   "id": "occasional-secretary",
   "metadata": {},
   "outputs": [
    {
     "name": "stdout",
     "output_type": "stream",
     "text": [
      "Length of dataset: 150\n"
     ]
    }
   ],
   "source": [
    "print(\"Length of dataset:\", len(X))"
   ]
  },
  {
   "cell_type": "code",
   "execution_count": 8,
   "id": "numerical-carry",
   "metadata": {},
   "outputs": [
    {
     "name": "stdout",
     "output_type": "stream",
     "text": [
      "<class 'numpy.ndarray'>\n"
     ]
    }
   ],
   "source": [
    "print(type(X))"
   ]
  },
  {
   "cell_type": "markdown",
   "id": "configured-growth",
   "metadata": {},
   "source": [
    "For doing machine learning using torch, we need the data to be converted to FloatTensors. Here, the data owner is explicitly doing the conversion before uploading the data. If he doesn't do that, it has to be converted in the data scientist's end as you've seen in the previous exercise."
   ]
  },
  {
   "cell_type": "code",
   "execution_count": 9,
   "id": "direct-sussex",
   "metadata": {},
   "outputs": [],
   "source": [
    "X = th.FloatTensor(X)\n",
    "y = th.FloatTensor(y)"
   ]
  },
  {
   "cell_type": "code",
   "execution_count": 19,
   "id": "flexible-canyon",
   "metadata": {},
   "outputs": [
    {
     "name": "stdout",
     "output_type": "stream",
     "text": [
      "<class 'torch.Tensor'>\n"
     ]
    }
   ],
   "source": [
    "print(type(X))"
   ]
  },
  {
   "cell_type": "code",
   "execution_count": 10,
   "id": "assured-clinton",
   "metadata": {},
   "outputs": [],
   "source": [
    "X = X.tag(\"iris-data\")\n",
    "y = y.tag(\"iris-target\")\n",
    "\n",
    "X = X.describe(\n",
    "    \"This is a dataset for flower classification of 150 samples. 4 Features are sepal length (cm),\" \n",
    "    \"sepal width (cm), petal length (cm), petal width (cm)\"\n",
    ")\n",
    "y = y.describe(\"Labels for flowers: Iris-setosa, Iris-versicolour, Iris-virginica\")"
   ]
  },
  {
   "cell_type": "code",
   "execution_count": 11,
   "id": "floating-kingston",
   "metadata": {},
   "outputs": [
    {
     "name": "stdout",
     "output_type": "stream",
     "text": [
      "`searchable` is deprecated please use `pointable` in future\n",
      "`searchable` is deprecated please use `pointable` in future\n"
     ]
    }
   ],
   "source": [
    "data_pointer = X.send(duet, searchable=True)\n",
    "target_pointer = y.send(duet, searchable=True)"
   ]
  },
  {
   "cell_type": "code",
   "execution_count": 12,
   "id": "italic-zoning",
   "metadata": {},
   "outputs": [
    {
     "data": {
      "text/plain": [
       "[<syft.proxy.torch.TensorPointer object at 0x00000249485BDC50>, <syft.proxy.torch.TensorPointer object at 0x00000249485BDDD8>]"
      ]
     },
     "execution_count": 12,
     "metadata": {},
     "output_type": "execute_result"
    }
   ],
   "source": [
    "# Once uploaded, the data owner can see the object stored in the tensor\n",
    "duet.store"
   ]
  },
  {
   "cell_type": "code",
   "execution_count": 13,
   "id": "dynamic-harrison",
   "metadata": {},
   "outputs": [
    {
     "data": {
      "text/html": [
       "<div>\n",
       "<style scoped>\n",
       "    .dataframe tbody tr th:only-of-type {\n",
       "        vertical-align: middle;\n",
       "    }\n",
       "\n",
       "    .dataframe tbody tr th {\n",
       "        vertical-align: top;\n",
       "    }\n",
       "\n",
       "    .dataframe thead th {\n",
       "        text-align: right;\n",
       "    }\n",
       "</style>\n",
       "<table border=\"1\" class=\"dataframe\">\n",
       "  <thead>\n",
       "    <tr style=\"text-align: right;\">\n",
       "      <th></th>\n",
       "      <th>ID</th>\n",
       "      <th>Tags</th>\n",
       "      <th>Description</th>\n",
       "      <th>object_type</th>\n",
       "    </tr>\n",
       "  </thead>\n",
       "  <tbody>\n",
       "    <tr>\n",
       "      <th>0</th>\n",
       "      <td>&lt;UID: 46727d02dc6b40d5b9f5f26e005e708f&gt;</td>\n",
       "      <td>[iris-data]</td>\n",
       "      <td>This is a dataset for flower classification of...</td>\n",
       "      <td>&lt;class 'torch.Tensor'&gt;</td>\n",
       "    </tr>\n",
       "    <tr>\n",
       "      <th>1</th>\n",
       "      <td>&lt;UID: de148fcfa2ac4958866d5b90c392322c&gt;</td>\n",
       "      <td>[iris-target]</td>\n",
       "      <td>Labels for flowers: Iris-setosa, Iris-versicol...</td>\n",
       "      <td>&lt;class 'torch.Tensor'&gt;</td>\n",
       "    </tr>\n",
       "  </tbody>\n",
       "</table>\n",
       "</div>"
      ],
      "text/plain": [
       "                                        ID           Tags  \\\n",
       "0  <UID: 46727d02dc6b40d5b9f5f26e005e708f>    [iris-data]   \n",
       "1  <UID: de148fcfa2ac4958866d5b90c392322c>  [iris-target]   \n",
       "\n",
       "                                         Description             object_type  \n",
       "0  This is a dataset for flower classification of...  <class 'torch.Tensor'>  \n",
       "1  Labels for flowers: Iris-setosa, Iris-versicol...  <class 'torch.Tensor'>  "
      ]
     },
     "execution_count": 13,
     "metadata": {},
     "output_type": "execute_result"
    }
   ],
   "source": [
    "# To see it in a human-readable format, data owner can also pretty-print the tensor information\n",
    "duet.store.pandas"
   ]
  },
  {
   "cell_type": "markdown",
   "id": "extreme-specific",
   "metadata": {},
   "source": [
    "# Part 3: Response to requests coming from Data Scientist"
   ]
  },
  {
   "cell_type": "markdown",
   "id": "about-career",
   "metadata": {},
   "source": [
    "The data owner can add requests to be accepted or denied by adding them to request handlers. If he doesn't specify a `name`, then all the requests will be accepted."
   ]
  },
  {
   "cell_type": "code",
   "execution_count": 14,
   "id": "operational-exercise",
   "metadata": {},
   "outputs": [],
   "source": [
    "duet.requests.add_handler(action=\"accept\")"
   ]
  },
  {
   "cell_type": "markdown",
   "id": "incident-intervention",
   "metadata": {},
   "source": [
    "### <img src=\"https://github.com/OpenMined/design-assets/raw/master/logos/OM/mark-primary-light.png\" alt=\"he-black-box\" width=\"100\"/> Checkpoint 1 : Well done!"
   ]
  }
 ],
 "metadata": {
  "kernelspec": {
   "display_name": "Python 3 (ipykernel)",
   "language": "python",
   "name": "python3"
  },
  "language_info": {
   "codemirror_mode": {
    "name": "ipython",
    "version": 3
   },
   "file_extension": ".py",
   "mimetype": "text/x-python",
   "name": "python",
   "nbconvert_exporter": "python",
   "pygments_lexer": "ipython3",
   "version": "3.7.0"
  }
 },
 "nbformat": 4,
 "nbformat_minor": 5
}
