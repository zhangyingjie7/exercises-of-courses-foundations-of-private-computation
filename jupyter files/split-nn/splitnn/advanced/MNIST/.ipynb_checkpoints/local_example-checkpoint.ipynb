{
 "cells": [
  {
   "cell_type": "code",
   "execution_count": 19,
   "id": "interracial-myanmar",
   "metadata": {},
   "outputs": [],
   "source": [
    "from torchvision import datasets\n",
    "from torchvision import transforms\n",
    "from torch import nn\n",
    "import syft as sy\n",
    "import torch\n",
    "\n",
    "from six.moves import urllib\n",
    "opener = urllib.request.build_opener()\n",
    "opener.addheaders = [('User-agent', 'Mozilla/5.0')]\n",
    "urllib.request.install_opener(opener)\n",
    "\n",
    "transform = transforms.Compose([transforms.ToTensor(),\n",
    "                              transforms.Normalize((0.5,), (0.5,)),\n",
    "                              ])\n",
    "trainset = datasets.MNIST('mnist', download=True, train=True, transform=transform)\n",
    "# valset = datasets.MNIST('mnist', download=True, train=False, transform=transform)\n",
    "\n",
    "\n",
    "#Take first n images\n",
    "data = trainset.data.view(trainset.data.shape[0], -1).float()\n",
    "data = data\n",
    "dataloader = torch.utils.data.DataLoader(data, batch_size=1024)\n",
    "\n",
    "#Take first n targets\n",
    "targets = trainset.targets\n",
    "targetloader = torch.utils.data.DataLoader(targets, batch_size=1024)"
   ]
  },
  {
   "cell_type": "code",
   "execution_count": 20,
   "id": "configured-anthropology",
   "metadata": {
    "scrolled": true
   },
   "outputs": [
    {
     "name": "stdout",
     "output_type": "stream",
     "text": [
      "tensor(0)\n"
     ]
    },
    {
     "data": {
      "image/png": "[encoded data removed]",
      "text/plain": [
       "<Figure size 432x288 with 1 Axes>"
      ]
     },
     "metadata": {
      "needs_background": "light"
     },
     "output_type": "display_data"
    }
   ],
   "source": [
    "#Images are aligned\n",
    "import matplotlib.pyplot as plt\n",
    "\n",
    "plt.imshow(trainset.data[1].numpy().squeeze(), cmap='gray_r')\n",
    "print(targets[1])"
   ]
  },
  {
   "cell_type": "code",
   "execution_count": 21,
   "id": "returning-shield",
   "metadata": {},
   "outputs": [],
   "source": [
    "#Deploy same model as original tutorial\n",
    "\n",
    "input_size = 784\n",
    "hidden_sizes = [128, 640]\n",
    "output_size = 10\n",
    "\n",
    "class SyNet_client(sy.Module):\n",
    "    def __init__(self, torch_ref):\n",
    "        super(SyNet_client, self).__init__(torch_ref=torch_ref)\n",
    "        self.lin1 = nn.Linear(input_size, hidden_sizes[0])\n",
    "        self.lin2 = nn.Linear(hidden_sizes[0], hidden_sizes[1])\n",
    "        \n",
    "    def forward(self, x):\n",
    "        x = self.lin1(x)\n",
    "        x = self.torch_ref.nn.functional.relu(x)\n",
    "        x = self.lin2(x)\n",
    "        x = self.torch_ref.nn.functional.relu(x)\n",
    "        return x\n",
    "    \n",
    "class SyNet_server(sy.Module):\n",
    "    def __init__(self, torch_ref):\n",
    "        super(SyNet_server, self).__init__(torch_ref=torch_ref)\n",
    "        self.lin3 = nn.Linear(hidden_sizes[1], output_size)\n",
    "        self.sft = nn.LogSoftmax(dim=1) \n",
    "        \n",
    "    def forward(self, x):\n",
    "        x = self.lin3(x)\n",
    "        x = self.sft(x)\n",
    "        return x"
   ]
  },
  {
   "cell_type": "code",
   "execution_count": 22,
   "id": "manufactured-junction",
   "metadata": {},
   "outputs": [],
   "source": [
    "#Model 1\n",
    "model1 = SyNet_client(torch)\n",
    "# model1_ptr = model1.send(duet)\n",
    "opt1 = torch.optim.SGD(params=model1.parameters(),lr=0.3)\n",
    "\n",
    "#Model 2\n",
    "model2 = SyNet_server(torch)\n",
    "opt2 = torch.optim.SGD(params=model2.parameters(),lr=0.3)"
   ]
  },
  {
   "cell_type": "code",
   "execution_count": 23,
   "id": "buried-custom",
   "metadata": {},
   "outputs": [
    {
     "name": "stdout",
     "output_type": "stream",
     "text": [
      "tensor(13.2089, grad_fn=<NllLossBackward>)\n",
      "tensor(474930.3438, grad_fn=<NllLossBackward>)\n",
      "tensor(2.0354e+08, grad_fn=<NllLossBackward>)\n",
      "tensor(12150485., grad_fn=<NllLossBackward>)\n",
      "tensor(1832.1757, grad_fn=<NllLossBackward>)\n",
      "tensor(5.6498, grad_fn=<NllLossBackward>)\n",
      "tensor(2.8869, grad_fn=<NllLossBackward>)\n",
      "tensor(2.6026, grad_fn=<NllLossBackward>)\n",
      "tensor(2.3981, grad_fn=<NllLossBackward>)\n",
      "tensor(2.3399, grad_fn=<NllLossBackward>)\n",
      "tensor(3.1032, grad_fn=<NllLossBackward>)\n",
      "tensor(2.3155, grad_fn=<NllLossBackward>)\n",
      "tensor(2.3156, grad_fn=<NllLossBackward>)\n",
      "tensor(2.3117, grad_fn=<NllLossBackward>)\n",
      "tensor(2.3097, grad_fn=<NllLossBackward>)\n",
      "tensor(2.3101, grad_fn=<NllLossBackward>)\n",
      "tensor(2.3111, grad_fn=<NllLossBackward>)\n",
      "tensor(2.3038, grad_fn=<NllLossBackward>)\n",
      "tensor(2.3091, grad_fn=<NllLossBackward>)\n",
      "tensor(2.3086, grad_fn=<NllLossBackward>)\n",
      "tensor(2.3054, grad_fn=<NllLossBackward>)\n",
      "tensor(2.3073, grad_fn=<NllLossBackward>)\n",
      "tensor(2.3017, grad_fn=<NllLossBackward>)\n",
      "tensor(2.3055, grad_fn=<NllLossBackward>)\n",
      "tensor(2.3020, grad_fn=<NllLossBackward>)\n",
      "tensor(2.3036, grad_fn=<NllLossBackward>)\n",
      "tensor(2.3044, grad_fn=<NllLossBackward>)\n",
      "tensor(2.3038, grad_fn=<NllLossBackward>)\n",
      "tensor(2.3047, grad_fn=<NllLossBackward>)\n",
      "tensor(2.3065, grad_fn=<NllLossBackward>)\n",
      "tensor(2.3037, grad_fn=<NllLossBackward>)\n",
      "tensor(2.3025, grad_fn=<NllLossBackward>)\n",
      "tensor(2.3022, grad_fn=<NllLossBackward>)\n",
      "tensor(2.3056, grad_fn=<NllLossBackward>)\n",
      "tensor(2.3031, grad_fn=<NllLossBackward>)\n",
      "tensor(310.2244, grad_fn=<NllLossBackward>)\n",
      "tensor(2.3024, grad_fn=<NllLossBackward>)\n",
      "tensor(2.3010, grad_fn=<NllLossBackward>)\n",
      "tensor(2.3024, grad_fn=<NllLossBackward>)\n",
      "tensor(2.3037, grad_fn=<NllLossBackward>)\n",
      "tensor(2.3017, grad_fn=<NllLossBackward>)\n",
      "tensor(2.3022, grad_fn=<NllLossBackward>)\n",
      "tensor(2.3044, grad_fn=<NllLossBackward>)\n",
      "tensor(2.3049, grad_fn=<NllLossBackward>)\n",
      "tensor(2.3038, grad_fn=<NllLossBackward>)\n",
      "tensor(2.3027, grad_fn=<NllLossBackward>)\n",
      "tensor(2.2995, grad_fn=<NllLossBackward>)\n",
      "tensor(2.3030, grad_fn=<NllLossBackward>)\n",
      "tensor(2.3043, grad_fn=<NllLossBackward>)\n",
      "tensor(2.3039, grad_fn=<NllLossBackward>)\n",
      "tensor(2.3034, grad_fn=<NllLossBackward>)\n",
      "tensor(2.3004, grad_fn=<NllLossBackward>)\n",
      "tensor(2.3042, grad_fn=<NllLossBackward>)\n",
      "tensor(2.3032, grad_fn=<NllLossBackward>)\n",
      "tensor(2.3044, grad_fn=<NllLossBackward>)\n",
      "tensor(2.3030, grad_fn=<NllLossBackward>)\n",
      "tensor(2.3013, grad_fn=<NllLossBackward>)\n",
      "tensor(2.3026, grad_fn=<NllLossBackward>)\n",
      "tensor(2.3019, grad_fn=<NllLossBackward>)\n"
     ]
    }
   ],
   "source": [
    "for image, target in zip(dataloader, targetloader):    \n",
    "    opt1.zero_grad()\n",
    "    opt2.zero_grad()\n",
    "    \n",
    "    activation = model1(image)\n",
    "    pred = model2(activation)\n",
    "    \n",
    "    loss = torch.nn.functional.nll_loss(pred, target)\n",
    "    loss.backward()\n",
    "    \n",
    "    opt1.step()\n",
    "    opt2.step()\n",
    "    \n",
    "    print(loss)\n"
   ]
  },
  {
   "cell_type": "code",
   "execution_count": null,
   "id": "descending-exercise",
   "metadata": {},
   "outputs": [],
   "source": []
  },
  {
   "cell_type": "code",
   "execution_count": null,
   "id": "declared-replacement",
   "metadata": {},
   "outputs": [],
   "source": []
  }
 ],
 "metadata": {
  "kernelspec": {
   "display_name": "Python 3",
   "language": "python",
   "name": "python3"
  },
  "language_info": {
   "codemirror_mode": {
    "name": "ipython",
    "version": 3
   },
   "file_extension": ".py",
   "mimetype": "text/x-python",
   "name": "python",
   "nbconvert_exporter": "python",
   "pygments_lexer": "ipython3",
   "version": "3.8.5"
  }
 },
 "nbformat": 4,
 "nbformat_minor": 5
}
