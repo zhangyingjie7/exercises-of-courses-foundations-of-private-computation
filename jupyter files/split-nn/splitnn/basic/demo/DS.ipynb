{
 "cells": [
  {
   "cell_type": "code",
   "execution_count": 1,
   "id": "settled-arctic",
   "metadata": {},
   "outputs": [
    {
     "name": "stdout",
     "output_type": "stream",
     "text": [
      "🎤  🎸  ♪♪♪ Joining Duet ♫♫♫  🎻  🎹\n",
      "\n",
      "♫♫♫ >\u001b[93m DISCLAIMER\u001b[0m: \u001b[1mDuet is an experimental feature currently in beta.\n",
      "♫♫♫ > Use at your own risk.\n",
      "\u001b[0m\n",
      "\u001b[1m\n",
      "    > ❤️ \u001b[91mLove\u001b[0m \u001b[92mDuet\u001b[0m? \u001b[93mPlease\u001b[0m \u001b[94mconsider\u001b[0m \u001b[95msupporting\u001b[0m \u001b[91mour\u001b[0m \u001b[93mcommunity!\u001b[0m\n",
      "    > https://github.com/sponsors/OpenMined\u001b[1m\n",
      "\n",
      "♫♫♫ > Punching through firewall to OpenGrid Network Node at:\n",
      "♫♫♫ > http://ec2-18-218-7-180.us-east-2.compute.amazonaws.com:5000\n",
      "♫♫♫ >\n",
      "♫♫♫ > ...waiting for response from OpenGrid Network... \n",
      "♫♫♫ > \u001b[92mDONE!\u001b[0m\n"
     ]
    },
    {
     "name": "stderr",
     "output_type": "stream",
     "text": [
      "d:\\program files\\python\\python37\\tutorial-env\\lib\\site-packages\\aiortc\\rtcdtlstransport.py:211: CryptographyDeprecationWarning: This version of cryptography contains a temporary pyOpenSSL fallback path. Upgrade pyOpenSSL now.\n",
      "  _openssl_assert(lib.SSL_CTX_use_certificate(ctx, self._cert._x509) == 1)  # type: ignore\n",
      "d:\\program files\\python\\python37\\tutorial-env\\lib\\site-packages\\aiortc\\rtcdtlstransport.py:186: CryptographyDeprecationWarning: This version of cryptography contains a temporary pyOpenSSL fallback path. Upgrade pyOpenSSL now.\n",
      "  value=certificate_digest(self._cert._x509),  # type: ignore\n"
     ]
    },
    {
     "name": "stdout",
     "output_type": "stream",
     "text": [
      "\n",
      "♫♫♫ > \u001b[92mCONNECTED!\u001b[0m\n"
     ]
    }
   ],
   "source": [
    "import syft as sy\n",
    "duet = sy.join_duet(loopback=True)"
   ]
  },
  {
   "cell_type": "code",
   "execution_count": 2,
   "id": "embedded-decrease",
   "metadata": {},
   "outputs": [],
   "source": [
    "class SyNet(sy.Module):\n",
    "    def __init__(self, torch_ref):\n",
    "        super(SyNet, self).__init__(torch_ref=torch_ref)\n",
    "        self.lin = self.torch_ref.nn.Linear(2,2)\n",
    "\n",
    "    def forward(self, x):\n",
    "        x = self.lin(x)\n",
    "        return x"
   ]
  },
  {
   "cell_type": "code",
   "execution_count": 3,
   "id": "adolescent-sailing",
   "metadata": {},
   "outputs": [],
   "source": [
    "import torch\n",
    "model1 = SyNet(torch)\n",
    "model1_ptr = model1.send(duet)"
   ]
  },
  {
   "cell_type": "code",
   "execution_count": 4,
   "id": "related-estonia",
   "metadata": {},
   "outputs": [],
   "source": [
    "opt1 = duet.torch.optim.SGD(params=model1_ptr.parameters(),lr=0.1)"
   ]
  },
  {
   "cell_type": "code",
   "execution_count": 5,
   "id": "enhanced-evanescence",
   "metadata": {},
   "outputs": [
    {
     "data": {
      "text/html": [
       "<div>\n",
       "<style scoped>\n",
       "    .dataframe tbody tr th:only-of-type {\n",
       "        vertical-align: middle;\n",
       "    }\n",
       "\n",
       "    .dataframe tbody tr th {\n",
       "        vertical-align: top;\n",
       "    }\n",
       "\n",
       "    .dataframe thead th {\n",
       "        text-align: right;\n",
       "    }\n",
       "</style>\n",
       "<table border=\"1\" class=\"dataframe\">\n",
       "  <thead>\n",
       "    <tr style=\"text-align: right;\">\n",
       "      <th></th>\n",
       "      <th>ID</th>\n",
       "      <th>Tags</th>\n",
       "      <th>Description</th>\n",
       "      <th>object_type</th>\n",
       "    </tr>\n",
       "  </thead>\n",
       "  <tbody>\n",
       "    <tr>\n",
       "      <th>0</th>\n",
       "      <td>&lt;UID: b76b3d1b212647f7b74718eb16d969d7&gt;</td>\n",
       "      <td>[dataset]</td>\n",
       "      <td>simple binary dataset</td>\n",
       "      <td>&lt;class 'torch.Tensor'&gt;</td>\n",
       "    </tr>\n",
       "  </tbody>\n",
       "</table>\n",
       "</div>"
      ],
      "text/plain": [
       "                                        ID       Tags            Description  \\\n",
       "0  <UID: b76b3d1b212647f7b74718eb16d969d7>  [dataset]  simple binary dataset   \n",
       "\n",
       "              object_type  \n",
       "0  <class 'torch.Tensor'>  "
      ]
     },
     "execution_count": 5,
     "metadata": {},
     "output_type": "execute_result"
    }
   ],
   "source": [
    "duet.store.pandas"
   ]
  },
  {
   "cell_type": "code",
   "execution_count": 6,
   "id": "later-magazine",
   "metadata": {},
   "outputs": [],
   "source": [
    "data_pointer = duet.store[0]"
   ]
  },
  {
   "cell_type": "code",
   "execution_count": 7,
   "id": "dramatic-scoop",
   "metadata": {},
   "outputs": [],
   "source": [
    "model2 = torch.nn.Linear(2,1)\n",
    "opt2 = torch.optim.SGD(params=model2.parameters(), lr=0.1)\n",
    "\n",
    "target = torch.tensor([[0],[0],[1],[1.]])"
   ]
  },
  {
   "cell_type": "code",
   "execution_count": 8,
   "id": "thermal-champion",
   "metadata": {},
   "outputs": [
    {
     "name": "stdout",
     "output_type": "stream",
     "text": [
      "tensor(2.8811, grad_fn=<SumBackward0>)\n",
      "tensor(1.9899, grad_fn=<SumBackward0>)\n",
      "tensor(1.6243, grad_fn=<SumBackward0>)\n",
      "tensor(1.2836, grad_fn=<SumBackward0>)\n",
      "tensor(1.1335, grad_fn=<SumBackward0>)\n",
      "tensor(1.0344, grad_fn=<SumBackward0>)\n",
      "tensor(0.9573, grad_fn=<SumBackward0>)\n",
      "tensor(0.8847, grad_fn=<SumBackward0>)\n",
      "tensor(0.8083, grad_fn=<SumBackward0>)\n",
      "tensor(0.7234, grad_fn=<SumBackward0>)\n",
      "tensor(0.6279, grad_fn=<SumBackward0>)\n",
      "tensor(0.5229, grad_fn=<SumBackward0>)\n",
      "tensor(0.4129, grad_fn=<SumBackward0>)\n",
      "tensor(0.3055, grad_fn=<SumBackward0>)\n",
      "tensor(0.2097, grad_fn=<SumBackward0>)\n",
      "tensor(0.1325, grad_fn=<SumBackward0>)\n",
      "tensor(0.0770, grad_fn=<SumBackward0>)\n",
      "tensor(0.0413, grad_fn=<SumBackward0>)\n",
      "tensor(0.0206, grad_fn=<SumBackward0>)\n",
      "tensor(0.0097, grad_fn=<SumBackward0>)\n"
     ]
    }
   ],
   "source": [
    "for iter in range(20):\n",
    "    opt1.zero_grad()\n",
    "    opt2.zero_grad()\n",
    "    \n",
    "    activation_ptr = model1_ptr(data_pointer)\n",
    "    activation = activation_ptr.clone().get(request_block=True)\n",
    "    \n",
    "    pred = model2(activation)\n",
    "    loss = ((pred - target)**2).sum()\n",
    "    loss.backward()\n",
    "    \n",
    "    grad_ptr = activation.grad.clone().send(duet)\n",
    "    activation_ptr.backward(grad_ptr)\n",
    "    \n",
    "    opt1.step()\n",
    "    opt2.step()\n",
    "    \n",
    "    print(loss)\n"
   ]
  },
  {
   "cell_type": "code",
   "execution_count": null,
   "id": "eastern-train",
   "metadata": {},
   "outputs": [],
   "source": []
  }
 ],
 "metadata": {
  "kernelspec": {
   "display_name": "Python 3 (ipykernel)",
   "language": "python",
   "name": "python3"
  },
  "language_info": {
   "codemirror_mode": {
    "name": "ipython",
    "version": 3
   },
   "file_extension": ".py",
   "mimetype": "text/x-python",
   "name": "python",
   "nbconvert_exporter": "python",
   "pygments_lexer": "ipython3",
   "version": "3.7.0"
  }
 },
 "nbformat": 4,
 "nbformat_minor": 5
}
