{
 "cells": [
  {
   "cell_type": "code",
   "execution_count": 1,
   "id": "brave-punishment",
   "metadata": {
    "scrolled": true
   },
   "outputs": [
    {
     "name": "stdout",
     "output_type": "stream",
     "text": [
      "🎤  🎸  ♪♪♪ Starting Duet ♫♫♫  🎻  🎹\n",
      "\n",
      "♫♫♫ >\u001b[93m DISCLAIMER\u001b[0m: \u001b[1mDuet is an experimental feature currently in beta.\n",
      "♫♫♫ > Use at your own risk.\n",
      "\u001b[0m\n",
      "\u001b[1m\n",
      "    > ❤️ \u001b[91mLove\u001b[0m \u001b[92mDuet\u001b[0m? \u001b[93mPlease\u001b[0m \u001b[94mconsider\u001b[0m \u001b[95msupporting\u001b[0m \u001b[91mour\u001b[0m \u001b[93mcommunity!\u001b[0m\n",
      "    > https://github.com/sponsors/OpenMined\u001b[1m\n",
      "\n",
      "♫♫♫ > Punching through firewall to OpenGrid Network Node at:\n",
      "♫♫♫ > http://ec2-18-218-7-180.us-east-2.compute.amazonaws.com:5000\n",
      "♫♫♫ >\n",
      "♫♫♫ > ...waiting for response from OpenGrid Network... \n",
      "♫♫♫ > \u001b[92mDONE!\u001b[0m\n",
      "\n",
      "♫♫♫ > \u001b[95mSTEP 1:\u001b[0m Send the following code to your Duet Partner!\n",
      "\n",
      "import syft as sy\n",
      "duet = sy.join_duet(loopback=True)\n",
      "\n",
      "♫♫♫ > Connecting...\n"
     ]
    },
    {
     "name": "stderr",
     "output_type": "stream",
     "text": [
      "d:\\program files\\python\\python37\\tutorial-env\\lib\\site-packages\\aiortc\\rtcdtlstransport.py:211: CryptographyDeprecationWarning: This version of cryptography contains a temporary pyOpenSSL fallback path. Upgrade pyOpenSSL now.\n",
      "  _openssl_assert(lib.SSL_CTX_use_certificate(ctx, self._cert._x509) == 1)  # type: ignore\n",
      "d:\\program files\\python\\python37\\tutorial-env\\lib\\site-packages\\aiortc\\rtcdtlstransport.py:186: CryptographyDeprecationWarning: This version of cryptography contains a temporary pyOpenSSL fallback path. Upgrade pyOpenSSL now.\n",
      "  value=certificate_digest(self._cert._x509),  # type: ignore\n"
     ]
    },
    {
     "name": "stdout",
     "output_type": "stream",
     "text": [
      "\n",
      "♫♫♫ > \u001b[92mCONNECTED!\u001b[0m\n",
      "\n",
      "♫♫♫ > DUET LIVE STATUS  -  Objects: 4  Requests: 0   Messages: 37  Request Handlers: 1                                \r"
     ]
    }
   ],
   "source": [
    "import syft as sy\n",
    "duet = sy.duet(loopback=True)"
   ]
  },
  {
   "cell_type": "code",
   "execution_count": 2,
   "id": "timely-circus",
   "metadata": {},
   "outputs": [
    {
     "name": "stdout",
     "output_type": "stream",
     "text": [
      "`searchable` is deprecated please use `pointable` in future\n"
     ]
    }
   ],
   "source": [
    "import torch \n",
    "\n",
    "data = torch.tensor([[1.], [1.], [0.], [0]])\n",
    "data_pointer = data.send(duet, tags=[\"dataset\"], description=\"Split 1\", searchable=True)\n",
    "\n",
    "duet.requests.add_handler(action=\"accept\")"
   ]
  },
  {
   "cell_type": "code",
   "execution_count": 3,
   "id": "expected-indianapolis",
   "metadata": {},
   "outputs": [
    {
     "data": {
      "text/html": [
       "<div>\n",
       "<style scoped>\n",
       "    .dataframe tbody tr th:only-of-type {\n",
       "        vertical-align: middle;\n",
       "    }\n",
       "\n",
       "    .dataframe tbody tr th {\n",
       "        vertical-align: top;\n",
       "    }\n",
       "\n",
       "    .dataframe thead th {\n",
       "        text-align: right;\n",
       "    }\n",
       "</style>\n",
       "<table border=\"1\" class=\"dataframe\">\n",
       "  <thead>\n",
       "    <tr style=\"text-align: right;\">\n",
       "      <th></th>\n",
       "      <th>ID</th>\n",
       "      <th>Tags</th>\n",
       "      <th>Description</th>\n",
       "      <th>object_type</th>\n",
       "    </tr>\n",
       "  </thead>\n",
       "  <tbody>\n",
       "    <tr>\n",
       "      <th>0</th>\n",
       "      <td>&lt;UID: 684a9e45e5b646a19bbe63ea07c1467a&gt;</td>\n",
       "      <td>[dataset]</td>\n",
       "      <td>Split 1</td>\n",
       "      <td>&lt;class 'torch.Tensor'&gt;</td>\n",
       "    </tr>\n",
       "  </tbody>\n",
       "</table>\n",
       "</div>"
      ],
      "text/plain": [
       "                                        ID       Tags Description  \\\n",
       "0  <UID: 684a9e45e5b646a19bbe63ea07c1467a>  [dataset]     Split 1   \n",
       "\n",
       "              object_type  \n",
       "0  <class 'torch.Tensor'>  "
      ]
     },
     "execution_count": 3,
     "metadata": {},
     "output_type": "execute_result"
    },
    {
     "name": "stderr",
     "output_type": "stream",
     "text": [
      "[2021-12-15T15:03:38.703939+0800][CRITICAL][logger]][9004] <class 'syft.core.store.store_memory.MemoryStore'> __getitem__ error <UID: b000e1d44147462bb2f37649d55a1a8d> <UID: b000e1d44147462bb2f37649d55a1a8d>\n",
      "[2021-12-15T15:03:38.704942+0800][CRITICAL][logger]][9004] <UID: b000e1d44147462bb2f37649d55a1a8d>\n",
      "[2021-12-15T15:03:38.704942+0800][CRITICAL][logger]][9004] <UID: b000e1d44147462bb2f37649d55a1a8d>\n",
      "[2021-12-15T15:03:38.705937+0800][CRITICAL][logger]][9004] <UID: b000e1d44147462bb2f37649d55a1a8d>\n",
      "Exception in callback AsyncIOEventEmitter._emit_run.<locals>._callback(<Task finishe...649d55a1a8d>)>) at d:\\program files\\python\\python37\\tutorial-env\\lib\\site-packages\\pyee\\_asyncio.py:57\n",
      "handle: <Handle AsyncIOEventEmitter._emit_run.<locals>._callback(<Task finishe...649d55a1a8d>)>) at d:\\program files\\python\\python37\\tutorial-env\\lib\\site-packages\\pyee\\_asyncio.py:57>\n",
      "Traceback (most recent call last):\n",
      "  File \"D:\\program files\\python\\python37\\lib\\asyncio\\events.py\", line 88, in _run\n",
      "    self._context.run(self._callback, *self._args)\n",
      "  File \"d:\\program files\\python\\python37\\tutorial-env\\lib\\site-packages\\pyee\\_asyncio.py\", line 64, in _callback\n",
      "    self.emit(\"error\", exc)\n",
      "  File \"d:\\program files\\python\\python37\\tutorial-env\\lib\\site-packages\\pyee\\_base.py\", line 118, in emit\n",
      "    self._emit_handle_potential_error(event, args[0] if args else None)\n",
      "  File \"d:\\program files\\python\\python37\\tutorial-env\\lib\\site-packages\\pyee\\_base.py\", line 88, in _emit_handle_potential_error\n",
      "    raise error\n",
      "  File \"D:\\program files\\python\\python37\\lib\\asyncio\\tasks.py\", line 219, in __step\n",
      "    result = coro.send(None)\n",
      "  File \"d:\\program files\\python\\python37\\tutorial-env\\lib\\site-packages\\syft\\grid\\connections\\webrtc.py\", line 233, in on_message\n",
      "    await self.consumer(msg=message)\n",
      "  File \"d:\\program files\\python\\python37\\tutorial-env\\lib\\site-packages\\syft\\grid\\connections\\webrtc.py\", line 449, in consumer\n",
      "    traceback_and_raise(e)\n",
      "  File \"d:\\program files\\python\\python37\\tutorial-env\\lib\\site-packages\\syft\\logger.py\", line 61, in traceback_and_raise\n",
      "    raise e\n",
      "  File \"d:\\program files\\python\\python37\\tutorial-env\\lib\\site-packages\\syft\\grid\\connections\\webrtc.py\", line 434, in consumer\n",
      "    self.recv_immediate_msg_without_reply(msg=_msg)\n",
      "  File \"d:\\program files\\python\\python37\\tutorial-env\\lib\\site-packages\\syft\\grid\\connections\\webrtc.py\", line 490, in recv_immediate_msg_without_reply\n",
      "    traceback_and_raise(e)\n",
      "  File \"d:\\program files\\python\\python37\\tutorial-env\\lib\\site-packages\\syft\\logger.py\", line 61, in traceback_and_raise\n",
      "    raise e\n",
      "  File \"d:\\program files\\python\\python37\\tutorial-env\\lib\\site-packages\\syft\\grid\\connections\\webrtc.py\", line 485, in recv_immediate_msg_without_reply\n",
      "    self.node.recv_immediate_msg_without_reply(msg=msg)\n",
      "  File \"d:\\program files\\python\\python37\\tutorial-env\\lib\\site-packages\\syft\\core\\node\\common\\node.py\", line 399, in recv_immediate_msg_without_reply\n",
      "    self.process_message(msg=msg, router=self.immediate_msg_without_reply_router)\n",
      "  File \"d:\\program files\\python\\python37\\tutorial-env\\lib\\site-packages\\syft\\core\\node\\common\\node.py\", line 484, in process_message\n",
      "    verify_key=msg.verify_key,\n",
      "  File \"d:\\program files\\python\\python37\\tutorial-env\\lib\\site-packages\\syft\\core\\node\\common\\service\\obj_action_service.py\", line 27, in process\n",
      "    msg.execute_action(node=node, verify_key=verify_key)\n",
      "  File \"d:\\program files\\python\\python37\\tutorial-env\\lib\\site-packages\\syft\\core\\node\\common\\action\\function_or_constructor_action.py\", line 112, in execute_action\n",
      "    r_arg = node.store[arg.id_at_location]\n",
      "  File \"d:\\program files\\python\\python37\\tutorial-env\\lib\\site-packages\\syft\\core\\store\\store_memory.py\", line 66, in __getitem__\n",
      "    traceback_and_raise(e)\n",
      "  File \"d:\\program files\\python\\python37\\tutorial-env\\lib\\site-packages\\syft\\logger.py\", line 61, in traceback_and_raise\n",
      "    raise e\n",
      "  File \"d:\\program files\\python\\python37\\tutorial-env\\lib\\site-packages\\syft\\core\\store\\store_memory.py\", line 63, in __getitem__\n",
      "    return self._objects[key]\n",
      "KeyError: <UID: b000e1d44147462bb2f37649d55a1a8d>\n"
     ]
    }
   ],
   "source": [
    "duet.store.pandas"
   ]
  },
  {
   "cell_type": "code",
   "execution_count": null,
   "id": "conscious-purpose",
   "metadata": {},
   "outputs": [],
   "source": []
  }
 ],
 "metadata": {
  "kernelspec": {
   "display_name": "Python 3 (ipykernel)",
   "language": "python",
   "name": "python3"
  },
  "language_info": {
   "codemirror_mode": {
    "name": "ipython",
    "version": 3
   },
   "file_extension": ".py",
   "mimetype": "text/x-python",
   "name": "python",
   "nbconvert_exporter": "python",
   "pygments_lexer": "ipython3",
   "version": "3.7.0"
  }
 },
 "nbformat": 4,
 "nbformat_minor": 5
}
