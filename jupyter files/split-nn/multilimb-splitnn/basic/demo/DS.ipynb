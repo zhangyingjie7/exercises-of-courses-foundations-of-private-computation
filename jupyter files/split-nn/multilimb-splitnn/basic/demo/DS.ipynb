{
 "cells": [
  {
   "cell_type": "code",
   "execution_count": 1,
   "id": "composed-quantity",
   "metadata": {},
   "outputs": [
    {
     "name": "stdout",
     "output_type": "stream",
     "text": [
      "🎤  🎸  ♪♪♪ Joining Duet ♫♫♫  🎻  🎹\n",
      "\n",
      "♫♫♫ >\u001b[93m DISCLAIMER\u001b[0m: \u001b[1mDuet is an experimental feature currently in beta.\n",
      "♫♫♫ > Use at your own risk.\n",
      "\u001b[0m\n",
      "\u001b[1m\n",
      "    > ❤️ \u001b[91mLove\u001b[0m \u001b[92mDuet\u001b[0m? \u001b[93mPlease\u001b[0m \u001b[94mconsider\u001b[0m \u001b[95msupporting\u001b[0m \u001b[91mour\u001b[0m \u001b[93mcommunity!\u001b[0m\n",
      "    > https://github.com/sponsors/OpenMined\u001b[1m\n",
      "\n",
      "♫♫♫ > Punching through firewall to OpenGrid Network Node at:\n",
      "♫♫♫ > http://ec2-18-218-7-180.us-east-2.compute.amazonaws.com:5000\n",
      "♫♫♫ >\n",
      "♫♫♫ > ...waiting for response from OpenGrid Network... \n",
      "♫♫♫ > \u001b[92mDONE!\u001b[0m\n"
     ]
    },
    {
     "name": "stderr",
     "output_type": "stream",
     "text": [
      "d:\\program files\\python\\python37\\tutorial-env\\lib\\site-packages\\aiortc\\rtcdtlstransport.py:211: CryptographyDeprecationWarning: This version of cryptography contains a temporary pyOpenSSL fallback path. Upgrade pyOpenSSL now.\n",
      "  _openssl_assert(lib.SSL_CTX_use_certificate(ctx, self._cert._x509) == 1)  # type: ignore\n",
      "d:\\program files\\python\\python37\\tutorial-env\\lib\\site-packages\\aiortc\\rtcdtlstransport.py:186: CryptographyDeprecationWarning: This version of cryptography contains a temporary pyOpenSSL fallback path. Upgrade pyOpenSSL now.\n",
      "  value=certificate_digest(self._cert._x509),  # type: ignore\n"
     ]
    },
    {
     "name": "stdout",
     "output_type": "stream",
     "text": [
      "\n",
      "♫♫♫ > \u001b[92mCONNECTED!\u001b[0m\n"
     ]
    }
   ],
   "source": [
    "import syft as sy\n",
    "duet1 = sy.join_duet(loopback=True)"
   ]
  },
  {
   "cell_type": "code",
   "execution_count": 2,
   "id": "sharp-prototype",
   "metadata": {},
   "outputs": [
    {
     "name": "stdout",
     "output_type": "stream",
     "text": [
      "🎤  🎸  ♪♪♪ Joining Duet ♫♫♫  🎻  🎹\n",
      "\n",
      "♫♫♫ >\u001b[93m DISCLAIMER\u001b[0m: \u001b[1mDuet is an experimental feature currently in beta.\n",
      "♫♫♫ > Use at your own risk.\n",
      "\u001b[0m\n",
      "\u001b[1m\n",
      "    > ❤️ \u001b[91mLove\u001b[0m \u001b[92mDuet\u001b[0m? \u001b[93mPlease\u001b[0m \u001b[94mconsider\u001b[0m \u001b[95msupporting\u001b[0m \u001b[91mour\u001b[0m \u001b[93mcommunity!\u001b[0m\n",
      "    > https://github.com/sponsors/OpenMined\u001b[1m\n",
      "\n",
      "♫♫♫ > Punching through firewall to OpenGrid Network Node at:\n",
      "♫♫♫ > http://ec2-18-218-7-180.us-east-2.compute.amazonaws.com:5000\n",
      "♫♫♫ >\n",
      "♫♫♫ > ...waiting for response from OpenGrid Network... \n",
      "♫♫♫ > \u001b[92mDONE!\u001b[0m\n",
      "\n",
      "♫♫♫ > \u001b[92mCONNECTED!\u001b[0m\n"
     ]
    }
   ],
   "source": [
    "duet2 = sy.join_duet(loopback=True)"
   ]
  },
  {
   "cell_type": "code",
   "execution_count": 3,
   "id": "portuguese-lease",
   "metadata": {},
   "outputs": [
    {
     "data": {
      "text/html": [
       "<div>\n",
       "<style scoped>\n",
       "    .dataframe tbody tr th:only-of-type {\n",
       "        vertical-align: middle;\n",
       "    }\n",
       "\n",
       "    .dataframe tbody tr th {\n",
       "        vertical-align: top;\n",
       "    }\n",
       "\n",
       "    .dataframe thead th {\n",
       "        text-align: right;\n",
       "    }\n",
       "</style>\n",
       "<table border=\"1\" class=\"dataframe\">\n",
       "  <thead>\n",
       "    <tr style=\"text-align: right;\">\n",
       "      <th></th>\n",
       "      <th>ID</th>\n",
       "      <th>Tags</th>\n",
       "      <th>Description</th>\n",
       "      <th>object_type</th>\n",
       "    </tr>\n",
       "  </thead>\n",
       "  <tbody>\n",
       "    <tr>\n",
       "      <th>0</th>\n",
       "      <td>&lt;UID: 684a9e45e5b646a19bbe63ea07c1467a&gt;</td>\n",
       "      <td>[dataset]</td>\n",
       "      <td>Split 1</td>\n",
       "      <td>&lt;class 'torch.Tensor'&gt;</td>\n",
       "    </tr>\n",
       "  </tbody>\n",
       "</table>\n",
       "</div>"
      ],
      "text/plain": [
       "                                        ID       Tags Description  \\\n",
       "0  <UID: 684a9e45e5b646a19bbe63ea07c1467a>  [dataset]     Split 1   \n",
       "\n",
       "              object_type  \n",
       "0  <class 'torch.Tensor'>  "
      ]
     },
     "execution_count": 3,
     "metadata": {},
     "output_type": "execute_result"
    }
   ],
   "source": [
    "duet1.store.pandas"
   ]
  },
  {
   "cell_type": "code",
   "execution_count": 4,
   "id": "stunning-breakdown",
   "metadata": {},
   "outputs": [
    {
     "data": {
      "text/html": [
       "<div>\n",
       "<style scoped>\n",
       "    .dataframe tbody tr th:only-of-type {\n",
       "        vertical-align: middle;\n",
       "    }\n",
       "\n",
       "    .dataframe tbody tr th {\n",
       "        vertical-align: top;\n",
       "    }\n",
       "\n",
       "    .dataframe thead th {\n",
       "        text-align: right;\n",
       "    }\n",
       "</style>\n",
       "<table border=\"1\" class=\"dataframe\">\n",
       "  <thead>\n",
       "    <tr style=\"text-align: right;\">\n",
       "      <th></th>\n",
       "      <th>ID</th>\n",
       "      <th>Tags</th>\n",
       "      <th>Description</th>\n",
       "      <th>object_type</th>\n",
       "    </tr>\n",
       "  </thead>\n",
       "  <tbody>\n",
       "    <tr>\n",
       "      <th>0</th>\n",
       "      <td>&lt;UID: b209069b80634888b59ad19e91aa8423&gt;</td>\n",
       "      <td>[dataset]</td>\n",
       "      <td>Split 2</td>\n",
       "      <td>&lt;class 'torch.Tensor'&gt;</td>\n",
       "    </tr>\n",
       "  </tbody>\n",
       "</table>\n",
       "</div>"
      ],
      "text/plain": [
       "                                        ID       Tags Description  \\\n",
       "0  <UID: b209069b80634888b59ad19e91aa8423>  [dataset]     Split 2   \n",
       "\n",
       "              object_type  \n",
       "0  <class 'torch.Tensor'>  "
      ]
     },
     "execution_count": 4,
     "metadata": {},
     "output_type": "execute_result"
    }
   ],
   "source": [
    "duet2.store.pandas"
   ]
  },
  {
   "cell_type": "code",
   "execution_count": 5,
   "id": "plastic-perspective",
   "metadata": {},
   "outputs": [],
   "source": [
    "import torch\n",
    "remote_torch1 = duet1.torch\n",
    "remote_torch2 = duet2.torch\n",
    "\n",
    "# In order to serialise our model we need to define it as below\n",
    "class SyNet(sy.Module):\n",
    "    def __init__(self, torch_ref):\n",
    "        super(SyNet, self).__init__(torch_ref=torch_ref)\n",
    "        self.lin = self.torch_ref.nn.Linear(1,1)\n",
    "\n",
    "    def forward(self, x):\n",
    "        x = self.lin(x)\n",
    "        return x\n",
    "    \n",
    "model1 = SyNet(torch)\n",
    "model1_ptr = model1.send(duet1)\n",
    "opt1 = remote_torch1.optim.SGD(params=model1_ptr.parameters(), lr=0.1)\n",
    "\n",
    "model2 = SyNet(torch)\n",
    "model2_ptr = model2.send(duet2)\n",
    "opt2 = remote_torch1.optim.SGD(params=model2_ptr.parameters(), lr=0.1)\n",
    "\n"
   ]
  },
  {
   "cell_type": "code",
   "execution_count": 6,
   "id": "chemical-liability",
   "metadata": {},
   "outputs": [],
   "source": [
    "data1_pointer = duet1.store[0]\n",
    "data2_pointer = duet2.store[0]"
   ]
  },
  {
   "cell_type": "code",
   "execution_count": 7,
   "id": "technological-element",
   "metadata": {},
   "outputs": [],
   "source": [
    "model3 = torch.nn.Linear(2,1)\n",
    "opt3 = torch.optim.SGD(params=model3.parameters(),lr=0.1)\n",
    "\n",
    "target= torch.tensor([[0],[0],[1],[1.]])"
   ]
  },
  {
   "cell_type": "code",
   "execution_count": 14,
   "id": "textile-amplifier",
   "metadata": {},
   "outputs": [
    {
     "name": "stdout",
     "output_type": "stream",
     "text": [
      "tensor(2.7021, grad_fn=<SumBackward0>)\n",
      "tensor(1.1893, grad_fn=<SumBackward0>)\n",
      "tensor(1.0348, grad_fn=<SumBackward0>)\n",
      "tensor(0.9036, grad_fn=<SumBackward0>)\n",
      "tensor(0.7809, grad_fn=<SumBackward0>)\n",
      "tensor(0.6588, grad_fn=<SumBackward0>)\n",
      "tensor(0.5351, grad_fn=<SumBackward0>)\n",
      "tensor(0.4130, grad_fn=<SumBackward0>)\n",
      "tensor(0.2997, grad_fn=<SumBackward0>)\n",
      "tensor(0.2029, grad_fn=<SumBackward0>)\n",
      "tensor(0.1278, grad_fn=<SumBackward0>)\n",
      "tensor(0.0751, grad_fn=<SumBackward0>)\n",
      "tensor(0.0414, grad_fn=<SumBackward0>)\n",
      "tensor(0.0218, grad_fn=<SumBackward0>)\n",
      "tensor(0.0111, grad_fn=<SumBackward0>)\n",
      "tensor(0.0055, grad_fn=<SumBackward0>)\n",
      "tensor(0.0028, grad_fn=<SumBackward0>)\n",
      "tensor(0.0014, grad_fn=<SumBackward0>)\n",
      "tensor(0.0007, grad_fn=<SumBackward0>)\n",
      "tensor(0.0004, grad_fn=<SumBackward0>)\n"
     ]
    }
   ],
   "source": [
    "for iter in range(20):\n",
    "    opt1.zero_grad()\n",
    "    opt2.zero_grad()\n",
    "    opt3.zero_grad()\n",
    "    \n",
    "    activation1_ptr = model1_ptr(data1_pointer)\n",
    "    activation1 = activation1_ptr.clone().get(request_block=True)\n",
    "    \n",
    "    activation2_ptr = model2_ptr(data2_pointer)\n",
    "    activation2 = activation2_ptr.clone().get(request_block=True)\n",
    "    \n",
    "    activation = torch.cat((activation1, activation2), 1)\n",
    "    pred = model3(activation)\n",
    "    \n",
    "    loss = ((pred - target)**2).sum()\n",
    "    loss.backward()\n",
    "    \n",
    "    grad1_ptr = activation1.grad.clone().send(duet1)\n",
    "    grad2_ptr = activation2.grad.clone().send(duet2)\n",
    "\n",
    "    activation1_ptr.backward(grad1_ptr)\n",
    "    activation2_ptr.backward(grad2_ptr)\n",
    "    \n",
    "    opt1.step()\n",
    "    opt2.step()\n",
    "    opt3.step()\n",
    "    \n",
    "    print(loss)\n",
    "    "
   ]
  },
  {
   "cell_type": "code",
   "execution_count": null,
   "id": "nonprofit-bulgarian",
   "metadata": {},
   "outputs": [],
   "source": []
  }
 ],
 "metadata": {
  "kernelspec": {
   "display_name": "Python 3 (ipykernel)",
   "language": "python",
   "name": "python3"
  },
  "language_info": {
   "codemirror_mode": {
    "name": "ipython",
    "version": 3
   },
   "file_extension": ".py",
   "mimetype": "text/x-python",
   "name": "python",
   "nbconvert_exporter": "python",
   "pygments_lexer": "ipython3",
   "version": "3.7.0"
  }
 },
 "nbformat": 4,
 "nbformat_minor": 5
}
